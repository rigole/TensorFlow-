{
  "nbformat": 4,
  "nbformat_minor": 0,
  "metadata": {
    "colab": {
      "name": "01_neural_network_regression.ipynb",
      "provenance": [],
      "collapsed_sections": [
        "bAAVIaWTo9Rn",
        "1c_LZHxhp7ZZ"
      ],
      "authorship_tag": "ABX9TyMZ0r2zp0zu+ZD9HXWuQET/",
      "include_colab_link": true
    },
    "kernelspec": {
      "name": "python3",
      "display_name": "Python 3"
    },
    "language_info": {
      "name": "python"
    }
  },
  "cells": [
    {
      "cell_type": "markdown",
      "metadata": {
        "id": "view-in-github",
        "colab_type": "text"
      },
      "source": [
        "<a href=\"https://colab.research.google.com/github/rigole/TensorFlow-/blob/main/01_neural_network_regression.ipynb\" target=\"_parent\"><img src=\"https://colab.research.google.com/assets/colab-badge.svg\" alt=\"Open In Colab\"/></a>"
      ]
    },
    {
      "cell_type": "markdown",
      "metadata": {
        "id": "bAAVIaWTo9Rn"
      },
      "source": [
        "### Introduction to Regression with NN"
      ]
    },
    {
      "cell_type": "code",
      "metadata": {
        "id": "gIc2Bm_FohfT"
      },
      "source": [
        "import tensorflow as tf"
      ],
      "execution_count": 2,
      "outputs": []
    },
    {
      "cell_type": "markdown",
      "metadata": {
        "id": "1c_LZHxhp7ZZ"
      },
      "source": [
        "### Creating data to view and fit"
      ]
    },
    {
      "cell_type": "code",
      "metadata": {
        "id": "jx5raISvpKGP"
      },
      "source": [
        "import numpy as np\n",
        "import matplotlib.pyplot as plt\n",
        "\n",
        "# Create features\n",
        "X = np.array([-7.0, -4.0, -1.0, 2.0, 5.0, 8.0, 11.0, 14.0])\n",
        "\n",
        "# Create labels\n",
        "y = np.array([3.0, 6.0, 9.0, 12.0, 15.0, 18.0, 21, 24.0])\n",
        "\n",
        "# Visualize\n",
        "plt.scatter(X, y);"
      ],
      "execution_count": null,
      "outputs": []
    },
    {
      "cell_type": "code",
      "metadata": {
        "id": "39vH4H85qqwC"
      },
      "source": [
        "y == X+10"
      ],
      "execution_count": null,
      "outputs": []
    },
    {
      "cell_type": "code",
      "metadata": {
        "id": "QscgH0CcrBV7"
      },
      "source": [
        ""
      ],
      "execution_count": null,
      "outputs": []
    },
    {
      "cell_type": "markdown",
      "metadata": {
        "id": "xeTIh8LXK11K"
      },
      "source": [
        "### Input and output shapes"
      ]
    },
    {
      "cell_type": "code",
      "metadata": {
        "colab": {
          "base_uri": "https://localhost:8080/"
        },
        "id": "JnctlQmxK5iK",
        "outputId": "009f9933-44fa-45b3-b798-6d509a44ee51"
      },
      "source": [
        "# Create a demo tensor for our housing price prediction problem\n",
        "\n",
        "house_info = tf.constant([\"bedroom\", \"bathroom\", \"garage\"])\n",
        "house_price = tf.constant([939700])\n",
        "house_info, house_price"
      ],
      "execution_count": 4,
      "outputs": [
        {
          "output_type": "execute_result",
          "data": {
            "text/plain": [
              "(<tf.Tensor: shape=(3,), dtype=string, numpy=array([b'bedroom', b'bathroom', b'garage'], dtype=object)>,\n",
              " <tf.Tensor: shape=(1,), dtype=int32, numpy=array([939700], dtype=int32)>)"
            ]
          },
          "metadata": {},
          "execution_count": 4
        }
      ]
    },
    {
      "cell_type": "code",
      "metadata": {
        "colab": {
          "base_uri": "https://localhost:8080/"
        },
        "id": "kdzluJ5-Lnw8",
        "outputId": "4f32baab-0e01-4ca3-c41c-0fda6b098f0a"
      },
      "source": [
        "input_shape = X.shape\n",
        "output_shape = y.shape\n",
        "input_shape, output_shape"
      ],
      "execution_count": 5,
      "outputs": [
        {
          "output_type": "execute_result",
          "data": {
            "text/plain": [
              "((8,), (8,))"
            ]
          },
          "metadata": {},
          "execution_count": 5
        }
      ]
    },
    {
      "cell_type": "code",
      "metadata": {
        "colab": {
          "base_uri": "https://localhost:8080/"
        },
        "id": "oeQJYXIANTzg",
        "outputId": "096d627a-8040-4a2d-bf60-68b1e89593d1"
      },
      "source": [
        "X[0], y[0]"
      ],
      "execution_count": 6,
      "outputs": [
        {
          "output_type": "execute_result",
          "data": {
            "text/plain": [
              "(-7.0, 3.0)"
            ]
          },
          "metadata": {},
          "execution_count": 6
        }
      ]
    },
    {
      "cell_type": "code",
      "metadata": {
        "colab": {
          "base_uri": "https://localhost:8080/"
        },
        "id": "NFzx2ZchNWm8",
        "outputId": "766b01d6-5e27-49ad-9aee-5cb7db190919"
      },
      "source": [
        "input_shape = X[0].shape\n",
        "output_shape = y[0].shape\n",
        "input_shape, output_shape"
      ],
      "execution_count": 7,
      "outputs": [
        {
          "output_type": "execute_result",
          "data": {
            "text/plain": [
              "((), ())"
            ]
          },
          "metadata": {},
          "execution_count": 7
        }
      ]
    },
    {
      "cell_type": "code",
      "metadata": {
        "colab": {
          "base_uri": "https://localhost:8080/"
        },
        "id": "qiyVmum3O6rU",
        "outputId": "40a29441-0e0c-449b-8438-ef3866a0c0ab"
      },
      "source": [
        "X[0].ndim"
      ],
      "execution_count": 8,
      "outputs": [
        {
          "output_type": "execute_result",
          "data": {
            "text/plain": [
              "0"
            ]
          },
          "metadata": {},
          "execution_count": 8
        }
      ]
    },
    {
      "cell_type": "code",
      "metadata": {
        "colab": {
          "base_uri": "https://localhost:8080/"
        },
        "id": "_AUiKj3LPbOH",
        "outputId": "a84cf762-3d98-4c11-9a11-0758311de876"
      },
      "source": [
        "# Turn our NumPy arrays into tensors\n",
        "X = tf.constant(X)\n",
        "y = tf.constant(y)\n",
        "X, X.shape, y, y.shape"
      ],
      "execution_count": 9,
      "outputs": [
        {
          "output_type": "execute_result",
          "data": {
            "text/plain": [
              "(<tf.Tensor: shape=(8,), dtype=float64, numpy=array([-7., -4., -1.,  2.,  5.,  8., 11., 14.])>,\n",
              " TensorShape([8]),\n",
              " <tf.Tensor: shape=(8,), dtype=float64, numpy=array([ 3.,  6.,  9., 12., 15., 18., 21., 24.])>,\n",
              " TensorShape([8]))"
            ]
          },
          "metadata": {},
          "execution_count": 9
        }
      ]
    },
    {
      "cell_type": "code",
      "metadata": {
        "colab": {
          "base_uri": "https://localhost:8080/"
        },
        "id": "58VpSeS8S3Ha",
        "outputId": "864275fc-4228-46ea-ee52-6db9ad3de9d2"
      },
      "source": [
        "input_shape = X[0].shape\n",
        "output_shape = y[0].shape\n",
        "input_shape, output_shape"
      ],
      "execution_count": 10,
      "outputs": [
        {
          "output_type": "execute_result",
          "data": {
            "text/plain": [
              "(TensorShape([]), TensorShape([]))"
            ]
          },
          "metadata": {},
          "execution_count": 10
        }
      ]
    },
    {
      "cell_type": "code",
      "metadata": {
        "colab": {
          "base_uri": "https://localhost:8080/",
          "height": 286
        },
        "id": "AonB22DqTRZm",
        "outputId": "d7247b89-a6e0-415d-e7b2-955c47c3c777"
      },
      "source": [
        "plt.scatter(X, y)"
      ],
      "execution_count": 11,
      "outputs": [
        {
          "output_type": "execute_result",
          "data": {
            "text/plain": [
              "<matplotlib.collections.PathCollection at 0x7f375b304850>"
            ]
          },
          "metadata": {},
          "execution_count": 11
        },
        {
          "output_type": "display_data",
          "data": {
            "image/png": "[encoded data removed]",
            "text/plain": [
              "<Figure size 432x288 with 1 Axes>"
            ]
          },
          "metadata": {
            "needs_background": "light"
          }
        }
      ]
    },
    {
      "cell_type": "code",
      "metadata": {
        "colab": {
          "base_uri": "https://localhost:8080/"
        },
        "id": "DwjkwRYH6q1A",
        "outputId": "fc179a62-a1d9-4278-9ef1-9d940ff269f3"
      },
      "source": [
        "X, y"
      ],
      "execution_count": 12,
      "outputs": [
        {
          "output_type": "execute_result",
          "data": {
            "text/plain": [
              "(<tf.Tensor: shape=(8,), dtype=float64, numpy=array([-7., -4., -1.,  2.,  5.,  8., 11., 14.])>,\n",
              " <tf.Tensor: shape=(8,), dtype=float64, numpy=array([ 3.,  6.,  9., 12., 15., 18., 21., 24.])>)"
            ]
          },
          "metadata": {},
          "execution_count": 12
        }
      ]
    },
    {
      "cell_type": "code",
      "metadata": {
        "colab": {
          "base_uri": "https://localhost:8080/",
          "height": 731
        },
        "id": "bkfl47AXTc-3",
        "outputId": "a948d468-17a0-4171-8d35-c72ff7eb4e5c"
      },
      "source": [
        "# Set random seed\n",
        "tf.random.set_seed(42)\n",
        "\n",
        "#1. Create a model using the sequential API\n",
        "model = tf.keras.Sequential([\n",
        "    tf.keras.layers.Dense(1),\n",
        "    \n",
        "])\n",
        "\n",
        " #2. Compile the model\n",
        "model.compile(loss=tf.keras.losses.mae,optimizer=tf.keras.optimizers.SGD(), \n",
        "              metrics=[\"mae\"]) # mae is for mean absolute error gd gradient descent\n",
        "\n",
        "\n",
        "# 3 Fit the model\n",
        "model.fit(X,y,epochs=5)"
      ],
      "execution_count": 13,
      "outputs": [
        {
          "output_type": "stream",
          "name": "stdout",
          "text": [
            "Epoch 1/5\n"
          ]
        },
        {
          "output_type": "error",
          "ename": "ValueError",
          "evalue": "ignored",
          "traceback": [
            "\u001b[0;31m---------------------------------------------------------------------------\u001b[0m",
            "\u001b[0;31mValueError\u001b[0m                                Traceback (most recent call last)",
            "\u001b[0;32m<ipython-input-13-0b4c43b0278c>\u001b[0m in \u001b[0;36m<module>\u001b[0;34m()\u001b[0m\n\u001b[1;32m     14\u001b[0m \u001b[0;34m\u001b[0m\u001b[0m\n\u001b[1;32m     15\u001b[0m \u001b[0;31m# 3 Fit the model\u001b[0m\u001b[0;34m\u001b[0m\u001b[0;34m\u001b[0m\u001b[0;34m\u001b[0m\u001b[0m\n\u001b[0;32m---> 16\u001b[0;31m \u001b[0mmodel\u001b[0m\u001b[0;34m.\u001b[0m\u001b[0mfit\u001b[0m\u001b[0;34m(\u001b[0m\u001b[0mX\u001b[0m\u001b[0;34m,\u001b[0m\u001b[0my\u001b[0m\u001b[0;34m,\u001b[0m\u001b[0mepochs\u001b[0m\u001b[0;34m=\u001b[0m\u001b[0;36m5\u001b[0m\u001b[0;34m)\u001b[0m\u001b[0;34m\u001b[0m\u001b[0;34m\u001b[0m\u001b[0m\n\u001b[0m",
            "\u001b[0;32m/usr/local/lib/python3.7/dist-packages/keras/utils/traceback_utils.py\u001b[0m in \u001b[0;36merror_handler\u001b[0;34m(*args, **kwargs)\u001b[0m\n\u001b[1;32m     65\u001b[0m     \u001b[0;32mexcept\u001b[0m \u001b[0mException\u001b[0m \u001b[0;32mas\u001b[0m \u001b[0me\u001b[0m\u001b[0;34m:\u001b[0m  \u001b[0;31m# pylint: disable=broad-except\u001b[0m\u001b[0;34m\u001b[0m\u001b[0;34m\u001b[0m\u001b[0m\n\u001b[1;32m     66\u001b[0m       \u001b[0mfiltered_tb\u001b[0m \u001b[0;34m=\u001b[0m \u001b[0m_process_traceback_frames\u001b[0m\u001b[0;34m(\u001b[0m\u001b[0me\u001b[0m\u001b[0;34m.\u001b[0m\u001b[0m__traceback__\u001b[0m\u001b[0;34m)\u001b[0m\u001b[0;34m\u001b[0m\u001b[0;34m\u001b[0m\u001b[0m\n\u001b[0;32m---> 67\u001b[0;31m       \u001b[0;32mraise\u001b[0m \u001b[0me\u001b[0m\u001b[0;34m.\u001b[0m\u001b[0mwith_traceback\u001b[0m\u001b[0;34m(\u001b[0m\u001b[0mfiltered_tb\u001b[0m\u001b[0;34m)\u001b[0m \u001b[0;32mfrom\u001b[0m \u001b[0;32mNone\u001b[0m\u001b[0;34m\u001b[0m\u001b[0;34m\u001b[0m\u001b[0m\n\u001b[0m\u001b[1;32m     68\u001b[0m     \u001b[0;32mfinally\u001b[0m\u001b[0;34m:\u001b[0m\u001b[0;34m\u001b[0m\u001b[0;34m\u001b[0m\u001b[0m\n\u001b[1;32m     69\u001b[0m       \u001b[0;32mdel\u001b[0m \u001b[0mfiltered_tb\u001b[0m\u001b[0;34m\u001b[0m\u001b[0;34m\u001b[0m\u001b[0m\n",
            "\u001b[0;32m/usr/local/lib/python3.7/dist-packages/tensorflow/python/framework/func_graph.py\u001b[0m in \u001b[0;36mautograph_handler\u001b[0;34m(*args, **kwargs)\u001b[0m\n\u001b[1;32m   1127\u001b[0m           \u001b[0;32mexcept\u001b[0m \u001b[0mException\u001b[0m \u001b[0;32mas\u001b[0m \u001b[0me\u001b[0m\u001b[0;34m:\u001b[0m  \u001b[0;31m# pylint:disable=broad-except\u001b[0m\u001b[0;34m\u001b[0m\u001b[0;34m\u001b[0m\u001b[0m\n\u001b[1;32m   1128\u001b[0m             \u001b[0;32mif\u001b[0m \u001b[0mhasattr\u001b[0m\u001b[0;34m(\u001b[0m\u001b[0me\u001b[0m\u001b[0;34m,\u001b[0m \u001b[0;34m\"ag_error_metadata\"\u001b[0m\u001b[0;34m)\u001b[0m\u001b[0;34m:\u001b[0m\u001b[0;34m\u001b[0m\u001b[0;34m\u001b[0m\u001b[0m\n\u001b[0;32m-> 1129\u001b[0;31m               \u001b[0;32mraise\u001b[0m \u001b[0me\u001b[0m\u001b[0;34m.\u001b[0m\u001b[0mag_error_metadata\u001b[0m\u001b[0;34m.\u001b[0m\u001b[0mto_exception\u001b[0m\u001b[0;34m(\u001b[0m\u001b[0me\u001b[0m\u001b[0;34m)\u001b[0m\u001b[0;34m\u001b[0m\u001b[0;34m\u001b[0m\u001b[0m\n\u001b[0m\u001b[1;32m   1130\u001b[0m             \u001b[0;32melse\u001b[0m\u001b[0;34m:\u001b[0m\u001b[0;34m\u001b[0m\u001b[0;34m\u001b[0m\u001b[0m\n\u001b[1;32m   1131\u001b[0m               \u001b[0;32mraise\u001b[0m\u001b[0;34m\u001b[0m\u001b[0;34m\u001b[0m\u001b[0m\n",
            "\u001b[0;31mValueError\u001b[0m: in user code:\n\n    File \"/usr/local/lib/python3.7/dist-packages/keras/engine/training.py\", line 878, in train_function  *\n        return step_function(self, iterator)\n    File \"/usr/local/lib/python3.7/dist-packages/keras/engine/training.py\", line 867, in step_function  **\n        outputs = model.distribute_strategy.run(run_step, args=(data,))\n    File \"/usr/local/lib/python3.7/dist-packages/keras/engine/training.py\", line 860, in run_step  **\n        outputs = model.train_step(data)\n    File \"/usr/local/lib/python3.7/dist-packages/keras/engine/training.py\", line 808, in train_step\n        y_pred = self(x, training=True)\n    File \"/usr/local/lib/python3.7/dist-packages/keras/utils/traceback_utils.py\", line 67, in error_handler\n        raise e.with_traceback(filtered_tb) from None\n    File \"/usr/local/lib/python3.7/dist-packages/keras/engine/input_spec.py\", line 227, in assert_input_compatibility\n        raise ValueError(f'Input {input_index} of layer \"{layer_name}\" '\n\n    ValueError: Exception encountered when calling layer \"sequential\" (type Sequential).\n    \n    Input 0 of layer \"dense\" is incompatible with the layer: expected min_ndim=2, found ndim=1. Full shape received: (None,)\n    \n    Call arguments received:\n      • inputs=tf.Tensor(shape=(None,), dtype=float64)\n      • training=True\n      • mask=None\n"
          ]
        }
      ]
    },
    {
      "cell_type": "code",
      "metadata": {
        "colab": {
          "base_uri": "https://localhost:8080/"
        },
        "id": "JzUMt1QCY0qB",
        "outputId": "4affd324-e8fc-46ec-9df4-e24cd470e1d3"
      },
      "source": [
        "# Set random seed\n",
        "tf.random.set_seed(42)\n",
        "\n",
        "#1. Create a model using the sequential API\n",
        "model = tf.keras.Sequential([\n",
        "    tf.keras.layers.Dense(1),\n",
        "    \n",
        "])\n",
        "\n",
        " #2. Compile the model\n",
        "model.compile(loss=tf.keras.losses.mae,optimizer=tf.keras.optimizers.SGD(), \n",
        "              metrics=[\"mae\"]) # mae is for mean absolute error gd gradient descent\n",
        "\n",
        "\n",
        "# 3 Fit the model\n",
        "model.fit(tf.expand_dims(X,axis=-1), y,epochs=5)"
      ],
      "execution_count": 14,
      "outputs": [
        {
          "output_type": "stream",
          "name": "stdout",
          "text": [
            "Epoch 1/5\n",
            "1/1 [==============================] - 1s 513ms/step - loss: 11.5048 - mae: 11.5048\n",
            "Epoch 2/5\n",
            "1/1 [==============================] - 0s 6ms/step - loss: 11.3723 - mae: 11.3723\n",
            "Epoch 3/5\n",
            "1/1 [==============================] - 0s 7ms/step - loss: 11.2398 - mae: 11.2398\n",
            "Epoch 4/5\n",
            "1/1 [==============================] - 0s 6ms/step - loss: 11.1073 - mae: 11.1073\n",
            "Epoch 5/5\n",
            "1/1 [==============================] - 0s 7ms/step - loss: 10.9748 - mae: 10.9748\n"
          ]
        },
        {
          "output_type": "execute_result",
          "data": {
            "text/plain": [
              "<keras.callbacks.History at 0x7f37590e6f90>"
            ]
          },
          "metadata": {},
          "execution_count": 14
        }
      ]
    },
    {
      "cell_type": "code",
      "metadata": {
        "colab": {
          "base_uri": "https://localhost:8080/"
        },
        "id": "dVgp_NSt9Vxz",
        "outputId": "ddf70133-ff7b-4962-9dc4-34c02cfc573c"
      },
      "source": [
        "# Check out inputs and output\n",
        "X, y"
      ],
      "execution_count": 15,
      "outputs": [
        {
          "output_type": "execute_result",
          "data": {
            "text/plain": [
              "(<tf.Tensor: shape=(8,), dtype=float64, numpy=array([-7., -4., -1.,  2.,  5.,  8., 11., 14.])>,\n",
              " <tf.Tensor: shape=(8,), dtype=float64, numpy=array([ 3.,  6.,  9., 12., 15., 18., 21., 24.])>)"
            ]
          },
          "metadata": {},
          "execution_count": 15
        }
      ]
    },
    {
      "cell_type": "code",
      "metadata": {
        "colab": {
          "base_uri": "https://localhost:8080/"
        },
        "id": "Vza2_QCi-Uds",
        "outputId": "e931851c-edb2-49bf-cf5a-2d122c147cc6"
      },
      "source": [
        "y_pred = model.predict([17.0])\n",
        "y_pred"
      ],
      "execution_count": 16,
      "outputs": [
        {
          "output_type": "execute_result",
          "data": {
            "text/plain": [
              "array([[12.716021]], dtype=float32)"
            ]
          },
          "metadata": {},
          "execution_count": 16
        }
      ]
    },
    {
      "cell_type": "markdown",
      "metadata": {
        "id": "YrBLwKxS_nCA"
      },
      "source": [
        "### Improving our model"
      ]
    },
    {
      "cell_type": "code",
      "metadata": {
        "colab": {
          "base_uri": "https://localhost:8080/"
        },
        "id": "dJ-Gs-I3_B6e",
        "outputId": "78eebd47-aa5d-49c5-cc5d-452f13f41ceb"
      },
      "source": [
        " # Rebuild the model by improving\n",
        "\n",
        " #1. Create a model again\n",
        "model = tf.keras.Sequential([\n",
        "    tf.keras.layers.Dense(1),\n",
        "    \n",
        "])\n",
        "\n",
        " #2. recompile the model\n",
        "model.compile(loss=tf.keras.losses.mae,optimizer=tf.keras.optimizers.SGD(), \n",
        "              metrics=[\"mae\"]) # mae is for mean absolute error gd gradient descent\n",
        "\n",
        "\n",
        "# 3 Fit the model and increase the epochs(and training it longer)\n",
        "model.fit(tf.expand_dims(X,axis=-1), y,epochs=100)"
      ],
      "execution_count": 4,
      "outputs": [
        {
          "output_type": "stream",
          "name": "stdout",
          "text": [
            "Epoch 1/100\n",
            "1/1 [==============================] - 1s 557ms/step - loss: 16.4478 - mae: 16.4478\n",
            "Epoch 2/100\n",
            "1/1 [==============================] - 0s 5ms/step - loss: 16.1665 - mae: 16.1665\n",
            "Epoch 3/100\n",
            "1/1 [==============================] - 0s 6ms/step - loss: 15.8853 - mae: 15.8853\n",
            "Epoch 4/100\n",
            "1/1 [==============================] - 0s 5ms/step - loss: 15.6040 - mae: 15.6040\n",
            "Epoch 5/100\n",
            "1/1 [==============================] - 0s 5ms/step - loss: 15.3228 - mae: 15.3228\n",
            "Epoch 6/100\n",
            "1/1 [==============================] - 0s 5ms/step - loss: 15.0415 - mae: 15.0415\n",
            "Epoch 7/100\n",
            "1/1 [==============================] - 0s 6ms/step - loss: 14.8177 - mae: 14.8177\n",
            "Epoch 8/100\n",
            "1/1 [==============================] - 0s 11ms/step - loss: 14.6852 - mae: 14.6852\n",
            "Epoch 9/100\n",
            "1/1 [==============================] - 0s 9ms/step - loss: 14.5527 - mae: 14.5527\n",
            "Epoch 10/100\n",
            "1/1 [==============================] - 0s 6ms/step - loss: 14.4202 - mae: 14.4202\n",
            "Epoch 11/100\n",
            "1/1 [==============================] - 0s 6ms/step - loss: 14.2877 - mae: 14.2877\n",
            "Epoch 12/100\n",
            "1/1 [==============================] - 0s 10ms/step - loss: 14.1552 - mae: 14.1552\n",
            "Epoch 13/100\n",
            "1/1 [==============================] - 0s 9ms/step - loss: 14.0227 - mae: 14.0227\n",
            "Epoch 14/100\n",
            "1/1 [==============================] - 0s 9ms/step - loss: 13.8902 - mae: 13.8902\n",
            "Epoch 15/100\n",
            "1/1 [==============================] - 0s 7ms/step - loss: 13.7577 - mae: 13.7577\n",
            "Epoch 16/100\n",
            "1/1 [==============================] - 0s 6ms/step - loss: 13.6252 - mae: 13.6252\n",
            "Epoch 17/100\n",
            "1/1 [==============================] - 0s 4ms/step - loss: 13.4927 - mae: 13.4927\n",
            "Epoch 18/100\n",
            "1/1 [==============================] - 0s 4ms/step - loss: 13.3602 - mae: 13.3602\n",
            "Epoch 19/100\n",
            "1/1 [==============================] - 0s 5ms/step - loss: 13.2277 - mae: 13.2277\n",
            "Epoch 20/100\n",
            "1/1 [==============================] - 0s 4ms/step - loss: 13.0952 - mae: 13.0952\n",
            "Epoch 21/100\n",
            "1/1 [==============================] - 0s 5ms/step - loss: 12.9627 - mae: 12.9627\n",
            "Epoch 22/100\n",
            "1/1 [==============================] - 0s 4ms/step - loss: 12.8302 - mae: 12.8302\n",
            "Epoch 23/100\n",
            "1/1 [==============================] - 0s 12ms/step - loss: 12.6977 - mae: 12.6977\n",
            "Epoch 24/100\n",
            "1/1 [==============================] - 0s 6ms/step - loss: 12.5652 - mae: 12.5652\n",
            "Epoch 25/100\n",
            "1/1 [==============================] - 0s 8ms/step - loss: 12.4327 - mae: 12.4327\n",
            "Epoch 26/100\n",
            "1/1 [==============================] - 0s 5ms/step - loss: 12.3002 - mae: 12.3002\n",
            "Epoch 27/100\n",
            "1/1 [==============================] - 0s 5ms/step - loss: 12.1677 - mae: 12.1677\n",
            "Epoch 28/100\n",
            "1/1 [==============================] - 0s 6ms/step - loss: 12.0352 - mae: 12.0352\n",
            "Epoch 29/100\n",
            "1/1 [==============================] - 0s 5ms/step - loss: 11.9027 - mae: 11.9027\n",
            "Epoch 30/100\n",
            "1/1 [==============================] - 0s 4ms/step - loss: 11.7702 - mae: 11.7702\n",
            "Epoch 31/100\n",
            "1/1 [==============================] - 0s 5ms/step - loss: 11.6377 - mae: 11.6377\n",
            "Epoch 32/100\n",
            "1/1 [==============================] - 0s 5ms/step - loss: 11.5052 - mae: 11.5052\n",
            "Epoch 33/100\n",
            "1/1 [==============================] - 0s 5ms/step - loss: 11.3727 - mae: 11.3727\n",
            "Epoch 34/100\n",
            "1/1 [==============================] - 0s 5ms/step - loss: 11.2402 - mae: 11.2402\n",
            "Epoch 35/100\n",
            "1/1 [==============================] - 0s 4ms/step - loss: 11.1077 - mae: 11.1077\n",
            "Epoch 36/100\n",
            "1/1 [==============================] - 0s 5ms/step - loss: 10.9752 - mae: 10.9752\n",
            "Epoch 37/100\n",
            "1/1 [==============================] - 0s 5ms/step - loss: 10.8427 - mae: 10.8427\n",
            "Epoch 38/100\n",
            "1/1 [==============================] - 0s 5ms/step - loss: 10.7102 - mae: 10.7102\n",
            "Epoch 39/100\n",
            "1/1 [==============================] - 0s 4ms/step - loss: 10.5777 - mae: 10.5777\n",
            "Epoch 40/100\n",
            "1/1 [==============================] - 0s 5ms/step - loss: 10.4452 - mae: 10.4452\n",
            "Epoch 41/100\n",
            "1/1 [==============================] - 0s 6ms/step - loss: 10.3127 - mae: 10.3127\n",
            "Epoch 42/100\n",
            "1/1 [==============================] - 0s 4ms/step - loss: 10.1802 - mae: 10.1802\n",
            "Epoch 43/100\n",
            "1/1 [==============================] - 0s 5ms/step - loss: 10.0477 - mae: 10.0477\n",
            "Epoch 44/100\n",
            "1/1 [==============================] - 0s 5ms/step - loss: 9.9152 - mae: 9.9152\n",
            "Epoch 45/100\n",
            "1/1 [==============================] - 0s 5ms/step - loss: 9.7827 - mae: 9.7827\n",
            "Epoch 46/100\n",
            "1/1 [==============================] - 0s 6ms/step - loss: 9.6502 - mae: 9.6502\n",
            "Epoch 47/100\n",
            "1/1 [==============================] - 0s 6ms/step - loss: 9.5177 - mae: 9.5177\n",
            "Epoch 48/100\n",
            "1/1 [==============================] - 0s 4ms/step - loss: 9.3852 - mae: 9.3852\n",
            "Epoch 49/100\n",
            "1/1 [==============================] - 0s 5ms/step - loss: 9.2527 - mae: 9.2527\n",
            "Epoch 50/100\n",
            "1/1 [==============================] - 0s 4ms/step - loss: 9.1202 - mae: 9.1202\n",
            "Epoch 51/100\n",
            "1/1 [==============================] - 0s 6ms/step - loss: 8.9877 - mae: 8.9877\n",
            "Epoch 52/100\n",
            "1/1 [==============================] - 0s 6ms/step - loss: 8.8552 - mae: 8.8552\n",
            "Epoch 53/100\n",
            "1/1 [==============================] - 0s 4ms/step - loss: 8.7227 - mae: 8.7227\n",
            "Epoch 54/100\n",
            "1/1 [==============================] - 0s 6ms/step - loss: 8.5902 - mae: 8.5902\n",
            "Epoch 55/100\n",
            "1/1 [==============================] - 0s 4ms/step - loss: 8.4577 - mae: 8.4577\n",
            "Epoch 56/100\n",
            "1/1 [==============================] - 0s 6ms/step - loss: 8.3252 - mae: 8.3252\n",
            "Epoch 57/100\n",
            "1/1 [==============================] - 0s 4ms/step - loss: 8.1927 - mae: 8.1927\n",
            "Epoch 58/100\n",
            "1/1 [==============================] - 0s 7ms/step - loss: 8.0602 - mae: 8.0602\n",
            "Epoch 59/100\n",
            "1/1 [==============================] - 0s 4ms/step - loss: 7.9277 - mae: 7.9277\n",
            "Epoch 60/100\n",
            "1/1 [==============================] - 0s 6ms/step - loss: 7.7952 - mae: 7.7952\n",
            "Epoch 61/100\n",
            "1/1 [==============================] - 0s 4ms/step - loss: 7.6627 - mae: 7.6627\n",
            "Epoch 62/100\n",
            "1/1 [==============================] - 0s 6ms/step - loss: 7.5302 - mae: 7.5302\n",
            "Epoch 63/100\n",
            "1/1 [==============================] - 0s 4ms/step - loss: 7.3977 - mae: 7.3977\n",
            "Epoch 64/100\n",
            "1/1 [==============================] - 0s 4ms/step - loss: 7.2652 - mae: 7.2652\n",
            "Epoch 65/100\n",
            "1/1 [==============================] - 0s 6ms/step - loss: 7.1327 - mae: 7.1327\n",
            "Epoch 66/100\n",
            "1/1 [==============================] - 0s 3ms/step - loss: 7.0238 - mae: 7.0238\n",
            "Epoch 67/100\n",
            "1/1 [==============================] - 0s 5ms/step - loss: 7.0181 - mae: 7.0181\n",
            "Epoch 68/100\n",
            "1/1 [==============================] - 0s 4ms/step - loss: 7.0125 - mae: 7.0125\n",
            "Epoch 69/100\n",
            "1/1 [==============================] - 0s 3ms/step - loss: 7.0069 - mae: 7.0069\n",
            "Epoch 70/100\n",
            "1/1 [==============================] - 0s 5ms/step - loss: 7.0013 - mae: 7.0013\n",
            "Epoch 71/100\n",
            "1/1 [==============================] - 0s 5ms/step - loss: 6.9956 - mae: 6.9956\n",
            "Epoch 72/100\n",
            "1/1 [==============================] - 0s 3ms/step - loss: 6.9900 - mae: 6.9900\n",
            "Epoch 73/100\n",
            "1/1 [==============================] - 0s 4ms/step - loss: 6.9844 - mae: 6.9844\n",
            "Epoch 74/100\n",
            "1/1 [==============================] - 0s 7ms/step - loss: 6.9788 - mae: 6.9788\n",
            "Epoch 75/100\n",
            "1/1 [==============================] - 0s 4ms/step - loss: 6.9731 - mae: 6.9731\n",
            "Epoch 76/100\n",
            "1/1 [==============================] - 0s 4ms/step - loss: 6.9675 - mae: 6.9675\n",
            "Epoch 77/100\n",
            "1/1 [==============================] - 0s 5ms/step - loss: 6.9619 - mae: 6.9619\n",
            "Epoch 78/100\n",
            "1/1 [==============================] - 0s 6ms/step - loss: 6.9563 - mae: 6.9563\n",
            "Epoch 79/100\n",
            "1/1 [==============================] - 0s 4ms/step - loss: 6.9506 - mae: 6.9506\n",
            "Epoch 80/100\n",
            "1/1 [==============================] - 0s 3ms/step - loss: 6.9450 - mae: 6.9450\n",
            "Epoch 81/100\n",
            "1/1 [==============================] - 0s 6ms/step - loss: 6.9394 - mae: 6.9394\n",
            "Epoch 82/100\n",
            "1/1 [==============================] - 0s 4ms/step - loss: 6.9338 - mae: 6.9338\n",
            "Epoch 83/100\n",
            "1/1 [==============================] - 0s 7ms/step - loss: 6.9281 - mae: 6.9281\n",
            "Epoch 84/100\n",
            "1/1 [==============================] - 0s 4ms/step - loss: 6.9225 - mae: 6.9225\n",
            "Epoch 85/100\n",
            "1/1 [==============================] - 0s 4ms/step - loss: 6.9169 - mae: 6.9169\n",
            "Epoch 86/100\n",
            "1/1 [==============================] - 0s 4ms/step - loss: 6.9113 - mae: 6.9113\n",
            "Epoch 87/100\n",
            "1/1 [==============================] - 0s 5ms/step - loss: 6.9056 - mae: 6.9056\n",
            "Epoch 88/100\n",
            "1/1 [==============================] - 0s 3ms/step - loss: 6.9000 - mae: 6.9000\n",
            "Epoch 89/100\n",
            "1/1 [==============================] - 0s 7ms/step - loss: 6.8944 - mae: 6.8944\n",
            "Epoch 90/100\n",
            "1/1 [==============================] - 0s 3ms/step - loss: 6.8888 - mae: 6.8888\n",
            "Epoch 91/100\n",
            "1/1 [==============================] - 0s 3ms/step - loss: 6.8831 - mae: 6.8831\n",
            "Epoch 92/100\n",
            "1/1 [==============================] - 0s 7ms/step - loss: 6.8775 - mae: 6.8775\n",
            "Epoch 93/100\n",
            "1/1 [==============================] - 0s 4ms/step - loss: 6.8719 - mae: 6.8719\n",
            "Epoch 94/100\n",
            "1/1 [==============================] - 0s 3ms/step - loss: 6.8663 - mae: 6.8663\n",
            "Epoch 95/100\n",
            "1/1 [==============================] - 0s 3ms/step - loss: 6.8606 - mae: 6.8606\n",
            "Epoch 96/100\n",
            "1/1 [==============================] - 0s 6ms/step - loss: 6.8550 - mae: 6.8550\n",
            "Epoch 97/100\n",
            "1/1 [==============================] - 0s 4ms/step - loss: 6.8494 - mae: 6.8494\n",
            "Epoch 98/100\n",
            "1/1 [==============================] - 0s 6ms/step - loss: 6.8438 - mae: 6.8438\n",
            "Epoch 99/100\n",
            "1/1 [==============================] - 0s 4ms/step - loss: 6.8381 - mae: 6.8381\n",
            "Epoch 100/100\n",
            "1/1 [==============================] - 0s 7ms/step - loss: 6.8325 - mae: 6.8325\n"
          ]
        },
        {
          "output_type": "execute_result",
          "data": {
            "text/plain": [
              "<keras.callbacks.History at 0x7fa452ae8310>"
            ]
          },
          "metadata": {},
          "execution_count": 4
        }
      ]
    },
    {
      "cell_type": "code",
      "metadata": {
        "colab": {
          "base_uri": "https://localhost:8080/"
        },
        "id": "MduXXYgxMDOd",
        "outputId": "ead0197b-8b22-4061-8e3d-952b57bc01f8"
      },
      "source": [
        "# Checking the progression of the model\n",
        "model.predict([17.0])"
      ],
      "execution_count": 5,
      "outputs": [
        {
          "output_type": "execute_result",
          "data": {
            "text/plain": [
              "array([[29.383755]], dtype=float32)"
            ]
          },
          "metadata": {},
          "execution_count": 5
        }
      ]
    },
    {
      "cell_type": "code",
      "metadata": {
        "colab": {
          "base_uri": "https://localhost:8080/"
        },
        "id": "47f2Kqf5M_5i",
        "outputId": "fc75c308-0a49-4b9f-b921-f55ccbf34afb"
      },
      "source": [
        "# Rebuild the model for the third time by adding a new layer and activation\n",
        "\n",
        " #1. Create a model again\n",
        "model = tf.keras.Sequential([\n",
        "    tf.keras.layers.Dense(100, activation=\"relu\"),\n",
        "    tf.keras.layers.Dense(100, activation=\"relu\"),\n",
        "    tf.keras.layers.Dense(1)\n",
        "    \n",
        "])\n",
        "\n",
        " #2. recompile the model\n",
        "model.compile(loss=tf.keras.losses.mae,optimizer=tf.keras.optimizers.SGD(), \n",
        "              metrics=[\"mae\"]) # mae is for mean absolute error gd gradient descent\n",
        "\n",
        "\n",
        "# 3 Fit the model and keeping the epochs\n",
        "model.fit(tf.expand_dims(X,axis=-1), y,epochs=100)"
      ],
      "execution_count": 6,
      "outputs": [
        {
          "output_type": "stream",
          "name": "stdout",
          "text": [
            "Epoch 1/100\n",
            "1/1 [==============================] - 0s 440ms/step - loss: 13.6202 - mae: 13.6202\n",
            "Epoch 2/100\n",
            "1/1 [==============================] - 0s 8ms/step - loss: 12.9777 - mae: 12.9777\n",
            "Epoch 3/100\n",
            "1/1 [==============================] - 0s 8ms/step - loss: 12.3530 - mae: 12.3530\n",
            "Epoch 4/100\n",
            "1/1 [==============================] - 0s 6ms/step - loss: 11.6704 - mae: 11.6704\n",
            "Epoch 5/100\n",
            "1/1 [==============================] - 0s 7ms/step - loss: 10.9637 - mae: 10.9637\n",
            "Epoch 6/100\n",
            "1/1 [==============================] - 0s 5ms/step - loss: 10.1994 - mae: 10.1994\n",
            "Epoch 7/100\n",
            "1/1 [==============================] - 0s 5ms/step - loss: 9.3508 - mae: 9.3508\n",
            "Epoch 8/100\n",
            "1/1 [==============================] - 0s 7ms/step - loss: 8.3883 - mae: 8.3883\n",
            "Epoch 9/100\n",
            "1/1 [==============================] - 0s 4ms/step - loss: 7.2974 - mae: 7.2974\n",
            "Epoch 10/100\n",
            "1/1 [==============================] - 0s 5ms/step - loss: 6.0936 - mae: 6.0936\n",
            "Epoch 11/100\n",
            "1/1 [==============================] - 0s 7ms/step - loss: 4.6551 - mae: 4.6551\n",
            "Epoch 12/100\n",
            "1/1 [==============================] - 0s 5ms/step - loss: 3.9992 - mae: 3.9992\n",
            "Epoch 13/100\n",
            "1/1 [==============================] - 0s 5ms/step - loss: 3.9424 - mae: 3.9424\n",
            "Epoch 14/100\n",
            "1/1 [==============================] - 0s 5ms/step - loss: 4.0124 - mae: 4.0124\n",
            "Epoch 15/100\n",
            "1/1 [==============================] - 0s 6ms/step - loss: 3.9012 - mae: 3.9012\n",
            "Epoch 16/100\n",
            "1/1 [==============================] - 0s 6ms/step - loss: 4.0241 - mae: 4.0241\n",
            "Epoch 17/100\n",
            "1/1 [==============================] - 0s 5ms/step - loss: 3.8871 - mae: 3.8871\n",
            "Epoch 18/100\n",
            "1/1 [==============================] - 0s 4ms/step - loss: 4.0028 - mae: 4.0028\n",
            "Epoch 19/100\n",
            "1/1 [==============================] - 0s 6ms/step - loss: 3.8984 - mae: 3.8984\n",
            "Epoch 20/100\n",
            "1/1 [==============================] - 0s 6ms/step - loss: 3.9617 - mae: 3.9617\n",
            "Epoch 21/100\n",
            "1/1 [==============================] - 0s 7ms/step - loss: 3.9103 - mae: 3.9103\n",
            "Epoch 22/100\n",
            "1/1 [==============================] - 0s 10ms/step - loss: 3.9201 - mae: 3.9201\n",
            "Epoch 23/100\n",
            "1/1 [==============================] - 0s 4ms/step - loss: 3.9226 - mae: 3.9226\n",
            "Epoch 24/100\n",
            "1/1 [==============================] - 0s 5ms/step - loss: 3.8823 - mae: 3.8823\n",
            "Epoch 25/100\n",
            "1/1 [==============================] - 0s 4ms/step - loss: 3.9564 - mae: 3.9564\n",
            "Epoch 26/100\n",
            "1/1 [==============================] - 0s 7ms/step - loss: 3.8335 - mae: 3.8335\n",
            "Epoch 27/100\n",
            "1/1 [==============================] - 0s 6ms/step - loss: 3.9694 - mae: 3.9694\n",
            "Epoch 28/100\n",
            "1/1 [==============================] - 0s 8ms/step - loss: 3.8346 - mae: 3.8346\n",
            "Epoch 29/100\n",
            "1/1 [==============================] - 0s 9ms/step - loss: 3.9327 - mae: 3.9327\n",
            "Epoch 30/100\n",
            "1/1 [==============================] - 0s 5ms/step - loss: 3.8476 - mae: 3.8476\n",
            "Epoch 31/100\n",
            "1/1 [==============================] - 0s 5ms/step - loss: 3.8896 - mae: 3.8896\n",
            "Epoch 32/100\n",
            "1/1 [==============================] - 0s 6ms/step - loss: 3.8610 - mae: 3.8610\n",
            "Epoch 33/100\n",
            "1/1 [==============================] - 0s 4ms/step - loss: 3.8532 - mae: 3.8532\n",
            "Epoch 34/100\n",
            "1/1 [==============================] - 0s 6ms/step - loss: 3.8956 - mae: 3.8956\n",
            "Epoch 35/100\n",
            "1/1 [==============================] - 0s 4ms/step - loss: 3.7998 - mae: 3.7998\n",
            "Epoch 36/100\n",
            "1/1 [==============================] - 0s 5ms/step - loss: 3.9094 - mae: 3.9094\n",
            "Epoch 37/100\n",
            "1/1 [==============================] - 0s 5ms/step - loss: 3.7770 - mae: 3.7770\n",
            "Epoch 38/100\n",
            "1/1 [==============================] - 0s 4ms/step - loss: 3.8962 - mae: 3.8962\n",
            "Epoch 39/100\n",
            "1/1 [==============================] - 0s 4ms/step - loss: 3.7909 - mae: 3.7909\n",
            "Epoch 40/100\n",
            "1/1 [==============================] - 0s 5ms/step - loss: 3.8512 - mae: 3.8512\n",
            "Epoch 41/100\n",
            "1/1 [==============================] - 0s 5ms/step - loss: 3.8052 - mae: 3.8052\n",
            "Epoch 42/100\n",
            "1/1 [==============================] - 0s 7ms/step - loss: 3.8149 - mae: 3.8149\n",
            "Epoch 43/100\n",
            "1/1 [==============================] - 0s 6ms/step - loss: 3.8415 - mae: 3.8415\n",
            "Epoch 44/100\n",
            "1/1 [==============================] - 0s 7ms/step - loss: 3.7585 - mae: 3.7585\n",
            "Epoch 45/100\n",
            "1/1 [==============================] - 0s 7ms/step - loss: 3.8563 - mae: 3.8563\n",
            "Epoch 46/100\n",
            "1/1 [==============================] - 0s 5ms/step - loss: 3.7258 - mae: 3.7258\n",
            "Epoch 47/100\n",
            "1/1 [==============================] - 0s 5ms/step - loss: 3.8517 - mae: 3.8517\n",
            "Epoch 48/100\n",
            "1/1 [==============================] - 0s 4ms/step - loss: 3.7405 - mae: 3.7405\n",
            "Epoch 49/100\n",
            "1/1 [==============================] - 0s 5ms/step - loss: 3.8048 - mae: 3.8048\n",
            "Epoch 50/100\n",
            "1/1 [==============================] - 0s 5ms/step - loss: 3.7558 - mae: 3.7558\n",
            "Epoch 51/100\n",
            "1/1 [==============================] - 0s 5ms/step - loss: 3.7682 - mae: 3.7682\n",
            "Epoch 52/100\n",
            "1/1 [==============================] - 0s 6ms/step - loss: 3.7928 - mae: 3.7928\n",
            "Epoch 53/100\n",
            "1/1 [==============================] - 0s 4ms/step - loss: 3.7080 - mae: 3.7080\n",
            "Epoch 54/100\n",
            "1/1 [==============================] - 0s 6ms/step - loss: 3.8088 - mae: 3.8088\n",
            "Epoch 55/100\n",
            "1/1 [==============================] - 0s 5ms/step - loss: 3.6798 - mae: 3.6798\n",
            "Epoch 56/100\n",
            "1/1 [==============================] - 0s 6ms/step - loss: 3.7990 - mae: 3.7990\n",
            "Epoch 57/100\n",
            "1/1 [==============================] - 0s 5ms/step - loss: 3.6956 - mae: 3.6956\n",
            "Epoch 58/100\n",
            "1/1 [==============================] - 0s 8ms/step - loss: 3.7502 - mae: 3.7502\n",
            "Epoch 59/100\n",
            "1/1 [==============================] - 0s 7ms/step - loss: 3.7121 - mae: 3.7121\n",
            "Epoch 60/100\n",
            "1/1 [==============================] - 0s 7ms/step - loss: 3.7120 - mae: 3.7120\n",
            "Epoch 61/100\n",
            "1/1 [==============================] - 0s 4ms/step - loss: 3.7498 - mae: 3.7498\n",
            "Epoch 62/100\n",
            "1/1 [==============================] - 0s 6ms/step - loss: 3.6492 - mae: 3.6492\n",
            "Epoch 63/100\n",
            "1/1 [==============================] - 0s 5ms/step - loss: 3.7671 - mae: 3.7671\n",
            "Epoch 64/100\n",
            "1/1 [==============================] - 0s 8ms/step - loss: 3.6391 - mae: 3.6391\n",
            "Epoch 65/100\n",
            "1/1 [==============================] - 0s 5ms/step - loss: 3.7381 - mae: 3.7381\n",
            "Epoch 66/100\n",
            "1/1 [==============================] - 0s 5ms/step - loss: 3.6562 - mae: 3.6562\n",
            "Epoch 67/100\n",
            "1/1 [==============================] - 0s 6ms/step - loss: 3.6874 - mae: 3.6874\n",
            "Epoch 68/100\n",
            "1/1 [==============================] - 0s 5ms/step - loss: 3.6739 - mae: 3.6739\n",
            "Epoch 69/100\n",
            "1/1 [==============================] - 0s 5ms/step - loss: 3.6459 - mae: 3.6459\n",
            "Epoch 70/100\n",
            "1/1 [==============================] - 0s 5ms/step - loss: 3.7127 - mae: 3.7127\n",
            "Epoch 71/100\n",
            "1/1 [==============================] - 0s 5ms/step - loss: 3.5869 - mae: 3.5869\n",
            "Epoch 72/100\n",
            "1/1 [==============================] - 0s 5ms/step - loss: 3.7213 - mae: 3.7213\n",
            "Epoch 73/100\n",
            "1/1 [==============================] - 0s 5ms/step - loss: 3.6036 - mae: 3.6036\n",
            "Epoch 74/100\n",
            "1/1 [==============================] - 0s 5ms/step - loss: 3.6677 - mae: 3.6677\n",
            "Epoch 75/100\n",
            "1/1 [==============================] - 0s 4ms/step - loss: 3.6207 - mae: 3.6207\n",
            "Epoch 76/100\n",
            "1/1 [==============================] - 0s 15ms/step - loss: 3.6140 - mae: 3.6140\n",
            "Epoch 77/100\n",
            "1/1 [==============================] - 0s 5ms/step - loss: 3.6397 - mae: 3.6397\n",
            "Epoch 78/100\n",
            "1/1 [==============================] - 0s 8ms/step - loss: 3.5647 - mae: 3.5647\n",
            "Epoch 79/100\n",
            "1/1 [==============================] - 0s 8ms/step - loss: 3.6807 - mae: 3.6807\n",
            "Epoch 80/100\n",
            "1/1 [==============================] - 0s 7ms/step - loss: 3.5548 - mae: 3.5548\n",
            "Epoch 81/100\n",
            "1/1 [==============================] - 0s 5ms/step - loss: 3.6446 - mae: 3.6446\n",
            "Epoch 82/100\n",
            "1/1 [==============================] - 0s 7ms/step - loss: 3.5731 - mae: 3.5731\n",
            "Epoch 83/100\n",
            "1/1 [==============================] - 0s 8ms/step - loss: 3.5896 - mae: 3.5896\n",
            "Epoch 84/100\n",
            "1/1 [==============================] - 0s 5ms/step - loss: 3.5925 - mae: 3.5925\n",
            "Epoch 85/100\n",
            "1/1 [==============================] - 0s 10ms/step - loss: 3.5335 - mae: 3.5335\n",
            "Epoch 86/100\n",
            "1/1 [==============================] - 0s 10ms/step - loss: 3.6124 - mae: 3.6124\n",
            "Epoch 87/100\n",
            "1/1 [==============================] - 0s 5ms/step - loss: 3.4925 - mae: 3.4925\n",
            "Epoch 88/100\n",
            "1/1 [==============================] - 0s 6ms/step - loss: 3.6160 - mae: 3.6160\n",
            "Epoch 89/100\n",
            "1/1 [==============================] - 0s 5ms/step - loss: 3.5299 - mae: 3.5299\n",
            "Epoch 90/100\n",
            "1/1 [==============================] - 0s 4ms/step - loss: 3.5591 - mae: 3.5591\n",
            "Epoch 91/100\n",
            "1/1 [==============================] - 0s 11ms/step - loss: 3.5493 - mae: 3.5493\n",
            "Epoch 92/100\n",
            "1/1 [==============================] - 0s 8ms/step - loss: 3.5008 - mae: 3.5008\n",
            "Epoch 93/100\n",
            "1/1 [==============================] - 0s 10ms/step - loss: 3.5693 - mae: 3.5693\n",
            "Epoch 94/100\n",
            "1/1 [==============================] - 0s 10ms/step - loss: 3.4472 - mae: 3.4472\n",
            "Epoch 95/100\n",
            "1/1 [==============================] - 0s 8ms/step - loss: 3.5802 - mae: 3.5802\n",
            "Epoch 96/100\n",
            "1/1 [==============================] - 0s 8ms/step - loss: 3.4692 - mae: 3.4692\n",
            "Epoch 97/100\n",
            "1/1 [==============================] - 0s 5ms/step - loss: 3.5363 - mae: 3.5363\n",
            "Epoch 98/100\n",
            "1/1 [==============================] - 0s 4ms/step - loss: 3.5108 - mae: 3.5108\n",
            "Epoch 99/100\n",
            "1/1 [==============================] - 0s 9ms/step - loss: 3.4610 - mae: 3.4610\n",
            "Epoch 100/100\n",
            "1/1 [==============================] - 0s 4ms/step - loss: 3.5315 - mae: 3.5315\n"
          ]
        },
        {
          "output_type": "execute_result",
          "data": {
            "text/plain": [
              "<keras.callbacks.History at 0x7fa3d6429590>"
            ]
          },
          "metadata": {},
          "execution_count": 6
        }
      ]
    },
    {
      "cell_type": "code",
      "metadata": {
        "colab": {
          "base_uri": "https://localhost:8080/"
        },
        "id": "K_1OZA--OC6b",
        "outputId": "8d24241f-6ac0-40da-dadd-940955772e72"
      },
      "source": [
        "# Checking the progression of the model again\n",
        "model.predict([17.0])"
      ],
      "execution_count": 7,
      "outputs": [
        {
          "output_type": "execute_result",
          "data": {
            "text/plain": [
              "array([[31.611965]], dtype=float32)"
            ]
          },
          "metadata": {},
          "execution_count": 7
        }
      ]
    },
    {
      "cell_type": "code",
      "metadata": {
        "colab": {
          "base_uri": "https://localhost:8080/"
        },
        "id": "I276PbjROHiV",
        "outputId": "ca704061-a06d-485e-d7a6-502764f11a0b"
      },
      "source": [
        "# An other change to our model(one extra layer with 100 unit)\n",
        " #1. Create a model again\n",
        "model = tf.keras.Sequential([\n",
        "    tf.keras.layers.Dense(100, activation=\"relu\"),\n",
        "    tf.keras.layers.Dense(1)\n",
        "    \n",
        "])\n",
        "\n",
        " #2. recompile the model\n",
        "model.compile(loss=\"mae\",\n",
        "              optimizer=tf.keras.optimizers.SGD(), \n",
        "              metrics=[\"mae\"])\n",
        "\n",
        "\n",
        "# 3 Fit the model and keeping the epochs\n",
        "model.fit(tf.expand_dims(X,axis=-1), y,epochs=100)\n"
      ],
      "execution_count": 8,
      "outputs": [
        {
          "output_type": "stream",
          "name": "stdout",
          "text": [
            "Epoch 1/100\n",
            "1/1 [==============================] - 0s 309ms/step - loss: 13.1219 - mae: 13.1219\n",
            "Epoch 2/100\n",
            "1/1 [==============================] - 0s 9ms/step - loss: 12.6458 - mae: 12.6458\n",
            "Epoch 3/100\n",
            "1/1 [==============================] - 0s 5ms/step - loss: 12.1730 - mae: 12.1730\n",
            "Epoch 4/100\n",
            "1/1 [==============================] - 0s 5ms/step - loss: 11.7016 - mae: 11.7016\n",
            "Epoch 5/100\n",
            "1/1 [==============================] - 0s 10ms/step - loss: 11.2288 - mae: 11.2288\n",
            "Epoch 6/100\n",
            "1/1 [==============================] - 0s 8ms/step - loss: 10.7983 - mae: 10.7983\n",
            "Epoch 7/100\n",
            "1/1 [==============================] - 0s 5ms/step - loss: 10.3482 - mae: 10.3482\n",
            "Epoch 8/100\n",
            "1/1 [==============================] - 0s 9ms/step - loss: 9.8753 - mae: 9.8753\n",
            "Epoch 9/100\n",
            "1/1 [==============================] - 0s 7ms/step - loss: 9.3751 - mae: 9.3751\n",
            "Epoch 10/100\n",
            "1/1 [==============================] - 0s 6ms/step - loss: 8.8426 - mae: 8.8426\n",
            "Epoch 11/100\n",
            "1/1 [==============================] - 0s 5ms/step - loss: 8.2727 - mae: 8.2727\n",
            "Epoch 12/100\n",
            "1/1 [==============================] - 0s 7ms/step - loss: 7.6632 - mae: 7.6632\n",
            "Epoch 13/100\n",
            "1/1 [==============================] - 0s 4ms/step - loss: 7.0073 - mae: 7.0073\n",
            "Epoch 14/100\n",
            "1/1 [==============================] - 0s 5ms/step - loss: 6.3090 - mae: 6.3090\n",
            "Epoch 15/100\n",
            "1/1 [==============================] - 0s 5ms/step - loss: 5.5460 - mae: 5.5460\n",
            "Epoch 16/100\n",
            "1/1 [==============================] - 0s 4ms/step - loss: 4.7111 - mae: 4.7111\n",
            "Epoch 17/100\n",
            "1/1 [==============================] - 0s 4ms/step - loss: 4.0739 - mae: 4.0739\n",
            "Epoch 18/100\n",
            "1/1 [==============================] - 0s 8ms/step - loss: 3.9793 - mae: 3.9793\n",
            "Epoch 19/100\n",
            "1/1 [==============================] - 0s 5ms/step - loss: 3.9080 - mae: 3.9080\n",
            "Epoch 20/100\n",
            "1/1 [==============================] - 0s 8ms/step - loss: 3.9541 - mae: 3.9541\n",
            "Epoch 21/100\n",
            "1/1 [==============================] - 0s 6ms/step - loss: 3.9143 - mae: 3.9143\n",
            "Epoch 22/100\n",
            "1/1 [==============================] - 0s 13ms/step - loss: 3.9295 - mae: 3.9295\n",
            "Epoch 23/100\n",
            "1/1 [==============================] - 0s 5ms/step - loss: 3.9294 - mae: 3.9294\n",
            "Epoch 24/100\n",
            "1/1 [==============================] - 0s 5ms/step - loss: 3.9111 - mae: 3.9111\n",
            "Epoch 25/100\n",
            "1/1 [==============================] - 0s 5ms/step - loss: 3.9358 - mae: 3.9358\n",
            "Epoch 26/100\n",
            "1/1 [==============================] - 0s 8ms/step - loss: 3.8853 - mae: 3.8853\n",
            "Epoch 27/100\n",
            "1/1 [==============================] - 0s 7ms/step - loss: 3.9424 - mae: 3.9424\n",
            "Epoch 28/100\n",
            "1/1 [==============================] - 0s 7ms/step - loss: 3.8765 - mae: 3.8765\n",
            "Epoch 29/100\n",
            "1/1 [==============================] - 0s 5ms/step - loss: 3.9310 - mae: 3.9310\n",
            "Epoch 30/100\n",
            "1/1 [==============================] - 0s 6ms/step - loss: 3.8831 - mae: 3.8831\n",
            "Epoch 31/100\n",
            "1/1 [==============================] - 0s 3ms/step - loss: 3.9134 - mae: 3.9134\n",
            "Epoch 32/100\n",
            "1/1 [==============================] - 0s 3ms/step - loss: 3.8983 - mae: 3.8983\n",
            "Epoch 33/100\n",
            "1/1 [==============================] - 0s 4ms/step - loss: 3.8875 - mae: 3.8875\n",
            "Epoch 34/100\n",
            "1/1 [==============================] - 0s 5ms/step - loss: 3.9049 - mae: 3.9049\n",
            "Epoch 35/100\n",
            "1/1 [==============================] - 0s 5ms/step - loss: 3.8614 - mae: 3.8614\n",
            "Epoch 36/100\n",
            "1/1 [==============================] - 0s 5ms/step - loss: 3.9117 - mae: 3.9117\n",
            "Epoch 37/100\n",
            "1/1 [==============================] - 0s 3ms/step - loss: 3.8462 - mae: 3.8462\n",
            "Epoch 38/100\n",
            "1/1 [==============================] - 0s 4ms/step - loss: 3.9067 - mae: 3.9067\n",
            "Epoch 39/100\n",
            "1/1 [==============================] - 0s 5ms/step - loss: 3.8595 - mae: 3.8595\n",
            "Epoch 40/100\n",
            "1/1 [==============================] - 0s 3ms/step - loss: 3.8888 - mae: 3.8888\n",
            "Epoch 41/100\n",
            "1/1 [==============================] - 0s 6ms/step - loss: 3.8683 - mae: 3.8683\n",
            "Epoch 42/100\n",
            "1/1 [==============================] - 0s 3ms/step - loss: 3.8626 - mae: 3.8626\n",
            "Epoch 43/100\n",
            "1/1 [==============================] - 0s 6ms/step - loss: 3.8751 - mae: 3.8751\n",
            "Epoch 44/100\n",
            "1/1 [==============================] - 0s 3ms/step - loss: 3.8363 - mae: 3.8363\n",
            "Epoch 45/100\n",
            "1/1 [==============================] - 0s 6ms/step - loss: 3.8821 - mae: 3.8821\n",
            "Epoch 46/100\n",
            "1/1 [==============================] - 0s 3ms/step - loss: 3.8170 - mae: 3.8170\n",
            "Epoch 47/100\n",
            "1/1 [==============================] - 0s 4ms/step - loss: 3.8869 - mae: 3.8869\n",
            "Epoch 48/100\n",
            "1/1 [==============================] - 0s 6ms/step - loss: 3.8326 - mae: 3.8326\n",
            "Epoch 49/100\n",
            "1/1 [==============================] - 0s 3ms/step - loss: 3.8629 - mae: 3.8629\n",
            "Epoch 50/100\n",
            "1/1 [==============================] - 0s 4ms/step - loss: 3.8395 - mae: 3.8395\n",
            "Epoch 51/100\n",
            "1/1 [==============================] - 0s 4ms/step - loss: 3.8364 - mae: 3.8364\n",
            "Epoch 52/100\n",
            "1/1 [==============================] - 0s 5ms/step - loss: 3.8465 - mae: 3.8465\n",
            "Epoch 53/100\n",
            "1/1 [==============================] - 0s 5ms/step - loss: 3.8099 - mae: 3.8099\n",
            "Epoch 54/100\n",
            "1/1 [==============================] - 0s 7ms/step - loss: 3.8538 - mae: 3.8538\n",
            "Epoch 55/100\n",
            "1/1 [==============================] - 0s 3ms/step - loss: 3.7931 - mae: 3.7931\n",
            "Epoch 56/100\n",
            "1/1 [==============================] - 0s 5ms/step - loss: 3.8625 - mae: 3.8625\n",
            "Epoch 57/100\n",
            "1/1 [==============================] - 0s 6ms/step - loss: 3.8046 - mae: 3.8046\n",
            "Epoch 58/100\n",
            "1/1 [==============================] - 0s 4ms/step - loss: 3.8358 - mae: 3.8358\n",
            "Epoch 59/100\n",
            "1/1 [==============================] - 0s 4ms/step - loss: 3.8116 - mae: 3.8116\n",
            "Epoch 60/100\n",
            "1/1 [==============================] - 0s 8ms/step - loss: 3.8091 - mae: 3.8091\n",
            "Epoch 61/100\n",
            "1/1 [==============================] - 0s 5ms/step - loss: 3.8189 - mae: 3.8189\n",
            "Epoch 62/100\n",
            "1/1 [==============================] - 0s 5ms/step - loss: 3.7824 - mae: 3.7824\n",
            "Epoch 63/100\n",
            "1/1 [==============================] - 0s 6ms/step - loss: 3.8288 - mae: 3.8288\n",
            "Epoch 64/100\n",
            "1/1 [==============================] - 0s 6ms/step - loss: 3.7703 - mae: 3.7703\n",
            "Epoch 65/100\n",
            "1/1 [==============================] - 0s 6ms/step - loss: 3.8345 - mae: 3.8345\n",
            "Epoch 66/100\n",
            "1/1 [==============================] - 0s 5ms/step - loss: 3.7775 - mae: 3.7775\n",
            "Epoch 67/100\n",
            "1/1 [==============================] - 0s 5ms/step - loss: 3.8076 - mae: 3.8076\n",
            "Epoch 68/100\n",
            "1/1 [==============================] - 0s 7ms/step - loss: 3.7848 - mae: 3.7848\n",
            "Epoch 69/100\n",
            "1/1 [==============================] - 0s 3ms/step - loss: 3.7806 - mae: 3.7806\n",
            "Epoch 70/100\n",
            "1/1 [==============================] - 0s 5ms/step - loss: 3.7923 - mae: 3.7923\n",
            "Epoch 71/100\n",
            "1/1 [==============================] - 0s 4ms/step - loss: 3.7549 - mae: 3.7549\n",
            "Epoch 72/100\n",
            "1/1 [==============================] - 0s 5ms/step - loss: 3.8085 - mae: 3.8085\n",
            "Epoch 73/100\n",
            "1/1 [==============================] - 0s 5ms/step - loss: 3.7441 - mae: 3.7441\n",
            "Epoch 74/100\n",
            "1/1 [==============================] - 0s 6ms/step - loss: 3.8052 - mae: 3.8052\n",
            "Epoch 75/100\n",
            "1/1 [==============================] - 0s 6ms/step - loss: 3.7515 - mae: 3.7515\n",
            "Epoch 76/100\n",
            "1/1 [==============================] - 0s 6ms/step - loss: 3.7780 - mae: 3.7780\n",
            "Epoch 77/100\n",
            "1/1 [==============================] - 0s 6ms/step - loss: 3.7590 - mae: 3.7590\n",
            "Epoch 78/100\n",
            "1/1 [==============================] - 0s 6ms/step - loss: 3.7508 - mae: 3.7508\n",
            "Epoch 79/100\n",
            "1/1 [==============================] - 0s 6ms/step - loss: 3.7668 - mae: 3.7668\n",
            "Epoch 80/100\n",
            "1/1 [==============================] - 0s 3ms/step - loss: 3.7312 - mae: 3.7312\n",
            "Epoch 81/100\n",
            "1/1 [==============================] - 0s 5ms/step - loss: 3.7832 - mae: 3.7832\n",
            "Epoch 82/100\n",
            "1/1 [==============================] - 0s 4ms/step - loss: 3.7190 - mae: 3.7190\n",
            "Epoch 83/100\n",
            "1/1 [==============================] - 0s 6ms/step - loss: 3.7747 - mae: 3.7747\n",
            "Epoch 84/100\n",
            "1/1 [==============================] - 0s 6ms/step - loss: 3.7265 - mae: 3.7265\n",
            "Epoch 85/100\n",
            "1/1 [==============================] - 0s 3ms/step - loss: 3.7472 - mae: 3.7472\n",
            "Epoch 86/100\n",
            "1/1 [==============================] - 0s 6ms/step - loss: 3.7343 - mae: 3.7343\n",
            "Epoch 87/100\n",
            "1/1 [==============================] - 0s 5ms/step - loss: 3.7197 - mae: 3.7197\n",
            "Epoch 88/100\n",
            "1/1 [==============================] - 0s 6ms/step - loss: 3.7480 - mae: 3.7480\n",
            "Epoch 89/100\n",
            "1/1 [==============================] - 0s 3ms/step - loss: 3.7000 - mae: 3.7000\n",
            "Epoch 90/100\n",
            "1/1 [==============================] - 0s 6ms/step - loss: 3.7586 - mae: 3.7586\n",
            "Epoch 91/100\n",
            "1/1 [==============================] - 0s 4ms/step - loss: 3.6946 - mae: 3.6946\n",
            "Epoch 92/100\n",
            "1/1 [==============================] - 0s 10ms/step - loss: 3.7428 - mae: 3.7428\n",
            "Epoch 93/100\n",
            "1/1 [==============================] - 0s 4ms/step - loss: 3.7022 - mae: 3.7022\n",
            "Epoch 94/100\n",
            "1/1 [==============================] - 0s 4ms/step - loss: 3.7148 - mae: 3.7148\n",
            "Epoch 95/100\n",
            "1/1 [==============================] - 0s 4ms/step - loss: 3.7100 - mae: 3.7100\n",
            "Epoch 96/100\n",
            "1/1 [==============================] - 0s 4ms/step - loss: 3.6926 - mae: 3.6926\n",
            "Epoch 97/100\n",
            "1/1 [==============================] - 0s 8ms/step - loss: 3.7266 - mae: 3.7266\n",
            "Epoch 98/100\n",
            "1/1 [==============================] - 0s 4ms/step - loss: 3.6666 - mae: 3.6666\n",
            "Epoch 99/100\n",
            "1/1 [==============================] - 0s 7ms/step - loss: 3.7343 - mae: 3.7343\n",
            "Epoch 100/100\n",
            "1/1 [==============================] - 0s 4ms/step - loss: 3.6704 - mae: 3.6704\n"
          ]
        },
        {
          "output_type": "execute_result",
          "data": {
            "text/plain": [
              "<keras.callbacks.History at 0x7fa3d5e42350>"
            ]
          },
          "metadata": {},
          "execution_count": 8
        }
      ]
    },
    {
      "cell_type": "code",
      "metadata": {
        "colab": {
          "base_uri": "https://localhost:8080/"
        },
        "id": "U1UFX6FRSkOw",
        "outputId": "f44df02d-f02c-43f4-ebc8-074e3dbb394b"
      },
      "source": [
        "# Let'stry to make a production\n",
        "model.predict([17.0])"
      ],
      "execution_count": 9,
      "outputs": [
        {
          "output_type": "execute_result",
          "data": {
            "text/plain": [
              "array([[31.290375]], dtype=float32)"
            ]
          },
          "metadata": {},
          "execution_count": 9
        }
      ]
    },
    {
      "cell_type": "code",
      "metadata": {
        "colab": {
          "base_uri": "https://localhost:8080/"
        },
        "id": "rt5W6tc7TALE",
        "outputId": "ed7aca2b-273b-40a7-ccdc-58a0c3d71e21"
      },
      "source": [
        "# An other change to our model()\n",
        " #1. Create a model again\n",
        "model = tf.keras.Sequential([\n",
        "    tf.keras.layers.Dense(500, activation=None),\n",
        "    tf.keras.layers.Dense(1)\n",
        "    \n",
        "])\n",
        "\n",
        " #2. recompile the model\n",
        "model.compile(loss=\"mae\",\n",
        "              optimizer=tf.keras.optimizers.SGD(), \n",
        "              metrics=[\"mae\"])\n",
        "\n",
        "\n",
        "# 3 Fit the model and keeping the epochs\n",
        "model.fit(tf.expand_dims(X,axis=-1), y,epochs=100)"
      ],
      "execution_count": 10,
      "outputs": [
        {
          "output_type": "stream",
          "name": "stdout",
          "text": [
            "Epoch 1/100\n",
            "1/1 [==============================] - 0s 299ms/step - loss: 13.5319 - mae: 13.5319\n",
            "Epoch 2/100\n",
            "1/1 [==============================] - 0s 7ms/step - loss: 13.0272 - mae: 13.0272\n",
            "Epoch 3/100\n",
            "1/1 [==============================] - 0s 6ms/step - loss: 12.5214 - mae: 12.5214\n",
            "Epoch 4/100\n",
            "1/1 [==============================] - 0s 8ms/step - loss: 12.0118 - mae: 12.0118\n",
            "Epoch 5/100\n",
            "1/1 [==============================] - 0s 8ms/step - loss: 11.4958 - mae: 11.4958\n",
            "Epoch 6/100\n",
            "1/1 [==============================] - 0s 4ms/step - loss: 10.9708 - mae: 10.9708\n",
            "Epoch 7/100\n",
            "1/1 [==============================] - 0s 4ms/step - loss: 10.4339 - mae: 10.4339\n",
            "Epoch 8/100\n",
            "1/1 [==============================] - 0s 9ms/step - loss: 9.8826 - mae: 9.8826\n",
            "Epoch 9/100\n",
            "1/1 [==============================] - 0s 4ms/step - loss: 9.3139 - mae: 9.3139\n",
            "Epoch 10/100\n",
            "1/1 [==============================] - 0s 3ms/step - loss: 8.7249 - mae: 8.7249\n",
            "Epoch 11/100\n",
            "1/1 [==============================] - 0s 9ms/step - loss: 8.1126 - mae: 8.1126\n",
            "Epoch 12/100\n",
            "1/1 [==============================] - 0s 4ms/step - loss: 7.4739 - mae: 7.4739\n",
            "Epoch 13/100\n",
            "1/1 [==============================] - 0s 3ms/step - loss: 7.1957 - mae: 7.1957\n",
            "Epoch 14/100\n",
            "1/1 [==============================] - 0s 8ms/step - loss: 7.1746 - mae: 7.1746\n",
            "Epoch 15/100\n",
            "1/1 [==============================] - 0s 3ms/step - loss: 7.1535 - mae: 7.1535\n",
            "Epoch 16/100\n",
            "1/1 [==============================] - 0s 3ms/step - loss: 7.1324 - mae: 7.1324\n",
            "Epoch 17/100\n",
            "1/1 [==============================] - 0s 9ms/step - loss: 7.1112 - mae: 7.1112\n",
            "Epoch 18/100\n",
            "1/1 [==============================] - 0s 4ms/step - loss: 7.0899 - mae: 7.0899\n",
            "Epoch 19/100\n",
            "1/1 [==============================] - 0s 4ms/step - loss: 7.0686 - mae: 7.0686\n",
            "Epoch 20/100\n",
            "1/1 [==============================] - 0s 9ms/step - loss: 7.0472 - mae: 7.0472\n",
            "Epoch 21/100\n",
            "1/1 [==============================] - 0s 4ms/step - loss: 7.0257 - mae: 7.0257\n",
            "Epoch 22/100\n",
            "1/1 [==============================] - 0s 4ms/step - loss: 7.0042 - mae: 7.0042\n",
            "Epoch 23/100\n",
            "1/1 [==============================] - 0s 7ms/step - loss: 6.9826 - mae: 6.9826\n",
            "Epoch 24/100\n",
            "1/1 [==============================] - 0s 8ms/step - loss: 6.9609 - mae: 6.9609\n",
            "Epoch 25/100\n",
            "1/1 [==============================] - 0s 4ms/step - loss: 6.9391 - mae: 6.9391\n",
            "Epoch 26/100\n",
            "1/1 [==============================] - 0s 4ms/step - loss: 6.9172 - mae: 6.9172\n",
            "Epoch 27/100\n",
            "1/1 [==============================] - 0s 10ms/step - loss: 6.8952 - mae: 6.8952\n",
            "Epoch 28/100\n",
            "1/1 [==============================] - 0s 4ms/step - loss: 6.8732 - mae: 6.8732\n",
            "Epoch 29/100\n",
            "1/1 [==============================] - 0s 4ms/step - loss: 6.8510 - mae: 6.8510\n",
            "Epoch 30/100\n",
            "1/1 [==============================] - 0s 9ms/step - loss: 6.8348 - mae: 6.8348\n",
            "Epoch 31/100\n",
            "1/1 [==============================] - 0s 4ms/step - loss: 6.8219 - mae: 6.8219\n",
            "Epoch 32/100\n",
            "1/1 [==============================] - 0s 4ms/step - loss: 6.8000 - mae: 6.8000\n",
            "Epoch 33/100\n",
            "1/1 [==============================] - 0s 9ms/step - loss: 6.7780 - mae: 6.7780\n",
            "Epoch 34/100\n",
            "1/1 [==============================] - 0s 4ms/step - loss: 6.7559 - mae: 6.7559\n",
            "Epoch 35/100\n",
            "1/1 [==============================] - 0s 4ms/step - loss: 6.7336 - mae: 6.7336\n",
            "Epoch 36/100\n",
            "1/1 [==============================] - 0s 9ms/step - loss: 6.7113 - mae: 6.7113\n",
            "Epoch 37/100\n",
            "1/1 [==============================] - 0s 4ms/step - loss: 6.6888 - mae: 6.6888\n",
            "Epoch 38/100\n",
            "1/1 [==============================] - 0s 4ms/step - loss: 6.6662 - mae: 6.6662\n",
            "Epoch 39/100\n",
            "1/1 [==============================] - 0s 9ms/step - loss: 6.6434 - mae: 6.6434\n",
            "Epoch 40/100\n",
            "1/1 [==============================] - 0s 4ms/step - loss: 6.6205 - mae: 6.6205\n",
            "Epoch 41/100\n",
            "1/1 [==============================] - 0s 4ms/step - loss: 6.5975 - mae: 6.5975\n",
            "Epoch 42/100\n",
            "1/1 [==============================] - 0s 9ms/step - loss: 6.5743 - mae: 6.5743\n",
            "Epoch 43/100\n",
            "1/1 [==============================] - 0s 4ms/step - loss: 6.5510 - mae: 6.5510\n",
            "Epoch 44/100\n",
            "1/1 [==============================] - 0s 5ms/step - loss: 6.5275 - mae: 6.5275\n",
            "Epoch 45/100\n",
            "1/1 [==============================] - 0s 8ms/step - loss: 6.5038 - mae: 6.5038\n",
            "Epoch 46/100\n",
            "1/1 [==============================] - 0s 4ms/step - loss: 6.4800 - mae: 6.4800\n",
            "Epoch 47/100\n",
            "1/1 [==============================] - 0s 4ms/step - loss: 6.4561 - mae: 6.4561\n",
            "Epoch 48/100\n",
            "1/1 [==============================] - 0s 9ms/step - loss: 6.4319 - mae: 6.4319\n",
            "Epoch 49/100\n",
            "1/1 [==============================] - 0s 6ms/step - loss: 6.4076 - mae: 6.4076\n",
            "Epoch 50/100\n",
            "1/1 [==============================] - 0s 4ms/step - loss: 6.3831 - mae: 6.3831\n",
            "Epoch 51/100\n",
            "1/1 [==============================] - 0s 7ms/step - loss: 6.3585 - mae: 6.3585\n",
            "Epoch 52/100\n",
            "1/1 [==============================] - 0s 7ms/step - loss: 6.3336 - mae: 6.3336\n",
            "Epoch 53/100\n",
            "1/1 [==============================] - 0s 4ms/step - loss: 6.3205 - mae: 6.3205\n",
            "Epoch 54/100\n",
            "1/1 [==============================] - 0s 6ms/step - loss: 6.3055 - mae: 6.3055\n",
            "Epoch 55/100\n",
            "1/1 [==============================] - 0s 6ms/step - loss: 6.2806 - mae: 6.2806\n",
            "Epoch 56/100\n",
            "1/1 [==============================] - 0s 6ms/step - loss: 6.2556 - mae: 6.2556\n",
            "Epoch 57/100\n",
            "1/1 [==============================] - 0s 6ms/step - loss: 6.2303 - mae: 6.2303\n",
            "Epoch 58/100\n",
            "1/1 [==============================] - 0s 6ms/step - loss: 6.2049 - mae: 6.2049\n",
            "Epoch 59/100\n",
            "1/1 [==============================] - 0s 5ms/step - loss: 6.1792 - mae: 6.1792\n",
            "Epoch 60/100\n",
            "1/1 [==============================] - 0s 6ms/step - loss: 6.1533 - mae: 6.1533\n",
            "Epoch 61/100\n",
            "1/1 [==============================] - 0s 5ms/step - loss: 6.1272 - mae: 6.1272\n",
            "Epoch 62/100\n",
            "1/1 [==============================] - 0s 6ms/step - loss: 6.1009 - mae: 6.1009\n",
            "Epoch 63/100\n",
            "1/1 [==============================] - 0s 6ms/step - loss: 6.0743 - mae: 6.0743\n",
            "Epoch 64/100\n",
            "1/1 [==============================] - 0s 6ms/step - loss: 6.0475 - mae: 6.0475\n",
            "Epoch 65/100\n",
            "1/1 [==============================] - 0s 6ms/step - loss: 6.0205 - mae: 6.0205\n",
            "Epoch 66/100\n",
            "1/1 [==============================] - 0s 5ms/step - loss: 5.9932 - mae: 5.9932\n",
            "Epoch 67/100\n",
            "1/1 [==============================] - 0s 6ms/step - loss: 5.9657 - mae: 5.9657\n",
            "Epoch 68/100\n",
            "1/1 [==============================] - 0s 6ms/step - loss: 5.9379 - mae: 5.9379\n",
            "Epoch 69/100\n",
            "1/1 [==============================] - 0s 6ms/step - loss: 5.9098 - mae: 5.9098\n",
            "Epoch 70/100\n",
            "1/1 [==============================] - 0s 6ms/step - loss: 5.8815 - mae: 5.8815\n",
            "Epoch 71/100\n",
            "1/1 [==============================] - 0s 6ms/step - loss: 5.8714 - mae: 5.8714\n",
            "Epoch 72/100\n",
            "1/1 [==============================] - 0s 6ms/step - loss: 5.8513 - mae: 5.8513\n",
            "Epoch 73/100\n",
            "1/1 [==============================] - 0s 6ms/step - loss: 5.8228 - mae: 5.8228\n",
            "Epoch 74/100\n",
            "1/1 [==============================] - 0s 6ms/step - loss: 5.7940 - mae: 5.7940\n",
            "Epoch 75/100\n",
            "1/1 [==============================] - 0s 7ms/step - loss: 5.7649 - mae: 5.7649\n",
            "Epoch 76/100\n",
            "1/1 [==============================] - 0s 4ms/step - loss: 5.7355 - mae: 5.7355\n",
            "Epoch 77/100\n",
            "1/1 [==============================] - 0s 4ms/step - loss: 5.7059 - mae: 5.7059\n",
            "Epoch 78/100\n",
            "1/1 [==============================] - 0s 5ms/step - loss: 5.6759 - mae: 5.6759\n",
            "Epoch 79/100\n",
            "1/1 [==============================] - 0s 5ms/step - loss: 5.6456 - mae: 5.6456\n",
            "Epoch 80/100\n",
            "1/1 [==============================] - 0s 4ms/step - loss: 5.6150 - mae: 5.6150\n",
            "Epoch 81/100\n",
            "1/1 [==============================] - 0s 5ms/step - loss: 5.5841 - mae: 5.5841\n",
            "Epoch 82/100\n",
            "1/1 [==============================] - 0s 6ms/step - loss: 5.5529 - mae: 5.5529\n",
            "Epoch 83/100\n",
            "1/1 [==============================] - 0s 7ms/step - loss: 5.5213 - mae: 5.5213\n",
            "Epoch 84/100\n",
            "1/1 [==============================] - 0s 4ms/step - loss: 5.4894 - mae: 5.4894\n",
            "Epoch 85/100\n",
            "1/1 [==============================] - 0s 6ms/step - loss: 5.4572 - mae: 5.4572\n",
            "Epoch 86/100\n",
            "1/1 [==============================] - 0s 6ms/step - loss: 5.4284 - mae: 5.4284\n",
            "Epoch 87/100\n",
            "1/1 [==============================] - 0s 7ms/step - loss: 5.4698 - mae: 5.4698\n",
            "Epoch 88/100\n",
            "1/1 [==============================] - 0s 4ms/step - loss: 5.5366 - mae: 5.5366\n",
            "Epoch 89/100\n",
            "1/1 [==============================] - 0s 5ms/step - loss: 5.3533 - mae: 5.3533\n",
            "Epoch 90/100\n",
            "1/1 [==============================] - 0s 6ms/step - loss: 5.3198 - mae: 5.3198\n",
            "Epoch 91/100\n",
            "1/1 [==============================] - 0s 6ms/step - loss: 5.2860 - mae: 5.2860\n",
            "Epoch 92/100\n",
            "1/1 [==============================] - 0s 6ms/step - loss: 5.2517 - mae: 5.2517\n",
            "Epoch 93/100\n",
            "1/1 [==============================] - 0s 6ms/step - loss: 5.2171 - mae: 5.2171\n",
            "Epoch 94/100\n",
            "1/1 [==============================] - 0s 5ms/step - loss: 5.1821 - mae: 5.1821\n",
            "Epoch 95/100\n",
            "1/1 [==============================] - 0s 7ms/step - loss: 5.1467 - mae: 5.1467\n",
            "Epoch 96/100\n",
            "1/1 [==============================] - 0s 6ms/step - loss: 5.1109 - mae: 5.1109\n",
            "Epoch 97/100\n",
            "1/1 [==============================] - 0s 6ms/step - loss: 5.0804 - mae: 5.0804\n",
            "Epoch 98/100\n",
            "1/1 [==============================] - 0s 6ms/step - loss: 5.1682 - mae: 5.1682\n",
            "Epoch 99/100\n",
            "1/1 [==============================] - 0s 6ms/step - loss: 5.1919 - mae: 5.1919\n",
            "Epoch 100/100\n",
            "1/1 [==============================] - 0s 4ms/step - loss: 4.9950 - mae: 4.9950\n"
          ]
        },
        {
          "output_type": "execute_result",
          "data": {
            "text/plain": [
              "<keras.callbacks.History at 0x7fa3d553d810>"
            ]
          },
          "metadata": {},
          "execution_count": 10
        }
      ]
    },
    {
      "cell_type": "code",
      "metadata": {
        "colab": {
          "base_uri": "https://localhost:8080/"
        },
        "id": "lHu0L04XWMTk",
        "outputId": "d3bd0e60-6693-4aa5-bfe9-65adc9efd1ad"
      },
      "source": [
        "# Let's try an other prediction\n",
        "model.predict([17.0])"
      ],
      "execution_count": 11,
      "outputs": [
        {
          "output_type": "execute_result",
          "data": {
            "text/plain": [
              "array([[29.229242]], dtype=float32)"
            ]
          },
          "metadata": {},
          "execution_count": 11
        }
      ]
    },
    {
      "cell_type": "code",
      "metadata": {
        "colab": {
          "base_uri": "https://localhost:8080/"
        },
        "id": "AGdrN1HsRT5Z",
        "outputId": "18994834-89f1-49d3-d400-8330f00afd6b"
      },
      "source": [
        "# An other change to our model()\n",
        " #1. Create a model again\n",
        "model = tf.keras.Sequential([\n",
        "    tf.keras.layers.Dense(500, activation=None),\n",
        "    tf.keras.layers.Dense(1)\n",
        "    \n",
        "])\n",
        "\n",
        " #2. recompile the model\n",
        "model.compile(loss=\"mae\",\n",
        "              optimizer=tf.keras.optimizers.Adam(), \n",
        "              metrics=[\"mae\"])\n",
        "\n",
        "\n",
        "# 3 Fit the model and keeping the epochs\n",
        "model.fit(tf.expand_dims(X,axis=-1), y,epochs=100)"
      ],
      "execution_count": 12,
      "outputs": [
        {
          "output_type": "stream",
          "name": "stdout",
          "text": [
            "Epoch 1/100\n",
            "1/1 [==============================] - 0s 383ms/step - loss: 13.0318 - mae: 13.0318\n",
            "Epoch 2/100\n",
            "1/1 [==============================] - 0s 11ms/step - loss: 12.8040 - mae: 12.8040\n",
            "Epoch 3/100\n",
            "1/1 [==============================] - 0s 8ms/step - loss: 12.5759 - mae: 12.5759\n",
            "Epoch 4/100\n",
            "1/1 [==============================] - 0s 6ms/step - loss: 12.3474 - mae: 12.3474\n",
            "Epoch 5/100\n",
            "1/1 [==============================] - 0s 6ms/step - loss: 12.1184 - mae: 12.1184\n",
            "Epoch 6/100\n",
            "1/1 [==============================] - 0s 5ms/step - loss: 11.8887 - mae: 11.8887\n",
            "Epoch 7/100\n",
            "1/1 [==============================] - 0s 14ms/step - loss: 11.6584 - mae: 11.6584\n",
            "Epoch 8/100\n",
            "1/1 [==============================] - 0s 5ms/step - loss: 11.4272 - mae: 11.4272\n",
            "Epoch 9/100\n",
            "1/1 [==============================] - 0s 6ms/step - loss: 11.1950 - mae: 11.1950\n",
            "Epoch 10/100\n",
            "1/1 [==============================] - 0s 6ms/step - loss: 10.9619 - mae: 10.9619\n",
            "Epoch 11/100\n",
            "1/1 [==============================] - 0s 6ms/step - loss: 10.7275 - mae: 10.7275\n",
            "Epoch 12/100\n",
            "1/1 [==============================] - 0s 6ms/step - loss: 10.4919 - mae: 10.4919\n",
            "Epoch 13/100\n",
            "1/1 [==============================] - 0s 6ms/step - loss: 10.2548 - mae: 10.2548\n",
            "Epoch 14/100\n",
            "1/1 [==============================] - 0s 7ms/step - loss: 10.0161 - mae: 10.0161\n",
            "Epoch 15/100\n",
            "1/1 [==============================] - 0s 6ms/step - loss: 9.7757 - mae: 9.7757\n",
            "Epoch 16/100\n",
            "1/1 [==============================] - 0s 7ms/step - loss: 9.5334 - mae: 9.5334\n",
            "Epoch 17/100\n",
            "1/1 [==============================] - 0s 4ms/step - loss: 9.2891 - mae: 9.2891\n",
            "Epoch 18/100\n",
            "1/1 [==============================] - 0s 6ms/step - loss: 9.0426 - mae: 9.0426\n",
            "Epoch 19/100\n",
            "1/1 [==============================] - 0s 8ms/step - loss: 8.7938 - mae: 8.7938\n",
            "Epoch 20/100\n",
            "1/1 [==============================] - 0s 4ms/step - loss: 8.5425 - mae: 8.5425\n",
            "Epoch 21/100\n",
            "1/1 [==============================] - 0s 7ms/step - loss: 8.2887 - mae: 8.2887\n",
            "Epoch 22/100\n",
            "1/1 [==============================] - 0s 6ms/step - loss: 8.0321 - mae: 8.0321\n",
            "Epoch 23/100\n",
            "1/1 [==============================] - 0s 7ms/step - loss: 7.7727 - mae: 7.7727\n",
            "Epoch 24/100\n",
            "1/1 [==============================] - 0s 6ms/step - loss: 7.5102 - mae: 7.5102\n",
            "Epoch 25/100\n",
            "1/1 [==============================] - 0s 6ms/step - loss: 7.2446 - mae: 7.2446\n",
            "Epoch 26/100\n",
            "1/1 [==============================] - 0s 5ms/step - loss: 6.9756 - mae: 6.9756\n",
            "Epoch 27/100\n",
            "1/1 [==============================] - 0s 9ms/step - loss: 6.8448 - mae: 6.8448\n",
            "Epoch 28/100\n",
            "1/1 [==============================] - 0s 5ms/step - loss: 6.8145 - mae: 6.8145\n",
            "Epoch 29/100\n",
            "1/1 [==============================] - 0s 10ms/step - loss: 6.7845 - mae: 6.7845\n",
            "Epoch 30/100\n",
            "1/1 [==============================] - 0s 9ms/step - loss: 6.8717 - mae: 6.8717\n",
            "Epoch 31/100\n",
            "1/1 [==============================] - 0s 8ms/step - loss: 6.9638 - mae: 6.9638\n",
            "Epoch 32/100\n",
            "1/1 [==============================] - 0s 8ms/step - loss: 7.0281 - mae: 7.0281\n",
            "Epoch 33/100\n",
            "1/1 [==============================] - 0s 8ms/step - loss: 7.0674 - mae: 7.0674\n",
            "Epoch 34/100\n",
            "1/1 [==============================] - 0s 5ms/step - loss: 7.0841 - mae: 7.0841\n",
            "Epoch 35/100\n",
            "1/1 [==============================] - 0s 5ms/step - loss: 7.0806 - mae: 7.0806\n",
            "Epoch 36/100\n",
            "1/1 [==============================] - 0s 5ms/step - loss: 7.0590 - mae: 7.0590\n",
            "Epoch 37/100\n",
            "1/1 [==============================] - 0s 5ms/step - loss: 7.0213 - mae: 7.0213\n",
            "Epoch 38/100\n",
            "1/1 [==============================] - 0s 4ms/step - loss: 6.9692 - mae: 6.9692\n",
            "Epoch 39/100\n",
            "1/1 [==============================] - 0s 8ms/step - loss: 6.9045 - mae: 6.9045\n",
            "Epoch 40/100\n",
            "1/1 [==============================] - 0s 5ms/step - loss: 6.8287 - mae: 6.8287\n",
            "Epoch 41/100\n",
            "1/1 [==============================] - 0s 5ms/step - loss: 6.7431 - mae: 6.7431\n",
            "Epoch 42/100\n",
            "1/1 [==============================] - 0s 5ms/step - loss: 6.6489 - mae: 6.6489\n",
            "Epoch 43/100\n",
            "1/1 [==============================] - 0s 5ms/step - loss: 6.5472 - mae: 6.5472\n",
            "Epoch 44/100\n",
            "1/1 [==============================] - 0s 5ms/step - loss: 6.4542 - mae: 6.4542\n",
            "Epoch 45/100\n",
            "1/1 [==============================] - 0s 5ms/step - loss: 6.4371 - mae: 6.4371\n",
            "Epoch 46/100\n",
            "1/1 [==============================] - 0s 4ms/step - loss: 6.4189 - mae: 6.4189\n",
            "Epoch 47/100\n",
            "1/1 [==============================] - 0s 4ms/step - loss: 6.3999 - mae: 6.3999\n",
            "Epoch 48/100\n",
            "1/1 [==============================] - 0s 16ms/step - loss: 6.3800 - mae: 6.3800\n",
            "Epoch 49/100\n",
            "1/1 [==============================] - 0s 4ms/step - loss: 6.3592 - mae: 6.3592\n",
            "Epoch 50/100\n",
            "1/1 [==============================] - 0s 9ms/step - loss: 6.3377 - mae: 6.3377\n",
            "Epoch 51/100\n",
            "1/1 [==============================] - 0s 5ms/step - loss: 6.3154 - mae: 6.3154\n",
            "Epoch 52/100\n",
            "1/1 [==============================] - 0s 9ms/step - loss: 6.2924 - mae: 6.2924\n",
            "Epoch 53/100\n",
            "1/1 [==============================] - 0s 8ms/step - loss: 6.3041 - mae: 6.3041\n",
            "Epoch 54/100\n",
            "1/1 [==============================] - 0s 7ms/step - loss: 6.2791 - mae: 6.2791\n",
            "Epoch 55/100\n",
            "1/1 [==============================] - 0s 7ms/step - loss: 6.2206 - mae: 6.2206\n",
            "Epoch 56/100\n",
            "1/1 [==============================] - 0s 5ms/step - loss: 6.1826 - mae: 6.1826\n",
            "Epoch 57/100\n",
            "1/1 [==============================] - 0s 9ms/step - loss: 6.1514 - mae: 6.1514\n",
            "Epoch 58/100\n",
            "1/1 [==============================] - 0s 6ms/step - loss: 6.1199 - mae: 6.1199\n",
            "Epoch 59/100\n",
            "1/1 [==============================] - 0s 12ms/step - loss: 6.0882 - mae: 6.0882\n",
            "Epoch 60/100\n",
            "1/1 [==============================] - 0s 10ms/step - loss: 6.0562 - mae: 6.0562\n",
            "Epoch 61/100\n",
            "1/1 [==============================] - 0s 12ms/step - loss: 6.0240 - mae: 6.0240\n",
            "Epoch 62/100\n",
            "1/1 [==============================] - 0s 12ms/step - loss: 5.9914 - mae: 5.9914\n",
            "Epoch 63/100\n",
            "1/1 [==============================] - 0s 8ms/step - loss: 5.9584 - mae: 5.9584\n",
            "Epoch 64/100\n",
            "1/1 [==============================] - 0s 12ms/step - loss: 5.9251 - mae: 5.9251\n",
            "Epoch 65/100\n",
            "1/1 [==============================] - 0s 6ms/step - loss: 5.8915 - mae: 5.8915\n",
            "Epoch 66/100\n",
            "1/1 [==============================] - 0s 9ms/step - loss: 5.8574 - mae: 5.8574\n",
            "Epoch 67/100\n",
            "1/1 [==============================] - 0s 12ms/step - loss: 5.8362 - mae: 5.8362\n",
            "Epoch 68/100\n",
            "1/1 [==============================] - 0s 7ms/step - loss: 5.8145 - mae: 5.8145\n",
            "Epoch 69/100\n",
            "1/1 [==============================] - 0s 19ms/step - loss: 5.7747 - mae: 5.7747\n",
            "Epoch 70/100\n",
            "1/1 [==============================] - 0s 7ms/step - loss: 5.7306 - mae: 5.7306\n",
            "Epoch 71/100\n",
            "1/1 [==============================] - 0s 9ms/step - loss: 5.7006 - mae: 5.7006\n",
            "Epoch 72/100\n",
            "1/1 [==============================] - 0s 9ms/step - loss: 5.6696 - mae: 5.6696\n",
            "Epoch 73/100\n",
            "1/1 [==============================] - 0s 14ms/step - loss: 5.6377 - mae: 5.6377\n",
            "Epoch 74/100\n",
            "1/1 [==============================] - 0s 8ms/step - loss: 5.6048 - mae: 5.6048\n",
            "Epoch 75/100\n",
            "1/1 [==============================] - 0s 7ms/step - loss: 5.5710 - mae: 5.5710\n",
            "Epoch 76/100\n",
            "1/1 [==============================] - 0s 5ms/step - loss: 5.5364 - mae: 5.5364\n",
            "Epoch 77/100\n",
            "1/1 [==============================] - 0s 5ms/step - loss: 5.5009 - mae: 5.5009\n",
            "Epoch 78/100\n",
            "1/1 [==============================] - 0s 4ms/step - loss: 5.4645 - mae: 5.4645\n",
            "Epoch 79/100\n",
            "1/1 [==============================] - 0s 6ms/step - loss: 5.4273 - mae: 5.4273\n",
            "Epoch 80/100\n",
            "1/1 [==============================] - 0s 7ms/step - loss: 5.3893 - mae: 5.3893\n",
            "Epoch 81/100\n",
            "1/1 [==============================] - 0s 5ms/step - loss: 5.3504 - mae: 5.3504\n",
            "Epoch 82/100\n",
            "1/1 [==============================] - 0s 5ms/step - loss: 5.3107 - mae: 5.3107\n",
            "Epoch 83/100\n",
            "1/1 [==============================] - 0s 5ms/step - loss: 5.2702 - mae: 5.2702\n",
            "Epoch 84/100\n",
            "1/1 [==============================] - 0s 6ms/step - loss: 5.2288 - mae: 5.2288\n",
            "Epoch 85/100\n",
            "1/1 [==============================] - 0s 4ms/step - loss: 5.1873 - mae: 5.1873\n",
            "Epoch 86/100\n",
            "1/1 [==============================] - 0s 5ms/step - loss: 5.1468 - mae: 5.1468\n",
            "Epoch 87/100\n",
            "1/1 [==============================] - 0s 6ms/step - loss: 5.1058 - mae: 5.1058\n",
            "Epoch 88/100\n",
            "1/1 [==============================] - 0s 6ms/step - loss: 5.0637 - mae: 5.0637\n",
            "Epoch 89/100\n",
            "1/1 [==============================] - 0s 5ms/step - loss: 5.0206 - mae: 5.0206\n",
            "Epoch 90/100\n",
            "1/1 [==============================] - 0s 4ms/step - loss: 4.9773 - mae: 4.9773\n",
            "Epoch 91/100\n",
            "1/1 [==============================] - 0s 6ms/step - loss: 4.9346 - mae: 4.9346\n",
            "Epoch 92/100\n",
            "1/1 [==============================] - 0s 8ms/step - loss: 4.8915 - mae: 4.8915\n",
            "Epoch 93/100\n",
            "1/1 [==============================] - 0s 6ms/step - loss: 4.8471 - mae: 4.8471\n",
            "Epoch 94/100\n",
            "1/1 [==============================] - 0s 6ms/step - loss: 4.8015 - mae: 4.8015\n",
            "Epoch 95/100\n",
            "1/1 [==============================] - 0s 5ms/step - loss: 4.7546 - mae: 4.7546\n",
            "Epoch 96/100\n",
            "1/1 [==============================] - 0s 6ms/step - loss: 4.7066 - mae: 4.7066\n",
            "Epoch 97/100\n",
            "1/1 [==============================] - 0s 6ms/step - loss: 4.6575 - mae: 4.6575\n",
            "Epoch 98/100\n",
            "1/1 [==============================] - 0s 8ms/step - loss: 4.6072 - mae: 4.6072\n",
            "Epoch 99/100\n",
            "1/1 [==============================] - 0s 7ms/step - loss: 4.5557 - mae: 4.5557\n",
            "Epoch 100/100\n",
            "1/1 [==============================] - 0s 4ms/step - loss: 4.5037 - mae: 4.5037\n"
          ]
        },
        {
          "output_type": "execute_result",
          "data": {
            "text/plain": [
              "<keras.callbacks.History at 0x7fa3d2a1b790>"
            ]
          },
          "metadata": {},
          "execution_count": 12
        }
      ]
    },
    {
      "cell_type": "code",
      "metadata": {
        "colab": {
          "base_uri": "https://localhost:8080/"
        },
        "id": "f3FwxQVNRwwQ",
        "outputId": "1feba542-d50d-43de-eae4-949fcf238e82"
      },
      "source": [
        "# An other change to our model()\n",
        " #1. Create a model again by increasing the learning rate of ADAM\n",
        "model = tf.keras.Sequential([\n",
        "    tf.keras.layers.Dense(500, activation=None),\n",
        "    tf.keras.layers.Dense(1)\n",
        "    \n",
        "])\n",
        "\n",
        " #2. recompile the model\n",
        "model.compile(loss=\"mae\",\n",
        "              optimizer=tf.keras.optimizers.Adam(learning_rate=0.01), \n",
        "              metrics=[\"mae\"])\n",
        "\n",
        "\n",
        "# 3 Fit the model and keeping the epochs\n",
        "model.fit(tf.expand_dims(X,axis=-1), y,epochs=100)"
      ],
      "execution_count": 13,
      "outputs": [
        {
          "output_type": "stream",
          "name": "stdout",
          "text": [
            "Epoch 1/100\n",
            "1/1 [==============================] - 0s 360ms/step - loss: 13.5919 - mae: 13.5919\n",
            "Epoch 2/100\n",
            "1/1 [==============================] - 0s 7ms/step - loss: 11.4371 - mae: 11.4371\n",
            "Epoch 3/100\n",
            "1/1 [==============================] - 0s 8ms/step - loss: 9.2609 - mae: 9.2609\n",
            "Epoch 4/100\n",
            "1/1 [==============================] - 0s 5ms/step - loss: 7.0074 - mae: 7.0074\n",
            "Epoch 5/100\n",
            "1/1 [==============================] - 0s 8ms/step - loss: 7.9219 - mae: 7.9219\n",
            "Epoch 6/100\n",
            "1/1 [==============================] - 0s 6ms/step - loss: 8.7035 - mae: 8.7035\n",
            "Epoch 7/100\n",
            "1/1 [==============================] - 0s 9ms/step - loss: 8.4225 - mae: 8.4225\n",
            "Epoch 8/100\n",
            "1/1 [==============================] - 0s 5ms/step - loss: 7.5346 - mae: 7.5346\n",
            "Epoch 9/100\n",
            "1/1 [==============================] - 0s 7ms/step - loss: 6.5226 - mae: 6.5226\n",
            "Epoch 10/100\n",
            "1/1 [==============================] - 0s 5ms/step - loss: 6.0016 - mae: 6.0016\n",
            "Epoch 11/100\n",
            "1/1 [==============================] - 0s 8ms/step - loss: 6.4266 - mae: 6.4266\n",
            "Epoch 12/100\n",
            "1/1 [==============================] - 0s 5ms/step - loss: 6.6096 - mae: 6.6096\n",
            "Epoch 13/100\n",
            "1/1 [==============================] - 0s 8ms/step - loss: 6.4334 - mae: 6.4334\n",
            "Epoch 14/100\n",
            "1/1 [==============================] - 0s 5ms/step - loss: 5.9612 - mae: 5.9612\n",
            "Epoch 15/100\n",
            "1/1 [==============================] - 0s 5ms/step - loss: 5.2271 - mae: 5.2271\n",
            "Epoch 16/100\n",
            "1/1 [==============================] - 0s 8ms/step - loss: 4.7314 - mae: 4.7314\n",
            "Epoch 17/100\n",
            "1/1 [==============================] - 0s 5ms/step - loss: 4.7729 - mae: 4.7729\n",
            "Epoch 18/100\n",
            "1/1 [==============================] - 0s 4ms/step - loss: 4.7864 - mae: 4.7864\n",
            "Epoch 19/100\n",
            "1/1 [==============================] - 0s 9ms/step - loss: 4.5205 - mae: 4.5205\n",
            "Epoch 20/100\n",
            "1/1 [==============================] - 0s 5ms/step - loss: 3.9305 - mae: 3.9305\n",
            "Epoch 21/100\n",
            "1/1 [==============================] - 0s 5ms/step - loss: 3.3816 - mae: 3.3816\n",
            "Epoch 22/100\n",
            "1/1 [==============================] - 0s 11ms/step - loss: 3.0193 - mae: 3.0193\n",
            "Epoch 23/100\n",
            "1/1 [==============================] - 0s 5ms/step - loss: 2.8611 - mae: 2.8611\n",
            "Epoch 24/100\n",
            "1/1 [==============================] - 0s 5ms/step - loss: 2.3360 - mae: 2.3360\n",
            "Epoch 25/100\n",
            "1/1 [==============================] - 0s 5ms/step - loss: 1.6907 - mae: 1.6907\n",
            "Epoch 26/100\n",
            "1/1 [==============================] - 0s 5ms/step - loss: 1.3684 - mae: 1.3684\n",
            "Epoch 27/100\n",
            "1/1 [==============================] - 0s 6ms/step - loss: 0.7364 - mae: 0.7364\n",
            "Epoch 28/100\n",
            "1/1 [==============================] - 0s 7ms/step - loss: 0.4436 - mae: 0.4436\n",
            "Epoch 29/100\n",
            "1/1 [==============================] - 0s 5ms/step - loss: 0.6386 - mae: 0.6386\n",
            "Epoch 30/100\n",
            "1/1 [==============================] - 0s 8ms/step - loss: 1.2203 - mae: 1.2203\n",
            "Epoch 31/100\n",
            "1/1 [==============================] - 0s 8ms/step - loss: 1.4635 - mae: 1.4635\n",
            "Epoch 32/100\n",
            "1/1 [==============================] - 0s 10ms/step - loss: 1.2224 - mae: 1.2224\n",
            "Epoch 33/100\n",
            "1/1 [==============================] - 0s 9ms/step - loss: 1.3898 - mae: 1.3898\n",
            "Epoch 34/100\n",
            "1/1 [==============================] - 0s 9ms/step - loss: 1.2422 - mae: 1.2422\n",
            "Epoch 35/100\n",
            "1/1 [==============================] - 0s 8ms/step - loss: 0.7724 - mae: 0.7724\n",
            "Epoch 36/100\n",
            "1/1 [==============================] - 0s 5ms/step - loss: 0.8670 - mae: 0.8670\n",
            "Epoch 37/100\n",
            "1/1 [==============================] - 0s 5ms/step - loss: 0.6743 - mae: 0.6743\n",
            "Epoch 38/100\n",
            "1/1 [==============================] - 0s 5ms/step - loss: 0.2360 - mae: 0.2360\n",
            "Epoch 39/100\n",
            "1/1 [==============================] - 0s 7ms/step - loss: 0.9162 - mae: 0.9162\n",
            "Epoch 40/100\n",
            "1/1 [==============================] - 0s 9ms/step - loss: 1.1599 - mae: 1.1599\n",
            "Epoch 41/100\n",
            "1/1 [==============================] - 0s 9ms/step - loss: 1.0066 - mae: 1.0066\n",
            "Epoch 42/100\n",
            "1/1 [==============================] - 0s 10ms/step - loss: 0.4970 - mae: 0.4970\n",
            "Epoch 43/100\n",
            "1/1 [==============================] - 0s 8ms/step - loss: 0.9972 - mae: 0.9972\n",
            "Epoch 44/100\n",
            "1/1 [==============================] - 0s 14ms/step - loss: 1.2181 - mae: 1.2181\n",
            "Epoch 45/100\n",
            "1/1 [==============================] - 0s 5ms/step - loss: 0.8190 - mae: 0.8190\n",
            "Epoch 46/100\n",
            "1/1 [==============================] - 0s 5ms/step - loss: 0.2355 - mae: 0.2355\n",
            "Epoch 47/100\n",
            "1/1 [==============================] - 0s 5ms/step - loss: 0.6639 - mae: 0.6639\n",
            "Epoch 48/100\n",
            "1/1 [==============================] - 0s 6ms/step - loss: 0.5293 - mae: 0.5293\n",
            "Epoch 49/100\n",
            "1/1 [==============================] - 0s 6ms/step - loss: 0.3786 - mae: 0.3786\n",
            "Epoch 50/100\n",
            "1/1 [==============================] - 0s 6ms/step - loss: 0.3929 - mae: 0.3929\n",
            "Epoch 51/100\n",
            "1/1 [==============================] - 0s 7ms/step - loss: 0.0568 - mae: 0.0568\n",
            "Epoch 52/100\n",
            "1/1 [==============================] - 0s 4ms/step - loss: 0.2805 - mae: 0.2805\n",
            "Epoch 53/100\n",
            "1/1 [==============================] - 0s 6ms/step - loss: 0.1225 - mae: 0.1225\n",
            "Epoch 54/100\n",
            "1/1 [==============================] - 0s 6ms/step - loss: 0.4807 - mae: 0.4807\n",
            "Epoch 55/100\n",
            "1/1 [==============================] - 0s 8ms/step - loss: 0.4443 - mae: 0.4443\n",
            "Epoch 56/100\n",
            "1/1 [==============================] - 0s 6ms/step - loss: 0.2519 - mae: 0.2519\n",
            "Epoch 57/100\n",
            "1/1 [==============================] - 0s 5ms/step - loss: 0.3707 - mae: 0.3707\n",
            "Epoch 58/100\n",
            "1/1 [==============================] - 0s 7ms/step - loss: 0.0802 - mae: 0.0802\n",
            "Epoch 59/100\n",
            "1/1 [==============================] - 0s 6ms/step - loss: 0.2029 - mae: 0.2029\n",
            "Epoch 60/100\n",
            "1/1 [==============================] - 0s 6ms/step - loss: 0.3132 - mae: 0.3132\n",
            "Epoch 61/100\n",
            "1/1 [==============================] - 0s 6ms/step - loss: 0.2922 - mae: 0.2922\n",
            "Epoch 62/100\n",
            "1/1 [==============================] - 0s 11ms/step - loss: 0.3637 - mae: 0.3637\n",
            "Epoch 63/100\n",
            "1/1 [==============================] - 0s 6ms/step - loss: 0.2690 - mae: 0.2690\n",
            "Epoch 64/100\n",
            "1/1 [==============================] - 0s 9ms/step - loss: 0.3192 - mae: 0.3192\n",
            "Epoch 65/100\n",
            "1/1 [==============================] - 0s 11ms/step - loss: 0.3484 - mae: 0.3484\n",
            "Epoch 66/100\n",
            "1/1 [==============================] - 0s 11ms/step - loss: 0.2545 - mae: 0.2545\n",
            "Epoch 67/100\n",
            "1/1 [==============================] - 0s 5ms/step - loss: 0.1963 - mae: 0.1963\n",
            "Epoch 68/100\n",
            "1/1 [==============================] - 0s 7ms/step - loss: 0.2208 - mae: 0.2208\n",
            "Epoch 69/100\n",
            "1/1 [==============================] - 0s 7ms/step - loss: 0.1976 - mae: 0.1976\n",
            "Epoch 70/100\n",
            "1/1 [==============================] - 0s 5ms/step - loss: 0.4446 - mae: 0.4446\n",
            "Epoch 71/100\n",
            "1/1 [==============================] - 0s 9ms/step - loss: 0.3842 - mae: 0.3842\n",
            "Epoch 72/100\n",
            "1/1 [==============================] - 0s 10ms/step - loss: 0.2082 - mae: 0.2082\n",
            "Epoch 73/100\n",
            "1/1 [==============================] - 0s 9ms/step - loss: 0.3083 - mae: 0.3083\n",
            "Epoch 74/100\n",
            "1/1 [==============================] - 0s 5ms/step - loss: 0.1701 - mae: 0.1701\n",
            "Epoch 75/100\n",
            "1/1 [==============================] - 0s 5ms/step - loss: 0.1382 - mae: 0.1382\n",
            "Epoch 76/100\n",
            "1/1 [==============================] - 0s 5ms/step - loss: 0.3479 - mae: 0.3479\n",
            "Epoch 77/100\n",
            "1/1 [==============================] - 0s 6ms/step - loss: 0.2209 - mae: 0.2209\n",
            "Epoch 78/100\n",
            "1/1 [==============================] - 0s 5ms/step - loss: 0.3740 - mae: 0.3740\n",
            "Epoch 79/100\n",
            "1/1 [==============================] - 0s 6ms/step - loss: 0.4078 - mae: 0.4078\n",
            "Epoch 80/100\n",
            "1/1 [==============================] - 0s 5ms/step - loss: 0.1204 - mae: 0.1204\n",
            "Epoch 81/100\n",
            "1/1 [==============================] - 0s 6ms/step - loss: 0.1045 - mae: 0.1045\n",
            "Epoch 82/100\n",
            "1/1 [==============================] - 0s 5ms/step - loss: 0.3315 - mae: 0.3315\n",
            "Epoch 83/100\n",
            "1/1 [==============================] - 0s 5ms/step - loss: 0.2789 - mae: 0.2789\n",
            "Epoch 84/100\n",
            "1/1 [==============================] - 0s 4ms/step - loss: 0.2548 - mae: 0.2548\n",
            "Epoch 85/100\n",
            "1/1 [==============================] - 0s 4ms/step - loss: 0.2279 - mae: 0.2279\n",
            "Epoch 86/100\n",
            "1/1 [==============================] - 0s 7ms/step - loss: 0.2532 - mae: 0.2532\n",
            "Epoch 87/100\n",
            "1/1 [==============================] - 0s 9ms/step - loss: 0.2297 - mae: 0.2297\n",
            "Epoch 88/100\n",
            "1/1 [==============================] - 0s 5ms/step - loss: 0.2602 - mae: 0.2602\n",
            "Epoch 89/100\n",
            "1/1 [==============================] - 0s 6ms/step - loss: 0.2318 - mae: 0.2318\n",
            "Epoch 90/100\n",
            "1/1 [==============================] - 0s 9ms/step - loss: 0.2490 - mae: 0.2490\n",
            "Epoch 91/100\n",
            "1/1 [==============================] - 0s 5ms/step - loss: 0.2343 - mae: 0.2343\n",
            "Epoch 92/100\n",
            "1/1 [==============================] - 0s 6ms/step - loss: 0.2462 - mae: 0.2462\n",
            "Epoch 93/100\n",
            "1/1 [==============================] - 0s 7ms/step - loss: 0.2305 - mae: 0.2305\n",
            "Epoch 94/100\n",
            "1/1 [==============================] - 0s 7ms/step - loss: 0.2270 - mae: 0.2270\n",
            "Epoch 95/100\n",
            "1/1 [==============================] - 0s 11ms/step - loss: 0.1786 - mae: 0.1786\n",
            "Epoch 96/100\n",
            "1/1 [==============================] - 0s 4ms/step - loss: 0.3010 - mae: 0.3010\n",
            "Epoch 97/100\n",
            "1/1 [==============================] - 0s 16ms/step - loss: 0.2899 - mae: 0.2899\n",
            "Epoch 98/100\n",
            "1/1 [==============================] - 0s 13ms/step - loss: 0.1610 - mae: 0.1610\n",
            "Epoch 99/100\n",
            "1/1 [==============================] - 0s 8ms/step - loss: 0.1320 - mae: 0.1320\n",
            "Epoch 100/100\n",
            "1/1 [==============================] - 0s 6ms/step - loss: 0.3311 - mae: 0.3311\n"
          ]
        },
        {
          "output_type": "execute_result",
          "data": {
            "text/plain": [
              "<keras.callbacks.History at 0x7fa3d2971410>"
            ]
          },
          "metadata": {},
          "execution_count": 13
        }
      ]
    },
    {
      "cell_type": "code",
      "metadata": {
        "colab": {
          "base_uri": "https://localhost:8080/"
        },
        "id": "auMzwVINSOvF",
        "outputId": "dffaef93-d27f-499b-bf2c-81f612074a95"
      },
      "source": [
        "#let's make a prediction\n",
        "model.predict([17.0])"
      ],
      "execution_count": 14,
      "outputs": [
        {
          "output_type": "stream",
          "name": "stdout",
          "text": [
            "WARNING:tensorflow:5 out of the last 5 calls to <function Model.make_predict_function.<locals>.predict_function at 0x7fa3d2906b00> triggered tf.function retracing. Tracing is expensive and the excessive number of tracings could be due to (1) creating @tf.function repeatedly in a loop, (2) passing tensors with different shapes, (3) passing Python objects instead of tensors. For (1), please define your @tf.function outside of the loop. For (2), @tf.function has experimental_relax_shapes=True option that relaxes argument shapes that can avoid unnecessary retracing. For (3), please refer to https://www.tensorflow.org/guide/function#controlling_retracing and https://www.tensorflow.org/api_docs/python/tf/function for  more details.\n"
          ]
        },
        {
          "output_type": "execute_result",
          "data": {
            "text/plain": [
              "array([[26.15694]], dtype=float32)"
            ]
          },
          "metadata": {},
          "execution_count": 14
        }
      ]
    },
    {
      "cell_type": "code",
      "metadata": {
        "colab": {
          "base_uri": "https://localhost:8080/"
        },
        "id": "_cw4i7_aStzw",
        "outputId": "9cf9d56a-1ece-4abd-ebd2-0be898b24a04"
      },
      "source": [
        "#let's make an other prediction\n",
        "model.predict([19.0])"
      ],
      "execution_count": 15,
      "outputs": [
        {
          "output_type": "execute_result",
          "data": {
            "text/plain": [
              "array([[28.060606]], dtype=float32)"
            ]
          },
          "metadata": {},
          "execution_count": 15
        }
      ]
    },
    {
      "cell_type": "markdown",
      "metadata": {
        "id": "6w1ByAdNT1EN"
      },
      "source": [
        "### Evaluating a Model"
      ]
    },
    {
      "cell_type": "code",
      "metadata": {
        "colab": {
          "base_uri": "https://localhost:8080/"
        },
        "id": "rIETa0tqS0km",
        "outputId": "9ab7b184-4990-409e-b2a1-5fd697f4132a"
      },
      "source": [
        "# Make a bigger dataset\n",
        "X = tf.range(-100, 100, 4)\n",
        "X"
      ],
      "execution_count": 16,
      "outputs": [
        {
          "output_type": "execute_result",
          "data": {
            "text/plain": [
              "<tf.Tensor: shape=(50,), dtype=int32, numpy=\n",
              "array([-100,  -96,  -92,  -88,  -84,  -80,  -76,  -72,  -68,  -64,  -60,\n",
              "        -56,  -52,  -48,  -44,  -40,  -36,  -32,  -28,  -24,  -20,  -16,\n",
              "        -12,   -8,   -4,    0,    4,    8,   12,   16,   20,   24,   28,\n",
              "         32,   36,   40,   44,   48,   52,   56,   60,   64,   68,   72,\n",
              "         76,   80,   84,   88,   92,   96], dtype=int32)>"
            ]
          },
          "metadata": {},
          "execution_count": 16
        }
      ]
    },
    {
      "cell_type": "code",
      "metadata": {
        "colab": {
          "base_uri": "https://localhost:8080/"
        },
        "id": "5n8J5crTW0Cz",
        "outputId": "65cc48a8-9bfd-4efe-8a60-3eae81c6fb22"
      },
      "source": [
        "# Make labels for the dataset\n",
        "y = X + 10\n",
        "y"
      ],
      "execution_count": 17,
      "outputs": [
        {
          "output_type": "execute_result",
          "data": {
            "text/plain": [
              "<tf.Tensor: shape=(50,), dtype=int32, numpy=\n",
              "array([-90, -86, -82, -78, -74, -70, -66, -62, -58, -54, -50, -46, -42,\n",
              "       -38, -34, -30, -26, -22, -18, -14, -10,  -6,  -2,   2,   6,  10,\n",
              "        14,  18,  22,  26,  30,  34,  38,  42,  46,  50,  54,  58,  62,\n",
              "        66,  70,  74,  78,  82,  86,  90,  94,  98, 102, 106], dtype=int32)>"
            ]
          },
          "metadata": {},
          "execution_count": 17
        }
      ]
    },
    {
      "cell_type": "code",
      "metadata": {
        "colab": {
          "base_uri": "https://localhost:8080/",
          "height": 0
        },
        "id": "xrDbm0XfXUuD",
        "outputId": "f864d86a-f688-43a1-addf-3948f25d7a29"
      },
      "source": [
        "# Visualize the data\n",
        "import matplotlib.pyplot as plt\n",
        "plt.scatter(X, y)"
      ],
      "execution_count": 18,
      "outputs": [
        {
          "output_type": "execute_result",
          "data": {
            "text/plain": [
              "<matplotlib.collections.PathCollection at 0x7fa3d32710d0>"
            ]
          },
          "metadata": {},
          "execution_count": 18
        },
        {
          "output_type": "display_data",
          "data": {
            "image/png": "[encoded data removed]",
            "text/plain": [
              "<Figure size 432x288 with 1 Axes>"
            ]
          },
          "metadata": {
            "needs_background": "light"
          }
        }
      ]
    },
    {
      "cell_type": "markdown",
      "metadata": {
        "id": "QtimDriHUIXf"
      },
      "source": [
        "#### Creating the 3 sets(training, validation and Test sets)"
      ]
    },
    {
      "cell_type": "code",
      "metadata": {
        "colab": {
          "base_uri": "https://localhost:8080/"
        },
        "id": "-YaRdAChX4KN",
        "outputId": "061f36cd-9bd8-4a5d-baeb-98ddf9b897cf"
      },
      "source": [
        "# Split the data into train and test sets\n",
        "X_train = X[:40] # first 40 are training samples (80% of the data)\n",
        "y_train = y[:40]\n",
        "\n",
        "X_test = X[40:] # last 10 are testting samples (20% of the data)\n",
        "y_test = y[40:]\n",
        "\n",
        "len(X_train), len(X_test), len(y_train), len(y_test)"
      ],
      "execution_count": 19,
      "outputs": [
        {
          "output_type": "execute_result",
          "data": {
            "text/plain": [
              "(40, 10, 40, 10)"
            ]
          },
          "metadata": {},
          "execution_count": 19
        }
      ]
    },
    {
      "cell_type": "markdown",
      "metadata": {
        "id": "Mf17uZe3XD9e"
      },
      "source": [
        "### Visualizing the data"
      ]
    },
    {
      "cell_type": "code",
      "metadata": {
        "colab": {
          "base_uri": "https://localhost:8080/",
          "height": 0
        },
        "id": "tkhWqdiKVjbd",
        "outputId": "c7529c2d-01e0-427e-af75-505fb3ee02ed"
      },
      "source": [
        "plt.figure(figsize=(10, 7))\n",
        "# Plot training data in blue\n",
        "plt.scatter(X_train, y_train, c=\"b\", label=\"Training data\")\n",
        "# Plot test data in green\n",
        "plt.scatter(X_test, y_test, c=\"g\", label=\"Testing data\")\n",
        "# show a legend\n",
        "plt.legend();"
      ],
      "execution_count": 20,
      "outputs": [
        {
          "output_type": "display_data",
          "data": {
            "image/png": "[encoded data removed]",
            "text/plain": [
              "<Figure size 720x504 with 1 Axes>"
            ]
          },
          "metadata": {
            "needs_background": "light"
          }
        }
      ]
    },
    {
      "cell_type": "code",
      "metadata": {
        "id": "gNkeh95yYMFh"
      },
      "source": [
        "# Building a NN for our data\n",
        "\n",
        "# Create a model\n",
        "model = tf.keras.Sequential([\n",
        "          tf.keras.layers.Dense(1)\n",
        "])\n",
        "\n",
        "# Compile the model\n",
        "model.compile(loss=tf.keras.losses.mae,\n",
        "              optimizer=tf.keras.optimizers.SGD(),\n",
        "              metrics=[\"mae\"])\n",
        "\n",
        "# fit the model\n",
        "#model.fit(X_train, y_train, epochs=100)"
      ],
      "execution_count": 21,
      "outputs": []
    },
    {
      "cell_type": "markdown",
      "metadata": {
        "id": "ghzEVzhObuhw"
      },
      "source": [
        "### Visualizing the model"
      ]
    },
    {
      "cell_type": "code",
      "metadata": {
        "colab": {
          "base_uri": "https://localhost:8080/"
        },
        "id": "L0VGjut_boRo",
        "outputId": "108bb8d8-cdaa-47c0-9316-38c08675cab9"
      },
      "source": [
        "# creating a model which will builds automatically by defining the input_shape argument\n",
        "tf.random.set_seed(42)\n",
        "\n",
        "# create a model (same as above)\n",
        "model = tf.keras.Sequential([\n",
        "    tf.keras.layers.Dense(10, input_shape=[1], name=\"input_layer\"),\n",
        "    tf.keras.layers.Dense(1, name=\"output_layer\")\n",
        "], name=\"TensorFlow_model\")\n",
        "\n",
        "# compile the model\n",
        "model.compile(loss=tf.keras.losses.mae,\n",
        "              optimizer=tf.keras.optimizers.SGD(),\n",
        "              metrics=[\"mae\"])\n",
        "\n",
        "model.summary()"
      ],
      "execution_count": 22,
      "outputs": [
        {
          "output_type": "stream",
          "name": "stdout",
          "text": [
            "Model: \"TensorFlow_model\"\n",
            "_________________________________________________________________\n",
            " Layer (type)                Output Shape              Param #   \n",
            "=================================================================\n",
            " input_layer (Dense)         (None, 10)                20        \n",
            "                                                                 \n",
            " output_layer (Dense)        (None, 1)                 11        \n",
            "                                                                 \n",
            "=================================================================\n",
            "Total params: 31\n",
            "Trainable params: 31\n",
            "Non-trainable params: 0\n",
            "_________________________________________________________________\n"
          ]
        }
      ]
    },
    {
      "cell_type": "code",
      "metadata": {
        "colab": {
          "base_uri": "https://localhost:8080/"
        },
        "id": "CWPN3vM0eF9u",
        "outputId": "205b2a2c-ce6b-4676-8aa2-a9e51be8ace8"
      },
      "source": [
        "# Let's fit our model to the training data\n",
        "model.fit(X_train, y_train, epochs=100, verbose=0)"
      ],
      "execution_count": 23,
      "outputs": [
        {
          "output_type": "execute_result",
          "data": {
            "text/plain": [
              "<keras.callbacks.History at 0x7fa3d272d810>"
            ]
          },
          "metadata": {},
          "execution_count": 23
        }
      ]
    },
    {
      "cell_type": "code",
      "metadata": {
        "colab": {
          "base_uri": "https://localhost:8080/",
          "height": 312
        },
        "id": "T_cYYaFBzA6E",
        "outputId": "c1f6a687-b55c-4333-bbc0-756a69e9c29b"
      },
      "source": [
        "from tensorflow.keras.utils import plot_model\n",
        "\n",
        "plot_model(model=model, show_shapes=True)"
      ],
      "execution_count": 24,
      "outputs": [
        {
          "output_type": "execute_result",
          "data": {
            "image/png": "[encoded data removed]",
            "text/plain": [
              "<IPython.core.display.Image object>"
            ]
          },
          "metadata": {},
          "execution_count": 24
        }
      ]
    },
    {
      "cell_type": "code",
      "metadata": {
        "colab": {
          "base_uri": "https://localhost:8080/",
          "height": 312
        },
        "id": "iRxo8LhUCtei",
        "outputId": "50f04313-b47c-4d81-9c30-23be4eaaf6e2"
      },
      "source": [
        "from tensorflow.keras.utils import plot_model\n",
        "\n",
        "plot_model(model=model, show_shapes=True)"
      ],
      "execution_count": 25,
      "outputs": [
        {
          "output_type": "execute_result",
          "data": {
            "image/png": "[encoded data removed]",
            "text/plain": [
              "<IPython.core.display.Image object>"
            ]
          },
          "metadata": {},
          "execution_count": 25
        }
      ]
    },
    {
      "cell_type": "code",
      "metadata": {
        "id": "VadebXQ6Ezje"
      },
      "source": [
        ""
      ],
      "execution_count": 25,
      "outputs": []
    },
    {
      "cell_type": "markdown",
      "metadata": {
        "id": "rSvXS2MAUnRx"
      },
      "source": [
        "### Visualizing our model's predictions"
      ]
    },
    {
      "cell_type": "code",
      "metadata": {
        "id": "oCXSpyR2UznK",
        "outputId": "eacc3c64-9a75-4493-8f97-a913423a70c4",
        "colab": {
          "base_uri": "https://localhost:8080/"
        }
      },
      "source": [
        "# Make some predictions\n",
        "y_pred = model.predict(X_test)\n",
        "y_pred"
      ],
      "execution_count": 26,
      "outputs": [
        {
          "output_type": "stream",
          "name": "stdout",
          "text": [
            "WARNING:tensorflow:6 out of the last 7 calls to <function Model.make_predict_function.<locals>.predict_function at 0x7fa3d5c60d40> triggered tf.function retracing. Tracing is expensive and the excessive number of tracings could be due to (1) creating @tf.function repeatedly in a loop, (2) passing tensors with different shapes, (3) passing Python objects instead of tensors. For (1), please define your @tf.function outside of the loop. For (2), @tf.function has experimental_relax_shapes=True option that relaxes argument shapes that can avoid unnecessary retracing. For (3), please refer to https://www.tensorflow.org/guide/function#controlling_retracing and https://www.tensorflow.org/api_docs/python/tf/function for  more details.\n"
          ]
        },
        {
          "output_type": "execute_result",
          "data": {
            "text/plain": [
              "array([[ 70.55218 ],\n",
              "       [ 75.13991 ],\n",
              "       [ 79.72763 ],\n",
              "       [ 84.31535 ],\n",
              "       [ 88.903076],\n",
              "       [ 93.49081 ],\n",
              "       [ 98.07853 ],\n",
              "       [102.66625 ],\n",
              "       [107.253975],\n",
              "       [111.8417  ]], dtype=float32)"
            ]
          },
          "metadata": {},
          "execution_count": 26
        }
      ]
    },
    {
      "cell_type": "code",
      "metadata": {
        "id": "IlxqOrelVhYq",
        "outputId": "b49edad0-7b48-4a38-c626-391df2894262",
        "colab": {
          "base_uri": "https://localhost:8080/"
        }
      },
      "source": [
        "y_test"
      ],
      "execution_count": 27,
      "outputs": [
        {
          "output_type": "execute_result",
          "data": {
            "text/plain": [
              "<tf.Tensor: shape=(10,), dtype=int32, numpy=array([ 70,  74,  78,  82,  86,  90,  94,  98, 102, 106], dtype=int32)>"
            ]
          },
          "metadata": {},
          "execution_count": 27
        }
      ]
    },
    {
      "cell_type": "code",
      "metadata": {
        "id": "klKULkzhVt20"
      },
      "source": [
        "# creating of a plotting function\n",
        "def plot_predictions(train_data=X_train,\n",
        "                     train_labels=y_train,\n",
        "                     test_data=X_test,\n",
        "                     test_labels=y_test,\n",
        "                     predictions=y_pred):\n",
        "  \"\"\"\n",
        "  Plots training data, test data amd compares predictions to ground truth labels.\n",
        "  \"\"\"\n",
        "\n",
        "  plt.figure(figsize=(14, 6))\n",
        "  # PLot training data in blue\n",
        "  plt.scatter(train_data, train_labels, c=\"b\", label=\"training data\")\n",
        "  # Plot testing data in green\n",
        "  plt.scatter(test_data, test_labels, c=\"g\", label=\"Testing data\")\n",
        "  # Plot model's predictions in red\n",
        "  plt.scatter(test_data, predictions, c=\"r\", label=\"Predictions\")\n",
        "  # Show the legend\n",
        "  plt.legend();\n"
      ],
      "execution_count": 30,
      "outputs": []
    },
    {
      "cell_type": "code",
      "metadata": {
        "id": "ddEMVZr9ZQuY",
        "outputId": "01eb01f8-ce3a-4d8c-c288-152b764b2980",
        "colab": {
          "base_uri": "https://localhost:8080/",
          "height": 374
        }
      },
      "source": [
        "plot_predictions()"
      ],
      "execution_count": 31,
      "outputs": [
        {
          "output_type": "display_data",
          "data": {
            "image/png": "[encoded data removed]",
            "text/plain": [
              "<Figure size 1008x432 with 1 Axes>"
            ]
          },
          "metadata": {
            "needs_background": "light"
          }
        }
      ]
    },
    {
      "cell_type": "code",
      "metadata": {
        "id": "J5SIAoB9ZXsS"
      },
      "source": [
        ""
      ],
      "execution_count": null,
      "outputs": []
    }
  ]
}