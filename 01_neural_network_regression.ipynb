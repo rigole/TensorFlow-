{
  "nbformat": 4,
  "nbformat_minor": 0,
  "metadata": {
    "colab": {
      "name": "01_neural_network_regression.ipynb",
      "provenance": [],
      "collapsed_sections": [
        "bAAVIaWTo9Rn",
        "1c_LZHxhp7ZZ"
      ],
      "authorship_tag": "ABX9TyNBW8RqSmBCAcjZD2t5DZ1H",
      "include_colab_link": true
    },
    "kernelspec": {
      "name": "python3",
      "display_name": "Python 3"
    },
    "language_info": {
      "name": "python"
    }
  },
  "cells": [
    {
      "cell_type": "markdown",
      "metadata": {
        "id": "view-in-github",
        "colab_type": "text"
      },
      "source": [
        "<a href=\"https://colab.research.google.com/github/rigole/TensorFlow-/blob/main/01_neural_network_regression.ipynb\" target=\"_parent\"><img src=\"https://colab.research.google.com/assets/colab-badge.svg\" alt=\"Open In Colab\"/></a>"
      ]
    },
    {
      "cell_type": "markdown",
      "metadata": {
        "id": "bAAVIaWTo9Rn"
      },
      "source": [
        "### Introduction to Regression with NN"
      ]
    },
    {
      "cell_type": "code",
      "metadata": {
        "id": "gIc2Bm_FohfT"
      },
      "source": [
        "import tensorflow as tf"
      ],
      "execution_count": 1,
      "outputs": []
    },
    {
      "cell_type": "markdown",
      "metadata": {
        "id": "1c_LZHxhp7ZZ"
      },
      "source": [
        "### Creating data to view and fit"
      ]
    },
    {
      "cell_type": "code",
      "metadata": {
        "colab": {
          "base_uri": "https://localhost:8080/",
          "height": 0
        },
        "id": "jx5raISvpKGP",
        "outputId": "4b7104af-f1c6-430e-d457-ebf71da67c09"
      },
      "source": [
        "import numpy as np\n",
        "import matplotlib.pyplot as plt\n",
        "\n",
        "# Create features\n",
        "X = np.array([-7.0, -4.0, -1.0, 2.0, 5.0, 8.0, 11.0, 14.0])\n",
        "\n",
        "# Create labels\n",
        "y = np.array([3.0, 6.0, 9.0, 12.0, 15.0, 18.0, 21, 24.0])\n",
        "\n",
        "# Visualize\n",
        "plt.scatter(X, y);"
      ],
      "execution_count": 2,
      "outputs": [
        {
          "output_type": "display_data",
          "data": {
            "image/png": "[encoded data removed]",
            "text/plain": [
              "<Figure size 432x288 with 1 Axes>"
            ]
          },
          "metadata": {
            "needs_background": "light"
          }
        }
      ]
    },
    {
      "cell_type": "code",
      "metadata": {
        "colab": {
          "base_uri": "https://localhost:8080/"
        },
        "id": "39vH4H85qqwC",
        "outputId": "5096a942-5822-44d2-dbec-54b072bf10f2"
      },
      "source": [
        "y == X+10"
      ],
      "execution_count": 3,
      "outputs": [
        {
          "output_type": "execute_result",
          "data": {
            "text/plain": [
              "array([ True,  True,  True,  True,  True,  True,  True,  True])"
            ]
          },
          "metadata": {},
          "execution_count": 3
        }
      ]
    },
    {
      "cell_type": "code",
      "metadata": {
        "id": "QscgH0CcrBV7"
      },
      "source": [
        ""
      ],
      "execution_count": 3,
      "outputs": []
    },
    {
      "cell_type": "markdown",
      "metadata": {
        "id": "xeTIh8LXK11K"
      },
      "source": [
        "### Input and output shapes"
      ]
    },
    {
      "cell_type": "code",
      "metadata": {
        "colab": {
          "base_uri": "https://localhost:8080/"
        },
        "id": "JnctlQmxK5iK",
        "outputId": "009f9933-44fa-45b3-b798-6d509a44ee51"
      },
      "source": [
        "# Create a demo tensor for our housing price prediction problem\n",
        "\n",
        "house_info = tf.constant([\"bedroom\", \"bathroom\", \"garage\"])\n",
        "house_price = tf.constant([939700])\n",
        "house_info, house_price"
      ],
      "execution_count": 4,
      "outputs": [
        {
          "output_type": "execute_result",
          "data": {
            "text/plain": [
              "(<tf.Tensor: shape=(3,), dtype=string, numpy=array([b'bedroom', b'bathroom', b'garage'], dtype=object)>,\n",
              " <tf.Tensor: shape=(1,), dtype=int32, numpy=array([939700], dtype=int32)>)"
            ]
          },
          "metadata": {},
          "execution_count": 4
        }
      ]
    },
    {
      "cell_type": "code",
      "metadata": {
        "colab": {
          "base_uri": "https://localhost:8080/"
        },
        "id": "kdzluJ5-Lnw8",
        "outputId": "4f32baab-0e01-4ca3-c41c-0fda6b098f0a"
      },
      "source": [
        "input_shape = X.shape\n",
        "output_shape = y.shape\n",
        "input_shape, output_shape"
      ],
      "execution_count": 5,
      "outputs": [
        {
          "output_type": "execute_result",
          "data": {
            "text/plain": [
              "((8,), (8,))"
            ]
          },
          "metadata": {},
          "execution_count": 5
        }
      ]
    },
    {
      "cell_type": "code",
      "metadata": {
        "colab": {
          "base_uri": "https://localhost:8080/"
        },
        "id": "oeQJYXIANTzg",
        "outputId": "096d627a-8040-4a2d-bf60-68b1e89593d1"
      },
      "source": [
        "X[0], y[0]"
      ],
      "execution_count": 6,
      "outputs": [
        {
          "output_type": "execute_result",
          "data": {
            "text/plain": [
              "(-7.0, 3.0)"
            ]
          },
          "metadata": {},
          "execution_count": 6
        }
      ]
    },
    {
      "cell_type": "code",
      "metadata": {
        "colab": {
          "base_uri": "https://localhost:8080/"
        },
        "id": "NFzx2ZchNWm8",
        "outputId": "766b01d6-5e27-49ad-9aee-5cb7db190919"
      },
      "source": [
        "input_shape = X[0].shape\n",
        "output_shape = y[0].shape\n",
        "input_shape, output_shape"
      ],
      "execution_count": 7,
      "outputs": [
        {
          "output_type": "execute_result",
          "data": {
            "text/plain": [
              "((), ())"
            ]
          },
          "metadata": {},
          "execution_count": 7
        }
      ]
    },
    {
      "cell_type": "code",
      "metadata": {
        "colab": {
          "base_uri": "https://localhost:8080/"
        },
        "id": "qiyVmum3O6rU",
        "outputId": "40a29441-0e0c-449b-8438-ef3866a0c0ab"
      },
      "source": [
        "X[0].ndim"
      ],
      "execution_count": 8,
      "outputs": [
        {
          "output_type": "execute_result",
          "data": {
            "text/plain": [
              "0"
            ]
          },
          "metadata": {},
          "execution_count": 8
        }
      ]
    },
    {
      "cell_type": "code",
      "metadata": {
        "colab": {
          "base_uri": "https://localhost:8080/"
        },
        "id": "_AUiKj3LPbOH",
        "outputId": "a84cf762-3d98-4c11-9a11-0758311de876"
      },
      "source": [
        "# Turn our NumPy arrays into tensors\n",
        "X = tf.constant(X)\n",
        "y = tf.constant(y)\n",
        "X, X.shape, y, y.shape"
      ],
      "execution_count": 9,
      "outputs": [
        {
          "output_type": "execute_result",
          "data": {
            "text/plain": [
              "(<tf.Tensor: shape=(8,), dtype=float64, numpy=array([-7., -4., -1.,  2.,  5.,  8., 11., 14.])>,\n",
              " TensorShape([8]),\n",
              " <tf.Tensor: shape=(8,), dtype=float64, numpy=array([ 3.,  6.,  9., 12., 15., 18., 21., 24.])>,\n",
              " TensorShape([8]))"
            ]
          },
          "metadata": {},
          "execution_count": 9
        }
      ]
    },
    {
      "cell_type": "code",
      "metadata": {
        "colab": {
          "base_uri": "https://localhost:8080/"
        },
        "id": "58VpSeS8S3Ha",
        "outputId": "864275fc-4228-46ea-ee52-6db9ad3de9d2"
      },
      "source": [
        "input_shape = X[0].shape\n",
        "output_shape = y[0].shape\n",
        "input_shape, output_shape"
      ],
      "execution_count": 10,
      "outputs": [
        {
          "output_type": "execute_result",
          "data": {
            "text/plain": [
              "(TensorShape([]), TensorShape([]))"
            ]
          },
          "metadata": {},
          "execution_count": 10
        }
      ]
    },
    {
      "cell_type": "code",
      "metadata": {
        "colab": {
          "base_uri": "https://localhost:8080/",
          "height": 286
        },
        "id": "AonB22DqTRZm",
        "outputId": "d7247b89-a6e0-415d-e7b2-955c47c3c777"
      },
      "source": [
        "plt.scatter(X, y)"
      ],
      "execution_count": 11,
      "outputs": [
        {
          "output_type": "execute_result",
          "data": {
            "text/plain": [
              "<matplotlib.collections.PathCollection at 0x7f375b304850>"
            ]
          },
          "metadata": {},
          "execution_count": 11
        },
        {
          "output_type": "display_data",
          "data": {
            "image/png": "[encoded data removed]",
            "text/plain": [
              "<Figure size 432x288 with 1 Axes>"
            ]
          },
          "metadata": {
            "needs_background": "light"
          }
        }
      ]
    },
    {
      "cell_type": "code",
      "metadata": {
        "colab": {
          "base_uri": "https://localhost:8080/"
        },
        "id": "DwjkwRYH6q1A",
        "outputId": "fc179a62-a1d9-4278-9ef1-9d940ff269f3"
      },
      "source": [
        "X, y"
      ],
      "execution_count": 12,
      "outputs": [
        {
          "output_type": "execute_result",
          "data": {
            "text/plain": [
              "(<tf.Tensor: shape=(8,), dtype=float64, numpy=array([-7., -4., -1.,  2.,  5.,  8., 11., 14.])>,\n",
              " <tf.Tensor: shape=(8,), dtype=float64, numpy=array([ 3.,  6.,  9., 12., 15., 18., 21., 24.])>)"
            ]
          },
          "metadata": {},
          "execution_count": 12
        }
      ]
    },
    {
      "cell_type": "code",
      "metadata": {
        "colab": {
          "base_uri": "https://localhost:8080/",
          "height": 731
        },
        "id": "bkfl47AXTc-3",
        "outputId": "a948d468-17a0-4171-8d35-c72ff7eb4e5c"
      },
      "source": [
        "# Set random seed\n",
        "tf.random.set_seed(42)\n",
        "\n",
        "#1. Create a model using the sequential API\n",
        "model = tf.keras.Sequential([\n",
        "    tf.keras.layers.Dense(1),\n",
        "    \n",
        "])\n",
        "\n",
        " #2. Compile the model\n",
        "model.compile(loss=tf.keras.losses.mae,optimizer=tf.keras.optimizers.SGD(), \n",
        "              metrics=[\"mae\"]) # mae is for mean absolute error gd gradient descent\n",
        "\n",
        "\n",
        "# 3 Fit the model\n",
        "model.fit(X,y,epochs=5)"
      ],
      "execution_count": 13,
      "outputs": [
        {
          "output_type": "stream",
          "name": "stdout",
          "text": [
            "Epoch 1/5\n"
          ]
        },
        {
          "output_type": "error",
          "ename": "ValueError",
          "evalue": "ignored",
          "traceback": [
            "\u001b[0;31m---------------------------------------------------------------------------\u001b[0m",
            "\u001b[0;31mValueError\u001b[0m                                Traceback (most recent call last)",
            "\u001b[0;32m<ipython-input-13-0b4c43b0278c>\u001b[0m in \u001b[0;36m<module>\u001b[0;34m()\u001b[0m\n\u001b[1;32m     14\u001b[0m \u001b[0;34m\u001b[0m\u001b[0m\n\u001b[1;32m     15\u001b[0m \u001b[0;31m# 3 Fit the model\u001b[0m\u001b[0;34m\u001b[0m\u001b[0;34m\u001b[0m\u001b[0;34m\u001b[0m\u001b[0m\n\u001b[0;32m---> 16\u001b[0;31m \u001b[0mmodel\u001b[0m\u001b[0;34m.\u001b[0m\u001b[0mfit\u001b[0m\u001b[0;34m(\u001b[0m\u001b[0mX\u001b[0m\u001b[0;34m,\u001b[0m\u001b[0my\u001b[0m\u001b[0;34m,\u001b[0m\u001b[0mepochs\u001b[0m\u001b[0;34m=\u001b[0m\u001b[0;36m5\u001b[0m\u001b[0;34m)\u001b[0m\u001b[0;34m\u001b[0m\u001b[0;34m\u001b[0m\u001b[0m\n\u001b[0m",
            "\u001b[0;32m/usr/local/lib/python3.7/dist-packages/keras/utils/traceback_utils.py\u001b[0m in \u001b[0;36merror_handler\u001b[0;34m(*args, **kwargs)\u001b[0m\n\u001b[1;32m     65\u001b[0m     \u001b[0;32mexcept\u001b[0m \u001b[0mException\u001b[0m \u001b[0;32mas\u001b[0m \u001b[0me\u001b[0m\u001b[0;34m:\u001b[0m  \u001b[0;31m# pylint: disable=broad-except\u001b[0m\u001b[0;34m\u001b[0m\u001b[0;34m\u001b[0m\u001b[0m\n\u001b[1;32m     66\u001b[0m       \u001b[0mfiltered_tb\u001b[0m \u001b[0;34m=\u001b[0m \u001b[0m_process_traceback_frames\u001b[0m\u001b[0;34m(\u001b[0m\u001b[0me\u001b[0m\u001b[0;34m.\u001b[0m\u001b[0m__traceback__\u001b[0m\u001b[0;34m)\u001b[0m\u001b[0;34m\u001b[0m\u001b[0;34m\u001b[0m\u001b[0m\n\u001b[0;32m---> 67\u001b[0;31m       \u001b[0;32mraise\u001b[0m \u001b[0me\u001b[0m\u001b[0;34m.\u001b[0m\u001b[0mwith_traceback\u001b[0m\u001b[0;34m(\u001b[0m\u001b[0mfiltered_tb\u001b[0m\u001b[0;34m)\u001b[0m \u001b[0;32mfrom\u001b[0m \u001b[0;32mNone\u001b[0m\u001b[0;34m\u001b[0m\u001b[0;34m\u001b[0m\u001b[0m\n\u001b[0m\u001b[1;32m     68\u001b[0m     \u001b[0;32mfinally\u001b[0m\u001b[0;34m:\u001b[0m\u001b[0;34m\u001b[0m\u001b[0;34m\u001b[0m\u001b[0m\n\u001b[1;32m     69\u001b[0m       \u001b[0;32mdel\u001b[0m \u001b[0mfiltered_tb\u001b[0m\u001b[0;34m\u001b[0m\u001b[0;34m\u001b[0m\u001b[0m\n",
            "\u001b[0;32m/usr/local/lib/python3.7/dist-packages/tensorflow/python/framework/func_graph.py\u001b[0m in \u001b[0;36mautograph_handler\u001b[0;34m(*args, **kwargs)\u001b[0m\n\u001b[1;32m   1127\u001b[0m           \u001b[0;32mexcept\u001b[0m \u001b[0mException\u001b[0m \u001b[0;32mas\u001b[0m \u001b[0me\u001b[0m\u001b[0;34m:\u001b[0m  \u001b[0;31m# pylint:disable=broad-except\u001b[0m\u001b[0;34m\u001b[0m\u001b[0;34m\u001b[0m\u001b[0m\n\u001b[1;32m   1128\u001b[0m             \u001b[0;32mif\u001b[0m \u001b[0mhasattr\u001b[0m\u001b[0;34m(\u001b[0m\u001b[0me\u001b[0m\u001b[0;34m,\u001b[0m \u001b[0;34m\"ag_error_metadata\"\u001b[0m\u001b[0;34m)\u001b[0m\u001b[0;34m:\u001b[0m\u001b[0;34m\u001b[0m\u001b[0;34m\u001b[0m\u001b[0m\n\u001b[0;32m-> 1129\u001b[0;31m               \u001b[0;32mraise\u001b[0m \u001b[0me\u001b[0m\u001b[0;34m.\u001b[0m\u001b[0mag_error_metadata\u001b[0m\u001b[0;34m.\u001b[0m\u001b[0mto_exception\u001b[0m\u001b[0;34m(\u001b[0m\u001b[0me\u001b[0m\u001b[0;34m)\u001b[0m\u001b[0;34m\u001b[0m\u001b[0;34m\u001b[0m\u001b[0m\n\u001b[0m\u001b[1;32m   1130\u001b[0m             \u001b[0;32melse\u001b[0m\u001b[0;34m:\u001b[0m\u001b[0;34m\u001b[0m\u001b[0;34m\u001b[0m\u001b[0m\n\u001b[1;32m   1131\u001b[0m               \u001b[0;32mraise\u001b[0m\u001b[0;34m\u001b[0m\u001b[0;34m\u001b[0m\u001b[0m\n",
            "\u001b[0;31mValueError\u001b[0m: in user code:\n\n    File \"/usr/local/lib/python3.7/dist-packages/keras/engine/training.py\", line 878, in train_function  *\n        return step_function(self, iterator)\n    File \"/usr/local/lib/python3.7/dist-packages/keras/engine/training.py\", line 867, in step_function  **\n        outputs = model.distribute_strategy.run(run_step, args=(data,))\n    File \"/usr/local/lib/python3.7/dist-packages/keras/engine/training.py\", line 860, in run_step  **\n        outputs = model.train_step(data)\n    File \"/usr/local/lib/python3.7/dist-packages/keras/engine/training.py\", line 808, in train_step\n        y_pred = self(x, training=True)\n    File \"/usr/local/lib/python3.7/dist-packages/keras/utils/traceback_utils.py\", line 67, in error_handler\n        raise e.with_traceback(filtered_tb) from None\n    File \"/usr/local/lib/python3.7/dist-packages/keras/engine/input_spec.py\", line 227, in assert_input_compatibility\n        raise ValueError(f'Input {input_index} of layer \"{layer_name}\" '\n\n    ValueError: Exception encountered when calling layer \"sequential\" (type Sequential).\n    \n    Input 0 of layer \"dense\" is incompatible with the layer: expected min_ndim=2, found ndim=1. Full shape received: (None,)\n    \n    Call arguments received:\n      • inputs=tf.Tensor(shape=(None,), dtype=float64)\n      • training=True\n      • mask=None\n"
          ]
        }
      ]
    },
    {
      "cell_type": "code",
      "metadata": {
        "colab": {
          "base_uri": "https://localhost:8080/"
        },
        "id": "JzUMt1QCY0qB",
        "outputId": "4affd324-e8fc-46ec-9df4-e24cd470e1d3"
      },
      "source": [
        "# Set random seed\n",
        "tf.random.set_seed(42)\n",
        "\n",
        "#1. Create a model using the sequential API\n",
        "model = tf.keras.Sequential([\n",
        "    tf.keras.layers.Dense(1),\n",
        "    \n",
        "])\n",
        "\n",
        " #2. Compile the model\n",
        "model.compile(loss=tf.keras.losses.mae,optimizer=tf.keras.optimizers.SGD(), \n",
        "              metrics=[\"mae\"]) # mae is for mean absolute error gd gradient descent\n",
        "\n",
        "\n",
        "# 3 Fit the model\n",
        "model.fit(tf.expand_dims(X,axis=-1), y,epochs=5)"
      ],
      "execution_count": 14,
      "outputs": [
        {
          "output_type": "stream",
          "name": "stdout",
          "text": [
            "Epoch 1/5\n",
            "1/1 [==============================] - 1s 513ms/step - loss: 11.5048 - mae: 11.5048\n",
            "Epoch 2/5\n",
            "1/1 [==============================] - 0s 6ms/step - loss: 11.3723 - mae: 11.3723\n",
            "Epoch 3/5\n",
            "1/1 [==============================] - 0s 7ms/step - loss: 11.2398 - mae: 11.2398\n",
            "Epoch 4/5\n",
            "1/1 [==============================] - 0s 6ms/step - loss: 11.1073 - mae: 11.1073\n",
            "Epoch 5/5\n",
            "1/1 [==============================] - 0s 7ms/step - loss: 10.9748 - mae: 10.9748\n"
          ]
        },
        {
          "output_type": "execute_result",
          "data": {
            "text/plain": [
              "<keras.callbacks.History at 0x7f37590e6f90>"
            ]
          },
          "metadata": {},
          "execution_count": 14
        }
      ]
    },
    {
      "cell_type": "code",
      "metadata": {
        "colab": {
          "base_uri": "https://localhost:8080/"
        },
        "id": "dVgp_NSt9Vxz",
        "outputId": "ddf70133-ff7b-4962-9dc4-34c02cfc573c"
      },
      "source": [
        "# Check out inputs and output\n",
        "X, y"
      ],
      "execution_count": 15,
      "outputs": [
        {
          "output_type": "execute_result",
          "data": {
            "text/plain": [
              "(<tf.Tensor: shape=(8,), dtype=float64, numpy=array([-7., -4., -1.,  2.,  5.,  8., 11., 14.])>,\n",
              " <tf.Tensor: shape=(8,), dtype=float64, numpy=array([ 3.,  6.,  9., 12., 15., 18., 21., 24.])>)"
            ]
          },
          "metadata": {},
          "execution_count": 15
        }
      ]
    },
    {
      "cell_type": "code",
      "metadata": {
        "colab": {
          "base_uri": "https://localhost:8080/"
        },
        "id": "Vza2_QCi-Uds",
        "outputId": "e931851c-edb2-49bf-cf5a-2d122c147cc6"
      },
      "source": [
        "y_pred = model.predict([17.0])\n",
        "y_pred"
      ],
      "execution_count": 16,
      "outputs": [
        {
          "output_type": "execute_result",
          "data": {
            "text/plain": [
              "array([[12.716021]], dtype=float32)"
            ]
          },
          "metadata": {},
          "execution_count": 16
        }
      ]
    },
    {
      "cell_type": "markdown",
      "metadata": {
        "id": "YrBLwKxS_nCA"
      },
      "source": [
        "### Improving our model"
      ]
    },
    {
      "cell_type": "code",
      "metadata": {
        "colab": {
          "base_uri": "https://localhost:8080/"
        },
        "id": "dJ-Gs-I3_B6e",
        "outputId": "98fb1aa2-9e8b-4206-8061-69af3d29ebc4"
      },
      "source": [
        " # Rebuild the model by improving\n",
        "\n",
        " #1. Create a model again\n",
        "model = tf.keras.Sequential([\n",
        "    tf.keras.layers.Dense(1),\n",
        "    \n",
        "])\n",
        "\n",
        " #2. recompile the model\n",
        "model.compile(loss=tf.keras.losses.mae,optimizer=tf.keras.optimizers.SGD(), \n",
        "              metrics=[\"mae\"]) # mae is for mean absolute error gd gradient descent\n",
        "\n",
        "\n",
        "# 3 Fit the model and increase the epochs(and training it longer)\n",
        "model.fit(tf.expand_dims(X,axis=-1), y,epochs=100)"
      ],
      "execution_count": 4,
      "outputs": [
        {
          "output_type": "stream",
          "name": "stdout",
          "text": [
            "Epoch 1/100\n",
            "1/1 [==============================] - 1s 664ms/step - loss: 21.8432 - mae: 21.8432\n",
            "Epoch 2/100\n",
            "1/1 [==============================] - 0s 6ms/step - loss: 21.4501 - mae: 21.4501\n",
            "Epoch 3/100\n",
            "1/1 [==============================] - 0s 5ms/step - loss: 21.0570 - mae: 21.0570\n",
            "Epoch 4/100\n",
            "1/1 [==============================] - 0s 5ms/step - loss: 20.6638 - mae: 20.6638\n",
            "Epoch 5/100\n",
            "1/1 [==============================] - 0s 5ms/step - loss: 20.3208 - mae: 20.3208\n",
            "Epoch 6/100\n",
            "1/1 [==============================] - 0s 5ms/step - loss: 20.0396 - mae: 20.0396\n",
            "Epoch 7/100\n",
            "1/1 [==============================] - 0s 6ms/step - loss: 19.7583 - mae: 19.7583\n",
            "Epoch 8/100\n",
            "1/1 [==============================] - 0s 5ms/step - loss: 19.4771 - mae: 19.4771\n",
            "Epoch 9/100\n",
            "1/1 [==============================] - 0s 6ms/step - loss: 19.1958 - mae: 19.1958\n",
            "Epoch 10/100\n",
            "1/1 [==============================] - 0s 7ms/step - loss: 18.9146 - mae: 18.9146\n",
            "Epoch 11/100\n",
            "1/1 [==============================] - 0s 5ms/step - loss: 18.6333 - mae: 18.6333\n",
            "Epoch 12/100\n",
            "1/1 [==============================] - 0s 5ms/step - loss: 18.3521 - mae: 18.3521\n",
            "Epoch 13/100\n",
            "1/1 [==============================] - 0s 5ms/step - loss: 18.0708 - mae: 18.0708\n",
            "Epoch 14/100\n",
            "1/1 [==============================] - 0s 5ms/step - loss: 17.7896 - mae: 17.7896\n",
            "Epoch 15/100\n",
            "1/1 [==============================] - 0s 7ms/step - loss: 17.5083 - mae: 17.5083\n",
            "Epoch 16/100\n",
            "1/1 [==============================] - 0s 4ms/step - loss: 17.2271 - mae: 17.2271\n",
            "Epoch 17/100\n",
            "1/1 [==============================] - 0s 5ms/step - loss: 16.9458 - mae: 16.9458\n",
            "Epoch 18/100\n",
            "1/1 [==============================] - 0s 6ms/step - loss: 16.6646 - mae: 16.6646\n",
            "Epoch 19/100\n",
            "1/1 [==============================] - 0s 8ms/step - loss: 16.3833 - mae: 16.3833\n",
            "Epoch 20/100\n",
            "1/1 [==============================] - 0s 8ms/step - loss: 16.1021 - mae: 16.1021\n",
            "Epoch 21/100\n",
            "1/1 [==============================] - 0s 8ms/step - loss: 15.8208 - mae: 15.8208\n",
            "Epoch 22/100\n",
            "1/1 [==============================] - 0s 5ms/step - loss: 15.5396 - mae: 15.5396\n",
            "Epoch 23/100\n",
            "1/1 [==============================] - 0s 7ms/step - loss: 15.2583 - mae: 15.2583\n",
            "Epoch 24/100\n",
            "1/1 [==============================] - 0s 4ms/step - loss: 14.9771 - mae: 14.9771\n",
            "Epoch 25/100\n",
            "1/1 [==============================] - 0s 8ms/step - loss: 14.7122 - mae: 14.7122\n",
            "Epoch 26/100\n",
            "1/1 [==============================] - 0s 14ms/step - loss: 14.5797 - mae: 14.5797\n",
            "Epoch 27/100\n",
            "1/1 [==============================] - 0s 9ms/step - loss: 14.4472 - mae: 14.4472\n",
            "Epoch 28/100\n",
            "1/1 [==============================] - 0s 5ms/step - loss: 14.3147 - mae: 14.3147\n",
            "Epoch 29/100\n",
            "1/1 [==============================] - 0s 6ms/step - loss: 14.1822 - mae: 14.1822\n",
            "Epoch 30/100\n",
            "1/1 [==============================] - 0s 6ms/step - loss: 14.0497 - mae: 14.0497\n",
            "Epoch 31/100\n",
            "1/1 [==============================] - 0s 3ms/step - loss: 13.9172 - mae: 13.9172\n",
            "Epoch 32/100\n",
            "1/1 [==============================] - 0s 4ms/step - loss: 13.7847 - mae: 13.7847\n",
            "Epoch 33/100\n",
            "1/1 [==============================] - 0s 4ms/step - loss: 13.6522 - mae: 13.6522\n",
            "Epoch 34/100\n",
            "1/1 [==============================] - 0s 6ms/step - loss: 13.5197 - mae: 13.5197\n",
            "Epoch 35/100\n",
            "1/1 [==============================] - 0s 4ms/step - loss: 13.3872 - mae: 13.3872\n",
            "Epoch 36/100\n",
            "1/1 [==============================] - 0s 4ms/step - loss: 13.2547 - mae: 13.2547\n",
            "Epoch 37/100\n",
            "1/1 [==============================] - 0s 6ms/step - loss: 13.1222 - mae: 13.1222\n",
            "Epoch 38/100\n",
            "1/1 [==============================] - 0s 5ms/step - loss: 12.9897 - mae: 12.9897\n",
            "Epoch 39/100\n",
            "1/1 [==============================] - 0s 4ms/step - loss: 12.8572 - mae: 12.8572\n",
            "Epoch 40/100\n",
            "1/1 [==============================] - 0s 5ms/step - loss: 12.7247 - mae: 12.7247\n",
            "Epoch 41/100\n",
            "1/1 [==============================] - 0s 3ms/step - loss: 12.5922 - mae: 12.5922\n",
            "Epoch 42/100\n",
            "1/1 [==============================] - 0s 5ms/step - loss: 12.4597 - mae: 12.4597\n",
            "Epoch 43/100\n",
            "1/1 [==============================] - 0s 5ms/step - loss: 12.3272 - mae: 12.3272\n",
            "Epoch 44/100\n",
            "1/1 [==============================] - 0s 5ms/step - loss: 12.1947 - mae: 12.1947\n",
            "Epoch 45/100\n",
            "1/1 [==============================] - 0s 3ms/step - loss: 12.0622 - mae: 12.0622\n",
            "Epoch 46/100\n",
            "1/1 [==============================] - 0s 3ms/step - loss: 11.9297 - mae: 11.9297\n",
            "Epoch 47/100\n",
            "1/1 [==============================] - 0s 6ms/step - loss: 11.7972 - mae: 11.7972\n",
            "Epoch 48/100\n",
            "1/1 [==============================] - 0s 8ms/step - loss: 11.6647 - mae: 11.6647\n",
            "Epoch 49/100\n",
            "1/1 [==============================] - 0s 5ms/step - loss: 11.5322 - mae: 11.5322\n",
            "Epoch 50/100\n",
            "1/1 [==============================] - 0s 4ms/step - loss: 11.3997 - mae: 11.3997\n",
            "Epoch 51/100\n",
            "1/1 [==============================] - 0s 6ms/step - loss: 11.2672 - mae: 11.2672\n",
            "Epoch 52/100\n",
            "1/1 [==============================] - 0s 6ms/step - loss: 11.1347 - mae: 11.1347\n",
            "Epoch 53/100\n",
            "1/1 [==============================] - 0s 4ms/step - loss: 11.0022 - mae: 11.0022\n",
            "Epoch 54/100\n",
            "1/1 [==============================] - 0s 5ms/step - loss: 10.8697 - mae: 10.8697\n",
            "Epoch 55/100\n",
            "1/1 [==============================] - 0s 5ms/step - loss: 10.7372 - mae: 10.7372\n",
            "Epoch 56/100\n",
            "1/1 [==============================] - 0s 5ms/step - loss: 10.6047 - mae: 10.6047\n",
            "Epoch 57/100\n",
            "1/1 [==============================] - 0s 6ms/step - loss: 10.4722 - mae: 10.4722\n",
            "Epoch 58/100\n",
            "1/1 [==============================] - 0s 4ms/step - loss: 10.3397 - mae: 10.3397\n",
            "Epoch 59/100\n",
            "1/1 [==============================] - 0s 5ms/step - loss: 10.2072 - mae: 10.2072\n",
            "Epoch 60/100\n",
            "1/1 [==============================] - 0s 4ms/step - loss: 10.0747 - mae: 10.0747\n",
            "Epoch 61/100\n",
            "1/1 [==============================] - 0s 6ms/step - loss: 9.9422 - mae: 9.9422\n",
            "Epoch 62/100\n",
            "1/1 [==============================] - 0s 5ms/step - loss: 9.8097 - mae: 9.8097\n",
            "Epoch 63/100\n",
            "1/1 [==============================] - 0s 4ms/step - loss: 9.6772 - mae: 9.6772\n",
            "Epoch 64/100\n",
            "1/1 [==============================] - 0s 7ms/step - loss: 9.5447 - mae: 9.5447\n",
            "Epoch 65/100\n",
            "1/1 [==============================] - 0s 4ms/step - loss: 9.4122 - mae: 9.4122\n",
            "Epoch 66/100\n",
            "1/1 [==============================] - 0s 7ms/step - loss: 9.2797 - mae: 9.2797\n",
            "Epoch 67/100\n",
            "1/1 [==============================] - 0s 6ms/step - loss: 9.1472 - mae: 9.1472\n",
            "Epoch 68/100\n",
            "1/1 [==============================] - 0s 4ms/step - loss: 9.0147 - mae: 9.0147\n",
            "Epoch 69/100\n",
            "1/1 [==============================] - 0s 5ms/step - loss: 8.8822 - mae: 8.8822\n",
            "Epoch 70/100\n",
            "1/1 [==============================] - 0s 5ms/step - loss: 8.7497 - mae: 8.7497\n",
            "Epoch 71/100\n",
            "1/1 [==============================] - 0s 5ms/step - loss: 8.6172 - mae: 8.6172\n",
            "Epoch 72/100\n",
            "1/1 [==============================] - 0s 3ms/step - loss: 8.4847 - mae: 8.4847\n",
            "Epoch 73/100\n",
            "1/1 [==============================] - 0s 4ms/step - loss: 8.3522 - mae: 8.3522\n",
            "Epoch 74/100\n",
            "1/1 [==============================] - 0s 5ms/step - loss: 8.2197 - mae: 8.2197\n",
            "Epoch 75/100\n",
            "1/1 [==============================] - 0s 6ms/step - loss: 8.0872 - mae: 8.0872\n",
            "Epoch 76/100\n",
            "1/1 [==============================] - 0s 7ms/step - loss: 7.9547 - mae: 7.9547\n",
            "Epoch 77/100\n",
            "1/1 [==============================] - 0s 3ms/step - loss: 7.8222 - mae: 7.8222\n",
            "Epoch 78/100\n",
            "1/1 [==============================] - 0s 7ms/step - loss: 7.6897 - mae: 7.6897\n",
            "Epoch 79/100\n",
            "1/1 [==============================] - 0s 4ms/step - loss: 7.5572 - mae: 7.5572\n",
            "Epoch 80/100\n",
            "1/1 [==============================] - 0s 4ms/step - loss: 7.4247 - mae: 7.4247\n",
            "Epoch 81/100\n",
            "1/1 [==============================] - 0s 7ms/step - loss: 7.2922 - mae: 7.2922\n",
            "Epoch 82/100\n",
            "1/1 [==============================] - 0s 3ms/step - loss: 7.1597 - mae: 7.1597\n",
            "Epoch 83/100\n",
            "1/1 [==============================] - 0s 5ms/step - loss: 7.0272 - mae: 7.0272\n",
            "Epoch 84/100\n",
            "1/1 [==============================] - 0s 9ms/step - loss: 6.9300 - mae: 6.9300\n",
            "Epoch 85/100\n",
            "1/1 [==============================] - 0s 5ms/step - loss: 6.9244 - mae: 6.9244\n",
            "Epoch 86/100\n",
            "1/1 [==============================] - 0s 7ms/step - loss: 6.9188 - mae: 6.9188\n",
            "Epoch 87/100\n",
            "1/1 [==============================] - 0s 7ms/step - loss: 6.9131 - mae: 6.9131\n",
            "Epoch 88/100\n",
            "1/1 [==============================] - 0s 7ms/step - loss: 6.9075 - mae: 6.9075\n",
            "Epoch 89/100\n",
            "1/1 [==============================] - 0s 5ms/step - loss: 6.9019 - mae: 6.9019\n",
            "Epoch 90/100\n",
            "1/1 [==============================] - 0s 14ms/step - loss: 6.8963 - mae: 6.8963\n",
            "Epoch 91/100\n",
            "1/1 [==============================] - 0s 39ms/step - loss: 6.8906 - mae: 6.8906\n",
            "Epoch 92/100\n",
            "1/1 [==============================] - 0s 13ms/step - loss: 6.8850 - mae: 6.8850\n",
            "Epoch 93/100\n",
            "1/1 [==============================] - 0s 9ms/step - loss: 6.8794 - mae: 6.8794\n",
            "Epoch 94/100\n",
            "1/1 [==============================] - 0s 15ms/step - loss: 6.8738 - mae: 6.8738\n",
            "Epoch 95/100\n",
            "1/1 [==============================] - 0s 7ms/step - loss: 6.8681 - mae: 6.8681\n",
            "Epoch 96/100\n",
            "1/1 [==============================] - 0s 7ms/step - loss: 6.8625 - mae: 6.8625\n",
            "Epoch 97/100\n",
            "1/1 [==============================] - 0s 10ms/step - loss: 6.8569 - mae: 6.8569\n",
            "Epoch 98/100\n",
            "1/1 [==============================] - 0s 4ms/step - loss: 6.8513 - mae: 6.8513\n",
            "Epoch 99/100\n",
            "1/1 [==============================] - 0s 3ms/step - loss: 6.8456 - mae: 6.8456\n",
            "Epoch 100/100\n",
            "1/1 [==============================] - 0s 4ms/step - loss: 6.8400 - mae: 6.8400\n"
          ]
        },
        {
          "output_type": "execute_result",
          "data": {
            "text/plain": [
              "<keras.callbacks.History at 0x7f7f267e8550>"
            ]
          },
          "metadata": {},
          "execution_count": 4
        }
      ]
    },
    {
      "cell_type": "code",
      "metadata": {
        "colab": {
          "base_uri": "https://localhost:8080/"
        },
        "id": "MduXXYgxMDOd",
        "outputId": "0a907c9e-d4c7-4790-ab81-e2be970c9190"
      },
      "source": [
        "# Checking the progression of the model\n",
        "model.predict([17.0])"
      ],
      "execution_count": 5,
      "outputs": [
        {
          "output_type": "execute_result",
          "data": {
            "text/plain": [
              "array([[29.278933]], dtype=float32)"
            ]
          },
          "metadata": {},
          "execution_count": 5
        }
      ]
    },
    {
      "cell_type": "code",
      "metadata": {
        "colab": {
          "base_uri": "https://localhost:8080/"
        },
        "id": "47f2Kqf5M_5i",
        "outputId": "115aea8b-6dbb-4785-e469-e65e287ad23f"
      },
      "source": [
        "# Rebuild the model for the third time by adding a new layer and activation\n",
        "\n",
        " #1. Create a model again\n",
        "model = tf.keras.Sequential([\n",
        "    tf.keras.layers.Dense(100, activation=\"relu\"),\n",
        "    tf.keras.layers.Dense(100, activation=\"relu\"),\n",
        "    tf.keras.layers.Dense(1)\n",
        "    \n",
        "])\n",
        "\n",
        " #2. recompile the model\n",
        "model.compile(loss=tf.keras.losses.mae,optimizer=tf.keras.optimizers.SGD(), \n",
        "              metrics=[\"mae\"]) # mae is for mean absolute error gd gradient descent\n",
        "\n",
        "\n",
        "# 3 Fit the model and keeping the epochs\n",
        "model.fit(tf.expand_dims(X,axis=-1), y,epochs=100)"
      ],
      "execution_count": 6,
      "outputs": [
        {
          "output_type": "stream",
          "name": "stdout",
          "text": [
            "Epoch 1/100\n",
            "1/1 [==============================] - 0s 314ms/step - loss: 13.6105 - mae: 13.6105\n",
            "Epoch 2/100\n",
            "1/1 [==============================] - 0s 5ms/step - loss: 13.0629 - mae: 13.0629\n",
            "Epoch 3/100\n",
            "1/1 [==============================] - 0s 8ms/step - loss: 12.5267 - mae: 12.5267\n",
            "Epoch 4/100\n",
            "1/1 [==============================] - 0s 4ms/step - loss: 11.9797 - mae: 11.9797\n",
            "Epoch 5/100\n",
            "1/1 [==============================] - 0s 5ms/step - loss: 11.3959 - mae: 11.3959\n",
            "Epoch 6/100\n",
            "1/1 [==============================] - 0s 8ms/step - loss: 10.7758 - mae: 10.7758\n",
            "Epoch 7/100\n",
            "1/1 [==============================] - 0s 5ms/step - loss: 10.0915 - mae: 10.0915\n",
            "Epoch 8/100\n",
            "1/1 [==============================] - 0s 11ms/step - loss: 9.3167 - mae: 9.3167\n",
            "Epoch 9/100\n",
            "1/1 [==============================] - 0s 7ms/step - loss: 8.4407 - mae: 8.4407\n",
            "Epoch 10/100\n",
            "1/1 [==============================] - 0s 5ms/step - loss: 7.4080 - mae: 7.4080\n",
            "Epoch 11/100\n",
            "1/1 [==============================] - 0s 7ms/step - loss: 6.1743 - mae: 6.1743\n",
            "Epoch 12/100\n",
            "1/1 [==============================] - 0s 8ms/step - loss: 4.7011 - mae: 4.7011\n",
            "Epoch 13/100\n",
            "1/1 [==============================] - 0s 6ms/step - loss: 3.9459 - mae: 3.9459\n",
            "Epoch 14/100\n",
            "1/1 [==============================] - 0s 5ms/step - loss: 3.9746 - mae: 3.9746\n",
            "Epoch 15/100\n",
            "1/1 [==============================] - 0s 7ms/step - loss: 3.9552 - mae: 3.9552\n",
            "Epoch 16/100\n",
            "1/1 [==============================] - 0s 6ms/step - loss: 3.9381 - mae: 3.9381\n",
            "Epoch 17/100\n",
            "1/1 [==============================] - 0s 8ms/step - loss: 3.9650 - mae: 3.9650\n",
            "Epoch 18/100\n",
            "1/1 [==============================] - 0s 7ms/step - loss: 3.9009 - mae: 3.9009\n",
            "Epoch 19/100\n",
            "1/1 [==============================] - 0s 5ms/step - loss: 3.9753 - mae: 3.9753\n",
            "Epoch 20/100\n",
            "1/1 [==============================] - 0s 8ms/step - loss: 3.8662 - mae: 3.8662\n",
            "Epoch 21/100\n",
            "1/1 [==============================] - 0s 15ms/step - loss: 4.0108 - mae: 4.0108\n",
            "Epoch 22/100\n",
            "1/1 [==============================] - 0s 9ms/step - loss: 3.8783 - mae: 3.8783\n",
            "Epoch 23/100\n",
            "1/1 [==============================] - 0s 7ms/step - loss: 3.9564 - mae: 3.9564\n",
            "Epoch 24/100\n",
            "1/1 [==============================] - 0s 11ms/step - loss: 3.8888 - mae: 3.8888\n",
            "Epoch 25/100\n",
            "1/1 [==============================] - 0s 8ms/step - loss: 3.9184 - mae: 3.9184\n",
            "Epoch 26/100\n",
            "1/1 [==============================] - 0s 8ms/step - loss: 3.9000 - mae: 3.9000\n",
            "Epoch 27/100\n",
            "1/1 [==============================] - 0s 4ms/step - loss: 3.8796 - mae: 3.8796\n",
            "Epoch 28/100\n",
            "1/1 [==============================] - 0s 7ms/step - loss: 3.9117 - mae: 3.9117\n",
            "Epoch 29/100\n",
            "1/1 [==============================] - 0s 6ms/step - loss: 3.8486 - mae: 3.8486\n",
            "Epoch 30/100\n",
            "1/1 [==============================] - 0s 7ms/step - loss: 3.9480 - mae: 3.9480\n",
            "Epoch 31/100\n",
            "1/1 [==============================] - 0s 7ms/step - loss: 3.8184 - mae: 3.8184\n",
            "Epoch 32/100\n",
            "1/1 [==============================] - 0s 9ms/step - loss: 3.9308 - mae: 3.9308\n",
            "Epoch 33/100\n",
            "1/1 [==============================] - 0s 5ms/step - loss: 3.8299 - mae: 3.8299\n",
            "Epoch 34/100\n",
            "1/1 [==============================] - 0s 8ms/step - loss: 3.8914 - mae: 3.8914\n",
            "Epoch 35/100\n",
            "1/1 [==============================] - 0s 18ms/step - loss: 3.8421 - mae: 3.8421\n",
            "Epoch 36/100\n",
            "1/1 [==============================] - 0s 6ms/step - loss: 3.8511 - mae: 3.8511\n",
            "Epoch 37/100\n",
            "1/1 [==============================] - 0s 8ms/step - loss: 3.8547 - mae: 3.8547\n",
            "Epoch 38/100\n",
            "1/1 [==============================] - 0s 5ms/step - loss: 3.8226 - mae: 3.8226\n",
            "Epoch 39/100\n",
            "1/1 [==============================] - 0s 7ms/step - loss: 3.8912 - mae: 3.8912\n",
            "Epoch 40/100\n",
            "1/1 [==============================] - 0s 7ms/step - loss: 3.7641 - mae: 3.7641\n",
            "Epoch 41/100\n",
            "1/1 [==============================] - 0s 3ms/step - loss: 3.8973 - mae: 3.8973\n",
            "Epoch 42/100\n",
            "1/1 [==============================] - 0s 10ms/step - loss: 3.7765 - mae: 3.7765\n",
            "Epoch 43/100\n",
            "1/1 [==============================] - 0s 6ms/step - loss: 3.8560 - mae: 3.8560\n",
            "Epoch 44/100\n",
            "1/1 [==============================] - 0s 6ms/step - loss: 3.7896 - mae: 3.7896\n",
            "Epoch 45/100\n",
            "1/1 [==============================] - 0s 5ms/step - loss: 3.8141 - mae: 3.8141\n",
            "Epoch 46/100\n",
            "1/1 [==============================] - 0s 5ms/step - loss: 3.8033 - mae: 3.8033\n",
            "Epoch 47/100\n",
            "1/1 [==============================] - 0s 8ms/step - loss: 3.7864 - mae: 3.7864\n",
            "Epoch 48/100\n",
            "1/1 [==============================] - 0s 5ms/step - loss: 3.8417 - mae: 3.8417\n",
            "Epoch 49/100\n",
            "1/1 [==============================] - 0s 4ms/step - loss: 3.7217 - mae: 3.7217\n",
            "Epoch 50/100\n",
            "1/1 [==============================] - 0s 5ms/step - loss: 3.8555 - mae: 3.8555\n",
            "Epoch 51/100\n",
            "1/1 [==============================] - 0s 5ms/step - loss: 3.7286 - mae: 3.7286\n",
            "Epoch 52/100\n",
            "1/1 [==============================] - 0s 5ms/step - loss: 3.8129 - mae: 3.8129\n",
            "Epoch 53/100\n",
            "1/1 [==============================] - 0s 5ms/step - loss: 3.7428 - mae: 3.7428\n",
            "Epoch 54/100\n",
            "1/1 [==============================] - 0s 4ms/step - loss: 3.7694 - mae: 3.7694\n",
            "Epoch 55/100\n",
            "1/1 [==============================] - 0s 9ms/step - loss: 3.7578 - mae: 3.7578\n",
            "Epoch 56/100\n",
            "1/1 [==============================] - 0s 9ms/step - loss: 3.7410 - mae: 3.7410\n",
            "Epoch 57/100\n",
            "1/1 [==============================] - 0s 5ms/step - loss: 3.7972 - mae: 3.7972\n",
            "Epoch 58/100\n",
            "1/1 [==============================] - 0s 6ms/step - loss: 3.6735 - mae: 3.6735\n",
            "Epoch 59/100\n",
            "1/1 [==============================] - 0s 7ms/step - loss: 3.8124 - mae: 3.8124\n",
            "Epoch 60/100\n",
            "1/1 [==============================] - 0s 4ms/step - loss: 3.6875 - mae: 3.6875\n",
            "Epoch 61/100\n",
            "1/1 [==============================] - 0s 7ms/step - loss: 3.7633 - mae: 3.7633\n",
            "Epoch 62/100\n",
            "1/1 [==============================] - 0s 6ms/step - loss: 3.7028 - mae: 3.7028\n",
            "Epoch 63/100\n",
            "1/1 [==============================] - 0s 11ms/step - loss: 3.7178 - mae: 3.7178\n",
            "Epoch 64/100\n",
            "1/1 [==============================] - 0s 6ms/step - loss: 3.7187 - mae: 3.7187\n",
            "Epoch 65/100\n",
            "1/1 [==============================] - 0s 14ms/step - loss: 3.6877 - mae: 3.6877\n",
            "Epoch 66/100\n",
            "1/1 [==============================] - 0s 8ms/step - loss: 3.7591 - mae: 3.7591\n",
            "Epoch 67/100\n",
            "1/1 [==============================] - 0s 6ms/step - loss: 3.6368 - mae: 3.6368\n",
            "Epoch 68/100\n",
            "1/1 [==============================] - 0s 8ms/step - loss: 3.7520 - mae: 3.7520\n",
            "Epoch 69/100\n",
            "1/1 [==============================] - 0s 6ms/step - loss: 3.6525 - mae: 3.6525\n",
            "Epoch 70/100\n",
            "1/1 [==============================] - 0s 7ms/step - loss: 3.7053 - mae: 3.7053\n",
            "Epoch 71/100\n",
            "1/1 [==============================] - 0s 4ms/step - loss: 3.6689 - mae: 3.6689\n",
            "Epoch 72/100\n",
            "1/1 [==============================] - 0s 7ms/step - loss: 3.6577 - mae: 3.6577\n",
            "Epoch 73/100\n",
            "1/1 [==============================] - 0s 5ms/step - loss: 3.6860 - mae: 3.6860\n",
            "Epoch 74/100\n",
            "1/1 [==============================] - 0s 7ms/step - loss: 3.6236 - mae: 3.6236\n",
            "Epoch 75/100\n",
            "1/1 [==============================] - 0s 7ms/step - loss: 3.7272 - mae: 3.7272\n",
            "Epoch 76/100\n",
            "1/1 [==============================] - 0s 7ms/step - loss: 3.6053 - mae: 3.6053\n",
            "Epoch 77/100\n",
            "1/1 [==============================] - 0s 13ms/step - loss: 3.6882 - mae: 3.6882\n",
            "Epoch 78/100\n",
            "1/1 [==============================] - 0s 6ms/step - loss: 3.6218 - mae: 3.6218\n",
            "Epoch 79/100\n",
            "1/1 [==============================] - 0s 8ms/step - loss: 3.6388 - mae: 3.6388\n",
            "Epoch 80/100\n",
            "1/1 [==============================] - 0s 5ms/step - loss: 3.6392 - mae: 3.6392\n",
            "Epoch 81/100\n",
            "1/1 [==============================] - 0s 4ms/step - loss: 3.5885 - mae: 3.5885\n",
            "Epoch 82/100\n",
            "1/1 [==============================] - 0s 4ms/step - loss: 3.6570 - mae: 3.6570\n",
            "Epoch 83/100\n",
            "1/1 [==============================] - 0s 4ms/step - loss: 3.5491 - mae: 3.5491\n",
            "Epoch 84/100\n",
            "1/1 [==============================] - 0s 4ms/step - loss: 3.6572 - mae: 3.6572\n",
            "Epoch 85/100\n",
            "1/1 [==============================] - 0s 4ms/step - loss: 3.5838 - mae: 3.5838\n",
            "Epoch 86/100\n",
            "1/1 [==============================] - 0s 4ms/step - loss: 3.6055 - mae: 3.6055\n",
            "Epoch 87/100\n",
            "1/1 [==============================] - 0s 4ms/step - loss: 3.6021 - mae: 3.6021\n",
            "Epoch 88/100\n",
            "1/1 [==============================] - 0s 4ms/step - loss: 3.5530 - mae: 3.5530\n",
            "Epoch 89/100\n",
            "1/1 [==============================] - 0s 4ms/step - loss: 3.6213 - mae: 3.6213\n",
            "Epoch 90/100\n",
            "1/1 [==============================] - 0s 4ms/step - loss: 3.5013 - mae: 3.5013\n",
            "Epoch 91/100\n",
            "1/1 [==============================] - 0s 5ms/step - loss: 3.6480 - mae: 3.6480\n",
            "Epoch 92/100\n",
            "1/1 [==============================] - 0s 3ms/step - loss: 3.5432 - mae: 3.5432\n",
            "Epoch 93/100\n",
            "1/1 [==============================] - 0s 4ms/step - loss: 3.5768 - mae: 3.5768\n",
            "Epoch 94/100\n",
            "1/1 [==============================] - 0s 5ms/step - loss: 3.5619 - mae: 3.5619\n",
            "Epoch 95/100\n",
            "1/1 [==============================] - 0s 4ms/step - loss: 3.5226 - mae: 3.5226\n",
            "Epoch 96/100\n",
            "1/1 [==============================] - 0s 4ms/step - loss: 3.5816 - mae: 3.5816\n",
            "Epoch 97/100\n",
            "1/1 [==============================] - 0s 11ms/step - loss: 3.4679 - mae: 3.4679\n",
            "Epoch 98/100\n",
            "1/1 [==============================] - 0s 3ms/step - loss: 3.6019 - mae: 3.6019\n",
            "Epoch 99/100\n",
            "1/1 [==============================] - 0s 4ms/step - loss: 3.4812 - mae: 3.4812\n",
            "Epoch 100/100\n",
            "1/1 [==============================] - 0s 4ms/step - loss: 3.5574 - mae: 3.5574\n"
          ]
        },
        {
          "output_type": "execute_result",
          "data": {
            "text/plain": [
              "<keras.callbacks.History at 0x7f7f2677d110>"
            ]
          },
          "metadata": {},
          "execution_count": 6
        }
      ]
    },
    {
      "cell_type": "code",
      "metadata": {
        "colab": {
          "base_uri": "https://localhost:8080/"
        },
        "id": "K_1OZA--OC6b",
        "outputId": "4891546e-f130-4d2c-d70b-fda13028239a"
      },
      "source": [
        "# Checking the progression of the model again\n",
        "model.predict([17.0])"
      ],
      "execution_count": 7,
      "outputs": [
        {
          "output_type": "execute_result",
          "data": {
            "text/plain": [
              "array([[32.6719]], dtype=float32)"
            ]
          },
          "metadata": {},
          "execution_count": 7
        }
      ]
    },
    {
      "cell_type": "code",
      "metadata": {
        "colab": {
          "base_uri": "https://localhost:8080/"
        },
        "id": "I276PbjROHiV",
        "outputId": "e86229ad-16eb-4e25-a39e-7ff80f94eac0"
      },
      "source": [
        "# An other change to our model(one extra layer with 100 unit)\n",
        " #1. Create a model again\n",
        "model = tf.keras.Sequential([\n",
        "    tf.keras.layers.Dense(100, activation=\"relu\"),\n",
        "    tf.keras.layers.Dense(1)\n",
        "    \n",
        "])\n",
        "\n",
        " #2. recompile the model\n",
        "model.compile(loss=\"mae\",\n",
        "              optimizer=tf.keras.optimizers.SGD(), \n",
        "              metrics=[\"mae\"])\n",
        "\n",
        "\n",
        "# 3 Fit the model and keeping the epochs\n",
        "model.fit(tf.expand_dims(X,axis=-1), y,epochs=100)\n"
      ],
      "execution_count": 8,
      "outputs": [
        {
          "output_type": "stream",
          "name": "stdout",
          "text": [
            "Epoch 1/100\n",
            "1/1 [==============================] - 0s 236ms/step - loss: 13.9888 - mae: 13.9888\n",
            "Epoch 2/100\n",
            "1/1 [==============================] - 0s 4ms/step - loss: 13.3662 - mae: 13.3662\n",
            "Epoch 3/100\n",
            "1/1 [==============================] - 0s 4ms/step - loss: 12.7467 - mae: 12.7467\n",
            "Epoch 4/100\n",
            "1/1 [==============================] - 0s 4ms/step - loss: 12.1223 - mae: 12.1223\n",
            "Epoch 5/100\n",
            "1/1 [==============================] - 0s 5ms/step - loss: 11.4839 - mae: 11.4839\n",
            "Epoch 6/100\n",
            "1/1 [==============================] - 0s 7ms/step - loss: 10.8340 - mae: 10.8340\n",
            "Epoch 7/100\n",
            "1/1 [==============================] - 0s 4ms/step - loss: 10.1650 - mae: 10.1650\n",
            "Epoch 8/100\n",
            "1/1 [==============================] - 0s 4ms/step - loss: 9.4763 - mae: 9.4763\n",
            "Epoch 9/100\n",
            "1/1 [==============================] - 0s 3ms/step - loss: 8.7550 - mae: 8.7550\n",
            "Epoch 10/100\n",
            "1/1 [==============================] - 0s 6ms/step - loss: 8.0039 - mae: 8.0039\n",
            "Epoch 11/100\n",
            "1/1 [==============================] - 0s 5ms/step - loss: 7.2030 - mae: 7.2030\n",
            "Epoch 12/100\n",
            "1/1 [==============================] - 0s 6ms/step - loss: 6.3464 - mae: 6.3464\n",
            "Epoch 13/100\n",
            "1/1 [==============================] - 0s 6ms/step - loss: 5.4257 - mae: 5.4257\n",
            "Epoch 14/100\n",
            "1/1 [==============================] - 0s 4ms/step - loss: 4.4958 - mae: 4.4958\n",
            "Epoch 15/100\n",
            "1/1 [==============================] - 0s 5ms/step - loss: 4.3548 - mae: 4.3548\n",
            "Epoch 16/100\n",
            "1/1 [==============================] - 0s 5ms/step - loss: 4.2110 - mae: 4.2110\n",
            "Epoch 17/100\n",
            "1/1 [==============================] - 0s 5ms/step - loss: 4.1132 - mae: 4.1132\n",
            "Epoch 18/100\n",
            "1/1 [==============================] - 0s 9ms/step - loss: 4.0972 - mae: 4.0972\n",
            "Epoch 19/100\n",
            "1/1 [==============================] - 0s 10ms/step - loss: 4.0330 - mae: 4.0330\n",
            "Epoch 20/100\n",
            "1/1 [==============================] - 0s 4ms/step - loss: 3.9834 - mae: 3.9834\n",
            "Epoch 21/100\n",
            "1/1 [==============================] - 0s 9ms/step - loss: 3.9517 - mae: 3.9517\n",
            "Epoch 22/100\n",
            "1/1 [==============================] - 0s 5ms/step - loss: 3.8905 - mae: 3.8905\n",
            "Epoch 23/100\n",
            "1/1 [==============================] - 0s 6ms/step - loss: 3.9376 - mae: 3.9376\n",
            "Epoch 24/100\n",
            "1/1 [==============================] - 0s 4ms/step - loss: 3.8681 - mae: 3.8681\n",
            "Epoch 25/100\n",
            "1/1 [==============================] - 0s 6ms/step - loss: 3.9409 - mae: 3.9409\n",
            "Epoch 26/100\n",
            "1/1 [==============================] - 0s 6ms/step - loss: 3.8806 - mae: 3.8806\n",
            "Epoch 27/100\n",
            "1/1 [==============================] - 0s 6ms/step - loss: 3.9219 - mae: 3.9219\n",
            "Epoch 28/100\n",
            "1/1 [==============================] - 0s 7ms/step - loss: 3.8904 - mae: 3.8904\n",
            "Epoch 29/100\n",
            "1/1 [==============================] - 0s 4ms/step - loss: 3.8961 - mae: 3.8961\n",
            "Epoch 30/100\n",
            "1/1 [==============================] - 0s 17ms/step - loss: 3.8979 - mae: 3.8979\n",
            "Epoch 31/100\n",
            "1/1 [==============================] - 0s 16ms/step - loss: 3.8701 - mae: 3.8701\n",
            "Epoch 32/100\n",
            "1/1 [==============================] - 0s 8ms/step - loss: 3.9056 - mae: 3.9056\n",
            "Epoch 33/100\n",
            "1/1 [==============================] - 0s 4ms/step - loss: 3.8439 - mae: 3.8439\n",
            "Epoch 34/100\n",
            "1/1 [==============================] - 0s 7ms/step - loss: 3.9155 - mae: 3.9155\n",
            "Epoch 35/100\n",
            "1/1 [==============================] - 0s 6ms/step - loss: 3.8514 - mae: 3.8514\n",
            "Epoch 36/100\n",
            "1/1 [==============================] - 0s 6ms/step - loss: 3.9004 - mae: 3.9004\n",
            "Epoch 37/100\n",
            "1/1 [==============================] - 0s 6ms/step - loss: 3.8592 - mae: 3.8592\n",
            "Epoch 38/100\n",
            "1/1 [==============================] - 0s 5ms/step - loss: 3.8742 - mae: 3.8742\n",
            "Epoch 39/100\n",
            "1/1 [==============================] - 0s 5ms/step - loss: 3.8671 - mae: 3.8671\n",
            "Epoch 40/100\n",
            "1/1 [==============================] - 0s 4ms/step - loss: 3.8479 - mae: 3.8479\n",
            "Epoch 41/100\n",
            "1/1 [==============================] - 0s 4ms/step - loss: 3.8750 - mae: 3.8750\n",
            "Epoch 42/100\n",
            "1/1 [==============================] - 0s 7ms/step - loss: 3.8214 - mae: 3.8214\n",
            "Epoch 43/100\n",
            "1/1 [==============================] - 0s 6ms/step - loss: 3.8893 - mae: 3.8893\n",
            "Epoch 44/100\n",
            "1/1 [==============================] - 0s 6ms/step - loss: 3.8214 - mae: 3.8214\n",
            "Epoch 45/100\n",
            "1/1 [==============================] - 0s 7ms/step - loss: 3.8774 - mae: 3.8774\n",
            "Epoch 46/100\n",
            "1/1 [==============================] - 0s 12ms/step - loss: 3.8293 - mae: 3.8293\n",
            "Epoch 47/100\n",
            "1/1 [==============================] - 0s 3ms/step - loss: 3.8509 - mae: 3.8509\n",
            "Epoch 48/100\n",
            "1/1 [==============================] - 0s 6ms/step - loss: 3.8374 - mae: 3.8374\n",
            "Epoch 49/100\n",
            "1/1 [==============================] - 0s 6ms/step - loss: 3.8243 - mae: 3.8243\n",
            "Epoch 50/100\n",
            "1/1 [==============================] - 0s 6ms/step - loss: 3.8455 - mae: 3.8455\n",
            "Epoch 51/100\n",
            "1/1 [==============================] - 0s 6ms/step - loss: 3.8013 - mae: 3.8013\n",
            "Epoch 52/100\n",
            "1/1 [==============================] - 0s 6ms/step - loss: 3.8610 - mae: 3.8610\n",
            "Epoch 53/100\n",
            "1/1 [==============================] - 0s 6ms/step - loss: 3.7925 - mae: 3.7925\n",
            "Epoch 54/100\n",
            "1/1 [==============================] - 0s 4ms/step - loss: 3.8531 - mae: 3.8531\n",
            "Epoch 55/100\n",
            "1/1 [==============================] - 0s 5ms/step - loss: 3.8006 - mae: 3.8006\n",
            "Epoch 56/100\n",
            "1/1 [==============================] - 0s 6ms/step - loss: 3.8262 - mae: 3.8262\n",
            "Epoch 57/100\n",
            "1/1 [==============================] - 0s 3ms/step - loss: 3.8089 - mae: 3.8089\n",
            "Epoch 58/100\n",
            "1/1 [==============================] - 0s 6ms/step - loss: 3.7994 - mae: 3.7994\n",
            "Epoch 59/100\n",
            "1/1 [==============================] - 0s 6ms/step - loss: 3.8177 - mae: 3.8177\n",
            "Epoch 60/100\n",
            "1/1 [==============================] - 0s 4ms/step - loss: 3.7790 - mae: 3.7790\n",
            "Epoch 61/100\n",
            "1/1 [==============================] - 0s 6ms/step - loss: 3.8329 - mae: 3.8329\n",
            "Epoch 62/100\n",
            "1/1 [==============================] - 0s 4ms/step - loss: 3.7646 - mae: 3.7646\n",
            "Epoch 63/100\n",
            "1/1 [==============================] - 0s 5ms/step - loss: 3.8275 - mae: 3.8275\n",
            "Epoch 64/100\n",
            "1/1 [==============================] - 0s 7ms/step - loss: 3.7730 - mae: 3.7730\n",
            "Epoch 65/100\n",
            "1/1 [==============================] - 0s 4ms/step - loss: 3.8003 - mae: 3.8003\n",
            "Epoch 66/100\n",
            "1/1 [==============================] - 0s 6ms/step - loss: 3.7815 - mae: 3.7815\n",
            "Epoch 67/100\n",
            "1/1 [==============================] - 0s 7ms/step - loss: 3.7731 - mae: 3.7731\n",
            "Epoch 68/100\n",
            "1/1 [==============================] - 0s 4ms/step - loss: 3.7943 - mae: 3.7943\n",
            "Epoch 69/100\n",
            "1/1 [==============================] - 0s 8ms/step - loss: 3.7525 - mae: 3.7525\n",
            "Epoch 70/100\n",
            "1/1 [==============================] - 0s 4ms/step - loss: 3.8059 - mae: 3.8059\n",
            "Epoch 71/100\n",
            "1/1 [==============================] - 0s 7ms/step - loss: 3.7379 - mae: 3.7379\n",
            "Epoch 72/100\n",
            "1/1 [==============================] - 0s 4ms/step - loss: 3.8006 - mae: 3.8006\n",
            "Epoch 73/100\n",
            "1/1 [==============================] - 0s 4ms/step - loss: 3.7465 - mae: 3.7465\n",
            "Epoch 74/100\n",
            "1/1 [==============================] - 0s 8ms/step - loss: 3.7731 - mae: 3.7731\n",
            "Epoch 75/100\n",
            "1/1 [==============================] - 0s 7ms/step - loss: 3.7552 - mae: 3.7552\n",
            "Epoch 76/100\n",
            "1/1 [==============================] - 0s 9ms/step - loss: 3.7469 - mae: 3.7469\n",
            "Epoch 77/100\n",
            "1/1 [==============================] - 0s 19ms/step - loss: 3.7711 - mae: 3.7711\n",
            "Epoch 78/100\n",
            "1/1 [==============================] - 0s 5ms/step - loss: 3.7246 - mae: 3.7246\n",
            "Epoch 79/100\n",
            "1/1 [==============================] - 0s 3ms/step - loss: 3.7799 - mae: 3.7799\n",
            "Epoch 80/100\n",
            "1/1 [==============================] - 0s 4ms/step - loss: 3.7122 - mae: 3.7122\n",
            "Epoch 81/100\n",
            "1/1 [==============================] - 0s 6ms/step - loss: 3.7723 - mae: 3.7723\n",
            "Epoch 82/100\n",
            "1/1 [==============================] - 0s 7ms/step - loss: 3.7209 - mae: 3.7209\n",
            "Epoch 83/100\n",
            "1/1 [==============================] - 0s 4ms/step - loss: 3.7445 - mae: 3.7445\n",
            "Epoch 84/100\n",
            "1/1 [==============================] - 0s 6ms/step - loss: 3.7298 - mae: 3.7298\n",
            "Epoch 85/100\n",
            "1/1 [==============================] - 0s 4ms/step - loss: 3.7215 - mae: 3.7215\n",
            "Epoch 86/100\n",
            "1/1 [==============================] - 0s 7ms/step - loss: 3.7460 - mae: 3.7460\n",
            "Epoch 87/100\n",
            "1/1 [==============================] - 0s 4ms/step - loss: 3.6952 - mae: 3.6952\n",
            "Epoch 88/100\n",
            "1/1 [==============================] - 0s 4ms/step - loss: 3.7550 - mae: 3.7550\n",
            "Epoch 89/100\n",
            "1/1 [==============================] - 0s 7ms/step - loss: 3.6875 - mae: 3.6875\n",
            "Epoch 90/100\n",
            "1/1 [==============================] - 0s 4ms/step - loss: 3.7426 - mae: 3.7426\n",
            "Epoch 91/100\n",
            "1/1 [==============================] - 0s 8ms/step - loss: 3.6965 - mae: 3.6965\n",
            "Epoch 92/100\n",
            "1/1 [==============================] - 0s 4ms/step - loss: 3.7145 - mae: 3.7145\n",
            "Epoch 93/100\n",
            "1/1 [==============================] - 0s 7ms/step - loss: 3.7067 - mae: 3.7067\n",
            "Epoch 94/100\n",
            "1/1 [==============================] - 0s 4ms/step - loss: 3.6929 - mae: 3.6929\n",
            "Epoch 95/100\n",
            "1/1 [==============================] - 0s 4ms/step - loss: 3.7219 - mae: 3.7219\n",
            "Epoch 96/100\n",
            "1/1 [==============================] - 0s 7ms/step - loss: 3.6646 - mae: 3.6646\n",
            "Epoch 97/100\n",
            "1/1 [==============================] - 0s 3ms/step - loss: 3.7311 - mae: 3.7311\n",
            "Epoch 98/100\n",
            "1/1 [==============================] - 0s 4ms/step - loss: 3.6638 - mae: 3.6638\n",
            "Epoch 99/100\n",
            "1/1 [==============================] - 0s 7ms/step - loss: 3.7117 - mae: 3.7117\n",
            "Epoch 100/100\n",
            "1/1 [==============================] - 0s 3ms/step - loss: 3.6729 - mae: 3.6729\n"
          ]
        },
        {
          "output_type": "execute_result",
          "data": {
            "text/plain": [
              "<keras.callbacks.History at 0x7f7f26110310>"
            ]
          },
          "metadata": {},
          "execution_count": 8
        }
      ]
    },
    {
      "cell_type": "code",
      "metadata": {
        "colab": {
          "base_uri": "https://localhost:8080/"
        },
        "id": "U1UFX6FRSkOw",
        "outputId": "00bae502-6d9c-4189-e2be-d07c0c188af7"
      },
      "source": [
        "# Let'stry to make a production\n",
        "model.predict([17.0])"
      ],
      "execution_count": 9,
      "outputs": [
        {
          "output_type": "execute_result",
          "data": {
            "text/plain": [
              "array([[31.422806]], dtype=float32)"
            ]
          },
          "metadata": {},
          "execution_count": 9
        }
      ]
    },
    {
      "cell_type": "code",
      "metadata": {
        "colab": {
          "base_uri": "https://localhost:8080/"
        },
        "id": "rt5W6tc7TALE",
        "outputId": "738f5a5b-8239-4f9f-a126-41940966f7e7"
      },
      "source": [
        "# An other change to our model()\n",
        " #1. Create a model again\n",
        "model = tf.keras.Sequential([\n",
        "    tf.keras.layers.Dense(500, activation=None),\n",
        "    tf.keras.layers.Dense(1)\n",
        "    \n",
        "])\n",
        "\n",
        " #2. recompile the model\n",
        "model.compile(loss=\"mae\",\n",
        "              optimizer=tf.keras.optimizers.SGD(), \n",
        "              metrics=[\"mae\"])\n",
        "\n",
        "\n",
        "# 3 Fit the model and keeping the epochs\n",
        "model.fit(tf.expand_dims(X,axis=-1), y,epochs=100)"
      ],
      "execution_count": 10,
      "outputs": [
        {
          "output_type": "stream",
          "name": "stdout",
          "text": [
            "Epoch 1/100\n",
            "1/1 [==============================] - 0s 237ms/step - loss: 13.2275 - mae: 13.2275\n",
            "Epoch 2/100\n",
            "1/1 [==============================] - 0s 4ms/step - loss: 12.7091 - mae: 12.7091\n",
            "Epoch 3/100\n",
            "1/1 [==============================] - 0s 7ms/step - loss: 12.1880 - mae: 12.1880\n",
            "Epoch 4/100\n",
            "1/1 [==============================] - 0s 4ms/step - loss: 11.6613 - mae: 11.6613\n",
            "Epoch 5/100\n",
            "1/1 [==============================] - 0s 4ms/step - loss: 11.1265 - mae: 11.1265\n",
            "Epoch 6/100\n",
            "1/1 [==============================] - 0s 7ms/step - loss: 10.5806 - mae: 10.5806\n",
            "Epoch 7/100\n",
            "1/1 [==============================] - 0s 7ms/step - loss: 10.0210 - mae: 10.0210\n",
            "Epoch 8/100\n",
            "1/1 [==============================] - 0s 4ms/step - loss: 9.4447 - mae: 9.4447\n",
            "Epoch 9/100\n",
            "1/1 [==============================] - 0s 5ms/step - loss: 8.8488 - mae: 8.8488\n",
            "Epoch 10/100\n",
            "1/1 [==============================] - 0s 4ms/step - loss: 8.2303 - mae: 8.2303\n",
            "Epoch 11/100\n",
            "1/1 [==============================] - 0s 5ms/step - loss: 7.5859 - mae: 7.5859\n",
            "Epoch 12/100\n",
            "1/1 [==============================] - 0s 3ms/step - loss: 7.2156 - mae: 7.2156\n",
            "Epoch 13/100\n",
            "1/1 [==============================] - 0s 8ms/step - loss: 7.1943 - mae: 7.1943\n",
            "Epoch 14/100\n",
            "1/1 [==============================] - 0s 3ms/step - loss: 7.1730 - mae: 7.1730\n",
            "Epoch 15/100\n",
            "1/1 [==============================] - 0s 3ms/step - loss: 7.1517 - mae: 7.1517\n",
            "Epoch 16/100\n",
            "1/1 [==============================] - 0s 3ms/step - loss: 7.1303 - mae: 7.1303\n",
            "Epoch 17/100\n",
            "1/1 [==============================] - 0s 5ms/step - loss: 7.1088 - mae: 7.1088\n",
            "Epoch 18/100\n",
            "1/1 [==============================] - 0s 4ms/step - loss: 7.0873 - mae: 7.0873\n",
            "Epoch 19/100\n",
            "1/1 [==============================] - 0s 8ms/step - loss: 7.0657 - mae: 7.0657\n",
            "Epoch 20/100\n",
            "1/1 [==============================] - 0s 3ms/step - loss: 7.0441 - mae: 7.0441\n",
            "Epoch 21/100\n",
            "1/1 [==============================] - 0s 3ms/step - loss: 7.0224 - mae: 7.0224\n",
            "Epoch 22/100\n",
            "1/1 [==============================] - 0s 3ms/step - loss: 7.0006 - mae: 7.0006\n",
            "Epoch 23/100\n",
            "1/1 [==============================] - 0s 8ms/step - loss: 6.9787 - mae: 6.9787\n",
            "Epoch 24/100\n",
            "1/1 [==============================] - 0s 3ms/step - loss: 6.9567 - mae: 6.9567\n",
            "Epoch 25/100\n",
            "1/1 [==============================] - 0s 4ms/step - loss: 6.9347 - mae: 6.9347\n",
            "Epoch 26/100\n",
            "1/1 [==============================] - 0s 3ms/step - loss: 6.9125 - mae: 6.9125\n",
            "Epoch 27/100\n",
            "1/1 [==============================] - 0s 6ms/step - loss: 6.8903 - mae: 6.8903\n",
            "Epoch 28/100\n",
            "1/1 [==============================] - 0s 3ms/step - loss: 6.8680 - mae: 6.8680\n",
            "Epoch 29/100\n",
            "1/1 [==============================] - 0s 8ms/step - loss: 6.8455 - mae: 6.8455\n",
            "Epoch 30/100\n",
            "1/1 [==============================] - 0s 3ms/step - loss: 6.8230 - mae: 6.8230\n",
            "Epoch 31/100\n",
            "1/1 [==============================] - 0s 3ms/step - loss: 6.8003 - mae: 6.8003\n",
            "Epoch 32/100\n",
            "1/1 [==============================] - 0s 6ms/step - loss: 6.7776 - mae: 6.7776\n",
            "Epoch 33/100\n",
            "1/1 [==============================] - 0s 3ms/step - loss: 6.7547 - mae: 6.7547\n",
            "Epoch 34/100\n",
            "1/1 [==============================] - 0s 5ms/step - loss: 6.7434 - mae: 6.7434\n",
            "Epoch 35/100\n",
            "1/1 [==============================] - 0s 4ms/step - loss: 6.7255 - mae: 6.7255\n",
            "Epoch 36/100\n",
            "1/1 [==============================] - 0s 4ms/step - loss: 6.7028 - mae: 6.7028\n",
            "Epoch 37/100\n",
            "1/1 [==============================] - 0s 9ms/step - loss: 6.6801 - mae: 6.6801\n",
            "Epoch 38/100\n",
            "1/1 [==============================] - 0s 3ms/step - loss: 6.6571 - mae: 6.6571\n",
            "Epoch 39/100\n",
            "1/1 [==============================] - 0s 3ms/step - loss: 6.6341 - mae: 6.6341\n",
            "Epoch 40/100\n",
            "1/1 [==============================] - 0s 7ms/step - loss: 6.6109 - mae: 6.6109\n",
            "Epoch 41/100\n",
            "1/1 [==============================] - 0s 3ms/step - loss: 6.5876 - mae: 6.5876\n",
            "Epoch 42/100\n",
            "1/1 [==============================] - 0s 3ms/step - loss: 6.5641 - mae: 6.5641\n",
            "Epoch 43/100\n",
            "1/1 [==============================] - 0s 8ms/step - loss: 6.5404 - mae: 6.5404\n",
            "Epoch 44/100\n",
            "1/1 [==============================] - 0s 3ms/step - loss: 6.5166 - mae: 6.5166\n",
            "Epoch 45/100\n",
            "1/1 [==============================] - 0s 3ms/step - loss: 6.4927 - mae: 6.4927\n",
            "Epoch 46/100\n",
            "1/1 [==============================] - 0s 3ms/step - loss: 6.4686 - mae: 6.4686\n",
            "Epoch 47/100\n",
            "1/1 [==============================] - 0s 9ms/step - loss: 6.4443 - mae: 6.4443\n",
            "Epoch 48/100\n",
            "1/1 [==============================] - 0s 3ms/step - loss: 6.4198 - mae: 6.4198\n",
            "Epoch 49/100\n",
            "1/1 [==============================] - 0s 4ms/step - loss: 6.3952 - mae: 6.3952\n",
            "Epoch 50/100\n",
            "1/1 [==============================] - 0s 8ms/step - loss: 6.3704 - mae: 6.3704\n",
            "Epoch 51/100\n",
            "1/1 [==============================] - 0s 3ms/step - loss: 6.3453 - mae: 6.3453\n",
            "Epoch 52/100\n",
            "1/1 [==============================] - 0s 3ms/step - loss: 6.3202 - mae: 6.3202\n",
            "Epoch 53/100\n",
            "1/1 [==============================] - 0s 3ms/step - loss: 6.2948 - mae: 6.2948\n",
            "Epoch 54/100\n",
            "1/1 [==============================] - 0s 10ms/step - loss: 6.2692 - mae: 6.2692\n",
            "Epoch 55/100\n",
            "1/1 [==============================] - 0s 3ms/step - loss: 6.2434 - mae: 6.2434\n",
            "Epoch 56/100\n",
            "1/1 [==============================] - 0s 3ms/step - loss: 6.2354 - mae: 6.2354\n",
            "Epoch 57/100\n",
            "1/1 [==============================] - 0s 3ms/step - loss: 6.2144 - mae: 6.2144\n",
            "Epoch 58/100\n",
            "1/1 [==============================] - 0s 4ms/step - loss: 6.1886 - mae: 6.1886\n",
            "Epoch 59/100\n",
            "1/1 [==============================] - 0s 7ms/step - loss: 6.1625 - mae: 6.1625\n",
            "Epoch 60/100\n",
            "1/1 [==============================] - 0s 3ms/step - loss: 6.1363 - mae: 6.1363\n",
            "Epoch 61/100\n",
            "1/1 [==============================] - 0s 3ms/step - loss: 6.1098 - mae: 6.1098\n",
            "Epoch 62/100\n",
            "1/1 [==============================] - 0s 7ms/step - loss: 6.0831 - mae: 6.0831\n",
            "Epoch 63/100\n",
            "1/1 [==============================] - 0s 3ms/step - loss: 6.0561 - mae: 6.0561\n",
            "Epoch 64/100\n",
            "1/1 [==============================] - 0s 8ms/step - loss: 6.0289 - mae: 6.0289\n",
            "Epoch 65/100\n",
            "1/1 [==============================] - 0s 3ms/step - loss: 6.0015 - mae: 6.0015\n",
            "Epoch 66/100\n",
            "1/1 [==============================] - 0s 43ms/step - loss: 5.9738 - mae: 5.9738\n",
            "Epoch 67/100\n",
            "1/1 [==============================] - 0s 6ms/step - loss: 5.9459 - mae: 5.9459\n",
            "Epoch 68/100\n",
            "1/1 [==============================] - 0s 5ms/step - loss: 5.9177 - mae: 5.9177\n",
            "Epoch 69/100\n",
            "1/1 [==============================] - 0s 5ms/step - loss: 5.8892 - mae: 5.8892\n",
            "Epoch 70/100\n",
            "1/1 [==============================] - 0s 4ms/step - loss: 5.8605 - mae: 5.8605\n",
            "Epoch 71/100\n",
            "1/1 [==============================] - 0s 4ms/step - loss: 5.8315 - mae: 5.8315\n",
            "Epoch 72/100\n",
            "1/1 [==============================] - 0s 5ms/step - loss: 5.8022 - mae: 5.8022\n",
            "Epoch 73/100\n",
            "1/1 [==============================] - 0s 5ms/step - loss: 5.7793 - mae: 5.7793\n",
            "Epoch 74/100\n",
            "1/1 [==============================] - 0s 4ms/step - loss: 5.7736 - mae: 5.7736\n",
            "Epoch 75/100\n",
            "1/1 [==============================] - 0s 4ms/step - loss: 5.8845 - mae: 5.8845\n",
            "Epoch 76/100\n",
            "1/1 [==============================] - 0s 4ms/step - loss: 5.7077 - mae: 5.7077\n",
            "Epoch 77/100\n",
            "1/1 [==============================] - 0s 4ms/step - loss: 5.6774 - mae: 5.6774\n",
            "Epoch 78/100\n",
            "1/1 [==============================] - 0s 4ms/step - loss: 5.6469 - mae: 5.6469\n",
            "Epoch 79/100\n",
            "1/1 [==============================] - 0s 3ms/step - loss: 5.6160 - mae: 5.6160\n",
            "Epoch 80/100\n",
            "1/1 [==============================] - 0s 3ms/step - loss: 5.5848 - mae: 5.5848\n",
            "Epoch 81/100\n",
            "1/1 [==============================] - 0s 4ms/step - loss: 5.5533 - mae: 5.5533\n",
            "Epoch 82/100\n",
            "1/1 [==============================] - 0s 3ms/step - loss: 5.5215 - mae: 5.5215\n",
            "Epoch 83/100\n",
            "1/1 [==============================] - 0s 3ms/step - loss: 5.4893 - mae: 5.4893\n",
            "Epoch 84/100\n",
            "1/1 [==============================] - 0s 8ms/step - loss: 5.4568 - mae: 5.4568\n",
            "Epoch 85/100\n",
            "1/1 [==============================] - 0s 5ms/step - loss: 5.4351 - mae: 5.4351\n",
            "Epoch 86/100\n",
            "1/1 [==============================] - 0s 3ms/step - loss: 5.4672 - mae: 5.4672\n",
            "Epoch 87/100\n",
            "1/1 [==============================] - 0s 3ms/step - loss: 5.5443 - mae: 5.5443\n",
            "Epoch 88/100\n",
            "1/1 [==============================] - 0s 3ms/step - loss: 5.3518 - mae: 5.3518\n",
            "Epoch 89/100\n",
            "1/1 [==============================] - 0s 4ms/step - loss: 5.3180 - mae: 5.3180\n",
            "Epoch 90/100\n",
            "1/1 [==============================] - 0s 3ms/step - loss: 5.2839 - mae: 5.2839\n",
            "Epoch 91/100\n",
            "1/1 [==============================] - 0s 4ms/step - loss: 5.2494 - mae: 5.2494\n",
            "Epoch 92/100\n",
            "1/1 [==============================] - 0s 5ms/step - loss: 5.2145 - mae: 5.2145\n",
            "Epoch 93/100\n",
            "1/1 [==============================] - 0s 3ms/step - loss: 5.1792 - mae: 5.1792\n",
            "Epoch 94/100\n",
            "1/1 [==============================] - 0s 6ms/step - loss: 5.1435 - mae: 5.1435\n",
            "Epoch 95/100\n",
            "1/1 [==============================] - 0s 3ms/step - loss: 5.1074 - mae: 5.1074\n",
            "Epoch 96/100\n",
            "1/1 [==============================] - 0s 3ms/step - loss: 5.0792 - mae: 5.0792\n",
            "Epoch 97/100\n",
            "1/1 [==============================] - 0s 4ms/step - loss: 5.1688 - mae: 5.1688\n",
            "Epoch 98/100\n",
            "1/1 [==============================] - 0s 3ms/step - loss: 5.1918 - mae: 5.1918\n",
            "Epoch 99/100\n",
            "1/1 [==============================] - 0s 4ms/step - loss: 4.9902 - mae: 4.9902\n",
            "Epoch 100/100\n",
            "1/1 [==============================] - 0s 4ms/step - loss: 4.9525 - mae: 4.9525\n"
          ]
        },
        {
          "output_type": "execute_result",
          "data": {
            "text/plain": [
              "<keras.callbacks.History at 0x7f7f25811b90>"
            ]
          },
          "metadata": {},
          "execution_count": 10
        }
      ]
    },
    {
      "cell_type": "code",
      "metadata": {
        "colab": {
          "base_uri": "https://localhost:8080/"
        },
        "id": "lHu0L04XWMTk",
        "outputId": "d101cc5a-5ed0-4dbd-bf90-aa0158c8df95"
      },
      "source": [
        "# Let's try an other prediction\n",
        "model.predict([17.0])"
      ],
      "execution_count": 11,
      "outputs": [
        {
          "output_type": "execute_result",
          "data": {
            "text/plain": [
              "array([[29.397879]], dtype=float32)"
            ]
          },
          "metadata": {},
          "execution_count": 11
        }
      ]
    },
    {
      "cell_type": "code",
      "metadata": {
        "colab": {
          "base_uri": "https://localhost:8080/"
        },
        "id": "AGdrN1HsRT5Z",
        "outputId": "5d4a8566-c4fe-49fd-c2d2-6b4c200cb0c5"
      },
      "source": [
        "# An other change to our model()\n",
        " #1. Create a model again\n",
        "model = tf.keras.Sequential([\n",
        "    tf.keras.layers.Dense(500, activation=None),\n",
        "    tf.keras.layers.Dense(1)\n",
        "    \n",
        "])\n",
        "\n",
        " #2. recompile the model\n",
        "model.compile(loss=\"mae\",\n",
        "              optimizer=tf.keras.optimizers.Adam(), \n",
        "              metrics=[\"mae\"])\n",
        "\n",
        "\n",
        "# 3 Fit the model and keeping the epochs\n",
        "model.fit(tf.expand_dims(X,axis=-1), y,epochs=100)"
      ],
      "execution_count": 12,
      "outputs": [
        {
          "output_type": "stream",
          "name": "stdout",
          "text": [
            "Epoch 1/100\n",
            "1/1 [==============================] - 0s 306ms/step - loss: 13.6615 - mae: 13.6615\n",
            "Epoch 2/100\n",
            "1/1 [==============================] - 0s 4ms/step - loss: 13.4531 - mae: 13.4531\n",
            "Epoch 3/100\n",
            "1/1 [==============================] - 0s 11ms/step - loss: 13.2451 - mae: 13.2451\n",
            "Epoch 4/100\n",
            "1/1 [==============================] - 0s 5ms/step - loss: 13.0372 - mae: 13.0372\n",
            "Epoch 5/100\n",
            "1/1 [==============================] - 0s 5ms/step - loss: 12.8294 - mae: 12.8294\n",
            "Epoch 6/100\n",
            "1/1 [==============================] - 0s 6ms/step - loss: 12.6215 - mae: 12.6215\n",
            "Epoch 7/100\n",
            "1/1 [==============================] - 0s 10ms/step - loss: 12.4135 - mae: 12.4135\n",
            "Epoch 8/100\n",
            "1/1 [==============================] - 0s 8ms/step - loss: 12.2053 - mae: 12.2053\n",
            "Epoch 9/100\n",
            "1/1 [==============================] - 0s 11ms/step - loss: 11.9967 - mae: 11.9967\n",
            "Epoch 10/100\n",
            "1/1 [==============================] - 0s 4ms/step - loss: 11.7876 - mae: 11.7876\n",
            "Epoch 11/100\n",
            "1/1 [==============================] - 0s 4ms/step - loss: 11.5780 - mae: 11.5780\n",
            "Epoch 12/100\n",
            "1/1 [==============================] - 0s 4ms/step - loss: 11.3677 - mae: 11.3677\n",
            "Epoch 13/100\n",
            "1/1 [==============================] - 0s 5ms/step - loss: 11.1565 - mae: 11.1565\n",
            "Epoch 14/100\n",
            "1/1 [==============================] - 0s 5ms/step - loss: 10.9443 - mae: 10.9443\n",
            "Epoch 15/100\n",
            "1/1 [==============================] - 0s 5ms/step - loss: 10.7310 - mae: 10.7310\n",
            "Epoch 16/100\n",
            "1/1 [==============================] - 0s 5ms/step - loss: 10.5165 - mae: 10.5165\n",
            "Epoch 17/100\n",
            "1/1 [==============================] - 0s 7ms/step - loss: 10.3005 - mae: 10.3005\n",
            "Epoch 18/100\n",
            "1/1 [==============================] - 0s 4ms/step - loss: 10.0829 - mae: 10.0829\n",
            "Epoch 19/100\n",
            "1/1 [==============================] - 0s 8ms/step - loss: 9.8635 - mae: 9.8635\n",
            "Epoch 20/100\n",
            "1/1 [==============================] - 0s 9ms/step - loss: 9.6422 - mae: 9.6422\n",
            "Epoch 21/100\n",
            "1/1 [==============================] - 0s 4ms/step - loss: 9.4188 - mae: 9.4188\n",
            "Epoch 22/100\n",
            "1/1 [==============================] - 0s 6ms/step - loss: 9.1931 - mae: 9.1931\n",
            "Epoch 23/100\n",
            "1/1 [==============================] - 0s 12ms/step - loss: 8.9649 - mae: 8.9649\n",
            "Epoch 24/100\n",
            "1/1 [==============================] - 0s 7ms/step - loss: 8.7342 - mae: 8.7342\n",
            "Epoch 25/100\n",
            "1/1 [==============================] - 0s 6ms/step - loss: 8.5006 - mae: 8.5006\n",
            "Epoch 26/100\n",
            "1/1 [==============================] - 0s 6ms/step - loss: 8.2641 - mae: 8.2641\n",
            "Epoch 27/100\n",
            "1/1 [==============================] - 0s 4ms/step - loss: 8.0244 - mae: 8.0244\n",
            "Epoch 28/100\n",
            "1/1 [==============================] - 0s 7ms/step - loss: 7.7815 - mae: 7.7815\n",
            "Epoch 29/100\n",
            "1/1 [==============================] - 0s 3ms/step - loss: 7.5351 - mae: 7.5351\n",
            "Epoch 30/100\n",
            "1/1 [==============================] - 0s 3ms/step - loss: 7.2850 - mae: 7.2850\n",
            "Epoch 31/100\n",
            "1/1 [==============================] - 0s 3ms/step - loss: 7.0312 - mae: 7.0312\n",
            "Epoch 32/100\n",
            "1/1 [==============================] - 0s 3ms/step - loss: 6.7978 - mae: 6.7978\n",
            "Epoch 33/100\n",
            "1/1 [==============================] - 0s 3ms/step - loss: 6.7685 - mae: 6.7685\n",
            "Epoch 34/100\n",
            "1/1 [==============================] - 0s 5ms/step - loss: 6.7394 - mae: 6.7394\n",
            "Epoch 35/100\n",
            "1/1 [==============================] - 0s 4ms/step - loss: 6.7129 - mae: 6.7129\n",
            "Epoch 36/100\n",
            "1/1 [==============================] - 0s 3ms/step - loss: 6.8003 - mae: 6.8003\n",
            "Epoch 37/100\n",
            "1/1 [==============================] - 0s 4ms/step - loss: 6.8620 - mae: 6.8620\n",
            "Epoch 38/100\n",
            "1/1 [==============================] - 0s 5ms/step - loss: 6.9002 - mae: 6.9002\n",
            "Epoch 39/100\n",
            "1/1 [==============================] - 0s 4ms/step - loss: 6.9173 - mae: 6.9173\n",
            "Epoch 40/100\n",
            "1/1 [==============================] - 0s 3ms/step - loss: 6.9153 - mae: 6.9153\n",
            "Epoch 41/100\n",
            "1/1 [==============================] - 0s 5ms/step - loss: 6.8963 - mae: 6.8963\n",
            "Epoch 42/100\n",
            "1/1 [==============================] - 0s 4ms/step - loss: 6.8621 - mae: 6.8621\n",
            "Epoch 43/100\n",
            "1/1 [==============================] - 0s 4ms/step - loss: 6.8144 - mae: 6.8144\n",
            "Epoch 44/100\n",
            "1/1 [==============================] - 0s 4ms/step - loss: 6.7547 - mae: 6.7547\n",
            "Epoch 45/100\n",
            "1/1 [==============================] - 0s 3ms/step - loss: 6.6846 - mae: 6.6846\n",
            "Epoch 46/100\n",
            "1/1 [==============================] - 0s 6ms/step - loss: 6.6053 - mae: 6.6053\n",
            "Epoch 47/100\n",
            "1/1 [==============================] - 0s 6ms/step - loss: 6.5180 - mae: 6.5180\n",
            "Epoch 48/100\n",
            "1/1 [==============================] - 0s 4ms/step - loss: 6.4423 - mae: 6.4423\n",
            "Epoch 49/100\n",
            "1/1 [==============================] - 0s 4ms/step - loss: 6.4262 - mae: 6.4262\n",
            "Epoch 50/100\n",
            "1/1 [==============================] - 0s 5ms/step - loss: 6.4090 - mae: 6.4090\n",
            "Epoch 51/100\n",
            "1/1 [==============================] - 0s 3ms/step - loss: 6.3909 - mae: 6.3909\n",
            "Epoch 52/100\n",
            "1/1 [==============================] - 0s 3ms/step - loss: 6.3719 - mae: 6.3719\n",
            "Epoch 53/100\n",
            "1/1 [==============================] - 0s 4ms/step - loss: 6.3520 - mae: 6.3520\n",
            "Epoch 54/100\n",
            "1/1 [==============================] - 0s 5ms/step - loss: 6.3314 - mae: 6.3314\n",
            "Epoch 55/100\n",
            "1/1 [==============================] - 0s 5ms/step - loss: 6.3101 - mae: 6.3101\n",
            "Epoch 56/100\n",
            "1/1 [==============================] - 0s 6ms/step - loss: 6.2880 - mae: 6.2880\n",
            "Epoch 57/100\n",
            "1/1 [==============================] - 0s 3ms/step - loss: 6.2652 - mae: 6.2652\n",
            "Epoch 58/100\n",
            "1/1 [==============================] - 0s 3ms/step - loss: 6.2417 - mae: 6.2417\n",
            "Epoch 59/100\n",
            "1/1 [==============================] - 0s 8ms/step - loss: 6.2175 - mae: 6.2175\n",
            "Epoch 60/100\n",
            "1/1 [==============================] - 0s 3ms/step - loss: 6.1927 - mae: 6.1927\n",
            "Epoch 61/100\n",
            "1/1 [==============================] - 0s 4ms/step - loss: 6.1787 - mae: 6.1787\n",
            "Epoch 62/100\n",
            "1/1 [==============================] - 0s 5ms/step - loss: 6.1390 - mae: 6.1390\n",
            "Epoch 63/100\n",
            "1/1 [==============================] - 0s 9ms/step - loss: 6.1103 - mae: 6.1103\n",
            "Epoch 64/100\n",
            "1/1 [==============================] - 0s 7ms/step - loss: 6.0811 - mae: 6.0811\n",
            "Epoch 65/100\n",
            "1/1 [==============================] - 0s 9ms/step - loss: 6.0514 - mae: 6.0514\n",
            "Epoch 66/100\n",
            "1/1 [==============================] - 0s 19ms/step - loss: 6.0213 - mae: 6.0213\n",
            "Epoch 67/100\n",
            "1/1 [==============================] - 0s 5ms/step - loss: 5.9907 - mae: 5.9907\n",
            "Epoch 68/100\n",
            "1/1 [==============================] - 0s 8ms/step - loss: 5.9595 - mae: 5.9595\n",
            "Epoch 69/100\n",
            "1/1 [==============================] - 0s 5ms/step - loss: 5.9279 - mae: 5.9279\n",
            "Epoch 70/100\n",
            "1/1 [==============================] - 0s 5ms/step - loss: 5.8957 - mae: 5.8957\n",
            "Epoch 71/100\n",
            "1/1 [==============================] - 0s 6ms/step - loss: 5.8630 - mae: 5.8630\n",
            "Epoch 72/100\n",
            "1/1 [==============================] - 0s 5ms/step - loss: 5.8297 - mae: 5.8297\n",
            "Epoch 73/100\n",
            "1/1 [==============================] - 0s 4ms/step - loss: 5.7959 - mae: 5.7959\n",
            "Epoch 74/100\n",
            "1/1 [==============================] - 0s 5ms/step - loss: 5.7615 - mae: 5.7615\n",
            "Epoch 75/100\n",
            "1/1 [==============================] - 0s 6ms/step - loss: 5.7264 - mae: 5.7264\n",
            "Epoch 76/100\n",
            "1/1 [==============================] - 0s 11ms/step - loss: 5.6908 - mae: 5.6908\n",
            "Epoch 77/100\n",
            "1/1 [==============================] - 0s 7ms/step - loss: 5.6546 - mae: 5.6546\n",
            "Epoch 78/100\n",
            "1/1 [==============================] - 0s 12ms/step - loss: 5.6177 - mae: 5.6177\n",
            "Epoch 79/100\n",
            "1/1 [==============================] - 0s 9ms/step - loss: 5.5802 - mae: 5.5802\n",
            "Epoch 80/100\n",
            "1/1 [==============================] - 0s 13ms/step - loss: 5.5420 - mae: 5.5420\n",
            "Epoch 81/100\n",
            "1/1 [==============================] - 0s 8ms/step - loss: 5.5127 - mae: 5.5127\n",
            "Epoch 82/100\n",
            "1/1 [==============================] - 0s 6ms/step - loss: 5.4809 - mae: 5.4809\n",
            "Epoch 83/100\n",
            "1/1 [==============================] - 0s 4ms/step - loss: 5.4323 - mae: 5.4323\n",
            "Epoch 84/100\n",
            "1/1 [==============================] - 0s 6ms/step - loss: 5.3968 - mae: 5.3968\n",
            "Epoch 85/100\n",
            "1/1 [==============================] - 0s 6ms/step - loss: 5.3601 - mae: 5.3601\n",
            "Epoch 86/100\n",
            "1/1 [==============================] - 0s 4ms/step - loss: 5.3223 - mae: 5.3223\n",
            "Epoch 87/100\n",
            "1/1 [==============================] - 0s 4ms/step - loss: 5.2834 - mae: 5.2834\n",
            "Epoch 88/100\n",
            "1/1 [==============================] - 0s 6ms/step - loss: 5.2434 - mae: 5.2434\n",
            "Epoch 89/100\n",
            "1/1 [==============================] - 0s 4ms/step - loss: 5.2024 - mae: 5.2024\n",
            "Epoch 90/100\n",
            "1/1 [==============================] - 0s 4ms/step - loss: 5.1603 - mae: 5.1603\n",
            "Epoch 91/100\n",
            "1/1 [==============================] - 0s 5ms/step - loss: 5.1204 - mae: 5.1204\n",
            "Epoch 92/100\n",
            "1/1 [==============================] - 0s 10ms/step - loss: 5.0764 - mae: 5.0764\n",
            "Epoch 93/100\n",
            "1/1 [==============================] - 0s 10ms/step - loss: 5.0343 - mae: 5.0343\n",
            "Epoch 94/100\n",
            "1/1 [==============================] - 0s 7ms/step - loss: 4.9910 - mae: 4.9910\n",
            "Epoch 95/100\n",
            "1/1 [==============================] - 0s 19ms/step - loss: 4.9464 - mae: 4.9464\n",
            "Epoch 96/100\n",
            "1/1 [==============================] - 0s 4ms/step - loss: 4.9006 - mae: 4.9006\n",
            "Epoch 97/100\n",
            "1/1 [==============================] - 0s 4ms/step - loss: 4.8535 - mae: 4.8535\n",
            "Epoch 98/100\n",
            "1/1 [==============================] - 0s 4ms/step - loss: 4.8053 - mae: 4.8053\n",
            "Epoch 99/100\n",
            "1/1 [==============================] - 0s 9ms/step - loss: 4.7664 - mae: 4.7664\n",
            "Epoch 100/100\n",
            "1/1 [==============================] - 0s 5ms/step - loss: 4.7090 - mae: 4.7090\n"
          ]
        },
        {
          "output_type": "execute_result",
          "data": {
            "text/plain": [
              "<keras.callbacks.History at 0x7f7f22da2790>"
            ]
          },
          "metadata": {},
          "execution_count": 12
        }
      ]
    },
    {
      "cell_type": "code",
      "metadata": {
        "colab": {
          "base_uri": "https://localhost:8080/"
        },
        "id": "f3FwxQVNRwwQ",
        "outputId": "89860fc2-1ff8-4698-d6d8-42dab66720d9"
      },
      "source": [
        "# An other change to our model()\n",
        " #1. Create a model again by increasing the learning rate of ADAM\n",
        "model = tf.keras.Sequential([\n",
        "    tf.keras.layers.Dense(500, activation=None),\n",
        "    tf.keras.layers.Dense(1)\n",
        "    \n",
        "])\n",
        "\n",
        " #2. recompile the model\n",
        "model.compile(loss=\"mae\",\n",
        "              optimizer=tf.keras.optimizers.Adam(learning_rate=0.01), \n",
        "              metrics=[\"mae\"])\n",
        "\n",
        "\n",
        "# 3 Fit the model and keeping the epochs\n",
        "model.fit(tf.expand_dims(X,axis=-1), y,epochs=100)"
      ],
      "execution_count": 13,
      "outputs": [
        {
          "output_type": "stream",
          "name": "stdout",
          "text": [
            "Epoch 1/100\n",
            "1/1 [==============================] - 0s 270ms/step - loss: 13.2369 - mae: 13.2369\n",
            "Epoch 2/100\n",
            "1/1 [==============================] - 0s 7ms/step - loss: 11.0169 - mae: 11.0169\n",
            "Epoch 3/100\n",
            "1/1 [==============================] - 0s 5ms/step - loss: 8.7629 - mae: 8.7629\n",
            "Epoch 4/100\n",
            "1/1 [==============================] - 0s 5ms/step - loss: 6.8271 - mae: 6.8271\n",
            "Epoch 5/100\n",
            "1/1 [==============================] - 0s 10ms/step - loss: 8.2052 - mae: 8.2052\n",
            "Epoch 6/100\n",
            "1/1 [==============================] - 0s 6ms/step - loss: 8.4396 - mae: 8.4396\n",
            "Epoch 7/100\n",
            "1/1 [==============================] - 0s 6ms/step - loss: 7.7324 - mae: 7.7324\n",
            "Epoch 8/100\n",
            "1/1 [==============================] - 0s 5ms/step - loss: 6.6791 - mae: 6.6791\n",
            "Epoch 9/100\n",
            "1/1 [==============================] - 0s 4ms/step - loss: 6.0136 - mae: 6.0136\n",
            "Epoch 10/100\n",
            "1/1 [==============================] - 0s 5ms/step - loss: 6.2309 - mae: 6.2309\n",
            "Epoch 11/100\n",
            "1/1 [==============================] - 0s 5ms/step - loss: 6.3349 - mae: 6.3349\n",
            "Epoch 12/100\n",
            "1/1 [==============================] - 0s 8ms/step - loss: 6.0594 - mae: 6.0594\n",
            "Epoch 13/100\n",
            "1/1 [==============================] - 0s 7ms/step - loss: 5.4684 - mae: 5.4684\n",
            "Epoch 14/100\n",
            "1/1 [==============================] - 0s 4ms/step - loss: 4.9273 - mae: 4.9273\n",
            "Epoch 15/100\n",
            "1/1 [==============================] - 0s 5ms/step - loss: 4.9474 - mae: 4.9474\n",
            "Epoch 16/100\n",
            "1/1 [==============================] - 0s 12ms/step - loss: 5.0014 - mae: 5.0014\n",
            "Epoch 17/100\n",
            "1/1 [==============================] - 0s 6ms/step - loss: 4.7516 - mae: 4.7516\n",
            "Epoch 18/100\n",
            "1/1 [==============================] - 0s 7ms/step - loss: 4.1222 - mae: 4.1222\n",
            "Epoch 19/100\n",
            "1/1 [==============================] - 0s 4ms/step - loss: 3.4591 - mae: 3.4591\n",
            "Epoch 20/100\n",
            "1/1 [==============================] - 0s 7ms/step - loss: 3.4584 - mae: 3.4584\n",
            "Epoch 21/100\n",
            "1/1 [==============================] - 0s 4ms/step - loss: 3.4343 - mae: 3.4343\n",
            "Epoch 22/100\n",
            "1/1 [==============================] - 0s 7ms/step - loss: 3.0222 - mae: 3.0222\n",
            "Epoch 23/100\n",
            "1/1 [==============================] - 0s 8ms/step - loss: 2.2358 - mae: 2.2358\n",
            "Epoch 24/100\n",
            "1/1 [==============================] - 0s 6ms/step - loss: 1.3090 - mae: 1.3090\n",
            "Epoch 25/100\n",
            "1/1 [==============================] - 0s 6ms/step - loss: 1.2573 - mae: 1.2573\n",
            "Epoch 26/100\n",
            "1/1 [==============================] - 0s 7ms/step - loss: 0.7305 - mae: 0.7305\n",
            "Epoch 27/100\n",
            "1/1 [==============================] - 0s 7ms/step - loss: 0.6631 - mae: 0.6631\n",
            "Epoch 28/100\n",
            "1/1 [==============================] - 0s 9ms/step - loss: 1.2736 - mae: 1.2736\n",
            "Epoch 29/100\n",
            "1/1 [==============================] - 0s 5ms/step - loss: 1.3310 - mae: 1.3310\n",
            "Epoch 30/100\n",
            "1/1 [==============================] - 0s 5ms/step - loss: 1.5906 - mae: 1.5906\n",
            "Epoch 31/100\n",
            "1/1 [==============================] - 0s 6ms/step - loss: 1.6748 - mae: 1.6748\n",
            "Epoch 32/100\n",
            "1/1 [==============================] - 0s 6ms/step - loss: 1.2462 - mae: 1.2462\n",
            "Epoch 33/100\n",
            "1/1 [==============================] - 0s 5ms/step - loss: 1.1370 - mae: 1.1370\n",
            "Epoch 34/100\n",
            "1/1 [==============================] - 0s 6ms/step - loss: 0.8392 - mae: 0.8392\n",
            "Epoch 35/100\n",
            "1/1 [==============================] - 0s 6ms/step - loss: 0.4079 - mae: 0.4079\n",
            "Epoch 36/100\n",
            "1/1 [==============================] - 0s 6ms/step - loss: 0.1006 - mae: 0.1006\n",
            "Epoch 37/100\n",
            "1/1 [==============================] - 0s 7ms/step - loss: 0.6329 - mae: 0.6329\n",
            "Epoch 38/100\n",
            "1/1 [==============================] - 0s 6ms/step - loss: 0.7683 - mae: 0.7683\n",
            "Epoch 39/100\n",
            "1/1 [==============================] - 0s 7ms/step - loss: 0.5468 - mae: 0.5468\n",
            "Epoch 40/100\n",
            "1/1 [==============================] - 0s 10ms/step - loss: 0.7968 - mae: 0.7968\n",
            "Epoch 41/100\n",
            "1/1 [==============================] - 0s 9ms/step - loss: 0.6602 - mae: 0.6602\n",
            "Epoch 42/100\n",
            "1/1 [==============================] - 0s 9ms/step - loss: 0.4019 - mae: 0.4019\n",
            "Epoch 43/100\n",
            "1/1 [==============================] - 0s 14ms/step - loss: 0.3035 - mae: 0.3035\n",
            "Epoch 44/100\n",
            "1/1 [==============================] - 0s 4ms/step - loss: 0.2415 - mae: 0.2415\n",
            "Epoch 45/100\n",
            "1/1 [==============================] - 0s 6ms/step - loss: 0.3199 - mae: 0.3199\n",
            "Epoch 46/100\n",
            "1/1 [==============================] - 0s 6ms/step - loss: 0.4852 - mae: 0.4852\n",
            "Epoch 47/100\n",
            "1/1 [==============================] - 0s 5ms/step - loss: 0.3613 - mae: 0.3613\n",
            "Epoch 48/100\n",
            "1/1 [==============================] - 0s 6ms/step - loss: 0.3666 - mae: 0.3666\n",
            "Epoch 49/100\n",
            "1/1 [==============================] - 0s 6ms/step - loss: 0.3522 - mae: 0.3522\n",
            "Epoch 50/100\n",
            "1/1 [==============================] - 0s 7ms/step - loss: 0.2896 - mae: 0.2896\n",
            "Epoch 51/100\n",
            "1/1 [==============================] - 0s 13ms/step - loss: 0.3712 - mae: 0.3712\n",
            "Epoch 52/100\n",
            "1/1 [==============================] - 0s 4ms/step - loss: 0.1130 - mae: 0.1130\n",
            "Epoch 53/100\n",
            "1/1 [==============================] - 0s 11ms/step - loss: 0.0849 - mae: 0.0849\n",
            "Epoch 54/100\n",
            "1/1 [==============================] - 0s 8ms/step - loss: 0.4424 - mae: 0.4424\n",
            "Epoch 55/100\n",
            "1/1 [==============================] - 0s 6ms/step - loss: 0.3510 - mae: 0.3510\n",
            "Epoch 56/100\n",
            "1/1 [==============================] - 0s 17ms/step - loss: 0.3212 - mae: 0.3212\n",
            "Epoch 57/100\n",
            "1/1 [==============================] - 0s 7ms/step - loss: 0.3688 - mae: 0.3688\n",
            "Epoch 58/100\n",
            "1/1 [==============================] - 0s 5ms/step - loss: 0.1348 - mae: 0.1348\n",
            "Epoch 59/100\n",
            "1/1 [==============================] - 0s 5ms/step - loss: 0.1016 - mae: 0.1016\n",
            "Epoch 60/100\n",
            "1/1 [==============================] - 0s 6ms/step - loss: 0.3413 - mae: 0.3413\n",
            "Epoch 61/100\n",
            "1/1 [==============================] - 0s 4ms/step - loss: 0.2288 - mae: 0.2288\n",
            "Epoch 62/100\n",
            "1/1 [==============================] - 0s 5ms/step - loss: 0.3688 - mae: 0.3688\n",
            "Epoch 63/100\n",
            "1/1 [==============================] - 0s 5ms/step - loss: 0.3065 - mae: 0.3065\n",
            "Epoch 64/100\n",
            "1/1 [==============================] - 0s 5ms/step - loss: 0.2559 - mae: 0.2559\n",
            "Epoch 65/100\n",
            "1/1 [==============================] - 0s 5ms/step - loss: 0.2522 - mae: 0.2522\n",
            "Epoch 66/100\n",
            "1/1 [==============================] - 0s 12ms/step - loss: 0.2673 - mae: 0.2673\n",
            "Epoch 67/100\n",
            "1/1 [==============================] - 0s 3ms/step - loss: 0.2798 - mae: 0.2798\n",
            "Epoch 68/100\n",
            "1/1 [==============================] - 0s 3ms/step - loss: 0.2162 - mae: 0.2162\n",
            "Epoch 69/100\n",
            "1/1 [==============================] - 0s 4ms/step - loss: 0.2533 - mae: 0.2533\n",
            "Epoch 70/100\n",
            "1/1 [==============================] - 0s 4ms/step - loss: 0.1880 - mae: 0.1880\n",
            "Epoch 71/100\n",
            "1/1 [==============================] - 0s 5ms/step - loss: 0.1062 - mae: 0.1062\n",
            "Epoch 72/100\n",
            "1/1 [==============================] - 0s 11ms/step - loss: 0.3966 - mae: 0.3966\n",
            "Epoch 73/100\n",
            "1/1 [==============================] - 0s 3ms/step - loss: 0.3147 - mae: 0.3147\n",
            "Epoch 74/100\n",
            "1/1 [==============================] - 0s 4ms/step - loss: 0.2648 - mae: 0.2648\n",
            "Epoch 75/100\n",
            "1/1 [==============================] - 0s 9ms/step - loss: 0.2933 - mae: 0.2933\n",
            "Epoch 76/100\n",
            "1/1 [==============================] - 0s 5ms/step - loss: 0.1648 - mae: 0.1648\n",
            "Epoch 77/100\n",
            "1/1 [==============================] - 0s 17ms/step - loss: 0.0836 - mae: 0.0836\n",
            "Epoch 78/100\n",
            "1/1 [==============================] - 0s 5ms/step - loss: 0.4735 - mae: 0.4735\n",
            "Epoch 79/100\n",
            "1/1 [==============================] - 0s 4ms/step - loss: 0.4907 - mae: 0.4907\n",
            "Epoch 80/100\n",
            "1/1 [==============================] - 0s 4ms/step - loss: 0.0481 - mae: 0.0481\n",
            "Epoch 81/100\n",
            "1/1 [==============================] - 0s 5ms/step - loss: 0.7418 - mae: 0.7418\n",
            "Epoch 82/100\n",
            "1/1 [==============================] - 0s 5ms/step - loss: 0.9477 - mae: 0.9477\n",
            "Epoch 83/100\n",
            "1/1 [==============================] - 0s 5ms/step - loss: 0.6600 - mae: 0.6600\n",
            "Epoch 84/100\n",
            "1/1 [==============================] - 0s 5ms/step - loss: 0.2373 - mae: 0.2373\n",
            "Epoch 85/100\n",
            "1/1 [==============================] - 0s 9ms/step - loss: 0.5169 - mae: 0.5169\n",
            "Epoch 86/100\n",
            "1/1 [==============================] - 0s 4ms/step - loss: 0.3579 - mae: 0.3579\n",
            "Epoch 87/100\n",
            "1/1 [==============================] - 0s 4ms/step - loss: 0.2320 - mae: 0.2320\n",
            "Epoch 88/100\n",
            "1/1 [==============================] - 0s 5ms/step - loss: 0.3157 - mae: 0.3157\n",
            "Epoch 89/100\n",
            "1/1 [==============================] - 0s 4ms/step - loss: 0.2214 - mae: 0.2214\n",
            "Epoch 90/100\n",
            "1/1 [==============================] - 0s 5ms/step - loss: 0.1303 - mae: 0.1303\n",
            "Epoch 91/100\n",
            "1/1 [==============================] - 0s 10ms/step - loss: 0.3276 - mae: 0.3276\n",
            "Epoch 92/100\n",
            "1/1 [==============================] - 0s 4ms/step - loss: 0.3138 - mae: 0.3138\n",
            "Epoch 93/100\n",
            "1/1 [==============================] - 0s 4ms/step - loss: 0.3688 - mae: 0.3688\n",
            "Epoch 94/100\n",
            "1/1 [==============================] - 0s 4ms/step - loss: 0.3760 - mae: 0.3760\n",
            "Epoch 95/100\n",
            "1/1 [==============================] - 0s 5ms/step - loss: 0.1225 - mae: 0.1225\n",
            "Epoch 96/100\n",
            "1/1 [==============================] - 0s 5ms/step - loss: 0.0717 - mae: 0.0717\n",
            "Epoch 97/100\n",
            "1/1 [==============================] - 0s 5ms/step - loss: 0.2134 - mae: 0.2134\n",
            "Epoch 98/100\n",
            "1/1 [==============================] - 0s 5ms/step - loss: 0.1463 - mae: 0.1463\n",
            "Epoch 99/100\n",
            "1/1 [==============================] - 0s 5ms/step - loss: 0.0994 - mae: 0.0994\n",
            "Epoch 100/100\n",
            "1/1 [==============================] - 0s 5ms/step - loss: 0.1946 - mae: 0.1946\n"
          ]
        },
        {
          "output_type": "execute_result",
          "data": {
            "text/plain": [
              "<keras.callbacks.History at 0x7f7f22cfaa10>"
            ]
          },
          "metadata": {},
          "execution_count": 13
        }
      ]
    },
    {
      "cell_type": "code",
      "metadata": {
        "colab": {
          "base_uri": "https://localhost:8080/"
        },
        "id": "auMzwVINSOvF",
        "outputId": "ae7ac23f-6d21-492d-f2ee-233e2784cff3"
      },
      "source": [
        "#let's make a prediction\n",
        "model.predict([17.0])"
      ],
      "execution_count": 14,
      "outputs": [
        {
          "output_type": "stream",
          "name": "stdout",
          "text": [
            "WARNING:tensorflow:5 out of the last 5 calls to <function Model.make_predict_function.<locals>.predict_function at 0x7f7f22c81cb0> triggered tf.function retracing. Tracing is expensive and the excessive number of tracings could be due to (1) creating @tf.function repeatedly in a loop, (2) passing tensors with different shapes, (3) passing Python objects instead of tensors. For (1), please define your @tf.function outside of the loop. For (2), @tf.function has experimental_relax_shapes=True option that relaxes argument shapes that can avoid unnecessary retracing. For (3), please refer to https://www.tensorflow.org/guide/function#controlling_retracing and https://www.tensorflow.org/api_docs/python/tf/function for  more details.\n"
          ]
        },
        {
          "output_type": "execute_result",
          "data": {
            "text/plain": [
              "array([[27.054007]], dtype=float32)"
            ]
          },
          "metadata": {},
          "execution_count": 14
        }
      ]
    },
    {
      "cell_type": "code",
      "metadata": {
        "colab": {
          "base_uri": "https://localhost:8080/"
        },
        "id": "_cw4i7_aStzw",
        "outputId": "37e7ab95-41d3-4610-b3e5-0b00cdaa1b71"
      },
      "source": [
        "#let's make an other prediction\n",
        "model.predict([19.0])"
      ],
      "execution_count": 15,
      "outputs": [
        {
          "output_type": "execute_result",
          "data": {
            "text/plain": [
              "array([[29.044458]], dtype=float32)"
            ]
          },
          "metadata": {},
          "execution_count": 15
        }
      ]
    },
    {
      "cell_type": "markdown",
      "metadata": {
        "id": "6w1ByAdNT1EN"
      },
      "source": [
        "### Evaluating a Model"
      ]
    },
    {
      "cell_type": "code",
      "metadata": {
        "colab": {
          "base_uri": "https://localhost:8080/"
        },
        "id": "rIETa0tqS0km",
        "outputId": "ddb152f5-ee13-421e-a734-f32d3d13c36d"
      },
      "source": [
        "# Make a bigger dataset\n",
        "X = tf.range(-100, 100, 4)\n",
        "X"
      ],
      "execution_count": 16,
      "outputs": [
        {
          "output_type": "execute_result",
          "data": {
            "text/plain": [
              "<tf.Tensor: shape=(50,), dtype=int32, numpy=\n",
              "array([-100,  -96,  -92,  -88,  -84,  -80,  -76,  -72,  -68,  -64,  -60,\n",
              "        -56,  -52,  -48,  -44,  -40,  -36,  -32,  -28,  -24,  -20,  -16,\n",
              "        -12,   -8,   -4,    0,    4,    8,   12,   16,   20,   24,   28,\n",
              "         32,   36,   40,   44,   48,   52,   56,   60,   64,   68,   72,\n",
              "         76,   80,   84,   88,   92,   96], dtype=int32)>"
            ]
          },
          "metadata": {},
          "execution_count": 16
        }
      ]
    },
    {
      "cell_type": "code",
      "metadata": {
        "colab": {
          "base_uri": "https://localhost:8080/"
        },
        "id": "5n8J5crTW0Cz",
        "outputId": "4b085144-4a6c-4625-d8c0-c679ef1c207b"
      },
      "source": [
        "# Make labels for the dataset\n",
        "y = X + 10\n",
        "y"
      ],
      "execution_count": 17,
      "outputs": [
        {
          "output_type": "execute_result",
          "data": {
            "text/plain": [
              "<tf.Tensor: shape=(50,), dtype=int32, numpy=\n",
              "array([-90, -86, -82, -78, -74, -70, -66, -62, -58, -54, -50, -46, -42,\n",
              "       -38, -34, -30, -26, -22, -18, -14, -10,  -6,  -2,   2,   6,  10,\n",
              "        14,  18,  22,  26,  30,  34,  38,  42,  46,  50,  54,  58,  62,\n",
              "        66,  70,  74,  78,  82,  86,  90,  94,  98, 102, 106], dtype=int32)>"
            ]
          },
          "metadata": {},
          "execution_count": 17
        }
      ]
    },
    {
      "cell_type": "code",
      "metadata": {
        "colab": {
          "base_uri": "https://localhost:8080/",
          "height": 0
        },
        "id": "xrDbm0XfXUuD",
        "outputId": "b7e86fc3-aec8-4fc4-dd42-59c8905c7677"
      },
      "source": [
        "# Visualize the data\n",
        "import matplotlib.pyplot as plt\n",
        "plt.scatter(X, y)"
      ],
      "execution_count": 18,
      "outputs": [
        {
          "output_type": "execute_result",
          "data": {
            "text/plain": [
              "<matplotlib.collections.PathCollection at 0x7f7f22b70b50>"
            ]
          },
          "metadata": {},
          "execution_count": 18
        },
        {
          "output_type": "display_data",
          "data": {
            "image/png": "[encoded data removed]",
            "text/plain": [
              "<Figure size 432x288 with 1 Axes>"
            ]
          },
          "metadata": {
            "needs_background": "light"
          }
        }
      ]
    },
    {
      "cell_type": "markdown",
      "metadata": {
        "id": "QtimDriHUIXf"
      },
      "source": [
        "#### Creating the 3 sets(training, validation and Test sets)"
      ]
    },
    {
      "cell_type": "code",
      "metadata": {
        "colab": {
          "base_uri": "https://localhost:8080/"
        },
        "id": "-YaRdAChX4KN",
        "outputId": "90ed47e9-1b53-48ff-c5be-4db6ae34eb65"
      },
      "source": [
        "# Split the data into train and test sets\n",
        "X_train = X[:40] # first 40 are training samples (80% of the data)\n",
        "y_train = y[:40]\n",
        "\n",
        "X_test = X[40:] # last 10 are testting samples (20% of the data)\n",
        "y_test = y[40:]\n",
        "\n",
        "len(X_train), len(X_test), len(y_train), len(y_test)"
      ],
      "execution_count": 19,
      "outputs": [
        {
          "output_type": "execute_result",
          "data": {
            "text/plain": [
              "(40, 10, 40, 10)"
            ]
          },
          "metadata": {},
          "execution_count": 19
        }
      ]
    },
    {
      "cell_type": "markdown",
      "metadata": {
        "id": "Mf17uZe3XD9e"
      },
      "source": [
        "### Visualizing the data"
      ]
    },
    {
      "cell_type": "code",
      "metadata": {
        "colab": {
          "base_uri": "https://localhost:8080/",
          "height": 0
        },
        "id": "tkhWqdiKVjbd",
        "outputId": "8c5a84a7-b08c-4a55-b4d2-673c07d04a9e"
      },
      "source": [
        "plt.figure(figsize=(10, 7))\n",
        "# Plot training data in blue\n",
        "plt.scatter(X_train, y_train, c=\"b\", label=\"Training data\")\n",
        "# Plot test data in green\n",
        "plt.scatter(X_test, y_test, c=\"g\", label=\"Testing data\")\n",
        "# show a legend\n",
        "plt.legend();"
      ],
      "execution_count": 20,
      "outputs": [
        {
          "output_type": "display_data",
          "data": {
            "image/png": "[encoded data removed]",
            "text/plain": [
              "<Figure size 720x504 with 1 Axes>"
            ]
          },
          "metadata": {
            "needs_background": "light"
          }
        }
      ]
    },
    {
      "cell_type": "code",
      "metadata": {
        "id": "gNkeh95yYMFh"
      },
      "source": [
        "# Building a NN for our data\n",
        "\n",
        "# Create a model\n",
        "model = tf.keras.Sequential([\n",
        "          tf.keras.layers.Dense(1)\n",
        "])\n",
        "\n",
        "# Compile the model\n",
        "model.compile(loss=tf.keras.losses.mae,\n",
        "              optimizer=tf.keras.optimizers.SGD(),\n",
        "              metrics=[\"mae\"])\n",
        "\n",
        "# fit the model\n",
        "#model.fit(X_train, y_train, epochs=100)"
      ],
      "execution_count": 21,
      "outputs": []
    },
    {
      "cell_type": "markdown",
      "metadata": {
        "id": "ghzEVzhObuhw"
      },
      "source": [
        "### Visualizing the model"
      ]
    },
    {
      "cell_type": "code",
      "metadata": {
        "colab": {
          "base_uri": "https://localhost:8080/"
        },
        "id": "L0VGjut_boRo",
        "outputId": "22e280c6-0986-485a-a1db-e65939be058f"
      },
      "source": [
        "# creating a model which will builds automatically by defining the input_shape argument\n",
        "tf.random.set_seed(42)\n",
        "\n",
        "# create a model (same as above)\n",
        "model = tf.keras.Sequential([\n",
        "    tf.keras.layers.Dense(1, input_shape=[1])\n",
        "])\n",
        "\n",
        "# compile the model\n",
        "model.compile(loss=tf.keras.losses.mae,\n",
        "              optimizer=tf.keras.optimizers.SGD(),\n",
        "              metrics=[\"mae\"])\n",
        "\n",
        "model.summary()"
      ],
      "execution_count": 23,
      "outputs": [
        {
          "output_type": "stream",
          "name": "stdout",
          "text": [
            "Model: \"sequential_8\"\n",
            "_________________________________________________________________\n",
            " Layer (type)                Output Shape              Param #   \n",
            "=================================================================\n",
            " dense_14 (Dense)            (None, 1)                 2         \n",
            "                                                                 \n",
            "=================================================================\n",
            "Total params: 2\n",
            "Trainable params: 2\n",
            "Non-trainable params: 0\n",
            "_________________________________________________________________\n"
          ]
        }
      ]
    },
    {
      "cell_type": "code",
      "metadata": {
        "colab": {
          "base_uri": "https://localhost:8080/"
        },
        "id": "CWPN3vM0eF9u",
        "outputId": "866fcd30-178e-4a2c-a9c1-73bbd7213fdc"
      },
      "source": [
        "# Let's fit our model to the training data\n",
        "model.fit(X_train, y_train, epochs=100, verbose=0)"
      ],
      "execution_count": 26,
      "outputs": [
        {
          "output_type": "execute_result",
          "data": {
            "text/plain": [
              "<keras.callbacks.History at 0x7f7f25eafcd0>"
            ]
          },
          "metadata": {},
          "execution_count": 26
        }
      ]
    },
    {
      "cell_type": "code",
      "metadata": {
        "id": "T_cYYaFBzA6E"
      },
      "source": [
        ""
      ],
      "execution_count": null,
      "outputs": []
    }
  ]
}