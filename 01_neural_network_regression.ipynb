{
  "nbformat": 4,
  "nbformat_minor": 0,
  "metadata": {
    "colab": {
      "name": "01_neural_network_regression.ipynb",
      "provenance": [],
      "collapsed_sections": [
        "bAAVIaWTo9Rn",
        "1c_LZHxhp7ZZ"
      ],
      "authorship_tag": "ABX9TyNw3FQ/ehHay4SRx1xqxu1d",
      "include_colab_link": true
    },
    "kernelspec": {
      "display_name": "Python 3",
      "name": "python3"
    },
    "language_info": {
      "name": "python"
    }
  },
  "cells": [
    {
      "cell_type": "markdown",
      "metadata": {
        "id": "view-in-github",
        "colab_type": "text"
      },
      "source": [
        "<a href=\"https://colab.research.google.com/github/rigole/TensorFlow-/blob/main/01_neural_network_regression.ipynb\" target=\"_parent\"><img src=\"https://colab.research.google.com/assets/colab-badge.svg\" alt=\"Open In Colab\"/></a>"
      ]
    },
    {
      "cell_type": "markdown",
      "metadata": {
        "id": "bAAVIaWTo9Rn"
      },
      "source": [
        "### Introduction to Regression with NN"
      ]
    },
    {
      "cell_type": "code",
      "metadata": {
        "id": "gIc2Bm_FohfT"
      },
      "source": [
        "import tensorflow as tf"
      ],
      "execution_count": 1,
      "outputs": []
    },
    {
      "cell_type": "markdown",
      "metadata": {
        "id": "1c_LZHxhp7ZZ"
      },
      "source": [
        "### Creating data to view and fit"
      ]
    },
    {
      "cell_type": "code",
      "metadata": {
        "colab": {
          "base_uri": "https://localhost:8080/",
          "height": 0
        },
        "id": "jx5raISvpKGP",
        "outputId": "50f85f3f-d251-4fed-8f9d-bb0a72959f18"
      },
      "source": [
        "import numpy as np\n",
        "import matplotlib.pyplot as plt\n",
        "\n",
        "# Create features\n",
        "X = np.array([-7.0, -4.0, -1.0, 2.0, 5.0, 8.0, 11.0, 14.0])\n",
        "\n",
        "# Create labels\n",
        "y = np.array([3.0, 6.0, 9.0, 12.0, 15.0, 18.0, 21, 24.0])\n",
        "\n",
        "# Visualize\n",
        "plt.scatter(X, y);"
      ],
      "execution_count": 2,
      "outputs": [
        {
          "output_type": "display_data",
          "data": {
            "image/png": "[encoded data removed]",
            "text/plain": [
              "<Figure size 432x288 with 1 Axes>"
            ]
          },
          "metadata": {
            "needs_background": "light"
          }
        }
      ]
    },
    {
      "cell_type": "code",
      "metadata": {
        "colab": {
          "base_uri": "https://localhost:8080/"
        },
        "id": "39vH4H85qqwC",
        "outputId": "36629fe4-b77b-484e-884a-fbdaad8244b7"
      },
      "source": [
        "y == X+10"
      ],
      "execution_count": 3,
      "outputs": [
        {
          "output_type": "execute_result",
          "data": {
            "text/plain": [
              "array([ True,  True,  True,  True,  True,  True,  True,  True])"
            ]
          },
          "metadata": {},
          "execution_count": 3
        }
      ]
    },
    {
      "cell_type": "code",
      "metadata": {
        "id": "QscgH0CcrBV7"
      },
      "source": [
        ""
      ],
      "execution_count": 3,
      "outputs": []
    },
    {
      "cell_type": "markdown",
      "metadata": {
        "id": "xeTIh8LXK11K"
      },
      "source": [
        "### Input and output shapes"
      ]
    },
    {
      "cell_type": "code",
      "metadata": {
        "colab": {
          "base_uri": "https://localhost:8080/"
        },
        "id": "JnctlQmxK5iK",
        "outputId": "009f9933-44fa-45b3-b798-6d509a44ee51"
      },
      "source": [
        "# Create a demo tensor for our housing price prediction problem\n",
        "\n",
        "house_info = tf.constant([\"bedroom\", \"bathroom\", \"garage\"])\n",
        "house_price = tf.constant([939700])\n",
        "house_info, house_price"
      ],
      "execution_count": null,
      "outputs": [
        {
          "data": {
            "text/plain": [
              "(<tf.Tensor: shape=(3,), dtype=string, numpy=array([b'bedroom', b'bathroom', b'garage'], dtype=object)>,\n",
              " <tf.Tensor: shape=(1,), dtype=int32, numpy=array([939700], dtype=int32)>)"
            ]
          },
          "execution_count": 4,
          "metadata": {},
          "output_type": "execute_result"
        }
      ]
    },
    {
      "cell_type": "code",
      "metadata": {
        "colab": {
          "base_uri": "https://localhost:8080/"
        },
        "id": "kdzluJ5-Lnw8",
        "outputId": "4f32baab-0e01-4ca3-c41c-0fda6b098f0a"
      },
      "source": [
        "input_shape = X.shape\n",
        "output_shape = y.shape\n",
        "input_shape, output_shape"
      ],
      "execution_count": null,
      "outputs": [
        {
          "data": {
            "text/plain": [
              "((8,), (8,))"
            ]
          },
          "execution_count": 5,
          "metadata": {},
          "output_type": "execute_result"
        }
      ]
    },
    {
      "cell_type": "code",
      "metadata": {
        "colab": {
          "base_uri": "https://localhost:8080/"
        },
        "id": "oeQJYXIANTzg",
        "outputId": "096d627a-8040-4a2d-bf60-68b1e89593d1"
      },
      "source": [
        "X[0], y[0]"
      ],
      "execution_count": null,
      "outputs": [
        {
          "data": {
            "text/plain": [
              "(-7.0, 3.0)"
            ]
          },
          "execution_count": 6,
          "metadata": {},
          "output_type": "execute_result"
        }
      ]
    },
    {
      "cell_type": "code",
      "metadata": {
        "colab": {
          "base_uri": "https://localhost:8080/"
        },
        "id": "NFzx2ZchNWm8",
        "outputId": "766b01d6-5e27-49ad-9aee-5cb7db190919"
      },
      "source": [
        "input_shape = X[0].shape\n",
        "output_shape = y[0].shape\n",
        "input_shape, output_shape"
      ],
      "execution_count": null,
      "outputs": [
        {
          "data": {
            "text/plain": [
              "((), ())"
            ]
          },
          "execution_count": 7,
          "metadata": {},
          "output_type": "execute_result"
        }
      ]
    },
    {
      "cell_type": "code",
      "metadata": {
        "colab": {
          "base_uri": "https://localhost:8080/"
        },
        "id": "qiyVmum3O6rU",
        "outputId": "40a29441-0e0c-449b-8438-ef3866a0c0ab"
      },
      "source": [
        "X[0].ndim"
      ],
      "execution_count": null,
      "outputs": [
        {
          "data": {
            "text/plain": [
              "0"
            ]
          },
          "execution_count": 8,
          "metadata": {},
          "output_type": "execute_result"
        }
      ]
    },
    {
      "cell_type": "code",
      "metadata": {
        "colab": {
          "base_uri": "https://localhost:8080/"
        },
        "id": "_AUiKj3LPbOH",
        "outputId": "a84cf762-3d98-4c11-9a11-0758311de876"
      },
      "source": [
        "# Turn our NumPy arrays into tensors\n",
        "X = tf.constant(X)\n",
        "y = tf.constant(y)\n",
        "X, X.shape, y, y.shape"
      ],
      "execution_count": null,
      "outputs": [
        {
          "data": {
            "text/plain": [
              "(<tf.Tensor: shape=(8,), dtype=float64, numpy=array([-7., -4., -1.,  2.,  5.,  8., 11., 14.])>,\n",
              " TensorShape([8]),\n",
              " <tf.Tensor: shape=(8,), dtype=float64, numpy=array([ 3.,  6.,  9., 12., 15., 18., 21., 24.])>,\n",
              " TensorShape([8]))"
            ]
          },
          "execution_count": 9,
          "metadata": {},
          "output_type": "execute_result"
        }
      ]
    },
    {
      "cell_type": "code",
      "metadata": {
        "colab": {
          "base_uri": "https://localhost:8080/"
        },
        "id": "58VpSeS8S3Ha",
        "outputId": "864275fc-4228-46ea-ee52-6db9ad3de9d2"
      },
      "source": [
        "input_shape = X[0].shape\n",
        "output_shape = y[0].shape\n",
        "input_shape, output_shape"
      ],
      "execution_count": null,
      "outputs": [
        {
          "data": {
            "text/plain": [
              "(TensorShape([]), TensorShape([]))"
            ]
          },
          "execution_count": 10,
          "metadata": {},
          "output_type": "execute_result"
        }
      ]
    },
    {
      "cell_type": "code",
      "metadata": {
        "colab": {
          "base_uri": "https://localhost:8080/",
          "height": 286
        },
        "id": "AonB22DqTRZm",
        "outputId": "d7247b89-a6e0-415d-e7b2-955c47c3c777"
      },
      "source": [
        "plt.scatter(X, y)"
      ],
      "execution_count": null,
      "outputs": [
        {
          "data": {
            "text/plain": [
              "<matplotlib.collections.PathCollection at 0x7f375b304850>"
            ]
          },
          "execution_count": 11,
          "metadata": {},
          "output_type": "execute_result"
        },
        {
          "data": {
            "image/png": "[encoded data removed]",
            "text/plain": [
              "<Figure size 432x288 with 1 Axes>"
            ]
          },
          "metadata": {},
          "output_type": "display_data"
        }
      ]
    },
    {
      "cell_type": "code",
      "metadata": {
        "colab": {
          "base_uri": "https://localhost:8080/"
        },
        "id": "DwjkwRYH6q1A",
        "outputId": "fc179a62-a1d9-4278-9ef1-9d940ff269f3"
      },
      "source": [
        "X, y"
      ],
      "execution_count": null,
      "outputs": [
        {
          "data": {
            "text/plain": [
              "(<tf.Tensor: shape=(8,), dtype=float64, numpy=array([-7., -4., -1.,  2.,  5.,  8., 11., 14.])>,\n",
              " <tf.Tensor: shape=(8,), dtype=float64, numpy=array([ 3.,  6.,  9., 12., 15., 18., 21., 24.])>)"
            ]
          },
          "execution_count": 12,
          "metadata": {},
          "output_type": "execute_result"
        }
      ]
    },
    {
      "cell_type": "code",
      "metadata": {
        "colab": {
          "base_uri": "https://localhost:8080/",
          "height": 731
        },
        "id": "bkfl47AXTc-3",
        "outputId": "a948d468-17a0-4171-8d35-c72ff7eb4e5c"
      },
      "source": [
        "# Set random seed\n",
        "tf.random.set_seed(42)\n",
        "\n",
        "#1. Create a model using the sequential API\n",
        "model = tf.keras.Sequential([\n",
        "    tf.keras.layers.Dense(1),\n",
        "    \n",
        "])\n",
        "\n",
        " #2. Compile the model\n",
        "model.compile(loss=tf.keras.losses.mae,optimizer=tf.keras.optimizers.SGD(), \n",
        "              metrics=[\"mae\"]) # mae is for mean absolute error gd gradient descent\n",
        "\n",
        "\n",
        "# 3 Fit the model\n",
        "model.fit(X,y,epochs=5)"
      ],
      "execution_count": null,
      "outputs": [
        {
          "name": "stdout",
          "output_type": "stream",
          "text": [
            "Epoch 1/5\n"
          ]
        },
        {
          "ename": "ValueError",
          "evalue": "ignored",
          "output_type": "error",
          "traceback": [
            "\u001b[0;31m---------------------------------------------------------------------------\u001b[0m",
            "\u001b[0;31mValueError\u001b[0m                                Traceback (most recent call last)",
            "\u001b[0;32m<ipython-input-13-0b4c43b0278c>\u001b[0m in \u001b[0;36m<module>\u001b[0;34m()\u001b[0m\n\u001b[1;32m     14\u001b[0m \u001b[0;34m\u001b[0m\u001b[0m\n\u001b[1;32m     15\u001b[0m \u001b[0;31m# 3 Fit the model\u001b[0m\u001b[0;34m\u001b[0m\u001b[0;34m\u001b[0m\u001b[0;34m\u001b[0m\u001b[0m\n\u001b[0;32m---> 16\u001b[0;31m \u001b[0mmodel\u001b[0m\u001b[0;34m.\u001b[0m\u001b[0mfit\u001b[0m\u001b[0;34m(\u001b[0m\u001b[0mX\u001b[0m\u001b[0;34m,\u001b[0m\u001b[0my\u001b[0m\u001b[0;34m,\u001b[0m\u001b[0mepochs\u001b[0m\u001b[0;34m=\u001b[0m\u001b[0;36m5\u001b[0m\u001b[0;34m)\u001b[0m\u001b[0;34m\u001b[0m\u001b[0;34m\u001b[0m\u001b[0m\n\u001b[0m",
            "\u001b[0;32m/usr/local/lib/python3.7/dist-packages/keras/utils/traceback_utils.py\u001b[0m in \u001b[0;36merror_handler\u001b[0;34m(*args, **kwargs)\u001b[0m\n\u001b[1;32m     65\u001b[0m     \u001b[0;32mexcept\u001b[0m \u001b[0mException\u001b[0m \u001b[0;32mas\u001b[0m \u001b[0me\u001b[0m\u001b[0;34m:\u001b[0m  \u001b[0;31m# pylint: disable=broad-except\u001b[0m\u001b[0;34m\u001b[0m\u001b[0;34m\u001b[0m\u001b[0m\n\u001b[1;32m     66\u001b[0m       \u001b[0mfiltered_tb\u001b[0m \u001b[0;34m=\u001b[0m \u001b[0m_process_traceback_frames\u001b[0m\u001b[0;34m(\u001b[0m\u001b[0me\u001b[0m\u001b[0;34m.\u001b[0m\u001b[0m__traceback__\u001b[0m\u001b[0;34m)\u001b[0m\u001b[0;34m\u001b[0m\u001b[0;34m\u001b[0m\u001b[0m\n\u001b[0;32m---> 67\u001b[0;31m       \u001b[0;32mraise\u001b[0m \u001b[0me\u001b[0m\u001b[0;34m.\u001b[0m\u001b[0mwith_traceback\u001b[0m\u001b[0;34m(\u001b[0m\u001b[0mfiltered_tb\u001b[0m\u001b[0;34m)\u001b[0m \u001b[0;32mfrom\u001b[0m \u001b[0;32mNone\u001b[0m\u001b[0;34m\u001b[0m\u001b[0;34m\u001b[0m\u001b[0m\n\u001b[0m\u001b[1;32m     68\u001b[0m     \u001b[0;32mfinally\u001b[0m\u001b[0;34m:\u001b[0m\u001b[0;34m\u001b[0m\u001b[0;34m\u001b[0m\u001b[0m\n\u001b[1;32m     69\u001b[0m       \u001b[0;32mdel\u001b[0m \u001b[0mfiltered_tb\u001b[0m\u001b[0;34m\u001b[0m\u001b[0;34m\u001b[0m\u001b[0m\n",
            "\u001b[0;32m/usr/local/lib/python3.7/dist-packages/tensorflow/python/framework/func_graph.py\u001b[0m in \u001b[0;36mautograph_handler\u001b[0;34m(*args, **kwargs)\u001b[0m\n\u001b[1;32m   1127\u001b[0m           \u001b[0;32mexcept\u001b[0m \u001b[0mException\u001b[0m \u001b[0;32mas\u001b[0m \u001b[0me\u001b[0m\u001b[0;34m:\u001b[0m  \u001b[0;31m# pylint:disable=broad-except\u001b[0m\u001b[0;34m\u001b[0m\u001b[0;34m\u001b[0m\u001b[0m\n\u001b[1;32m   1128\u001b[0m             \u001b[0;32mif\u001b[0m \u001b[0mhasattr\u001b[0m\u001b[0;34m(\u001b[0m\u001b[0me\u001b[0m\u001b[0;34m,\u001b[0m \u001b[0;34m\"ag_error_metadata\"\u001b[0m\u001b[0;34m)\u001b[0m\u001b[0;34m:\u001b[0m\u001b[0;34m\u001b[0m\u001b[0;34m\u001b[0m\u001b[0m\n\u001b[0;32m-> 1129\u001b[0;31m               \u001b[0;32mraise\u001b[0m \u001b[0me\u001b[0m\u001b[0;34m.\u001b[0m\u001b[0mag_error_metadata\u001b[0m\u001b[0;34m.\u001b[0m\u001b[0mto_exception\u001b[0m\u001b[0;34m(\u001b[0m\u001b[0me\u001b[0m\u001b[0;34m)\u001b[0m\u001b[0;34m\u001b[0m\u001b[0;34m\u001b[0m\u001b[0m\n\u001b[0m\u001b[1;32m   1130\u001b[0m             \u001b[0;32melse\u001b[0m\u001b[0;34m:\u001b[0m\u001b[0;34m\u001b[0m\u001b[0;34m\u001b[0m\u001b[0m\n\u001b[1;32m   1131\u001b[0m               \u001b[0;32mraise\u001b[0m\u001b[0;34m\u001b[0m\u001b[0;34m\u001b[0m\u001b[0m\n",
            "\u001b[0;31mValueError\u001b[0m: in user code:\n\n    File \"/usr/local/lib/python3.7/dist-packages/keras/engine/training.py\", line 878, in train_function  *\n        return step_function(self, iterator)\n    File \"/usr/local/lib/python3.7/dist-packages/keras/engine/training.py\", line 867, in step_function  **\n        outputs = model.distribute_strategy.run(run_step, args=(data,))\n    File \"/usr/local/lib/python3.7/dist-packages/keras/engine/training.py\", line 860, in run_step  **\n        outputs = model.train_step(data)\n    File \"/usr/local/lib/python3.7/dist-packages/keras/engine/training.py\", line 808, in train_step\n        y_pred = self(x, training=True)\n    File \"/usr/local/lib/python3.7/dist-packages/keras/utils/traceback_utils.py\", line 67, in error_handler\n        raise e.with_traceback(filtered_tb) from None\n    File \"/usr/local/lib/python3.7/dist-packages/keras/engine/input_spec.py\", line 227, in assert_input_compatibility\n        raise ValueError(f'Input {input_index} of layer \"{layer_name}\" '\n\n    ValueError: Exception encountered when calling layer \"sequential\" (type Sequential).\n    \n    Input 0 of layer \"dense\" is incompatible with the layer: expected min_ndim=2, found ndim=1. Full shape received: (None,)\n    \n    Call arguments received:\n      • inputs=tf.Tensor(shape=(None,), dtype=float64)\n      • training=True\n      • mask=None\n"
          ]
        }
      ]
    },
    {
      "cell_type": "code",
      "metadata": {
        "colab": {
          "base_uri": "https://localhost:8080/"
        },
        "id": "JzUMt1QCY0qB",
        "outputId": "46a3bf04-96c7-4e35-e560-6e14f7b8a249"
      },
      "source": [
        "# Set random seed\n",
        "tf.random.set_seed(42)\n",
        "\n",
        "#1. Create a model using the sequential API\n",
        "model = tf.keras.Sequential([\n",
        "    tf.keras.layers.Dense(1),\n",
        "    \n",
        "])\n",
        "\n",
        " #2. Compile the model\n",
        "model.compile(loss=tf.keras.losses.mae,optimizer=tf.keras.optimizers.SGD(), \n",
        "              metrics=[\"mae\"]) # mae is for mean absolute error gd gradient descent\n",
        "\n",
        "\n",
        "# 3 Fit the model\n",
        "model.fit(tf.expand_dims(X,axis=-1), y,epochs=5)"
      ],
      "execution_count": 37,
      "outputs": [
        {
          "output_type": "stream",
          "name": "stdout",
          "text": [
            "Epoch 1/5\n",
            "2/2 [==============================] - 0s 5ms/step - loss: 19.0311 - mae: 19.0311\n",
            "Epoch 2/5\n",
            "2/2 [==============================] - 0s 8ms/step - loss: 10.8111 - mae: 10.8111\n",
            "Epoch 3/5\n",
            "2/2 [==============================] - 0s 8ms/step - loss: 14.5005 - mae: 14.5005\n",
            "Epoch 4/5\n",
            "2/2 [==============================] - 0s 6ms/step - loss: 10.0958 - mae: 10.0958\n",
            "Epoch 5/5\n",
            "2/2 [==============================] - 0s 6ms/step - loss: 15.5388 - mae: 15.5388\n"
          ]
        },
        {
          "output_type": "execute_result",
          "data": {
            "text/plain": [
              "<keras.callbacks.History at 0x7ff6e8be9110>"
            ]
          },
          "metadata": {},
          "execution_count": 37
        }
      ]
    },
    {
      "cell_type": "code",
      "metadata": {
        "colab": {
          "base_uri": "https://localhost:8080/"
        },
        "id": "dVgp_NSt9Vxz",
        "outputId": "ee1e6c59-2e05-4f30-f572-194f7830509b"
      },
      "source": [
        "# Check out inputs and output\n",
        "X, y"
      ],
      "execution_count": 35,
      "outputs": [
        {
          "output_type": "execute_result",
          "data": {
            "text/plain": [
              "(<tf.Tensor: shape=(50,), dtype=int32, numpy=\n",
              " array([-100,  -96,  -92,  -88,  -84,  -80,  -76,  -72,  -68,  -64,  -60,\n",
              "         -56,  -52,  -48,  -44,  -40,  -36,  -32,  -28,  -24,  -20,  -16,\n",
              "         -12,   -8,   -4,    0,    4,    8,   12,   16,   20,   24,   28,\n",
              "          32,   36,   40,   44,   48,   52,   56,   60,   64,   68,   72,\n",
              "          76,   80,   84,   88,   92,   96], dtype=int32)>,\n",
              " <tf.Tensor: shape=(50,), dtype=int32, numpy=\n",
              " array([-90, -86, -82, -78, -74, -70, -66, -62, -58, -54, -50, -46, -42,\n",
              "        -38, -34, -30, -26, -22, -18, -14, -10,  -6,  -2,   2,   6,  10,\n",
              "         14,  18,  22,  26,  30,  34,  38,  42,  46,  50,  54,  58,  62,\n",
              "         66,  70,  74,  78,  82,  86,  90,  94,  98, 102, 106], dtype=int32)>)"
            ]
          },
          "metadata": {},
          "execution_count": 35
        }
      ]
    },
    {
      "cell_type": "code",
      "metadata": {
        "colab": {
          "base_uri": "https://localhost:8080/"
        },
        "id": "Vza2_QCi-Uds",
        "outputId": "bd92ec08-b45b-4ac7-8e3c-93eb63ab13a0"
      },
      "source": [
        "y_pred = model.predict([17.0])\n",
        "y_pred"
      ],
      "execution_count": 36,
      "outputs": [
        {
          "output_type": "execute_result",
          "data": {
            "text/plain": [
              "array([[23.706022]], dtype=float32)"
            ]
          },
          "metadata": {},
          "execution_count": 36
        }
      ]
    },
    {
      "cell_type": "markdown",
      "metadata": {
        "id": "YrBLwKxS_nCA"
      },
      "source": [
        "### Improving our model"
      ]
    },
    {
      "cell_type": "code",
      "metadata": {
        "colab": {
          "base_uri": "https://localhost:8080/"
        },
        "id": "dJ-Gs-I3_B6e",
        "outputId": "fee68560-7290-44e6-a125-d587fbbd2fe0"
      },
      "source": [
        " # Rebuild the model by improving\n",
        "\n",
        " #1. Create a model again\n",
        "model = tf.keras.Sequential([\n",
        "    tf.keras.layers.Dense(1),\n",
        "    \n",
        "])\n",
        "\n",
        " #2. recompile the model\n",
        "model.compile(loss=tf.keras.losses.mae,optimizer=tf.keras.optimizers.SGD(), \n",
        "              metrics=[\"mae\"]) # mae is for mean absolute error gd gradient descent\n",
        "\n",
        "\n",
        "# 3 Fit the model and increase the epochs(and training it longer)\n",
        "model.fit(tf.expand_dims(X,axis=-1), y,epochs=100)"
      ],
      "execution_count": 4,
      "outputs": [
        {
          "output_type": "stream",
          "name": "stdout",
          "text": [
            "Epoch 1/100\n",
            "1/1 [==============================] - 1s 651ms/step - loss: 18.2193 - mae: 18.2193\n",
            "Epoch 2/100\n",
            "1/1 [==============================] - 0s 5ms/step - loss: 17.9380 - mae: 17.9380\n",
            "Epoch 3/100\n",
            "1/1 [==============================] - 0s 7ms/step - loss: 17.6568 - mae: 17.6568\n",
            "Epoch 4/100\n",
            "1/1 [==============================] - 0s 7ms/step - loss: 17.3755 - mae: 17.3755\n",
            "Epoch 5/100\n",
            "1/1 [==============================] - 0s 7ms/step - loss: 17.0943 - mae: 17.0943\n",
            "Epoch 6/100\n",
            "1/1 [==============================] - 0s 7ms/step - loss: 16.8130 - mae: 16.8130\n",
            "Epoch 7/100\n",
            "1/1 [==============================] - 0s 8ms/step - loss: 16.5318 - mae: 16.5318\n",
            "Epoch 8/100\n",
            "1/1 [==============================] - 0s 9ms/step - loss: 16.2505 - mae: 16.2505\n",
            "Epoch 9/100\n",
            "1/1 [==============================] - 0s 8ms/step - loss: 15.9693 - mae: 15.9693\n",
            "Epoch 10/100\n",
            "1/1 [==============================] - 0s 9ms/step - loss: 15.6880 - mae: 15.6880\n",
            "Epoch 11/100\n",
            "1/1 [==============================] - 0s 9ms/step - loss: 15.4068 - mae: 15.4068\n",
            "Epoch 12/100\n",
            "1/1 [==============================] - 0s 6ms/step - loss: 15.1255 - mae: 15.1255\n",
            "Epoch 13/100\n",
            "1/1 [==============================] - 0s 8ms/step - loss: 14.8512 - mae: 14.8512\n",
            "Epoch 14/100\n",
            "1/1 [==============================] - 0s 8ms/step - loss: 14.7187 - mae: 14.7187\n",
            "Epoch 15/100\n",
            "1/1 [==============================] - 0s 8ms/step - loss: 14.5862 - mae: 14.5862\n",
            "Epoch 16/100\n",
            "1/1 [==============================] - 0s 6ms/step - loss: 14.4537 - mae: 14.4537\n",
            "Epoch 17/100\n",
            "1/1 [==============================] - 0s 8ms/step - loss: 14.3212 - mae: 14.3212\n",
            "Epoch 18/100\n",
            "1/1 [==============================] - 0s 6ms/step - loss: 14.1887 - mae: 14.1887\n",
            "Epoch 19/100\n",
            "1/1 [==============================] - 0s 8ms/step - loss: 14.0562 - mae: 14.0562\n",
            "Epoch 20/100\n",
            "1/1 [==============================] - 0s 8ms/step - loss: 13.9237 - mae: 13.9237\n",
            "Epoch 21/100\n",
            "1/1 [==============================] - 0s 4ms/step - loss: 13.7912 - mae: 13.7912\n",
            "Epoch 22/100\n",
            "1/1 [==============================] - 0s 4ms/step - loss: 13.6587 - mae: 13.6587\n",
            "Epoch 23/100\n",
            "1/1 [==============================] - 0s 4ms/step - loss: 13.5262 - mae: 13.5262\n",
            "Epoch 24/100\n",
            "1/1 [==============================] - 0s 6ms/step - loss: 13.3937 - mae: 13.3937\n",
            "Epoch 25/100\n",
            "1/1 [==============================] - 0s 9ms/step - loss: 13.2612 - mae: 13.2612\n",
            "Epoch 26/100\n",
            "1/1 [==============================] - 0s 7ms/step - loss: 13.1287 - mae: 13.1287\n",
            "Epoch 27/100\n",
            "1/1 [==============================] - 0s 10ms/step - loss: 12.9962 - mae: 12.9962\n",
            "Epoch 28/100\n",
            "1/1 [==============================] - 0s 5ms/step - loss: 12.8637 - mae: 12.8637\n",
            "Epoch 29/100\n",
            "1/1 [==============================] - 0s 9ms/step - loss: 12.7312 - mae: 12.7312\n",
            "Epoch 30/100\n",
            "1/1 [==============================] - 0s 7ms/step - loss: 12.5987 - mae: 12.5987\n",
            "Epoch 31/100\n",
            "1/1 [==============================] - 0s 8ms/step - loss: 12.4662 - mae: 12.4662\n",
            "Epoch 32/100\n",
            "1/1 [==============================] - 0s 7ms/step - loss: 12.3337 - mae: 12.3337\n",
            "Epoch 33/100\n",
            "1/1 [==============================] - 0s 7ms/step - loss: 12.2012 - mae: 12.2012\n",
            "Epoch 34/100\n",
            "1/1 [==============================] - 0s 7ms/step - loss: 12.0687 - mae: 12.0687\n",
            "Epoch 35/100\n",
            "1/1 [==============================] - 0s 10ms/step - loss: 11.9362 - mae: 11.9362\n",
            "Epoch 36/100\n",
            "1/1 [==============================] - 0s 5ms/step - loss: 11.8037 - mae: 11.8037\n",
            "Epoch 37/100\n",
            "1/1 [==============================] - 0s 8ms/step - loss: 11.6712 - mae: 11.6712\n",
            "Epoch 38/100\n",
            "1/1 [==============================] - 0s 6ms/step - loss: 11.5387 - mae: 11.5387\n",
            "Epoch 39/100\n",
            "1/1 [==============================] - 0s 6ms/step - loss: 11.4062 - mae: 11.4062\n",
            "Epoch 40/100\n",
            "1/1 [==============================] - 0s 14ms/step - loss: 11.2737 - mae: 11.2737\n",
            "Epoch 41/100\n",
            "1/1 [==============================] - 0s 6ms/step - loss: 11.1412 - mae: 11.1412\n",
            "Epoch 42/100\n",
            "1/1 [==============================] - 0s 8ms/step - loss: 11.0087 - mae: 11.0087\n",
            "Epoch 43/100\n",
            "1/1 [==============================] - 0s 5ms/step - loss: 10.8762 - mae: 10.8762\n",
            "Epoch 44/100\n",
            "1/1 [==============================] - 0s 9ms/step - loss: 10.7437 - mae: 10.7437\n",
            "Epoch 45/100\n",
            "1/1 [==============================] - 0s 5ms/step - loss: 10.6112 - mae: 10.6112\n",
            "Epoch 46/100\n",
            "1/1 [==============================] - 0s 6ms/step - loss: 10.4787 - mae: 10.4787\n",
            "Epoch 47/100\n",
            "1/1 [==============================] - 0s 7ms/step - loss: 10.3462 - mae: 10.3462\n",
            "Epoch 48/100\n",
            "1/1 [==============================] - 0s 10ms/step - loss: 10.2137 - mae: 10.2137\n",
            "Epoch 49/100\n",
            "1/1 [==============================] - 0s 6ms/step - loss: 10.0812 - mae: 10.0812\n",
            "Epoch 50/100\n",
            "1/1 [==============================] - 0s 11ms/step - loss: 9.9487 - mae: 9.9487\n",
            "Epoch 51/100\n",
            "1/1 [==============================] - 0s 5ms/step - loss: 9.8162 - mae: 9.8162\n",
            "Epoch 52/100\n",
            "1/1 [==============================] - 0s 5ms/step - loss: 9.6837 - mae: 9.6837\n",
            "Epoch 53/100\n",
            "1/1 [==============================] - 0s 8ms/step - loss: 9.5512 - mae: 9.5512\n",
            "Epoch 54/100\n",
            "1/1 [==============================] - 0s 5ms/step - loss: 9.4187 - mae: 9.4187\n",
            "Epoch 55/100\n",
            "1/1 [==============================] - 0s 6ms/step - loss: 9.2862 - mae: 9.2862\n",
            "Epoch 56/100\n",
            "1/1 [==============================] - 0s 7ms/step - loss: 9.1537 - mae: 9.1537\n",
            "Epoch 57/100\n",
            "1/1 [==============================] - 0s 7ms/step - loss: 9.0212 - mae: 9.0212\n",
            "Epoch 58/100\n",
            "1/1 [==============================] - 0s 7ms/step - loss: 8.8887 - mae: 8.8887\n",
            "Epoch 59/100\n",
            "1/1 [==============================] - 0s 7ms/step - loss: 8.7562 - mae: 8.7562\n",
            "Epoch 60/100\n",
            "1/1 [==============================] - 0s 7ms/step - loss: 8.6237 - mae: 8.6237\n",
            "Epoch 61/100\n",
            "1/1 [==============================] - 0s 7ms/step - loss: 8.4912 - mae: 8.4912\n",
            "Epoch 62/100\n",
            "1/1 [==============================] - 0s 5ms/step - loss: 8.3587 - mae: 8.3587\n",
            "Epoch 63/100\n",
            "1/1 [==============================] - 0s 7ms/step - loss: 8.2262 - mae: 8.2262\n",
            "Epoch 64/100\n",
            "1/1 [==============================] - 0s 9ms/step - loss: 8.0937 - mae: 8.0937\n",
            "Epoch 65/100\n",
            "1/1 [==============================] - 0s 6ms/step - loss: 7.9612 - mae: 7.9612\n",
            "Epoch 66/100\n",
            "1/1 [==============================] - 0s 9ms/step - loss: 7.8287 - mae: 7.8287\n",
            "Epoch 67/100\n",
            "1/1 [==============================] - 0s 8ms/step - loss: 7.6962 - mae: 7.6962\n",
            "Epoch 68/100\n",
            "1/1 [==============================] - 0s 9ms/step - loss: 7.5637 - mae: 7.5637\n",
            "Epoch 69/100\n",
            "1/1 [==============================] - 0s 6ms/step - loss: 7.4312 - mae: 7.4312\n",
            "Epoch 70/100\n",
            "1/1 [==============================] - 0s 8ms/step - loss: 7.2987 - mae: 7.2987\n",
            "Epoch 71/100\n",
            "1/1 [==============================] - 0s 7ms/step - loss: 7.1662 - mae: 7.1662\n",
            "Epoch 72/100\n",
            "1/1 [==============================] - 0s 7ms/step - loss: 7.0337 - mae: 7.0337\n",
            "Epoch 73/100\n",
            "1/1 [==============================] - 0s 10ms/step - loss: 6.9825 - mae: 6.9825\n",
            "Epoch 74/100\n",
            "1/1 [==============================] - 0s 8ms/step - loss: 6.9769 - mae: 6.9769\n",
            "Epoch 75/100\n",
            "1/1 [==============================] - 0s 5ms/step - loss: 6.9712 - mae: 6.9712\n",
            "Epoch 76/100\n",
            "1/1 [==============================] - 0s 8ms/step - loss: 6.9656 - mae: 6.9656\n",
            "Epoch 77/100\n",
            "1/1 [==============================] - 0s 5ms/step - loss: 6.9600 - mae: 6.9600\n",
            "Epoch 78/100\n",
            "1/1 [==============================] - 0s 5ms/step - loss: 6.9544 - mae: 6.9544\n",
            "Epoch 79/100\n",
            "1/1 [==============================] - 0s 5ms/step - loss: 6.9487 - mae: 6.9487\n",
            "Epoch 80/100\n",
            "1/1 [==============================] - 0s 8ms/step - loss: 6.9431 - mae: 6.9431\n",
            "Epoch 81/100\n",
            "1/1 [==============================] - 0s 5ms/step - loss: 6.9375 - mae: 6.9375\n",
            "Epoch 82/100\n",
            "1/1 [==============================] - 0s 4ms/step - loss: 6.9319 - mae: 6.9319\n",
            "Epoch 83/100\n",
            "1/1 [==============================] - 0s 8ms/step - loss: 6.9263 - mae: 6.9263\n",
            "Epoch 84/100\n",
            "1/1 [==============================] - 0s 4ms/step - loss: 6.9206 - mae: 6.9206\n",
            "Epoch 85/100\n",
            "1/1 [==============================] - 0s 4ms/step - loss: 6.9150 - mae: 6.9150\n",
            "Epoch 86/100\n",
            "1/1 [==============================] - 0s 8ms/step - loss: 6.9094 - mae: 6.9094\n",
            "Epoch 87/100\n",
            "1/1 [==============================] - 0s 10ms/step - loss: 6.9038 - mae: 6.9038\n",
            "Epoch 88/100\n",
            "1/1 [==============================] - 0s 7ms/step - loss: 6.8981 - mae: 6.8981\n",
            "Epoch 89/100\n",
            "1/1 [==============================] - 0s 12ms/step - loss: 6.8925 - mae: 6.8925\n",
            "Epoch 90/100\n",
            "1/1 [==============================] - 0s 13ms/step - loss: 6.8869 - mae: 6.8869\n",
            "Epoch 91/100\n",
            "1/1 [==============================] - 0s 7ms/step - loss: 6.8813 - mae: 6.8813\n",
            "Epoch 92/100\n",
            "1/1 [==============================] - 0s 11ms/step - loss: 6.8756 - mae: 6.8756\n",
            "Epoch 93/100\n",
            "1/1 [==============================] - 0s 14ms/step - loss: 6.8700 - mae: 6.8700\n",
            "Epoch 94/100\n",
            "1/1 [==============================] - 0s 4ms/step - loss: 6.8644 - mae: 6.8644\n",
            "Epoch 95/100\n",
            "1/1 [==============================] - 0s 5ms/step - loss: 6.8587 - mae: 6.8587\n",
            "Epoch 96/100\n",
            "1/1 [==============================] - 0s 8ms/step - loss: 6.8531 - mae: 6.8531\n",
            "Epoch 97/100\n",
            "1/1 [==============================] - 0s 4ms/step - loss: 6.8475 - mae: 6.8475\n",
            "Epoch 98/100\n",
            "1/1 [==============================] - 0s 9ms/step - loss: 6.8419 - mae: 6.8419\n",
            "Epoch 99/100\n",
            "1/1 [==============================] - 0s 4ms/step - loss: 6.8363 - mae: 6.8363\n",
            "Epoch 100/100\n",
            "1/1 [==============================] - 0s 5ms/step - loss: 6.8306 - mae: 6.8306\n"
          ]
        },
        {
          "output_type": "execute_result",
          "data": {
            "text/plain": [
              "<keras.callbacks.History at 0x7ff762fbe890>"
            ]
          },
          "metadata": {},
          "execution_count": 4
        }
      ]
    },
    {
      "cell_type": "code",
      "metadata": {
        "colab": {
          "base_uri": "https://localhost:8080/"
        },
        "id": "MduXXYgxMDOd",
        "outputId": "569e907b-b368-45ce-f673-6f5ae9bbdbed"
      },
      "source": [
        "# Checking the progression of the model\n",
        "model.predict([17.0])"
      ],
      "execution_count": 5,
      "outputs": [
        {
          "output_type": "execute_result",
          "data": {
            "text/plain": [
              "array([[29.60003]], dtype=float32)"
            ]
          },
          "metadata": {},
          "execution_count": 5
        }
      ]
    },
    {
      "cell_type": "code",
      "metadata": {
        "colab": {
          "base_uri": "https://localhost:8080/"
        },
        "id": "47f2Kqf5M_5i",
        "outputId": "ba1f3228-c445-4d2d-af08-e6e3ee5c0b45"
      },
      "source": [
        "# Rebuild the model for the third time by adding a new layer and activation\n",
        "\n",
        " #1. Create a model again\n",
        "model = tf.keras.Sequential([\n",
        "    tf.keras.layers.Dense(100, activation=\"relu\"),\n",
        "    tf.keras.layers.Dense(100, activation=\"relu\"),\n",
        "    tf.keras.layers.Dense(1)\n",
        "    \n",
        "])\n",
        "\n",
        " #2. recompile the model\n",
        "model.compile(loss=tf.keras.losses.mae,optimizer=tf.keras.optimizers.SGD(), \n",
        "              metrics=[\"mae\"]) # mae is for mean absolute error gd gradient descent\n",
        "\n",
        "\n",
        "# 3 Fit the model and keeping the epochs\n",
        "model.fit(tf.expand_dims(X,axis=-1), y,epochs=100)"
      ],
      "execution_count": 29,
      "outputs": [
        {
          "output_type": "stream",
          "name": "stdout",
          "text": [
            "Epoch 1/100\n",
            "2/2 [==============================] - 0s 15ms/step - loss: 47.6978 - mae: 47.6978\n",
            "Epoch 2/100\n",
            "2/2 [==============================] - 0s 6ms/step - loss: 22.7510 - mae: 22.7510\n",
            "Epoch 3/100\n",
            "2/2 [==============================] - 0s 6ms/step - loss: 24.0233 - mae: 24.0233\n",
            "Epoch 4/100\n",
            "2/2 [==============================] - 0s 7ms/step - loss: 14.0693 - mae: 14.0693\n",
            "Epoch 5/100\n",
            "2/2 [==============================] - 0s 6ms/step - loss: 19.0713 - mae: 19.0713\n",
            "Epoch 6/100\n",
            "2/2 [==============================] - 0s 5ms/step - loss: 18.7867 - mae: 18.7867\n",
            "Epoch 7/100\n",
            "2/2 [==============================] - 0s 4ms/step - loss: 14.6898 - mae: 14.6898\n",
            "Epoch 8/100\n",
            "2/2 [==============================] - 0s 6ms/step - loss: 20.0291 - mae: 20.0291\n",
            "Epoch 9/100\n",
            "2/2 [==============================] - 0s 6ms/step - loss: 24.1053 - mae: 24.1053\n",
            "Epoch 10/100\n",
            "2/2 [==============================] - 0s 5ms/step - loss: 16.4000 - mae: 16.4000\n",
            "Epoch 11/100\n",
            "2/2 [==============================] - 0s 6ms/step - loss: 19.3050 - mae: 19.3050\n",
            "Epoch 12/100\n",
            "2/2 [==============================] - 0s 7ms/step - loss: 23.2051 - mae: 23.2051\n",
            "Epoch 13/100\n",
            "2/2 [==============================] - 0s 7ms/step - loss: 16.1120 - mae: 16.1120\n",
            "Epoch 14/100\n",
            "2/2 [==============================] - 0s 5ms/step - loss: 13.5264 - mae: 13.5264\n",
            "Epoch 15/100\n",
            "2/2 [==============================] - 0s 6ms/step - loss: 10.2433 - mae: 10.2433\n",
            "Epoch 16/100\n",
            "2/2 [==============================] - 0s 6ms/step - loss: 10.2862 - mae: 10.2862\n",
            "Epoch 17/100\n",
            "2/2 [==============================] - 0s 4ms/step - loss: 19.5786 - mae: 19.5786\n",
            "Epoch 18/100\n",
            "2/2 [==============================] - 0s 6ms/step - loss: 18.0972 - mae: 18.0972\n",
            "Epoch 19/100\n",
            "2/2 [==============================] - 0s 7ms/step - loss: 14.5422 - mae: 14.5422\n",
            "Epoch 20/100\n",
            "2/2 [==============================] - 0s 6ms/step - loss: 17.6781 - mae: 17.6781\n",
            "Epoch 21/100\n",
            "2/2 [==============================] - 0s 5ms/step - loss: 19.8184 - mae: 19.8184\n",
            "Epoch 22/100\n",
            "2/2 [==============================] - 0s 8ms/step - loss: 24.4688 - mae: 24.4688\n",
            "Epoch 23/100\n",
            "2/2 [==============================] - 0s 8ms/step - loss: 18.3076 - mae: 18.3076\n",
            "Epoch 24/100\n",
            "2/2 [==============================] - 0s 4ms/step - loss: 19.0468 - mae: 19.0468\n",
            "Epoch 25/100\n",
            "2/2 [==============================] - 0s 5ms/step - loss: 18.1134 - mae: 18.1134\n",
            "Epoch 26/100\n",
            "2/2 [==============================] - 0s 9ms/step - loss: 7.8490 - mae: 7.8490\n",
            "Epoch 27/100\n",
            "2/2 [==============================] - 0s 8ms/step - loss: 16.7431 - mae: 16.7431\n",
            "Epoch 28/100\n",
            "2/2 [==============================] - 0s 4ms/step - loss: 17.2560 - mae: 17.2560\n",
            "Epoch 29/100\n",
            "2/2 [==============================] - 0s 9ms/step - loss: 22.8505 - mae: 22.8505\n",
            "Epoch 30/100\n",
            "2/2 [==============================] - 0s 4ms/step - loss: 16.1465 - mae: 16.1465\n",
            "Epoch 31/100\n",
            "2/2 [==============================] - 0s 7ms/step - loss: 17.5323 - mae: 17.5323\n",
            "Epoch 32/100\n",
            "2/2 [==============================] - 0s 7ms/step - loss: 29.9247 - mae: 29.9247\n",
            "Epoch 33/100\n",
            "2/2 [==============================] - 0s 7ms/step - loss: 11.8773 - mae: 11.8773\n",
            "Epoch 34/100\n",
            "2/2 [==============================] - 0s 7ms/step - loss: 17.4118 - mae: 17.4118\n",
            "Epoch 35/100\n",
            "2/2 [==============================] - 0s 7ms/step - loss: 12.9261 - mae: 12.9261\n",
            "Epoch 36/100\n",
            "2/2 [==============================] - 0s 5ms/step - loss: 15.9967 - mae: 15.9967\n",
            "Epoch 37/100\n",
            "2/2 [==============================] - 0s 12ms/step - loss: 11.5749 - mae: 11.5749\n",
            "Epoch 38/100\n",
            "2/2 [==============================] - 0s 5ms/step - loss: 15.6687 - mae: 15.6687\n",
            "Epoch 39/100\n",
            "2/2 [==============================] - 0s 14ms/step - loss: 16.2718 - mae: 16.2718\n",
            "Epoch 40/100\n",
            "2/2 [==============================] - 0s 5ms/step - loss: 24.4311 - mae: 24.4311\n",
            "Epoch 41/100\n",
            "2/2 [==============================] - 0s 7ms/step - loss: 18.4730 - mae: 18.4730\n",
            "Epoch 42/100\n",
            "2/2 [==============================] - 0s 8ms/step - loss: 23.0907 - mae: 23.0907\n",
            "Epoch 43/100\n",
            "2/2 [==============================] - 0s 4ms/step - loss: 15.7883 - mae: 15.7883\n",
            "Epoch 44/100\n",
            "2/2 [==============================] - 0s 4ms/step - loss: 14.9288 - mae: 14.9288\n",
            "Epoch 45/100\n",
            "2/2 [==============================] - 0s 5ms/step - loss: 17.1838 - mae: 17.1838\n",
            "Epoch 46/100\n",
            "2/2 [==============================] - 0s 8ms/step - loss: 20.4129 - mae: 20.4129\n",
            "Epoch 47/100\n",
            "2/2 [==============================] - 0s 8ms/step - loss: 15.1054 - mae: 15.1054\n",
            "Epoch 48/100\n",
            "2/2 [==============================] - 0s 10ms/step - loss: 16.0700 - mae: 16.0700\n",
            "Epoch 49/100\n",
            "2/2 [==============================] - 0s 8ms/step - loss: 22.1726 - mae: 22.1726\n",
            "Epoch 50/100\n",
            "2/2 [==============================] - 0s 6ms/step - loss: 26.4320 - mae: 26.4320\n",
            "Epoch 51/100\n",
            "2/2 [==============================] - 0s 5ms/step - loss: 18.8410 - mae: 18.8410\n",
            "Epoch 52/100\n",
            "2/2 [==============================] - 0s 5ms/step - loss: 17.1035 - mae: 17.1035\n",
            "Epoch 53/100\n",
            "2/2 [==============================] - 0s 8ms/step - loss: 12.8490 - mae: 12.8490\n",
            "Epoch 54/100\n",
            "2/2 [==============================] - 0s 5ms/step - loss: 16.2187 - mae: 16.2187\n",
            "Epoch 55/100\n",
            "2/2 [==============================] - 0s 5ms/step - loss: 18.4072 - mae: 18.4072\n",
            "Epoch 56/100\n",
            "2/2 [==============================] - 0s 8ms/step - loss: 16.9547 - mae: 16.9547\n",
            "Epoch 57/100\n",
            "2/2 [==============================] - 0s 9ms/step - loss: 15.6153 - mae: 15.6153\n",
            "Epoch 58/100\n",
            "2/2 [==============================] - 0s 9ms/step - loss: 23.7051 - mae: 23.7051\n",
            "Epoch 59/100\n",
            "2/2 [==============================] - 0s 4ms/step - loss: 15.7343 - mae: 15.7343\n",
            "Epoch 60/100\n",
            "2/2 [==============================] - 0s 10ms/step - loss: 20.4097 - mae: 20.4097\n",
            "Epoch 61/100\n",
            "2/2 [==============================] - 0s 5ms/step - loss: 15.2578 - mae: 15.2578\n",
            "Epoch 62/100\n",
            "2/2 [==============================] - 0s 6ms/step - loss: 18.8683 - mae: 18.8683\n",
            "Epoch 63/100\n",
            "2/2 [==============================] - 0s 5ms/step - loss: 23.8508 - mae: 23.8508\n",
            "Epoch 64/100\n",
            "2/2 [==============================] - 0s 9ms/step - loss: 12.4380 - mae: 12.4380\n",
            "Epoch 65/100\n",
            "2/2 [==============================] - 0s 4ms/step - loss: 17.6170 - mae: 17.6170\n",
            "Epoch 66/100\n",
            "2/2 [==============================] - 0s 7ms/step - loss: 17.7579 - mae: 17.7579\n",
            "Epoch 67/100\n",
            "2/2 [==============================] - 0s 6ms/step - loss: 13.7794 - mae: 13.7794\n",
            "Epoch 68/100\n",
            "2/2 [==============================] - 0s 5ms/step - loss: 15.1677 - mae: 15.1677\n",
            "Epoch 69/100\n",
            "2/2 [==============================] - 0s 5ms/step - loss: 26.2764 - mae: 26.2764\n",
            "Epoch 70/100\n",
            "2/2 [==============================] - 0s 5ms/step - loss: 18.0273 - mae: 18.0273\n",
            "Epoch 71/100\n",
            "2/2 [==============================] - 0s 7ms/step - loss: 23.9992 - mae: 23.9992\n",
            "Epoch 72/100\n",
            "2/2 [==============================] - 0s 7ms/step - loss: 18.1876 - mae: 18.1876\n",
            "Epoch 73/100\n",
            "2/2 [==============================] - 0s 7ms/step - loss: 17.9190 - mae: 17.9190\n",
            "Epoch 74/100\n",
            "2/2 [==============================] - 0s 9ms/step - loss: 9.0706 - mae: 9.0706\n",
            "Epoch 75/100\n",
            "2/2 [==============================] - 0s 7ms/step - loss: 27.2968 - mae: 27.2968\n",
            "Epoch 76/100\n",
            "2/2 [==============================] - 0s 4ms/step - loss: 18.9902 - mae: 18.9902\n",
            "Epoch 77/100\n",
            "2/2 [==============================] - 0s 7ms/step - loss: 9.9181 - mae: 9.9181\n",
            "Epoch 78/100\n",
            "2/2 [==============================] - 0s 5ms/step - loss: 21.2675 - mae: 21.2675\n",
            "Epoch 79/100\n",
            "2/2 [==============================] - 0s 5ms/step - loss: 15.2499 - mae: 15.2499\n",
            "Epoch 80/100\n",
            "2/2 [==============================] - 0s 5ms/step - loss: 22.0756 - mae: 22.0756\n",
            "Epoch 81/100\n",
            "2/2 [==============================] - 0s 5ms/step - loss: 15.6457 - mae: 15.6457\n",
            "Epoch 82/100\n",
            "2/2 [==============================] - 0s 5ms/step - loss: 23.3908 - mae: 23.3908\n",
            "Epoch 83/100\n",
            "2/2 [==============================] - 0s 4ms/step - loss: 14.0576 - mae: 14.0576\n",
            "Epoch 84/100\n",
            "2/2 [==============================] - 0s 4ms/step - loss: 20.2829 - mae: 20.2829\n",
            "Epoch 85/100\n",
            "2/2 [==============================] - 0s 6ms/step - loss: 14.8824 - mae: 14.8824\n",
            "Epoch 86/100\n",
            "2/2 [==============================] - 0s 5ms/step - loss: 22.4060 - mae: 22.4060\n",
            "Epoch 87/100\n",
            "2/2 [==============================] - 0s 5ms/step - loss: 18.1833 - mae: 18.1833\n",
            "Epoch 88/100\n",
            "2/2 [==============================] - 0s 12ms/step - loss: 13.7006 - mae: 13.7006\n",
            "Epoch 89/100\n",
            "2/2 [==============================] - 0s 5ms/step - loss: 12.6530 - mae: 12.6530\n",
            "Epoch 90/100\n",
            "2/2 [==============================] - 0s 10ms/step - loss: 25.6944 - mae: 25.6944\n",
            "Epoch 91/100\n",
            "2/2 [==============================] - 0s 8ms/step - loss: 10.3049 - mae: 10.3049\n",
            "Epoch 92/100\n",
            "2/2 [==============================] - 0s 5ms/step - loss: 24.0697 - mae: 24.0697\n",
            "Epoch 93/100\n",
            "2/2 [==============================] - 0s 6ms/step - loss: 15.5742 - mae: 15.5742\n",
            "Epoch 94/100\n",
            "2/2 [==============================] - 0s 9ms/step - loss: 22.3706 - mae: 22.3706\n",
            "Epoch 95/100\n",
            "2/2 [==============================] - 0s 7ms/step - loss: 12.9753 - mae: 12.9753\n",
            "Epoch 96/100\n",
            "2/2 [==============================] - 0s 4ms/step - loss: 16.4958 - mae: 16.4958\n",
            "Epoch 97/100\n",
            "2/2 [==============================] - 0s 12ms/step - loss: 13.8806 - mae: 13.8806\n",
            "Epoch 98/100\n",
            "2/2 [==============================] - 0s 8ms/step - loss: 21.6168 - mae: 21.6168\n",
            "Epoch 99/100\n",
            "2/2 [==============================] - 0s 7ms/step - loss: 17.2869 - mae: 17.2869\n",
            "Epoch 100/100\n",
            "2/2 [==============================] - 0s 7ms/step - loss: 11.8427 - mae: 11.8427\n"
          ]
        },
        {
          "output_type": "execute_result",
          "data": {
            "text/plain": [
              "<keras.callbacks.History at 0x7ff6e6829810>"
            ]
          },
          "metadata": {},
          "execution_count": 29
        }
      ]
    },
    {
      "cell_type": "code",
      "metadata": {
        "colab": {
          "base_uri": "https://localhost:8080/"
        },
        "id": "K_1OZA--OC6b",
        "outputId": "826a774f-237b-435e-aacc-2aa339b9764c"
      },
      "source": [
        "# Checking the progression of the model again\n",
        "model.predict([17.0])"
      ],
      "execution_count": 30,
      "outputs": [
        {
          "output_type": "stream",
          "name": "stdout",
          "text": [
            "WARNING:tensorflow:6 out of the last 7 calls to <function Model.make_predict_function.<locals>.predict_function at 0x7ff6e68283b0> triggered tf.function retracing. Tracing is expensive and the excessive number of tracings could be due to (1) creating @tf.function repeatedly in a loop, (2) passing tensors with different shapes, (3) passing Python objects instead of tensors. For (1), please define your @tf.function outside of the loop. For (2), @tf.function has experimental_relax_shapes=True option that relaxes argument shapes that can avoid unnecessary retracing. For (3), please refer to https://www.tensorflow.org/guide/function#controlling_retracing and https://www.tensorflow.org/api_docs/python/tf/function for  more details.\n"
          ]
        },
        {
          "output_type": "execute_result",
          "data": {
            "text/plain": [
              "array([[23.706022]], dtype=float32)"
            ]
          },
          "metadata": {},
          "execution_count": 30
        }
      ]
    },
    {
      "cell_type": "code",
      "metadata": {
        "id": "I276PbjROHiV"
      },
      "source": [
        "# An other change to our model(one extra layer with 100 unit)\n",
        " #1. Create a model again\n",
        "model = tf.keras.Sequential([\n",
        "    tf.keras.layers.Dense(100, activation=\"relu\"),\n",
        "    tf.keras.layers.Dense(1)\n",
        "    \n",
        "])\n",
        "\n",
        " #2. recompile the model\n",
        "model.compile(loss=\"mae\",\n",
        "              optimizer=tf.keras.optimizers.SGD(), \n",
        "              metrics=[\"mae\"])\n",
        "\n",
        "\n",
        "# 3 Fit the model and keeping the epochs\n",
        "model.fit(tf.expand_dims(X,axis=-1), y,epochs=100)\n"
      ],
      "execution_count": null,
      "outputs": []
    },
    {
      "cell_type": "code",
      "metadata": {
        "colab": {
          "base_uri": "https://localhost:8080/"
        },
        "id": "U1UFX6FRSkOw",
        "outputId": "c496561d-6db5-4046-dac0-f2ed059930ba"
      },
      "source": [
        "# Let'stry to make a production\n",
        "model.predict([17.0])"
      ],
      "execution_count": 9,
      "outputs": [
        {
          "output_type": "execute_result",
          "data": {
            "text/plain": [
              "array([[32.00924]], dtype=float32)"
            ]
          },
          "metadata": {},
          "execution_count": 9
        }
      ]
    },
    {
      "cell_type": "code",
      "metadata": {
        "id": "rt5W6tc7TALE"
      },
      "source": [
        "# An other change to our model()\n",
        " #1. Create a model again\n",
        "model = tf.keras.Sequential([\n",
        "    tf.keras.layers.Dense(500, activation=None),\n",
        "    tf.keras.layers.Dense(1)\n",
        "    \n",
        "])\n",
        "\n",
        " #2. recompile the model\n",
        "model.compile(loss=\"mae\",\n",
        "              optimizer=tf.keras.optimizers.SGD(), \n",
        "              metrics=[\"mae\"])\n",
        "\n",
        "\n",
        "# 3 Fit the model and keeping the epochs\n",
        "model.fit(tf.expand_dims(X,axis=-1), y,epochs=100)"
      ],
      "execution_count": null,
      "outputs": []
    },
    {
      "cell_type": "code",
      "metadata": {
        "colab": {
          "base_uri": "https://localhost:8080/"
        },
        "id": "lHu0L04XWMTk",
        "outputId": "1f1e592e-da14-4e09-d894-d702fc546dd4"
      },
      "source": [
        "# Let's try an other prediction\n",
        "model.predict([17.0])"
      ],
      "execution_count": 11,
      "outputs": [
        {
          "output_type": "execute_result",
          "data": {
            "text/plain": [
              "array([[27.93168]], dtype=float32)"
            ]
          },
          "metadata": {},
          "execution_count": 11
        }
      ]
    },
    {
      "cell_type": "code",
      "metadata": {
        "id": "AGdrN1HsRT5Z"
      },
      "source": [
        "# An other change to our model()\n",
        " #1. Create a model again\n",
        "model = tf.keras.Sequential([\n",
        "    tf.keras.layers.Dense(500, activation=None),\n",
        "    tf.keras.layers.Dense(1)\n",
        "    \n",
        "])\n",
        "\n",
        " #2. recompile the model\n",
        "model.compile(loss=\"mae\",\n",
        "              optimizer=tf.keras.optimizers.Adam(), \n",
        "              metrics=[\"mae\"])\n",
        "\n",
        "\n",
        "# 3 Fit the model and keeping the epochs\n",
        "model.fit(tf.expand_dims(X,axis=-1), y,epochs=100)"
      ],
      "execution_count": null,
      "outputs": []
    },
    {
      "cell_type": "code",
      "metadata": {
        "id": "f3FwxQVNRwwQ"
      },
      "source": [
        "# An other change to our model()\n",
        " #1. Create a model again by increasing the learning rate of ADAM\n",
        "model = tf.keras.Sequential([\n",
        "    tf.keras.layers.Dense(500, activation=None),\n",
        "    tf.keras.layers.Dense(1)\n",
        "    \n",
        "])\n",
        "\n",
        " #2. recompile the model\n",
        "model.compile(loss=\"mae\",\n",
        "              optimizer=tf.keras.optimizers.Adam(learning_rate=0.01), \n",
        "              metrics=[\"mae\"])\n",
        "\n",
        "\n",
        "# 3 Fit the model and keeping the epochs\n",
        "model.fit(tf.expand_dims(X,axis=-1), y,epochs=100)"
      ],
      "execution_count": null,
      "outputs": []
    },
    {
      "cell_type": "markdown",
      "metadata": {
        "id": "6w1ByAdNT1EN"
      },
      "source": [
        "### Evaluating a Model"
      ]
    },
    {
      "cell_type": "code",
      "metadata": {
        "colab": {
          "base_uri": "https://localhost:8080/"
        },
        "id": "rIETa0tqS0km",
        "outputId": "67a206bd-f870-44d4-be0c-b3852dacca01"
      },
      "source": [
        "# Make a bigger dataset\n",
        "X = tf.range(-100, 100, 4)\n",
        "X"
      ],
      "execution_count": 34,
      "outputs": [
        {
          "output_type": "execute_result",
          "data": {
            "text/plain": [
              "<tf.Tensor: shape=(50,), dtype=int32, numpy=\n",
              "array([-100,  -96,  -92,  -88,  -84,  -80,  -76,  -72,  -68,  -64,  -60,\n",
              "        -56,  -52,  -48,  -44,  -40,  -36,  -32,  -28,  -24,  -20,  -16,\n",
              "        -12,   -8,   -4,    0,    4,    8,   12,   16,   20,   24,   28,\n",
              "         32,   36,   40,   44,   48,   52,   56,   60,   64,   68,   72,\n",
              "         76,   80,   84,   88,   92,   96], dtype=int32)>"
            ]
          },
          "metadata": {},
          "execution_count": 34
        }
      ]
    },
    {
      "cell_type": "code",
      "metadata": {
        "colab": {
          "base_uri": "https://localhost:8080/"
        },
        "id": "5n8J5crTW0Cz",
        "outputId": "9a93d3d7-c656-424a-a532-00afcb8ea0c1"
      },
      "source": [
        "# Make labels for the dataset\n",
        "y = X + 10\n",
        "y"
      ],
      "execution_count": 26,
      "outputs": [
        {
          "output_type": "execute_result",
          "data": {
            "text/plain": [
              "<tf.Tensor: shape=(50,), dtype=int32, numpy=\n",
              "array([-90, -86, -82, -78, -74, -70, -66, -62, -58, -54, -50, -46, -42,\n",
              "       -38, -34, -30, -26, -22, -18, -14, -10,  -6,  -2,   2,   6,  10,\n",
              "        14,  18,  22,  26,  30,  34,  38,  42,  46,  50,  54,  58,  62,\n",
              "        66,  70,  74,  78,  82,  86,  90,  94,  98, 102, 106], dtype=int32)>"
            ]
          },
          "metadata": {},
          "execution_count": 26
        }
      ]
    },
    {
      "cell_type": "code",
      "metadata": {
        "colab": {
          "base_uri": "https://localhost:8080/",
          "height": 282
        },
        "id": "xrDbm0XfXUuD",
        "outputId": "e841de91-ecec-4316-a4dd-608c95ff22eb"
      },
      "source": [
        "# Visualize the data\n",
        "import matplotlib.pyplot as plt\n",
        "plt.scatter(X, y)"
      ],
      "execution_count": 27,
      "outputs": [
        {
          "output_type": "execute_result",
          "data": {
            "text/plain": [
              "<matplotlib.collections.PathCollection at 0x7ff6e68afe90>"
            ]
          },
          "metadata": {},
          "execution_count": 27
        },
        {
          "output_type": "display_data",
          "data": {
            "image/png": "[encoded data removed]",
            "text/plain": [
              "<Figure size 432x288 with 1 Axes>"
            ]
          },
          "metadata": {
            "needs_background": "light"
          }
        }
      ]
    },
    {
      "cell_type": "markdown",
      "metadata": {
        "id": "QtimDriHUIXf"
      },
      "source": [
        "#### Creating the 3 sets(training, validation and Test sets)"
      ]
    },
    {
      "cell_type": "code",
      "metadata": {
        "colab": {
          "base_uri": "https://localhost:8080/"
        },
        "id": "-YaRdAChX4KN",
        "outputId": "365a7fd0-629f-4b63-fbf8-e82277a5a3bf"
      },
      "source": [
        "# Split the data into train and test sets\n",
        "X_train = X[:40] # first 40 are training samples (80% of the data)\n",
        "y_train = y[:40]\n",
        "\n",
        "X_test = X[40:] # last 10 are testting samples (20% of the data)\n",
        "y_test = y[40:]\n",
        "\n",
        "len(X_train), len(X_test), len(y_train), len(y_test)"
      ],
      "execution_count": 28,
      "outputs": [
        {
          "output_type": "execute_result",
          "data": {
            "text/plain": [
              "(40, 10, 40, 10)"
            ]
          },
          "metadata": {},
          "execution_count": 28
        }
      ]
    },
    {
      "cell_type": "markdown",
      "metadata": {
        "id": "Mf17uZe3XD9e"
      },
      "source": [
        "### Visualizing the data"
      ]
    },
    {
      "cell_type": "code",
      "metadata": {
        "colab": {
          "base_uri": "https://localhost:8080/",
          "height": 428
        },
        "id": "tkhWqdiKVjbd",
        "outputId": "8e4d2b60-f46e-446f-f3ec-ad0f9deec0c3"
      },
      "source": [
        "plt.figure(figsize=(10, 7))\n",
        "# Plot training data in blue\n",
        "plt.scatter(X_train, y_train, c=\"b\", label=\"Training data\")\n",
        "# Plot test data in green\n",
        "plt.scatter(X_test, y_test, c=\"g\", label=\"Testing data\")\n",
        "# show a legend\n",
        "plt.legend();"
      ],
      "execution_count": 20,
      "outputs": [
        {
          "output_type": "display_data",
          "data": {
            "image/png": "[encoded data removed]",
            "text/plain": [
              "<Figure size 720x504 with 1 Axes>"
            ]
          },
          "metadata": {
            "needs_background": "light"
          }
        }
      ]
    },
    {
      "cell_type": "code",
      "metadata": {
        "id": "gNkeh95yYMFh"
      },
      "source": [
        "# Building a NN for our data\n",
        "\n",
        "# Create a model\n",
        "model = tf.keras.Sequential([\n",
        "          tf.keras.layers.Dense(1)\n",
        "])\n",
        "\n",
        "# Compile the model\n",
        "model.compile(loss=tf.keras.losses.mae,\n",
        "              optimizer=tf.keras.optimizers.SGD(),\n",
        "              metrics=[\"mae\"])\n",
        "\n",
        "# fit the model\n",
        "#model.fit(X_train, y_train, epochs=100)"
      ],
      "execution_count": 21,
      "outputs": []
    },
    {
      "cell_type": "markdown",
      "metadata": {
        "id": "ghzEVzhObuhw"
      },
      "source": [
        "### Visualizing the model"
      ]
    },
    {
      "cell_type": "code",
      "metadata": {
        "colab": {
          "base_uri": "https://localhost:8080/"
        },
        "id": "L0VGjut_boRo",
        "outputId": "a36a972b-a2bf-4e03-e58f-d7e3823ad5ca"
      },
      "source": [
        "# creating a model which will builds automatically by defining the input_shape argument\n",
        "tf.random.set_seed(42)\n",
        "\n",
        "# create a model (same as above)\n",
        "model = tf.keras.Sequential([\n",
        "    tf.keras.layers.Dense(1, input_shape=[1])\n",
        "])\n",
        "\n",
        "# compile the model\n",
        "model.compile(loss=tf.keras.losses.mae,\n",
        "              optimizer=tf.keras.optimizers.SGD(),\n",
        "              metrics=[\"mae\"])\n",
        "\n",
        "model.summary()"
      ],
      "execution_count": 22,
      "outputs": [
        {
          "output_type": "stream",
          "name": "stdout",
          "text": [
            "Model: \"sequential_7\"\n",
            "_________________________________________________________________\n",
            " Layer (type)                Output Shape              Param #   \n",
            "=================================================================\n",
            " dense_13 (Dense)            (None, 1)                 2         \n",
            "                                                                 \n",
            "=================================================================\n",
            "Total params: 2\n",
            "Trainable params: 2\n",
            "Non-trainable params: 0\n",
            "_________________________________________________________________\n"
          ]
        }
      ]
    },
    {
      "cell_type": "code",
      "metadata": {
        "colab": {
          "base_uri": "https://localhost:8080/"
        },
        "id": "CWPN3vM0eF9u",
        "outputId": "5c47a5dc-a247-4504-d407-42b8400a60d9"
      },
      "source": [
        "# Let's fit our model to the training data\n",
        "model.fit(X_train, y_train, epochs=100, verbose=0)"
      ],
      "execution_count": 23,
      "outputs": [
        {
          "output_type": "execute_result",
          "data": {
            "text/plain": [
              "<keras.callbacks.History at 0x7ff6e5efe250>"
            ]
          },
          "metadata": {},
          "execution_count": 23
        }
      ]
    },
    {
      "cell_type": "code",
      "metadata": {
        "id": "sUK41aTZbexO"
      },
      "source": [
        ""
      ],
      "execution_count": null,
      "outputs": []
    },
    {
      "cell_type": "code",
      "metadata": {
        "colab": {
          "base_uri": "https://localhost:8080/"
        },
        "id": "T_cYYaFBzA6E",
        "outputId": "e43d5215-9e9e-4ca0-e04f-98b2a684cfc7"
      },
      "source": [
        "# Calculate the mean square  error\n",
        "mse = tf.metrics.mean_squared_error(y_true=y_test, \n",
        "                                     y_pred=tf.squeeze(y_pred))\n",
        "mse"
      ],
      "execution_count": 38,
      "outputs": [
        {
          "output_type": "execute_result",
          "data": {
            "text/plain": [
              "<tf.Tensor: shape=(), dtype=float32, numpy=4265.7153>"
            ]
          },
          "metadata": {},
          "execution_count": 38
        }
      ]
    },
    {
      "cell_type": "code",
      "metadata": {
        "id": "KEVhugnqah0x"
      },
      "source": [
        "# Function for MAE amd MSE use\n",
        "def mae(y_true, y_pred):\n",
        "  return tf.metrics.mean_absolute_error(y_true=y_true,\n",
        "                                        y_pred=_pred)\n",
        "  \n",
        "def mse(y_true, y_pred):\n",
        "  return tf.metrics.mean_squared_error(y_true=y_true,\n",
        "                                       y_pred=y_pred)"
      ],
      "execution_count": 39,
      "outputs": []
    },
    {
      "cell_type": "code",
      "metadata": {
        "id": "YEd-kJMNdkEK"
      },
      "source": [
        ""
      ],
      "execution_count": null,
      "outputs": []
    }
  ]
}