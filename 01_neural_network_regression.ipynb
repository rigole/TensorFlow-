{
  "nbformat": 4,
  "nbformat_minor": 0,
  "metadata": {
    "colab": {
      "name": "01_neural_network_regression.ipynb",
      "provenance": [],
      "collapsed_sections": [
        "bAAVIaWTo9Rn",
        "1c_LZHxhp7ZZ"
      ],
      "authorship_tag": "ABX9TyNtd7/6ZJFDcoDMQF/EFWE1",
      "include_colab_link": true
    },
    "kernelspec": {
      "name": "python3",
      "display_name": "Python 3"
    },
    "language_info": {
      "name": "python"
    }
  },
  "cells": [
    {
      "cell_type": "markdown",
      "metadata": {
        "id": "view-in-github",
        "colab_type": "text"
      },
      "source": [
        "<a href=\"https://colab.research.google.com/github/rigole/TensorFlow-/blob/main/01_neural_network_regression.ipynb\" target=\"_parent\"><img src=\"https://colab.research.google.com/assets/colab-badge.svg\" alt=\"Open In Colab\"/></a>"
      ]
    },
    {
      "cell_type": "markdown",
      "metadata": {
        "id": "bAAVIaWTo9Rn"
      },
      "source": [
        "### Introduction to Regression with NN"
      ]
    },
    {
      "cell_type": "code",
      "metadata": {
        "id": "gIc2Bm_FohfT"
      },
      "source": [
        "import tensorflow as tf"
      ],
      "execution_count": 1,
      "outputs": []
    },
    {
      "cell_type": "markdown",
      "metadata": {
        "id": "1c_LZHxhp7ZZ"
      },
      "source": [
        "### Creating data to view and fit"
      ]
    },
    {
      "cell_type": "code",
      "metadata": {
        "colab": {
          "base_uri": "https://localhost:8080/",
          "height": 0
        },
        "id": "jx5raISvpKGP",
        "outputId": "baab5d5f-0e5e-481a-dfbc-cd4020681cc3"
      },
      "source": [
        "import numpy as np\n",
        "import matplotlib.pyplot as plt\n",
        "\n",
        "# Create features\n",
        "X = np.array([-7.0, -4.0, -1.0, 2.0, 5.0, 8.0, 11.0, 14.0])\n",
        "\n",
        "# Create labels\n",
        "y = np.array([3.0, 6.0, 9.0, 12.0, 15.0, 18.0, 21, 24.0])\n",
        "\n",
        "# Visualize\n",
        "plt.scatter(X, y);"
      ],
      "execution_count": 2,
      "outputs": [
        {
          "output_type": "display_data",
          "data": {
            "image/png": "[encoded data removed]",
            "text/plain": [
              "<Figure size 432x288 with 1 Axes>"
            ]
          },
          "metadata": {
            "needs_background": "light"
          }
        }
      ]
    },
    {
      "cell_type": "code",
      "metadata": {
        "colab": {
          "base_uri": "https://localhost:8080/"
        },
        "id": "39vH4H85qqwC",
        "outputId": "8467facc-7452-456d-ff8e-fb16983628ad"
      },
      "source": [
        "y == X+10"
      ],
      "execution_count": 3,
      "outputs": [
        {
          "output_type": "execute_result",
          "data": {
            "text/plain": [
              "array([ True,  True,  True,  True,  True,  True,  True,  True])"
            ]
          },
          "metadata": {},
          "execution_count": 3
        }
      ]
    },
    {
      "cell_type": "code",
      "metadata": {
        "id": "QscgH0CcrBV7"
      },
      "source": [
        ""
      ],
      "execution_count": 3,
      "outputs": []
    },
    {
      "cell_type": "markdown",
      "metadata": {
        "id": "xeTIh8LXK11K"
      },
      "source": [
        "### Input and output shapes"
      ]
    },
    {
      "cell_type": "code",
      "metadata": {
        "colab": {
          "base_uri": "https://localhost:8080/"
        },
        "id": "JnctlQmxK5iK",
        "outputId": "009f9933-44fa-45b3-b798-6d509a44ee51"
      },
      "source": [
        "# Create a demo tensor for our housing price prediction problem\n",
        "\n",
        "house_info = tf.constant([\"bedroom\", \"bathroom\", \"garage\"])\n",
        "house_price = tf.constant([939700])\n",
        "house_info, house_price"
      ],
      "execution_count": 4,
      "outputs": [
        {
          "output_type": "execute_result",
          "data": {
            "text/plain": [
              "(<tf.Tensor: shape=(3,), dtype=string, numpy=array([b'bedroom', b'bathroom', b'garage'], dtype=object)>,\n",
              " <tf.Tensor: shape=(1,), dtype=int32, numpy=array([939700], dtype=int32)>)"
            ]
          },
          "metadata": {},
          "execution_count": 4
        }
      ]
    },
    {
      "cell_type": "code",
      "metadata": {
        "colab": {
          "base_uri": "https://localhost:8080/"
        },
        "id": "kdzluJ5-Lnw8",
        "outputId": "4f32baab-0e01-4ca3-c41c-0fda6b098f0a"
      },
      "source": [
        "input_shape = X.shape\n",
        "output_shape = y.shape\n",
        "input_shape, output_shape"
      ],
      "execution_count": 5,
      "outputs": [
        {
          "output_type": "execute_result",
          "data": {
            "text/plain": [
              "((8,), (8,))"
            ]
          },
          "metadata": {},
          "execution_count": 5
        }
      ]
    },
    {
      "cell_type": "code",
      "metadata": {
        "colab": {
          "base_uri": "https://localhost:8080/"
        },
        "id": "oeQJYXIANTzg",
        "outputId": "096d627a-8040-4a2d-bf60-68b1e89593d1"
      },
      "source": [
        "X[0], y[0]"
      ],
      "execution_count": 6,
      "outputs": [
        {
          "output_type": "execute_result",
          "data": {
            "text/plain": [
              "(-7.0, 3.0)"
            ]
          },
          "metadata": {},
          "execution_count": 6
        }
      ]
    },
    {
      "cell_type": "code",
      "metadata": {
        "colab": {
          "base_uri": "https://localhost:8080/"
        },
        "id": "NFzx2ZchNWm8",
        "outputId": "766b01d6-5e27-49ad-9aee-5cb7db190919"
      },
      "source": [
        "input_shape = X[0].shape\n",
        "output_shape = y[0].shape\n",
        "input_shape, output_shape"
      ],
      "execution_count": 7,
      "outputs": [
        {
          "output_type": "execute_result",
          "data": {
            "text/plain": [
              "((), ())"
            ]
          },
          "metadata": {},
          "execution_count": 7
        }
      ]
    },
    {
      "cell_type": "code",
      "metadata": {
        "colab": {
          "base_uri": "https://localhost:8080/"
        },
        "id": "qiyVmum3O6rU",
        "outputId": "40a29441-0e0c-449b-8438-ef3866a0c0ab"
      },
      "source": [
        "X[0].ndim"
      ],
      "execution_count": 8,
      "outputs": [
        {
          "output_type": "execute_result",
          "data": {
            "text/plain": [
              "0"
            ]
          },
          "metadata": {},
          "execution_count": 8
        }
      ]
    },
    {
      "cell_type": "code",
      "metadata": {
        "colab": {
          "base_uri": "https://localhost:8080/"
        },
        "id": "_AUiKj3LPbOH",
        "outputId": "a84cf762-3d98-4c11-9a11-0758311de876"
      },
      "source": [
        "# Turn our NumPy arrays into tensors\n",
        "X = tf.constant(X)\n",
        "y = tf.constant(y)\n",
        "X, X.shape, y, y.shape"
      ],
      "execution_count": 9,
      "outputs": [
        {
          "output_type": "execute_result",
          "data": {
            "text/plain": [
              "(<tf.Tensor: shape=(8,), dtype=float64, numpy=array([-7., -4., -1.,  2.,  5.,  8., 11., 14.])>,\n",
              " TensorShape([8]),\n",
              " <tf.Tensor: shape=(8,), dtype=float64, numpy=array([ 3.,  6.,  9., 12., 15., 18., 21., 24.])>,\n",
              " TensorShape([8]))"
            ]
          },
          "metadata": {},
          "execution_count": 9
        }
      ]
    },
    {
      "cell_type": "code",
      "metadata": {
        "colab": {
          "base_uri": "https://localhost:8080/"
        },
        "id": "58VpSeS8S3Ha",
        "outputId": "864275fc-4228-46ea-ee52-6db9ad3de9d2"
      },
      "source": [
        "input_shape = X[0].shape\n",
        "output_shape = y[0].shape\n",
        "input_shape, output_shape"
      ],
      "execution_count": 10,
      "outputs": [
        {
          "output_type": "execute_result",
          "data": {
            "text/plain": [
              "(TensorShape([]), TensorShape([]))"
            ]
          },
          "metadata": {},
          "execution_count": 10
        }
      ]
    },
    {
      "cell_type": "code",
      "metadata": {
        "colab": {
          "base_uri": "https://localhost:8080/",
          "height": 286
        },
        "id": "AonB22DqTRZm",
        "outputId": "d7247b89-a6e0-415d-e7b2-955c47c3c777"
      },
      "source": [
        "plt.scatter(X, y)"
      ],
      "execution_count": 11,
      "outputs": [
        {
          "output_type": "execute_result",
          "data": {
            "text/plain": [
              "<matplotlib.collections.PathCollection at 0x7f375b304850>"
            ]
          },
          "metadata": {},
          "execution_count": 11
        },
        {
          "output_type": "display_data",
          "data": {
            "image/png": "[encoded data removed]",
            "text/plain": [
              "<Figure size 432x288 with 1 Axes>"
            ]
          },
          "metadata": {
            "needs_background": "light"
          }
        }
      ]
    },
    {
      "cell_type": "code",
      "metadata": {
        "colab": {
          "base_uri": "https://localhost:8080/"
        },
        "id": "DwjkwRYH6q1A",
        "outputId": "fc179a62-a1d9-4278-9ef1-9d940ff269f3"
      },
      "source": [
        "X, y"
      ],
      "execution_count": 12,
      "outputs": [
        {
          "output_type": "execute_result",
          "data": {
            "text/plain": [
              "(<tf.Tensor: shape=(8,), dtype=float64, numpy=array([-7., -4., -1.,  2.,  5.,  8., 11., 14.])>,\n",
              " <tf.Tensor: shape=(8,), dtype=float64, numpy=array([ 3.,  6.,  9., 12., 15., 18., 21., 24.])>)"
            ]
          },
          "metadata": {},
          "execution_count": 12
        }
      ]
    },
    {
      "cell_type": "code",
      "metadata": {
        "colab": {
          "base_uri": "https://localhost:8080/",
          "height": 731
        },
        "id": "bkfl47AXTc-3",
        "outputId": "a948d468-17a0-4171-8d35-c72ff7eb4e5c"
      },
      "source": [
        "# Set random seed\n",
        "tf.random.set_seed(42)\n",
        "\n",
        "#1. Create a model using the sequential API\n",
        "model = tf.keras.Sequential([\n",
        "    tf.keras.layers.Dense(1),\n",
        "    \n",
        "])\n",
        "\n",
        " #2. Compile the model\n",
        "model.compile(loss=tf.keras.losses.mae,optimizer=tf.keras.optimizers.SGD(), \n",
        "              metrics=[\"mae\"]) # mae is for mean absolute error gd gradient descent\n",
        "\n",
        "\n",
        "# 3 Fit the model\n",
        "model.fit(X,y,epochs=5)"
      ],
      "execution_count": 13,
      "outputs": [
        {
          "output_type": "stream",
          "name": "stdout",
          "text": [
            "Epoch 1/5\n"
          ]
        },
        {
          "output_type": "error",
          "ename": "ValueError",
          "evalue": "ignored",
          "traceback": [
            "\u001b[0;31m---------------------------------------------------------------------------\u001b[0m",
            "\u001b[0;31mValueError\u001b[0m                                Traceback (most recent call last)",
            "\u001b[0;32m<ipython-input-13-0b4c43b0278c>\u001b[0m in \u001b[0;36m<module>\u001b[0;34m()\u001b[0m\n\u001b[1;32m     14\u001b[0m \u001b[0;34m\u001b[0m\u001b[0m\n\u001b[1;32m     15\u001b[0m \u001b[0;31m# 3 Fit the model\u001b[0m\u001b[0;34m\u001b[0m\u001b[0;34m\u001b[0m\u001b[0;34m\u001b[0m\u001b[0m\n\u001b[0;32m---> 16\u001b[0;31m \u001b[0mmodel\u001b[0m\u001b[0;34m.\u001b[0m\u001b[0mfit\u001b[0m\u001b[0;34m(\u001b[0m\u001b[0mX\u001b[0m\u001b[0;34m,\u001b[0m\u001b[0my\u001b[0m\u001b[0;34m,\u001b[0m\u001b[0mepochs\u001b[0m\u001b[0;34m=\u001b[0m\u001b[0;36m5\u001b[0m\u001b[0;34m)\u001b[0m\u001b[0;34m\u001b[0m\u001b[0;34m\u001b[0m\u001b[0m\n\u001b[0m",
            "\u001b[0;32m/usr/local/lib/python3.7/dist-packages/keras/utils/traceback_utils.py\u001b[0m in \u001b[0;36merror_handler\u001b[0;34m(*args, **kwargs)\u001b[0m\n\u001b[1;32m     65\u001b[0m     \u001b[0;32mexcept\u001b[0m \u001b[0mException\u001b[0m \u001b[0;32mas\u001b[0m \u001b[0me\u001b[0m\u001b[0;34m:\u001b[0m  \u001b[0;31m# pylint: disable=broad-except\u001b[0m\u001b[0;34m\u001b[0m\u001b[0;34m\u001b[0m\u001b[0m\n\u001b[1;32m     66\u001b[0m       \u001b[0mfiltered_tb\u001b[0m \u001b[0;34m=\u001b[0m \u001b[0m_process_traceback_frames\u001b[0m\u001b[0;34m(\u001b[0m\u001b[0me\u001b[0m\u001b[0;34m.\u001b[0m\u001b[0m__traceback__\u001b[0m\u001b[0;34m)\u001b[0m\u001b[0;34m\u001b[0m\u001b[0;34m\u001b[0m\u001b[0m\n\u001b[0;32m---> 67\u001b[0;31m       \u001b[0;32mraise\u001b[0m \u001b[0me\u001b[0m\u001b[0;34m.\u001b[0m\u001b[0mwith_traceback\u001b[0m\u001b[0;34m(\u001b[0m\u001b[0mfiltered_tb\u001b[0m\u001b[0;34m)\u001b[0m \u001b[0;32mfrom\u001b[0m \u001b[0;32mNone\u001b[0m\u001b[0;34m\u001b[0m\u001b[0;34m\u001b[0m\u001b[0m\n\u001b[0m\u001b[1;32m     68\u001b[0m     \u001b[0;32mfinally\u001b[0m\u001b[0;34m:\u001b[0m\u001b[0;34m\u001b[0m\u001b[0;34m\u001b[0m\u001b[0m\n\u001b[1;32m     69\u001b[0m       \u001b[0;32mdel\u001b[0m \u001b[0mfiltered_tb\u001b[0m\u001b[0;34m\u001b[0m\u001b[0;34m\u001b[0m\u001b[0m\n",
            "\u001b[0;32m/usr/local/lib/python3.7/dist-packages/tensorflow/python/framework/func_graph.py\u001b[0m in \u001b[0;36mautograph_handler\u001b[0;34m(*args, **kwargs)\u001b[0m\n\u001b[1;32m   1127\u001b[0m           \u001b[0;32mexcept\u001b[0m \u001b[0mException\u001b[0m \u001b[0;32mas\u001b[0m \u001b[0me\u001b[0m\u001b[0;34m:\u001b[0m  \u001b[0;31m# pylint:disable=broad-except\u001b[0m\u001b[0;34m\u001b[0m\u001b[0;34m\u001b[0m\u001b[0m\n\u001b[1;32m   1128\u001b[0m             \u001b[0;32mif\u001b[0m \u001b[0mhasattr\u001b[0m\u001b[0;34m(\u001b[0m\u001b[0me\u001b[0m\u001b[0;34m,\u001b[0m \u001b[0;34m\"ag_error_metadata\"\u001b[0m\u001b[0;34m)\u001b[0m\u001b[0;34m:\u001b[0m\u001b[0;34m\u001b[0m\u001b[0;34m\u001b[0m\u001b[0m\n\u001b[0;32m-> 1129\u001b[0;31m               \u001b[0;32mraise\u001b[0m \u001b[0me\u001b[0m\u001b[0;34m.\u001b[0m\u001b[0mag_error_metadata\u001b[0m\u001b[0;34m.\u001b[0m\u001b[0mto_exception\u001b[0m\u001b[0;34m(\u001b[0m\u001b[0me\u001b[0m\u001b[0;34m)\u001b[0m\u001b[0;34m\u001b[0m\u001b[0;34m\u001b[0m\u001b[0m\n\u001b[0m\u001b[1;32m   1130\u001b[0m             \u001b[0;32melse\u001b[0m\u001b[0;34m:\u001b[0m\u001b[0;34m\u001b[0m\u001b[0;34m\u001b[0m\u001b[0m\n\u001b[1;32m   1131\u001b[0m               \u001b[0;32mraise\u001b[0m\u001b[0;34m\u001b[0m\u001b[0;34m\u001b[0m\u001b[0m\n",
            "\u001b[0;31mValueError\u001b[0m: in user code:\n\n    File \"/usr/local/lib/python3.7/dist-packages/keras/engine/training.py\", line 878, in train_function  *\n        return step_function(self, iterator)\n    File \"/usr/local/lib/python3.7/dist-packages/keras/engine/training.py\", line 867, in step_function  **\n        outputs = model.distribute_strategy.run(run_step, args=(data,))\n    File \"/usr/local/lib/python3.7/dist-packages/keras/engine/training.py\", line 860, in run_step  **\n        outputs = model.train_step(data)\n    File \"/usr/local/lib/python3.7/dist-packages/keras/engine/training.py\", line 808, in train_step\n        y_pred = self(x, training=True)\n    File \"/usr/local/lib/python3.7/dist-packages/keras/utils/traceback_utils.py\", line 67, in error_handler\n        raise e.with_traceback(filtered_tb) from None\n    File \"/usr/local/lib/python3.7/dist-packages/keras/engine/input_spec.py\", line 227, in assert_input_compatibility\n        raise ValueError(f'Input {input_index} of layer \"{layer_name}\" '\n\n    ValueError: Exception encountered when calling layer \"sequential\" (type Sequential).\n    \n    Input 0 of layer \"dense\" is incompatible with the layer: expected min_ndim=2, found ndim=1. Full shape received: (None,)\n    \n    Call arguments received:\n      • inputs=tf.Tensor(shape=(None,), dtype=float64)\n      • training=True\n      • mask=None\n"
          ]
        }
      ]
    },
    {
      "cell_type": "code",
      "metadata": {
        "colab": {
          "base_uri": "https://localhost:8080/"
        },
        "id": "JzUMt1QCY0qB",
        "outputId": "4affd324-e8fc-46ec-9df4-e24cd470e1d3"
      },
      "source": [
        "# Set random seed\n",
        "tf.random.set_seed(42)\n",
        "\n",
        "#1. Create a model using the sequential API\n",
        "model = tf.keras.Sequential([\n",
        "    tf.keras.layers.Dense(1),\n",
        "    \n",
        "])\n",
        "\n",
        " #2. Compile the model\n",
        "model.compile(loss=tf.keras.losses.mae,optimizer=tf.keras.optimizers.SGD(), \n",
        "              metrics=[\"mae\"]) # mae is for mean absolute error gd gradient descent\n",
        "\n",
        "\n",
        "# 3 Fit the model\n",
        "model.fit(tf.expand_dims(X,axis=-1), y,epochs=5)"
      ],
      "execution_count": 14,
      "outputs": [
        {
          "output_type": "stream",
          "name": "stdout",
          "text": [
            "Epoch 1/5\n",
            "1/1 [==============================] - 1s 513ms/step - loss: 11.5048 - mae: 11.5048\n",
            "Epoch 2/5\n",
            "1/1 [==============================] - 0s 6ms/step - loss: 11.3723 - mae: 11.3723\n",
            "Epoch 3/5\n",
            "1/1 [==============================] - 0s 7ms/step - loss: 11.2398 - mae: 11.2398\n",
            "Epoch 4/5\n",
            "1/1 [==============================] - 0s 6ms/step - loss: 11.1073 - mae: 11.1073\n",
            "Epoch 5/5\n",
            "1/1 [==============================] - 0s 7ms/step - loss: 10.9748 - mae: 10.9748\n"
          ]
        },
        {
          "output_type": "execute_result",
          "data": {
            "text/plain": [
              "<keras.callbacks.History at 0x7f37590e6f90>"
            ]
          },
          "metadata": {},
          "execution_count": 14
        }
      ]
    },
    {
      "cell_type": "code",
      "metadata": {
        "colab": {
          "base_uri": "https://localhost:8080/"
        },
        "id": "dVgp_NSt9Vxz",
        "outputId": "ddf70133-ff7b-4962-9dc4-34c02cfc573c"
      },
      "source": [
        "# Check out inputs and output\n",
        "X, y"
      ],
      "execution_count": 15,
      "outputs": [
        {
          "output_type": "execute_result",
          "data": {
            "text/plain": [
              "(<tf.Tensor: shape=(8,), dtype=float64, numpy=array([-7., -4., -1.,  2.,  5.,  8., 11., 14.])>,\n",
              " <tf.Tensor: shape=(8,), dtype=float64, numpy=array([ 3.,  6.,  9., 12., 15., 18., 21., 24.])>)"
            ]
          },
          "metadata": {},
          "execution_count": 15
        }
      ]
    },
    {
      "cell_type": "code",
      "metadata": {
        "colab": {
          "base_uri": "https://localhost:8080/"
        },
        "id": "Vza2_QCi-Uds",
        "outputId": "e931851c-edb2-49bf-cf5a-2d122c147cc6"
      },
      "source": [
        "y_pred = model.predict([17.0])\n",
        "y_pred"
      ],
      "execution_count": 16,
      "outputs": [
        {
          "output_type": "execute_result",
          "data": {
            "text/plain": [
              "array([[12.716021]], dtype=float32)"
            ]
          },
          "metadata": {},
          "execution_count": 16
        }
      ]
    },
    {
      "cell_type": "markdown",
      "metadata": {
        "id": "YrBLwKxS_nCA"
      },
      "source": [
        "### Improving our model"
      ]
    },
    {
      "cell_type": "code",
      "metadata": {
        "id": "dJ-Gs-I3_B6e"
      },
      "source": [
        " # Rebuild the model by improving\n",
        "\n",
        " #1. Create a model again\n",
        "model = tf.keras.Sequential([\n",
        "    tf.keras.layers.Dense(1),\n",
        "    \n",
        "])\n",
        "\n",
        " #2. recompile the model\n",
        "model.compile(loss=tf.keras.losses.mae,optimizer=tf.keras.optimizers.SGD(), \n",
        "              metrics=[\"mae\"]) # mae is for mean absolute error gd gradient descent\n",
        "\n",
        "\n",
        "# 3 Fit the model and increase the epochs(and training it longer)\n",
        "model.fit(tf.expand_dims(X,axis=-1), y,epochs=100)"
      ],
      "execution_count": null,
      "outputs": []
    },
    {
      "cell_type": "code",
      "metadata": {
        "colab": {
          "base_uri": "https://localhost:8080/"
        },
        "id": "MduXXYgxMDOd",
        "outputId": "c4ffd021-8db4-427a-afdc-b80013b5d0bc"
      },
      "source": [
        "# Checking the progression of the model\n",
        "model.predict([17.0])"
      ],
      "execution_count": 18,
      "outputs": [
        {
          "output_type": "execute_result",
          "data": {
            "text/plain": [
              "array([[29.739855]], dtype=float32)"
            ]
          },
          "metadata": {},
          "execution_count": 18
        }
      ]
    },
    {
      "cell_type": "code",
      "metadata": {
        "colab": {
          "base_uri": "https://localhost:8080/"
        },
        "id": "47f2Kqf5M_5i",
        "outputId": "4dd02504-6fff-4b49-adf2-aa935abf2010"
      },
      "source": [
        "# Rebuild the model for the third time by adding a new layer and activation\n",
        "\n",
        " #1. Create a model again\n",
        "model = tf.keras.Sequential([\n",
        "    tf.keras.layers.Dense(100, activation=\"relu\"),\n",
        "    tf.keras.layers.Dense(100, activation=\"relu\"),\n",
        "    tf.keras.layers.Dense(1)\n",
        "    \n",
        "])\n",
        "\n",
        " #2. recompile the model\n",
        "model.compile(loss=tf.keras.losses.mae,optimizer=tf.keras.optimizers.SGD(), \n",
        "              metrics=[\"mae\"]) # mae is for mean absolute error gd gradient descent\n",
        "\n",
        "\n",
        "# 3 Fit the model and keeping the epochs\n",
        "model.fit(tf.expand_dims(X,axis=-1), y,epochs=100)"
      ],
      "execution_count": 19,
      "outputs": [
        {
          "output_type": "stream",
          "name": "stdout",
          "text": [
            "Epoch 1/100\n",
            "1/1 [==============================] - 0s 371ms/step - loss: 14.1593 - mae: 14.1593\n",
            "Epoch 2/100\n",
            "1/1 [==============================] - 0s 11ms/step - loss: 13.5106 - mae: 13.5106\n",
            "Epoch 3/100\n",
            "1/1 [==============================] - 0s 10ms/step - loss: 12.8859 - mae: 12.8859\n",
            "Epoch 4/100\n",
            "1/1 [==============================] - 0s 12ms/step - loss: 12.3149 - mae: 12.3149\n",
            "Epoch 5/100\n",
            "1/1 [==============================] - 0s 5ms/step - loss: 11.7463 - mae: 11.7463\n",
            "Epoch 6/100\n",
            "1/1 [==============================] - 0s 5ms/step - loss: 11.1240 - mae: 11.1240\n",
            "Epoch 7/100\n",
            "1/1 [==============================] - 0s 7ms/step - loss: 10.4452 - mae: 10.4452\n",
            "Epoch 8/100\n",
            "1/1 [==============================] - 0s 7ms/step - loss: 9.6973 - mae: 9.6973\n",
            "Epoch 9/100\n",
            "1/1 [==============================] - 0s 6ms/step - loss: 8.8439 - mae: 8.8439\n",
            "Epoch 10/100\n",
            "1/1 [==============================] - 0s 6ms/step - loss: 7.8758 - mae: 7.8758\n",
            "Epoch 11/100\n",
            "1/1 [==============================] - 0s 5ms/step - loss: 6.8512 - mae: 6.8512\n",
            "Epoch 12/100\n",
            "1/1 [==============================] - 0s 7ms/step - loss: 5.6212 - mae: 5.6212\n",
            "Epoch 13/100\n",
            "1/1 [==============================] - 0s 5ms/step - loss: 4.1683 - mae: 4.1683\n",
            "Epoch 14/100\n",
            "1/1 [==============================] - 0s 4ms/step - loss: 3.9993 - mae: 3.9993\n",
            "Epoch 15/100\n",
            "1/1 [==============================] - 0s 4ms/step - loss: 3.9496 - mae: 3.9496\n",
            "Epoch 16/100\n",
            "1/1 [==============================] - 0s 4ms/step - loss: 3.9630 - mae: 3.9630\n",
            "Epoch 17/100\n",
            "1/1 [==============================] - 0s 6ms/step - loss: 3.9589 - mae: 3.9589\n",
            "Epoch 18/100\n",
            "1/1 [==============================] - 0s 3ms/step - loss: 3.9243 - mae: 3.9243\n",
            "Epoch 19/100\n",
            "1/1 [==============================] - 0s 4ms/step - loss: 3.9698 - mae: 3.9698\n",
            "Epoch 20/100\n",
            "1/1 [==============================] - 0s 4ms/step - loss: 3.8867 - mae: 3.8867\n",
            "Epoch 21/100\n",
            "1/1 [==============================] - 0s 4ms/step - loss: 3.9797 - mae: 3.9797\n",
            "Epoch 22/100\n",
            "1/1 [==============================] - 0s 5ms/step - loss: 3.8471 - mae: 3.8471\n",
            "Epoch 23/100\n",
            "1/1 [==============================] - 0s 3ms/step - loss: 3.9911 - mae: 3.9911\n",
            "Epoch 24/100\n",
            "1/1 [==============================] - 0s 4ms/step - loss: 3.8564 - mae: 3.8564\n",
            "Epoch 25/100\n",
            "1/1 [==============================] - 0s 4ms/step - loss: 3.9589 - mae: 3.9589\n",
            "Epoch 26/100\n",
            "1/1 [==============================] - 0s 5ms/step - loss: 3.8890 - mae: 3.8890\n",
            "Epoch 27/100\n",
            "1/1 [==============================] - 0s 4ms/step - loss: 3.9046 - mae: 3.9046\n",
            "Epoch 28/100\n",
            "1/1 [==============================] - 0s 3ms/step - loss: 3.9013 - mae: 3.9013\n",
            "Epoch 29/100\n",
            "1/1 [==============================] - 0s 4ms/step - loss: 3.8634 - mae: 3.8634\n",
            "Epoch 30/100\n",
            "1/1 [==============================] - 0s 5ms/step - loss: 3.9141 - mae: 3.9141\n",
            "Epoch 31/100\n",
            "1/1 [==============================] - 0s 5ms/step - loss: 3.8215 - mae: 3.8215\n",
            "Epoch 32/100\n",
            "1/1 [==============================] - 0s 5ms/step - loss: 3.9272 - mae: 3.9272\n",
            "Epoch 33/100\n",
            "1/1 [==============================] - 0s 4ms/step - loss: 3.7959 - mae: 3.7959\n",
            "Epoch 34/100\n",
            "1/1 [==============================] - 0s 4ms/step - loss: 3.9324 - mae: 3.9324\n",
            "Epoch 35/100\n",
            "1/1 [==============================] - 0s 4ms/step - loss: 3.8295 - mae: 3.8295\n",
            "Epoch 36/100\n",
            "1/1 [==============================] - 0s 4ms/step - loss: 3.8737 - mae: 3.8737\n",
            "Epoch 37/100\n",
            "1/1 [==============================] - 0s 5ms/step - loss: 3.8426 - mae: 3.8426\n",
            "Epoch 38/100\n",
            "1/1 [==============================] - 0s 9ms/step - loss: 3.8305 - mae: 3.8305\n",
            "Epoch 39/100\n",
            "1/1 [==============================] - 0s 8ms/step - loss: 3.8563 - mae: 3.8563\n",
            "Epoch 40/100\n",
            "1/1 [==============================] - 0s 8ms/step - loss: 3.7867 - mae: 3.7867\n",
            "Epoch 41/100\n",
            "1/1 [==============================] - 0s 6ms/step - loss: 3.8707 - mae: 3.8707\n",
            "Epoch 42/100\n",
            "1/1 [==============================] - 0s 5ms/step - loss: 3.7427 - mae: 3.7427\n",
            "Epoch 43/100\n",
            "1/1 [==============================] - 0s 4ms/step - loss: 3.8853 - mae: 3.8853\n",
            "Epoch 44/100\n",
            "1/1 [==============================] - 0s 4ms/step - loss: 3.7667 - mae: 3.7667\n",
            "Epoch 45/100\n",
            "1/1 [==============================] - 0s 5ms/step - loss: 3.8335 - mae: 3.8335\n",
            "Epoch 46/100\n",
            "1/1 [==============================] - 0s 5ms/step - loss: 3.7874 - mae: 3.7874\n",
            "Epoch 47/100\n",
            "1/1 [==============================] - 0s 4ms/step - loss: 3.7870 - mae: 3.7870\n",
            "Epoch 48/100\n",
            "1/1 [==============================] - 0s 5ms/step - loss: 3.8021 - mae: 3.8021\n",
            "Epoch 49/100\n",
            "1/1 [==============================] - 0s 5ms/step - loss: 3.7414 - mae: 3.7414\n",
            "Epoch 50/100\n",
            "1/1 [==============================] - 0s 4ms/step - loss: 3.8169 - mae: 3.8169\n",
            "Epoch 51/100\n",
            "1/1 [==============================] - 0s 5ms/step - loss: 3.6953 - mae: 3.6953\n",
            "Epoch 52/100\n",
            "1/1 [==============================] - 0s 5ms/step - loss: 3.8327 - mae: 3.8327\n",
            "Epoch 53/100\n",
            "1/1 [==============================] - 0s 5ms/step - loss: 3.7146 - mae: 3.7146\n",
            "Epoch 54/100\n",
            "1/1 [==============================] - 0s 5ms/step - loss: 3.7852 - mae: 3.7852\n",
            "Epoch 55/100\n",
            "1/1 [==============================] - 0s 4ms/step - loss: 3.7403 - mae: 3.7403\n",
            "Epoch 56/100\n",
            "1/1 [==============================] - 0s 4ms/step - loss: 3.7376 - mae: 3.7376\n",
            "Epoch 57/100\n",
            "1/1 [==============================] - 0s 4ms/step - loss: 3.7557 - mae: 3.7557\n",
            "Epoch 58/100\n",
            "1/1 [==============================] - 0s 4ms/step - loss: 3.6893 - mae: 3.6893\n",
            "Epoch 59/100\n",
            "1/1 [==============================] - 0s 4ms/step - loss: 3.7722 - mae: 3.7722\n",
            "Epoch 60/100\n",
            "1/1 [==============================] - 0s 4ms/step - loss: 3.6465 - mae: 3.6465\n",
            "Epoch 61/100\n",
            "1/1 [==============================] - 0s 4ms/step - loss: 3.7931 - mae: 3.7931\n",
            "Epoch 62/100\n",
            "1/1 [==============================] - 0s 4ms/step - loss: 3.6840 - mae: 3.6840\n",
            "Epoch 63/100\n",
            "1/1 [==============================] - 0s 4ms/step - loss: 3.7285 - mae: 3.7285\n",
            "Epoch 64/100\n",
            "1/1 [==============================] - 0s 4ms/step - loss: 3.6998 - mae: 3.6998\n",
            "Epoch 65/100\n",
            "1/1 [==============================] - 0s 4ms/step - loss: 3.6789 - mae: 3.6789\n",
            "Epoch 66/100\n",
            "1/1 [==============================] - 0s 4ms/step - loss: 3.7165 - mae: 3.7165\n",
            "Epoch 67/100\n",
            "1/1 [==============================] - 0s 4ms/step - loss: 3.6295 - mae: 3.6295\n",
            "Epoch 68/100\n",
            "1/1 [==============================] - 0s 4ms/step - loss: 3.7331 - mae: 3.7331\n",
            "Epoch 69/100\n",
            "1/1 [==============================] - 0s 4ms/step - loss: 3.6074 - mae: 3.6074\n",
            "Epoch 70/100\n",
            "1/1 [==============================] - 0s 4ms/step - loss: 3.7315 - mae: 3.7315\n",
            "Epoch 71/100\n",
            "1/1 [==============================] - 0s 4ms/step - loss: 3.6447 - mae: 3.6447\n",
            "Epoch 72/100\n",
            "1/1 [==============================] - 0s 4ms/step - loss: 3.6632 - mae: 3.6632\n",
            "Epoch 73/100\n",
            "1/1 [==============================] - 0s 4ms/step - loss: 3.6618 - mae: 3.6618\n",
            "Epoch 74/100\n",
            "1/1 [==============================] - 0s 4ms/step - loss: 3.6115 - mae: 3.6115\n",
            "Epoch 75/100\n",
            "1/1 [==============================] - 0s 4ms/step - loss: 3.6796 - mae: 3.6796\n",
            "Epoch 76/100\n",
            "1/1 [==============================] - 0s 4ms/step - loss: 3.5596 - mae: 3.5596\n",
            "Epoch 77/100\n",
            "1/1 [==============================] - 0s 4ms/step - loss: 3.6983 - mae: 3.6983\n",
            "Epoch 78/100\n",
            "1/1 [==============================] - 0s 5ms/step - loss: 3.5736 - mae: 3.5736\n",
            "Epoch 79/100\n",
            "1/1 [==============================] - 0s 4ms/step - loss: 3.6580 - mae: 3.6580\n",
            "Epoch 80/100\n",
            "1/1 [==============================] - 0s 4ms/step - loss: 3.6140 - mae: 3.6140\n",
            "Epoch 81/100\n",
            "1/1 [==============================] - 0s 4ms/step - loss: 3.5917 - mae: 3.5917\n",
            "Epoch 82/100\n",
            "1/1 [==============================] - 0s 9ms/step - loss: 3.6320 - mae: 3.6320\n",
            "Epoch 83/100\n",
            "1/1 [==============================] - 0s 4ms/step - loss: 3.5375 - mae: 3.5375\n",
            "Epoch 84/100\n",
            "1/1 [==============================] - 0s 4ms/step - loss: 3.6508 - mae: 3.6508\n",
            "Epoch 85/100\n",
            "1/1 [==============================] - 0s 4ms/step - loss: 3.5279 - mae: 3.5279\n",
            "Epoch 86/100\n",
            "1/1 [==============================] - 0s 4ms/step - loss: 3.6200 - mae: 3.6200\n",
            "Epoch 87/100\n",
            "1/1 [==============================] - 0s 4ms/step - loss: 3.5462 - mae: 3.5462\n",
            "Epoch 88/100\n",
            "1/1 [==============================] - 0s 4ms/step - loss: 3.5776 - mae: 3.5776\n",
            "Epoch 89/100\n",
            "1/1 [==============================] - 0s 3ms/step - loss: 3.5868 - mae: 3.5868\n",
            "Epoch 90/100\n",
            "1/1 [==============================] - 0s 4ms/step - loss: 3.5082 - mae: 3.5082\n",
            "Epoch 91/100\n",
            "1/1 [==============================] - 0s 4ms/step - loss: 3.6059 - mae: 3.6059\n",
            "Epoch 92/100\n",
            "1/1 [==============================] - 0s 4ms/step - loss: 3.4842 - mae: 3.4842\n",
            "Epoch 93/100\n",
            "1/1 [==============================] - 0s 4ms/step - loss: 3.5879 - mae: 3.5879\n",
            "Epoch 94/100\n",
            "1/1 [==============================] - 0s 4ms/step - loss: 3.5033 - mae: 3.5033\n",
            "Epoch 95/100\n",
            "1/1 [==============================] - 0s 4ms/step - loss: 3.5314 - mae: 3.5314\n",
            "Epoch 96/100\n",
            "1/1 [==============================] - 0s 4ms/step - loss: 3.5222 - mae: 3.5222\n",
            "Epoch 97/100\n",
            "1/1 [==============================] - 0s 4ms/step - loss: 3.4820 - mae: 3.4820\n",
            "Epoch 98/100\n",
            "1/1 [==============================] - 0s 4ms/step - loss: 3.5647 - mae: 3.5647\n",
            "Epoch 99/100\n",
            "1/1 [==============================] - 0s 4ms/step - loss: 3.4452 - mae: 3.4452\n",
            "Epoch 100/100\n",
            "1/1 [==============================] - 0s 3ms/step - loss: 3.5508 - mae: 3.5508\n"
          ]
        },
        {
          "output_type": "execute_result",
          "data": {
            "text/plain": [
              "<keras.callbacks.History at 0x7f3759836d10>"
            ]
          },
          "metadata": {},
          "execution_count": 19
        }
      ]
    },
    {
      "cell_type": "code",
      "metadata": {
        "colab": {
          "base_uri": "https://localhost:8080/"
        },
        "id": "K_1OZA--OC6b",
        "outputId": "ba327013-66c7-46ad-bf16-e0fe437bfd94"
      },
      "source": [
        "# Checking the progression of the model again\n",
        "model.predict([17.0])"
      ],
      "execution_count": 20,
      "outputs": [
        {
          "output_type": "execute_result",
          "data": {
            "text/plain": [
              "array([[32.258904]], dtype=float32)"
            ]
          },
          "metadata": {},
          "execution_count": 20
        }
      ]
    },
    {
      "cell_type": "code",
      "metadata": {
        "colab": {
          "base_uri": "https://localhost:8080/"
        },
        "id": "I276PbjROHiV",
        "outputId": "ab48e0e5-a51a-424d-ce8d-49171a245c73"
      },
      "source": [
        "# An other change to our model(one extra layer with 100 unit)\n",
        " #1. Create a model again\n",
        "model = tf.keras.Sequential([\n",
        "    tf.keras.layers.Dense(100, activation=\"relu\"),\n",
        "    tf.keras.layers.Dense(1)\n",
        "    \n",
        "])\n",
        "\n",
        " #2. recompile the model\n",
        "model.compile(loss=\"mae\",\n",
        "              optimizer=tf.keras.optimizers.SGD(), \n",
        "              metrics=[\"mae\"])\n",
        "\n",
        "\n",
        "# 3 Fit the model and keeping the epochs\n",
        "model.fit(tf.expand_dims(X,axis=-1), y,epochs=100)\n"
      ],
      "execution_count": 21,
      "outputs": [
        {
          "output_type": "stream",
          "name": "stdout",
          "text": [
            "Epoch 1/100\n",
            "1/1 [==============================] - 0s 294ms/step - loss: 13.5267 - mae: 13.5267\n",
            "Epoch 2/100\n",
            "1/1 [==============================] - 0s 5ms/step - loss: 12.9594 - mae: 12.9594\n",
            "Epoch 3/100\n",
            "1/1 [==============================] - 0s 6ms/step - loss: 12.3983 - mae: 12.3983\n",
            "Epoch 4/100\n",
            "1/1 [==============================] - 0s 6ms/step - loss: 11.8281 - mae: 11.8281\n",
            "Epoch 5/100\n",
            "1/1 [==============================] - 0s 7ms/step - loss: 11.2463 - mae: 11.2463\n",
            "Epoch 6/100\n",
            "1/1 [==============================] - 0s 6ms/step - loss: 10.6465 - mae: 10.6465\n",
            "Epoch 7/100\n",
            "1/1 [==============================] - 0s 7ms/step - loss: 10.0294 - mae: 10.0294\n",
            "Epoch 8/100\n",
            "1/1 [==============================] - 0s 7ms/step - loss: 9.3938 - mae: 9.3938\n",
            "Epoch 9/100\n",
            "1/1 [==============================] - 0s 12ms/step - loss: 8.7211 - mae: 8.7211\n",
            "Epoch 10/100\n",
            "1/1 [==============================] - 0s 9ms/step - loss: 8.0110 - mae: 8.0110\n",
            "Epoch 11/100\n",
            "1/1 [==============================] - 0s 3ms/step - loss: 7.2573 - mae: 7.2573\n",
            "Epoch 12/100\n",
            "1/1 [==============================] - 0s 5ms/step - loss: 6.4531 - mae: 6.4531\n",
            "Epoch 13/100\n",
            "1/1 [==============================] - 0s 6ms/step - loss: 5.5874 - mae: 5.5874\n",
            "Epoch 14/100\n",
            "1/1 [==============================] - 0s 5ms/step - loss: 4.6583 - mae: 4.6583\n",
            "Epoch 15/100\n",
            "1/1 [==============================] - 0s 7ms/step - loss: 4.0382 - mae: 4.0382\n",
            "Epoch 16/100\n",
            "1/1 [==============================] - 0s 5ms/step - loss: 3.9405 - mae: 3.9405\n",
            "Epoch 17/100\n",
            "1/1 [==============================] - 0s 6ms/step - loss: 3.9362 - mae: 3.9362\n",
            "Epoch 18/100\n",
            "1/1 [==============================] - 0s 7ms/step - loss: 3.9147 - mae: 3.9147\n",
            "Epoch 19/100\n",
            "1/1 [==============================] - 0s 7ms/step - loss: 3.9427 - mae: 3.9427\n",
            "Epoch 20/100\n",
            "1/1 [==============================] - 0s 4ms/step - loss: 3.8977 - mae: 3.8977\n",
            "Epoch 21/100\n",
            "1/1 [==============================] - 0s 7ms/step - loss: 3.9583 - mae: 3.9583\n",
            "Epoch 22/100\n",
            "1/1 [==============================] - 0s 10ms/step - loss: 3.8904 - mae: 3.8904\n",
            "Epoch 23/100\n",
            "1/1 [==============================] - 0s 6ms/step - loss: 3.9447 - mae: 3.9447\n",
            "Epoch 24/100\n",
            "1/1 [==============================] - 0s 5ms/step - loss: 3.8969 - mae: 3.8969\n",
            "Epoch 25/100\n",
            "1/1 [==============================] - 0s 7ms/step - loss: 3.9188 - mae: 3.9188\n",
            "Epoch 26/100\n",
            "1/1 [==============================] - 0s 6ms/step - loss: 3.9035 - mae: 3.9035\n",
            "Epoch 27/100\n",
            "1/1 [==============================] - 0s 14ms/step - loss: 3.8928 - mae: 3.8928\n",
            "Epoch 28/100\n",
            "1/1 [==============================] - 0s 7ms/step - loss: 3.9169 - mae: 3.9169\n",
            "Epoch 29/100\n",
            "1/1 [==============================] - 0s 6ms/step - loss: 3.8749 - mae: 3.8749\n",
            "Epoch 30/100\n",
            "1/1 [==============================] - 0s 7ms/step - loss: 3.9260 - mae: 3.9260\n",
            "Epoch 31/100\n",
            "1/1 [==============================] - 0s 9ms/step - loss: 3.8586 - mae: 3.8586\n",
            "Epoch 32/100\n",
            "1/1 [==============================] - 0s 4ms/step - loss: 3.9219 - mae: 3.9219\n",
            "Epoch 33/100\n",
            "1/1 [==============================] - 0s 8ms/step - loss: 3.8653 - mae: 3.8653\n",
            "Epoch 34/100\n",
            "1/1 [==============================] - 0s 11ms/step - loss: 3.8958 - mae: 3.8958\n",
            "Epoch 35/100\n",
            "1/1 [==============================] - 0s 9ms/step - loss: 3.8721 - mae: 3.8721\n",
            "Epoch 36/100\n",
            "1/1 [==============================] - 0s 5ms/step - loss: 3.8744 - mae: 3.8744\n",
            "Epoch 37/100\n",
            "1/1 [==============================] - 0s 6ms/step - loss: 3.8879 - mae: 3.8879\n",
            "Epoch 38/100\n",
            "1/1 [==============================] - 0s 6ms/step - loss: 3.8513 - mae: 3.8513\n",
            "Epoch 39/100\n",
            "1/1 [==============================] - 0s 22ms/step - loss: 3.8949 - mae: 3.8949\n",
            "Epoch 40/100\n",
            "1/1 [==============================] - 0s 5ms/step - loss: 3.8279 - mae: 3.8279\n",
            "Epoch 41/100\n",
            "1/1 [==============================] - 0s 6ms/step - loss: 3.8978 - mae: 3.8978\n",
            "Epoch 42/100\n",
            "1/1 [==============================] - 0s 5ms/step - loss: 3.8348 - mae: 3.8348\n",
            "Epoch 43/100\n",
            "1/1 [==============================] - 0s 5ms/step - loss: 3.8714 - mae: 3.8714\n",
            "Epoch 44/100\n",
            "1/1 [==============================] - 0s 3ms/step - loss: 3.8443 - mae: 3.8443\n",
            "Epoch 45/100\n",
            "1/1 [==============================] - 0s 6ms/step - loss: 3.8531 - mae: 3.8531\n",
            "Epoch 46/100\n",
            "1/1 [==============================] - 0s 3ms/step - loss: 3.8579 - mae: 3.8579\n",
            "Epoch 47/100\n",
            "1/1 [==============================] - 0s 3ms/step - loss: 3.8263 - mae: 3.8263\n",
            "Epoch 48/100\n",
            "1/1 [==============================] - 0s 6ms/step - loss: 3.8651 - mae: 3.8651\n",
            "Epoch 49/100\n",
            "1/1 [==============================] - 0s 3ms/step - loss: 3.7994 - mae: 3.7994\n",
            "Epoch 50/100\n",
            "1/1 [==============================] - 0s 3ms/step - loss: 3.8724 - mae: 3.8724\n",
            "Epoch 51/100\n",
            "1/1 [==============================] - 0s 6ms/step - loss: 3.8054 - mae: 3.8054\n",
            "Epoch 52/100\n",
            "1/1 [==============================] - 0s 3ms/step - loss: 3.8462 - mae: 3.8462\n",
            "Epoch 53/100\n",
            "1/1 [==============================] - 0s 3ms/step - loss: 3.8216 - mae: 3.8216\n",
            "Epoch 54/100\n",
            "1/1 [==============================] - 0s 3ms/step - loss: 3.8271 - mae: 3.8271\n",
            "Epoch 55/100\n",
            "1/1 [==============================] - 0s 4ms/step - loss: 3.8289 - mae: 3.8289\n",
            "Epoch 56/100\n",
            "1/1 [==============================] - 0s 4ms/step - loss: 3.8000 - mae: 3.8000\n",
            "Epoch 57/100\n",
            "1/1 [==============================] - 0s 5ms/step - loss: 3.8363 - mae: 3.8363\n",
            "Epoch 58/100\n",
            "1/1 [==============================] - 0s 3ms/step - loss: 3.7728 - mae: 3.7728\n",
            "Epoch 59/100\n",
            "1/1 [==============================] - 0s 15ms/step - loss: 3.8438 - mae: 3.8438\n",
            "Epoch 60/100\n",
            "1/1 [==============================] - 0s 8ms/step - loss: 3.7772 - mae: 3.7772\n",
            "Epoch 61/100\n",
            "1/1 [==============================] - 0s 8ms/step - loss: 3.8254 - mae: 3.8254\n",
            "Epoch 62/100\n",
            "1/1 [==============================] - 0s 9ms/step - loss: 3.7935 - mae: 3.7935\n",
            "Epoch 63/100\n",
            "1/1 [==============================] - 0s 6ms/step - loss: 3.7998 - mae: 3.7998\n",
            "Epoch 64/100\n",
            "1/1 [==============================] - 0s 13ms/step - loss: 3.8010 - mae: 3.8010\n",
            "Epoch 65/100\n",
            "1/1 [==============================] - 0s 9ms/step - loss: 3.7724 - mae: 3.7724\n",
            "Epoch 66/100\n",
            "1/1 [==============================] - 0s 11ms/step - loss: 3.8086 - mae: 3.8086\n",
            "Epoch 67/100\n",
            "1/1 [==============================] - 0s 7ms/step - loss: 3.7449 - mae: 3.7449\n",
            "Epoch 68/100\n",
            "1/1 [==============================] - 0s 8ms/step - loss: 3.8163 - mae: 3.8163\n",
            "Epoch 69/100\n",
            "1/1 [==============================] - 0s 5ms/step - loss: 3.7538 - mae: 3.7538\n",
            "Epoch 70/100\n",
            "1/1 [==============================] - 0s 10ms/step - loss: 3.7987 - mae: 3.7987\n",
            "Epoch 71/100\n",
            "1/1 [==============================] - 0s 8ms/step - loss: 3.7664 - mae: 3.7664\n",
            "Epoch 72/100\n",
            "1/1 [==============================] - 0s 4ms/step - loss: 3.7711 - mae: 3.7711\n",
            "Epoch 73/100\n",
            "1/1 [==============================] - 0s 4ms/step - loss: 3.7741 - mae: 3.7741\n",
            "Epoch 74/100\n",
            "1/1 [==============================] - 0s 6ms/step - loss: 3.7435 - mae: 3.7435\n",
            "Epoch 75/100\n",
            "1/1 [==============================] - 0s 4ms/step - loss: 3.7819 - mae: 3.7819\n",
            "Epoch 76/100\n",
            "1/1 [==============================] - 0s 8ms/step - loss: 3.7162 - mae: 3.7162\n",
            "Epoch 77/100\n",
            "1/1 [==============================] - 0s 4ms/step - loss: 3.7899 - mae: 3.7899\n",
            "Epoch 78/100\n",
            "1/1 [==============================] - 0s 4ms/step - loss: 3.7327 - mae: 3.7327\n",
            "Epoch 79/100\n",
            "1/1 [==============================] - 0s 9ms/step - loss: 3.7690 - mae: 3.7690\n",
            "Epoch 80/100\n",
            "1/1 [==============================] - 0s 4ms/step - loss: 3.7405 - mae: 3.7405\n",
            "Epoch 81/100\n",
            "1/1 [==============================] - 0s 8ms/step - loss: 3.7411 - mae: 3.7411\n",
            "Epoch 82/100\n",
            "1/1 [==============================] - 0s 4ms/step - loss: 3.7484 - mae: 3.7484\n",
            "Epoch 83/100\n",
            "1/1 [==============================] - 0s 4ms/step - loss: 3.7132 - mae: 3.7132\n",
            "Epoch 84/100\n",
            "1/1 [==============================] - 0s 4ms/step - loss: 3.7564 - mae: 3.7564\n",
            "Epoch 85/100\n",
            "1/1 [==============================] - 0s 8ms/step - loss: 3.6909 - mae: 3.6909\n",
            "Epoch 86/100\n",
            "1/1 [==============================] - 0s 4ms/step - loss: 3.7650 - mae: 3.7650\n",
            "Epoch 87/100\n",
            "1/1 [==============================] - 0s 6ms/step - loss: 3.7077 - mae: 3.7077\n",
            "Epoch 88/100\n",
            "1/1 [==============================] - 0s 4ms/step - loss: 3.7380 - mae: 3.7380\n",
            "Epoch 89/100\n",
            "1/1 [==============================] - 0s 6ms/step - loss: 3.7156 - mae: 3.7156\n",
            "Epoch 90/100\n",
            "1/1 [==============================] - 0s 4ms/step - loss: 3.7098 - mae: 3.7098\n",
            "Epoch 91/100\n",
            "1/1 [==============================] - 0s 8ms/step - loss: 3.7236 - mae: 3.7236\n",
            "Epoch 92/100\n",
            "1/1 [==============================] - 0s 4ms/step - loss: 3.6815 - mae: 3.6815\n",
            "Epoch 93/100\n",
            "1/1 [==============================] - 0s 7ms/step - loss: 3.7318 - mae: 3.7318\n",
            "Epoch 94/100\n",
            "1/1 [==============================] - 0s 4ms/step - loss: 3.6710 - mae: 3.6710\n",
            "Epoch 95/100\n",
            "1/1 [==============================] - 0s 4ms/step - loss: 3.7340 - mae: 3.7340\n",
            "Epoch 96/100\n",
            "1/1 [==============================] - 0s 6ms/step - loss: 3.6835 - mae: 3.6835\n",
            "Epoch 97/100\n",
            "1/1 [==============================] - 0s 4ms/step - loss: 3.7056 - mae: 3.7056\n",
            "Epoch 98/100\n",
            "1/1 [==============================] - 0s 6ms/step - loss: 3.6916 - mae: 3.6916\n",
            "Epoch 99/100\n",
            "1/1 [==============================] - 0s 4ms/step - loss: 3.6771 - mae: 3.6771\n",
            "Epoch 100/100\n",
            "1/1 [==============================] - 0s 7ms/step - loss: 3.6999 - mae: 3.6999\n"
          ]
        },
        {
          "output_type": "execute_result",
          "data": {
            "text/plain": [
              "<keras.callbacks.History at 0x7f37591d0c10>"
            ]
          },
          "metadata": {},
          "execution_count": 21
        }
      ]
    },
    {
      "cell_type": "code",
      "metadata": {
        "colab": {
          "base_uri": "https://localhost:8080/"
        },
        "id": "U1UFX6FRSkOw",
        "outputId": "c54a98d9-8db4-4a67-d1a8-1449ff99b51b"
      },
      "source": [
        "# Let'stry to make a production\n",
        "model.predict([17.0])"
      ],
      "execution_count": 22,
      "outputs": [
        {
          "output_type": "execute_result",
          "data": {
            "text/plain": [
              "array([[31.824467]], dtype=float32)"
            ]
          },
          "metadata": {},
          "execution_count": 22
        }
      ]
    },
    {
      "cell_type": "code",
      "metadata": {
        "colab": {
          "base_uri": "https://localhost:8080/"
        },
        "id": "rt5W6tc7TALE",
        "outputId": "152e1902-29aa-4440-bba0-32442eda41c4"
      },
      "source": [
        "# An other change to our model()\n",
        " #1. Create a model again\n",
        "model = tf.keras.Sequential([\n",
        "    tf.keras.layers.Dense(500, activation=None),\n",
        "    tf.keras.layers.Dense(1)\n",
        "    \n",
        "])\n",
        "\n",
        " #2. recompile the model\n",
        "model.compile(loss=\"mae\",\n",
        "              optimizer=tf.keras.optimizers.SGD(), \n",
        "              metrics=[\"mae\"])\n",
        "\n",
        "\n",
        "# 3 Fit the model and keeping the epochs\n",
        "model.fit(tf.expand_dims(X,axis=-1), y,epochs=100)"
      ],
      "execution_count": 23,
      "outputs": [
        {
          "output_type": "stream",
          "name": "stdout",
          "text": [
            "Epoch 1/100\n",
            "1/1 [==============================] - 0s 315ms/step - loss: 13.1164 - mae: 13.1164\n",
            "Epoch 2/100\n",
            "1/1 [==============================] - 0s 9ms/step - loss: 12.5770 - mae: 12.5770\n",
            "Epoch 3/100\n",
            "1/1 [==============================] - 0s 4ms/step - loss: 12.0342 - mae: 12.0342\n",
            "Epoch 4/100\n",
            "1/1 [==============================] - 0s 6ms/step - loss: 11.4852 - mae: 11.4852\n",
            "Epoch 5/100\n",
            "1/1 [==============================] - 0s 4ms/step - loss: 10.9271 - mae: 10.9271\n",
            "Epoch 6/100\n",
            "1/1 [==============================] - 0s 6ms/step - loss: 10.3570 - mae: 10.3570\n",
            "Epoch 7/100\n",
            "1/1 [==============================] - 0s 4ms/step - loss: 9.7719 - mae: 9.7719\n",
            "Epoch 8/100\n",
            "1/1 [==============================] - 0s 5ms/step - loss: 9.1690 - mae: 9.1690\n",
            "Epoch 9/100\n",
            "1/1 [==============================] - 0s 4ms/step - loss: 8.5451 - mae: 8.5451\n",
            "Epoch 10/100\n",
            "1/1 [==============================] - 0s 5ms/step - loss: 7.8970 - mae: 7.8970\n",
            "Epoch 11/100\n",
            "1/1 [==============================] - 0s 6ms/step - loss: 7.2427 - mae: 7.2427\n",
            "Epoch 12/100\n",
            "1/1 [==============================] - 0s 5ms/step - loss: 7.2218 - mae: 7.2218\n",
            "Epoch 13/100\n",
            "1/1 [==============================] - 0s 6ms/step - loss: 7.2008 - mae: 7.2008\n",
            "Epoch 14/100\n",
            "1/1 [==============================] - 0s 5ms/step - loss: 7.1798 - mae: 7.1798\n",
            "Epoch 15/100\n",
            "1/1 [==============================] - 0s 4ms/step - loss: 7.1587 - mae: 7.1587\n",
            "Epoch 16/100\n",
            "1/1 [==============================] - 0s 6ms/step - loss: 7.1376 - mae: 7.1376\n",
            "Epoch 17/100\n",
            "1/1 [==============================] - 0s 5ms/step - loss: 7.1164 - mae: 7.1164\n",
            "Epoch 18/100\n",
            "1/1 [==============================] - 0s 8ms/step - loss: 7.0952 - mae: 7.0952\n",
            "Epoch 19/100\n",
            "1/1 [==============================] - 0s 5ms/step - loss: 7.0739 - mae: 7.0739\n",
            "Epoch 20/100\n",
            "1/1 [==============================] - 0s 9ms/step - loss: 7.0525 - mae: 7.0525\n",
            "Epoch 21/100\n",
            "1/1 [==============================] - 0s 3ms/step - loss: 7.0311 - mae: 7.0311\n",
            "Epoch 22/100\n",
            "1/1 [==============================] - 0s 8ms/step - loss: 7.0096 - mae: 7.0096\n",
            "Epoch 23/100\n",
            "1/1 [==============================] - 0s 4ms/step - loss: 6.9880 - mae: 6.9880\n",
            "Epoch 24/100\n",
            "1/1 [==============================] - 0s 5ms/step - loss: 6.9663 - mae: 6.9663\n",
            "Epoch 25/100\n",
            "1/1 [==============================] - 0s 4ms/step - loss: 6.9445 - mae: 6.9445\n",
            "Epoch 26/100\n",
            "1/1 [==============================] - 0s 5ms/step - loss: 6.9227 - mae: 6.9227\n",
            "Epoch 27/100\n",
            "1/1 [==============================] - 0s 6ms/step - loss: 6.9008 - mae: 6.9008\n",
            "Epoch 28/100\n",
            "1/1 [==============================] - 0s 4ms/step - loss: 6.8787 - mae: 6.8787\n",
            "Epoch 29/100\n",
            "1/1 [==============================] - 0s 6ms/step - loss: 6.8566 - mae: 6.8566\n",
            "Epoch 30/100\n",
            "1/1 [==============================] - 0s 6ms/step - loss: 6.8343 - mae: 6.8343\n",
            "Epoch 31/100\n",
            "1/1 [==============================] - 0s 6ms/step - loss: 6.8120 - mae: 6.8120\n",
            "Epoch 32/100\n",
            "1/1 [==============================] - 0s 6ms/step - loss: 6.7896 - mae: 6.7896\n",
            "Epoch 33/100\n",
            "1/1 [==============================] - 0s 4ms/step - loss: 6.7670 - mae: 6.7670\n",
            "Epoch 34/100\n",
            "1/1 [==============================] - 0s 4ms/step - loss: 6.7443 - mae: 6.7443\n",
            "Epoch 35/100\n",
            "1/1 [==============================] - 0s 5ms/step - loss: 6.7215 - mae: 6.7215\n",
            "Epoch 36/100\n",
            "1/1 [==============================] - 0s 6ms/step - loss: 6.6985 - mae: 6.6985\n",
            "Epoch 37/100\n",
            "1/1 [==============================] - 0s 4ms/step - loss: 6.6755 - mae: 6.6755\n",
            "Epoch 38/100\n",
            "1/1 [==============================] - 0s 6ms/step - loss: 6.6523 - mae: 6.6523\n",
            "Epoch 39/100\n",
            "1/1 [==============================] - 0s 6ms/step - loss: 6.6289 - mae: 6.6289\n",
            "Epoch 40/100\n",
            "1/1 [==============================] - 0s 6ms/step - loss: 6.6055 - mae: 6.6055\n",
            "Epoch 41/100\n",
            "1/1 [==============================] - 0s 4ms/step - loss: 6.5818 - mae: 6.5818\n",
            "Epoch 42/100\n",
            "1/1 [==============================] - 0s 7ms/step - loss: 6.5581 - mae: 6.5581\n",
            "Epoch 43/100\n",
            "1/1 [==============================] - 0s 5ms/step - loss: 6.5341 - mae: 6.5341\n",
            "Epoch 44/100\n",
            "1/1 [==============================] - 0s 8ms/step - loss: 6.5100 - mae: 6.5100\n",
            "Epoch 45/100\n",
            "1/1 [==============================] - 0s 7ms/step - loss: 6.4858 - mae: 6.4858\n",
            "Epoch 46/100\n",
            "1/1 [==============================] - 0s 16ms/step - loss: 6.4674 - mae: 6.4674\n",
            "Epoch 47/100\n",
            "1/1 [==============================] - 0s 11ms/step - loss: 6.4571 - mae: 6.4571\n",
            "Epoch 48/100\n",
            "1/1 [==============================] - 0s 6ms/step - loss: 6.4329 - mae: 6.4329\n",
            "Epoch 49/100\n",
            "1/1 [==============================] - 0s 7ms/step - loss: 6.4086 - mae: 6.4086\n",
            "Epoch 50/100\n",
            "1/1 [==============================] - 0s 5ms/step - loss: 6.3841 - mae: 6.3841\n",
            "Epoch 51/100\n",
            "1/1 [==============================] - 0s 6ms/step - loss: 6.3594 - mae: 6.3594\n",
            "Epoch 52/100\n",
            "1/1 [==============================] - 0s 7ms/step - loss: 6.3345 - mae: 6.3345\n",
            "Epoch 53/100\n",
            "1/1 [==============================] - 0s 6ms/step - loss: 6.3094 - mae: 6.3094\n",
            "Epoch 54/100\n",
            "1/1 [==============================] - 0s 10ms/step - loss: 6.2842 - mae: 6.2842\n",
            "Epoch 55/100\n",
            "1/1 [==============================] - 0s 5ms/step - loss: 6.2587 - mae: 6.2587\n",
            "Epoch 56/100\n",
            "1/1 [==============================] - 0s 4ms/step - loss: 6.2330 - mae: 6.2330\n",
            "Epoch 57/100\n",
            "1/1 [==============================] - 0s 4ms/step - loss: 6.2071 - mae: 6.2071\n",
            "Epoch 58/100\n",
            "1/1 [==============================] - 0s 7ms/step - loss: 6.1810 - mae: 6.1810\n",
            "Epoch 59/100\n",
            "1/1 [==============================] - 0s 4ms/step - loss: 6.1547 - mae: 6.1547\n",
            "Epoch 60/100\n",
            "1/1 [==============================] - 0s 6ms/step - loss: 6.1282 - mae: 6.1282\n",
            "Epoch 61/100\n",
            "1/1 [==============================] - 0s 10ms/step - loss: 6.1014 - mae: 6.1014\n",
            "Epoch 62/100\n",
            "1/1 [==============================] - 0s 6ms/step - loss: 6.0744 - mae: 6.0744\n",
            "Epoch 63/100\n",
            "1/1 [==============================] - 0s 6ms/step - loss: 6.0472 - mae: 6.0472\n",
            "Epoch 64/100\n",
            "1/1 [==============================] - 0s 6ms/step - loss: 6.0197 - mae: 6.0197\n",
            "Epoch 65/100\n",
            "1/1 [==============================] - 0s 8ms/step - loss: 5.9919 - mae: 5.9919\n",
            "Epoch 66/100\n",
            "1/1 [==============================] - 0s 4ms/step - loss: 5.9821 - mae: 5.9821\n",
            "Epoch 67/100\n",
            "1/1 [==============================] - 0s 6ms/step - loss: 5.9617 - mae: 5.9617\n",
            "Epoch 68/100\n",
            "1/1 [==============================] - 0s 4ms/step - loss: 5.9339 - mae: 5.9339\n",
            "Epoch 69/100\n",
            "1/1 [==============================] - 0s 6ms/step - loss: 5.9057 - mae: 5.9057\n",
            "Epoch 70/100\n",
            "1/1 [==============================] - 0s 4ms/step - loss: 5.8773 - mae: 5.8773\n",
            "Epoch 71/100\n",
            "1/1 [==============================] - 0s 5ms/step - loss: 5.8486 - mae: 5.8486\n",
            "Epoch 72/100\n",
            "1/1 [==============================] - 0s 8ms/step - loss: 5.8197 - mae: 5.8197\n",
            "Epoch 73/100\n",
            "1/1 [==============================] - 0s 4ms/step - loss: 5.7904 - mae: 5.7904\n",
            "Epoch 74/100\n",
            "1/1 [==============================] - 0s 4ms/step - loss: 5.7609 - mae: 5.7609\n",
            "Epoch 75/100\n",
            "1/1 [==============================] - 0s 7ms/step - loss: 5.7311 - mae: 5.7311\n",
            "Epoch 76/100\n",
            "1/1 [==============================] - 0s 4ms/step - loss: 5.7009 - mae: 5.7009\n",
            "Epoch 77/100\n",
            "1/1 [==============================] - 0s 4ms/step - loss: 5.6705 - mae: 5.6705\n",
            "Epoch 78/100\n",
            "1/1 [==============================] - 0s 5ms/step - loss: 5.6398 - mae: 5.6398\n",
            "Epoch 79/100\n",
            "1/1 [==============================] - 0s 6ms/step - loss: 5.6087 - mae: 5.6087\n",
            "Epoch 80/100\n",
            "1/1 [==============================] - 0s 4ms/step - loss: 5.5773 - mae: 5.5773\n",
            "Epoch 81/100\n",
            "1/1 [==============================] - 0s 4ms/step - loss: 5.5456 - mae: 5.5456\n",
            "Epoch 82/100\n",
            "1/1 [==============================] - 0s 6ms/step - loss: 5.5169 - mae: 5.5169\n",
            "Epoch 83/100\n",
            "1/1 [==============================] - 0s 9ms/step - loss: 5.5679 - mae: 5.5679\n",
            "Epoch 84/100\n",
            "1/1 [==============================] - 0s 6ms/step - loss: 5.6280 - mae: 5.6280\n",
            "Epoch 85/100\n",
            "1/1 [==============================] - 0s 8ms/step - loss: 5.4433 - mae: 5.4433\n",
            "Epoch 86/100\n",
            "1/1 [==============================] - 0s 14ms/step - loss: 5.4104 - mae: 5.4104\n",
            "Epoch 87/100\n",
            "1/1 [==============================] - 0s 4ms/step - loss: 5.3772 - mae: 5.3772\n",
            "Epoch 88/100\n",
            "1/1 [==============================] - 0s 4ms/step - loss: 5.3436 - mae: 5.3436\n",
            "Epoch 89/100\n",
            "1/1 [==============================] - 0s 10ms/step - loss: 5.3097 - mae: 5.3097\n",
            "Epoch 90/100\n",
            "1/1 [==============================] - 0s 3ms/step - loss: 5.2753 - mae: 5.2753\n",
            "Epoch 91/100\n",
            "1/1 [==============================] - 0s 6ms/step - loss: 5.2406 - mae: 5.2406\n",
            "Epoch 92/100\n",
            "1/1 [==============================] - 0s 4ms/step - loss: 5.2055 - mae: 5.2055\n",
            "Epoch 93/100\n",
            "1/1 [==============================] - 0s 7ms/step - loss: 5.1700 - mae: 5.1700\n",
            "Epoch 94/100\n",
            "1/1 [==============================] - 0s 8ms/step - loss: 5.1539 - mae: 5.1539\n",
            "Epoch 95/100\n",
            "1/1 [==============================] - 0s 13ms/step - loss: 5.2226 - mae: 5.2226\n",
            "Epoch 96/100\n",
            "1/1 [==============================] - 0s 9ms/step - loss: 5.2690 - mae: 5.2690\n",
            "Epoch 97/100\n",
            "1/1 [==============================] - 0s 10ms/step - loss: 5.0549 - mae: 5.0549\n",
            "Epoch 98/100\n",
            "1/1 [==============================] - 0s 5ms/step - loss: 5.0179 - mae: 5.0179\n",
            "Epoch 99/100\n",
            "1/1 [==============================] - 0s 9ms/step - loss: 4.9805 - mae: 4.9805\n",
            "Epoch 100/100\n",
            "1/1 [==============================] - 0s 7ms/step - loss: 4.9426 - mae: 4.9426\n"
          ]
        },
        {
          "output_type": "execute_result",
          "data": {
            "text/plain": [
              "<keras.callbacks.History at 0x7f3752dd2410>"
            ]
          },
          "metadata": {},
          "execution_count": 23
        }
      ]
    },
    {
      "cell_type": "code",
      "metadata": {
        "colab": {
          "base_uri": "https://localhost:8080/"
        },
        "id": "lHu0L04XWMTk",
        "outputId": "9d674dbb-92a0-4cf6-8df3-827013c95806"
      },
      "source": [
        "# Let's try an other prediction\n",
        "model.predict([17.0])"
      ],
      "execution_count": 24,
      "outputs": [
        {
          "output_type": "stream",
          "name": "stdout",
          "text": [
            "WARNING:tensorflow:5 out of the last 5 calls to <function Model.make_predict_function.<locals>.predict_function at 0x7f3755deef80> triggered tf.function retracing. Tracing is expensive and the excessive number of tracings could be due to (1) creating @tf.function repeatedly in a loop, (2) passing tensors with different shapes, (3) passing Python objects instead of tensors. For (1), please define your @tf.function outside of the loop. For (2), @tf.function has experimental_relax_shapes=True option that relaxes argument shapes that can avoid unnecessary retracing. For (3), please refer to https://www.tensorflow.org/guide/function#controlling_retracing and https://www.tensorflow.org/api_docs/python/tf/function for  more details.\n"
          ]
        },
        {
          "output_type": "execute_result",
          "data": {
            "text/plain": [
              "array([[29.83589]], dtype=float32)"
            ]
          },
          "metadata": {},
          "execution_count": 24
        }
      ]
    },
    {
      "cell_type": "code",
      "metadata": {
        "colab": {
          "base_uri": "https://localhost:8080/"
        },
        "id": "AGdrN1HsRT5Z",
        "outputId": "6712d4ea-c6c9-4020-eea0-1eb7cfbe342a"
      },
      "source": [
        "# An other change to our model()\n",
        " #1. Create a model again\n",
        "model = tf.keras.Sequential([\n",
        "    tf.keras.layers.Dense(500, activation=None),\n",
        "    tf.keras.layers.Dense(1)\n",
        "    \n",
        "])\n",
        "\n",
        " #2. recompile the model\n",
        "model.compile(loss=\"mae\",\n",
        "              optimizer=tf.keras.optimizers.Adam(), \n",
        "              metrics=[\"mae\"])\n",
        "\n",
        "\n",
        "# 3 Fit the model and keeping the epochs\n",
        "model.fit(tf.expand_dims(X,axis=-1), y,epochs=100)"
      ],
      "execution_count": 25,
      "outputs": [
        {
          "output_type": "stream",
          "name": "stdout",
          "text": [
            "Epoch 1/100\n",
            "1/1 [==============================] - 0s 358ms/step - loss: 13.3344 - mae: 13.3344\n",
            "Epoch 2/100\n",
            "1/1 [==============================] - 0s 7ms/step - loss: 13.1126 - mae: 13.1126\n",
            "Epoch 3/100\n",
            "1/1 [==============================] - 0s 10ms/step - loss: 12.8908 - mae: 12.8908\n",
            "Epoch 4/100\n",
            "1/1 [==============================] - 0s 8ms/step - loss: 12.6688 - mae: 12.6688\n",
            "Epoch 5/100\n",
            "1/1 [==============================] - 0s 10ms/step - loss: 12.4466 - mae: 12.4466\n",
            "Epoch 6/100\n",
            "1/1 [==============================] - 0s 6ms/step - loss: 12.2241 - mae: 12.2241\n",
            "Epoch 7/100\n",
            "1/1 [==============================] - 0s 4ms/step - loss: 12.0011 - mae: 12.0011\n",
            "Epoch 8/100\n",
            "1/1 [==============================] - 0s 6ms/step - loss: 11.7775 - mae: 11.7775\n",
            "Epoch 9/100\n",
            "1/1 [==============================] - 0s 5ms/step - loss: 11.5533 - mae: 11.5533\n",
            "Epoch 10/100\n",
            "1/1 [==============================] - 0s 6ms/step - loss: 11.3283 - mae: 11.3283\n",
            "Epoch 11/100\n",
            "1/1 [==============================] - 0s 11ms/step - loss: 11.1024 - mae: 11.1024\n",
            "Epoch 12/100\n",
            "1/1 [==============================] - 0s 9ms/step - loss: 10.8755 - mae: 10.8755\n",
            "Epoch 13/100\n",
            "1/1 [==============================] - 0s 7ms/step - loss: 10.6475 - mae: 10.6475\n",
            "Epoch 14/100\n",
            "1/1 [==============================] - 0s 6ms/step - loss: 10.4181 - mae: 10.4181\n",
            "Epoch 15/100\n",
            "1/1 [==============================] - 0s 6ms/step - loss: 10.1873 - mae: 10.1873\n",
            "Epoch 16/100\n",
            "1/1 [==============================] - 0s 4ms/step - loss: 9.9549 - mae: 9.9549\n",
            "Epoch 17/100\n",
            "1/1 [==============================] - 0s 6ms/step - loss: 9.7207 - mae: 9.7207\n",
            "Epoch 18/100\n",
            "1/1 [==============================] - 0s 7ms/step - loss: 9.4847 - mae: 9.4847\n",
            "Epoch 19/100\n",
            "1/1 [==============================] - 0s 5ms/step - loss: 9.2466 - mae: 9.2466\n",
            "Epoch 20/100\n",
            "1/1 [==============================] - 0s 8ms/step - loss: 9.0063 - mae: 9.0063\n",
            "Epoch 21/100\n",
            "1/1 [==============================] - 0s 4ms/step - loss: 8.7636 - mae: 8.7636\n",
            "Epoch 22/100\n",
            "1/1 [==============================] - 0s 4ms/step - loss: 8.5184 - mae: 8.5184\n",
            "Epoch 23/100\n",
            "1/1 [==============================] - 0s 9ms/step - loss: 8.2706 - mae: 8.2706\n",
            "Epoch 24/100\n",
            "1/1 [==============================] - 0s 4ms/step - loss: 8.0199 - mae: 8.0199\n",
            "Epoch 25/100\n",
            "1/1 [==============================] - 0s 4ms/step - loss: 7.7663 - mae: 7.7663\n",
            "Epoch 26/100\n",
            "1/1 [==============================] - 0s 4ms/step - loss: 7.5095 - mae: 7.5095\n",
            "Epoch 27/100\n",
            "1/1 [==============================] - 0s 4ms/step - loss: 7.2495 - mae: 7.2495\n",
            "Epoch 28/100\n",
            "1/1 [==============================] - 0s 6ms/step - loss: 6.9860 - mae: 6.9860\n",
            "Epoch 29/100\n",
            "1/1 [==============================] - 0s 6ms/step - loss: 6.8332 - mae: 6.8332\n",
            "Epoch 30/100\n",
            "1/1 [==============================] - 0s 4ms/step - loss: 6.8039 - mae: 6.8039\n",
            "Epoch 31/100\n",
            "1/1 [==============================] - 0s 5ms/step - loss: 6.7748 - mae: 6.7748\n",
            "Epoch 32/100\n",
            "1/1 [==============================] - 0s 6ms/step - loss: 6.8335 - mae: 6.8335\n",
            "Epoch 33/100\n",
            "1/1 [==============================] - 0s 4ms/step - loss: 6.9246 - mae: 6.9246\n",
            "Epoch 34/100\n",
            "1/1 [==============================] - 0s 4ms/step - loss: 6.9886 - mae: 6.9886\n",
            "Epoch 35/100\n",
            "1/1 [==============================] - 0s 4ms/step - loss: 7.0281 - mae: 7.0281\n",
            "Epoch 36/100\n",
            "1/1 [==============================] - 0s 6ms/step - loss: 7.0455 - mae: 7.0455\n",
            "Epoch 37/100\n",
            "1/1 [==============================] - 0s 6ms/step - loss: 7.0431 - mae: 7.0431\n",
            "Epoch 38/100\n",
            "1/1 [==============================] - 0s 4ms/step - loss: 7.0228 - mae: 7.0228\n",
            "Epoch 39/100\n",
            "1/1 [==============================] - 0s 6ms/step - loss: 6.9868 - mae: 6.9868\n",
            "Epoch 40/100\n",
            "1/1 [==============================] - 0s 5ms/step - loss: 6.9366 - mae: 6.9366\n",
            "Epoch 41/100\n",
            "1/1 [==============================] - 0s 6ms/step - loss: 6.8741 - mae: 6.8741\n",
            "Epoch 42/100\n",
            "1/1 [==============================] - 0s 10ms/step - loss: 6.8006 - mae: 6.8006\n",
            "Epoch 43/100\n",
            "1/1 [==============================] - 0s 9ms/step - loss: 6.7175 - mae: 6.7175\n",
            "Epoch 44/100\n",
            "1/1 [==============================] - 0s 10ms/step - loss: 6.6259 - mae: 6.6259\n",
            "Epoch 45/100\n",
            "1/1 [==============================] - 0s 8ms/step - loss: 6.5271 - mae: 6.5271\n",
            "Epoch 46/100\n",
            "1/1 [==============================] - 0s 10ms/step - loss: 6.4570 - mae: 6.4570\n",
            "Epoch 47/100\n",
            "1/1 [==============================] - 0s 7ms/step - loss: 6.4408 - mae: 6.4408\n",
            "Epoch 48/100\n",
            "1/1 [==============================] - 0s 8ms/step - loss: 6.4235 - mae: 6.4235\n",
            "Epoch 49/100\n",
            "1/1 [==============================] - 0s 8ms/step - loss: 6.4053 - mae: 6.4053\n",
            "Epoch 50/100\n",
            "1/1 [==============================] - 0s 14ms/step - loss: 6.3862 - mae: 6.3862\n",
            "Epoch 51/100\n",
            "1/1 [==============================] - 0s 7ms/step - loss: 6.3664 - mae: 6.3664\n",
            "Epoch 52/100\n",
            "1/1 [==============================] - 0s 16ms/step - loss: 6.3457 - mae: 6.3457\n",
            "Epoch 53/100\n",
            "1/1 [==============================] - 0s 5ms/step - loss: 6.3243 - mae: 6.3243\n",
            "Epoch 54/100\n",
            "1/1 [==============================] - 0s 5ms/step - loss: 6.3105 - mae: 6.3105\n",
            "Epoch 55/100\n",
            "1/1 [==============================] - 0s 5ms/step - loss: 6.2921 - mae: 6.2921\n",
            "Epoch 56/100\n",
            "1/1 [==============================] - 0s 9ms/step - loss: 6.2502 - mae: 6.2502\n",
            "Epoch 57/100\n",
            "1/1 [==============================] - 0s 5ms/step - loss: 6.2227 - mae: 6.2227\n",
            "Epoch 58/100\n",
            "1/1 [==============================] - 0s 5ms/step - loss: 6.1948 - mae: 6.1948\n",
            "Epoch 59/100\n",
            "1/1 [==============================] - 0s 9ms/step - loss: 6.1665 - mae: 6.1665\n",
            "Epoch 60/100\n",
            "1/1 [==============================] - 0s 5ms/step - loss: 6.1378 - mae: 6.1378\n",
            "Epoch 61/100\n",
            "1/1 [==============================] - 0s 12ms/step - loss: 6.1087 - mae: 6.1087\n",
            "Epoch 62/100\n",
            "1/1 [==============================] - 0s 7ms/step - loss: 6.0793 - mae: 6.0793\n",
            "Epoch 63/100\n",
            "1/1 [==============================] - 0s 12ms/step - loss: 6.0494 - mae: 6.0494\n",
            "Epoch 64/100\n",
            "1/1 [==============================] - 0s 8ms/step - loss: 6.0190 - mae: 6.0190\n",
            "Epoch 65/100\n",
            "1/1 [==============================] - 0s 10ms/step - loss: 5.9883 - mae: 5.9883\n",
            "Epoch 66/100\n",
            "1/1 [==============================] - 0s 8ms/step - loss: 5.9570 - mae: 5.9570\n",
            "Epoch 67/100\n",
            "1/1 [==============================] - 0s 10ms/step - loss: 5.9254 - mae: 5.9254\n",
            "Epoch 68/100\n",
            "1/1 [==============================] - 0s 6ms/step - loss: 5.8932 - mae: 5.8932\n",
            "Epoch 69/100\n",
            "1/1 [==============================] - 0s 6ms/step - loss: 5.8605 - mae: 5.8605\n",
            "Epoch 70/100\n",
            "1/1 [==============================] - 0s 10ms/step - loss: 5.8274 - mae: 5.8274\n",
            "Epoch 71/100\n",
            "1/1 [==============================] - 0s 13ms/step - loss: 5.7937 - mae: 5.7937\n",
            "Epoch 72/100\n",
            "1/1 [==============================] - 0s 6ms/step - loss: 5.7595 - mae: 5.7595\n",
            "Epoch 73/100\n",
            "1/1 [==============================] - 0s 10ms/step - loss: 5.7247 - mae: 5.7247\n",
            "Epoch 74/100\n",
            "1/1 [==============================] - 0s 5ms/step - loss: 5.6894 - mae: 5.6894\n",
            "Epoch 75/100\n",
            "1/1 [==============================] - 0s 10ms/step - loss: 5.6535 - mae: 5.6535\n",
            "Epoch 76/100\n",
            "1/1 [==============================] - 0s 6ms/step - loss: 5.6336 - mae: 5.6336\n",
            "Epoch 77/100\n",
            "1/1 [==============================] - 0s 6ms/step - loss: 5.6025 - mae: 5.6025\n",
            "Epoch 78/100\n",
            "1/1 [==============================] - 0s 6ms/step - loss: 5.5531 - mae: 5.5531\n",
            "Epoch 79/100\n",
            "1/1 [==============================] - 0s 5ms/step - loss: 5.5200 - mae: 5.5200\n",
            "Epoch 80/100\n",
            "1/1 [==============================] - 0s 5ms/step - loss: 5.4883 - mae: 5.4883\n",
            "Epoch 81/100\n",
            "1/1 [==============================] - 0s 6ms/step - loss: 5.4554 - mae: 5.4554\n",
            "Epoch 82/100\n",
            "1/1 [==============================] - 0s 5ms/step - loss: 5.4213 - mae: 5.4213\n",
            "Epoch 83/100\n",
            "1/1 [==============================] - 0s 5ms/step - loss: 5.3862 - mae: 5.3862\n",
            "Epoch 84/100\n",
            "1/1 [==============================] - 0s 6ms/step - loss: 5.3499 - mae: 5.3499\n",
            "Epoch 85/100\n",
            "1/1 [==============================] - 0s 6ms/step - loss: 5.3126 - mae: 5.3126\n",
            "Epoch 86/100\n",
            "1/1 [==============================] - 0s 9ms/step - loss: 5.2743 - mae: 5.2743\n",
            "Epoch 87/100\n",
            "1/1 [==============================] - 0s 6ms/step - loss: 5.2349 - mae: 5.2349\n",
            "Epoch 88/100\n",
            "1/1 [==============================] - 0s 6ms/step - loss: 5.1946 - mae: 5.1946\n",
            "Epoch 89/100\n",
            "1/1 [==============================] - 0s 9ms/step - loss: 5.1533 - mae: 5.1533\n",
            "Epoch 90/100\n",
            "1/1 [==============================] - 0s 5ms/step - loss: 5.1110 - mae: 5.1110\n",
            "Epoch 91/100\n",
            "1/1 [==============================] - 0s 10ms/step - loss: 5.0677 - mae: 5.0677\n",
            "Epoch 92/100\n",
            "1/1 [==============================] - 0s 5ms/step - loss: 5.0235 - mae: 5.0235\n",
            "Epoch 93/100\n",
            "1/1 [==============================] - 0s 5ms/step - loss: 4.9783 - mae: 4.9783\n",
            "Epoch 94/100\n",
            "1/1 [==============================] - 0s 8ms/step - loss: 4.9321 - mae: 4.9321\n",
            "Epoch 95/100\n",
            "1/1 [==============================] - 0s 6ms/step - loss: 4.8850 - mae: 4.8850\n",
            "Epoch 96/100\n",
            "1/1 [==============================] - 0s 8ms/step - loss: 4.8369 - mae: 4.8369\n",
            "Epoch 97/100\n",
            "1/1 [==============================] - 0s 5ms/step - loss: 4.7879 - mae: 4.7879\n",
            "Epoch 98/100\n",
            "1/1 [==============================] - 0s 6ms/step - loss: 4.7602 - mae: 4.7602\n",
            "Epoch 99/100\n",
            "1/1 [==============================] - 0s 7ms/step - loss: 4.7091 - mae: 4.7091\n",
            "Epoch 100/100\n",
            "1/1 [==============================] - 0s 5ms/step - loss: 4.6454 - mae: 4.6454\n"
          ]
        },
        {
          "output_type": "execute_result",
          "data": {
            "text/plain": [
              "<keras.callbacks.History at 0x7f3755ccdb50>"
            ]
          },
          "metadata": {},
          "execution_count": 25
        }
      ]
    },
    {
      "cell_type": "code",
      "metadata": {
        "colab": {
          "base_uri": "https://localhost:8080/"
        },
        "id": "f3FwxQVNRwwQ",
        "outputId": "0635d327-26be-4079-b28b-22be34398b16"
      },
      "source": [
        "# An other change to our model()\n",
        " #1. Create a model again by increasing the learning rate of ADAM\n",
        "model = tf.keras.Sequential([\n",
        "    tf.keras.layers.Dense(500, activation=None),\n",
        "    tf.keras.layers.Dense(1)\n",
        "    \n",
        "])\n",
        "\n",
        " #2. recompile the model\n",
        "model.compile(loss=\"mae\",\n",
        "              optimizer=tf.keras.optimizers.Adam(learning_rate=0.01), \n",
        "              metrics=[\"mae\"])\n",
        "\n",
        "\n",
        "# 3 Fit the model and keeping the epochs\n",
        "model.fit(tf.expand_dims(X,axis=-1), y,epochs=100)"
      ],
      "execution_count": 26,
      "outputs": [
        {
          "output_type": "stream",
          "name": "stdout",
          "text": [
            "Epoch 1/100\n",
            "1/1 [==============================] - 0s 335ms/step - loss: 12.9791 - mae: 12.9791\n",
            "Epoch 2/100\n",
            "1/1 [==============================] - 0s 5ms/step - loss: 10.7870 - mae: 10.7870\n",
            "Epoch 3/100\n",
            "1/1 [==============================] - 0s 4ms/step - loss: 8.5588 - mae: 8.5588\n",
            "Epoch 4/100\n",
            "1/1 [==============================] - 0s 4ms/step - loss: 6.8404 - mae: 6.8404\n",
            "Epoch 5/100\n",
            "1/1 [==============================] - 0s 8ms/step - loss: 8.4602 - mae: 8.4602\n",
            "Epoch 6/100\n",
            "1/1 [==============================] - 0s 4ms/step - loss: 8.6841 - mae: 8.6841\n",
            "Epoch 7/100\n",
            "1/1 [==============================] - 0s 4ms/step - loss: 7.9698 - mae: 7.9698\n",
            "Epoch 8/100\n",
            "1/1 [==============================] - 0s 7ms/step - loss: 6.8248 - mae: 6.8248\n",
            "Epoch 9/100\n",
            "1/1 [==============================] - 0s 4ms/step - loss: 6.0393 - mae: 6.0393\n",
            "Epoch 10/100\n",
            "1/1 [==============================] - 0s 5ms/step - loss: 6.1096 - mae: 6.1096\n",
            "Epoch 11/100\n",
            "1/1 [==============================] - 0s 7ms/step - loss: 6.2178 - mae: 6.2178\n",
            "Epoch 12/100\n",
            "1/1 [==============================] - 0s 4ms/step - loss: 5.9456 - mae: 5.9456\n",
            "Epoch 13/100\n",
            "1/1 [==============================] - 0s 6ms/step - loss: 5.3577 - mae: 5.3577\n",
            "Epoch 14/100\n",
            "1/1 [==============================] - 0s 4ms/step - loss: 4.9953 - mae: 4.9953\n",
            "Epoch 15/100\n",
            "1/1 [==============================] - 0s 6ms/step - loss: 4.9803 - mae: 4.9803\n",
            "Epoch 16/100\n",
            "1/1 [==============================] - 0s 4ms/step - loss: 4.8229 - mae: 4.8229\n",
            "Epoch 17/100\n",
            "1/1 [==============================] - 0s 5ms/step - loss: 4.5317 - mae: 4.5317\n",
            "Epoch 18/100\n",
            "1/1 [==============================] - 0s 4ms/step - loss: 4.1138 - mae: 4.1138\n",
            "Epoch 19/100\n",
            "1/1 [==============================] - 0s 5ms/step - loss: 3.5746 - mae: 3.5746\n",
            "Epoch 20/100\n",
            "1/1 [==============================] - 0s 4ms/step - loss: 3.1005 - mae: 3.1005\n",
            "Epoch 21/100\n",
            "1/1 [==============================] - 0s 4ms/step - loss: 3.0718 - mae: 3.0718\n",
            "Epoch 22/100\n",
            "1/1 [==============================] - 0s 5ms/step - loss: 2.6416 - mae: 2.6416\n",
            "Epoch 23/100\n",
            "1/1 [==============================] - 0s 13ms/step - loss: 1.7827 - mae: 1.7827\n",
            "Epoch 24/100\n",
            "1/1 [==============================] - 0s 5ms/step - loss: 1.4900 - mae: 1.4900\n",
            "Epoch 25/100\n",
            "1/1 [==============================] - 0s 10ms/step - loss: 1.4014 - mae: 1.4014\n",
            "Epoch 26/100\n",
            "1/1 [==============================] - 0s 5ms/step - loss: 0.6794 - mae: 0.6794\n",
            "Epoch 27/100\n",
            "1/1 [==============================] - 0s 4ms/step - loss: 1.1387 - mae: 1.1387\n",
            "Epoch 28/100\n",
            "1/1 [==============================] - 0s 4ms/step - loss: 1.7773 - mae: 1.7773\n",
            "Epoch 29/100\n",
            "1/1 [==============================] - 0s 5ms/step - loss: 1.7113 - mae: 1.7113\n",
            "Epoch 30/100\n",
            "1/1 [==============================] - 0s 4ms/step - loss: 1.8327 - mae: 1.8327\n",
            "Epoch 31/100\n",
            "1/1 [==============================] - 0s 5ms/step - loss: 2.0217 - mae: 2.0217\n",
            "Epoch 32/100\n",
            "1/1 [==============================] - 0s 6ms/step - loss: 1.6547 - mae: 1.6547\n",
            "Epoch 33/100\n",
            "1/1 [==============================] - 0s 4ms/step - loss: 1.4740 - mae: 1.4740\n",
            "Epoch 34/100\n",
            "1/1 [==============================] - 0s 4ms/step - loss: 1.3676 - mae: 1.3676\n",
            "Epoch 35/100\n",
            "1/1 [==============================] - 0s 5ms/step - loss: 0.8928 - mae: 0.8928\n",
            "Epoch 36/100\n",
            "1/1 [==============================] - 0s 7ms/step - loss: 0.3861 - mae: 0.3861\n",
            "Epoch 37/100\n",
            "1/1 [==============================] - 0s 4ms/step - loss: 0.5105 - mae: 0.5105\n",
            "Epoch 38/100\n",
            "1/1 [==============================] - 0s 5ms/step - loss: 0.5217 - mae: 0.5217\n",
            "Epoch 39/100\n",
            "1/1 [==============================] - 0s 5ms/step - loss: 1.0126 - mae: 1.0126\n",
            "Epoch 40/100\n",
            "1/1 [==============================] - 0s 5ms/step - loss: 1.1278 - mae: 1.1278\n",
            "Epoch 41/100\n",
            "1/1 [==============================] - 0s 6ms/step - loss: 0.8681 - mae: 0.8681\n",
            "Epoch 42/100\n",
            "1/1 [==============================] - 0s 6ms/step - loss: 1.0163 - mae: 1.0163\n",
            "Epoch 43/100\n",
            "1/1 [==============================] - 0s 10ms/step - loss: 1.1962 - mae: 1.1962\n",
            "Epoch 44/100\n",
            "1/1 [==============================] - 0s 7ms/step - loss: 0.8901 - mae: 0.8901\n",
            "Epoch 45/100\n",
            "1/1 [==============================] - 0s 9ms/step - loss: 0.2331 - mae: 0.2331\n",
            "Epoch 46/100\n",
            "1/1 [==============================] - 0s 6ms/step - loss: 0.5658 - mae: 0.5658\n",
            "Epoch 47/100\n",
            "1/1 [==============================] - 0s 4ms/step - loss: 0.5808 - mae: 0.5808\n",
            "Epoch 48/100\n",
            "1/1 [==============================] - 0s 4ms/step - loss: 0.4570 - mae: 0.4570\n",
            "Epoch 49/100\n",
            "1/1 [==============================] - 0s 4ms/step - loss: 0.5511 - mae: 0.5511\n",
            "Epoch 50/100\n",
            "1/1 [==============================] - 0s 6ms/step - loss: 0.4008 - mae: 0.4008\n",
            "Epoch 51/100\n",
            "1/1 [==============================] - 0s 4ms/step - loss: 0.2500 - mae: 0.2500\n",
            "Epoch 52/100\n",
            "1/1 [==============================] - 0s 5ms/step - loss: 0.3079 - mae: 0.3079\n",
            "Epoch 53/100\n",
            "1/1 [==============================] - 0s 4ms/step - loss: 0.1847 - mae: 0.1847\n",
            "Epoch 54/100\n",
            "1/1 [==============================] - 0s 4ms/step - loss: 0.5586 - mae: 0.5586\n",
            "Epoch 55/100\n",
            "1/1 [==============================] - 0s 7ms/step - loss: 0.6167 - mae: 0.6167\n",
            "Epoch 56/100\n",
            "1/1 [==============================] - 0s 4ms/step - loss: 0.3098 - mae: 0.3098\n",
            "Epoch 57/100\n",
            "1/1 [==============================] - 0s 4ms/step - loss: 0.4747 - mae: 0.4747\n",
            "Epoch 58/100\n",
            "1/1 [==============================] - 0s 4ms/step - loss: 0.5446 - mae: 0.5446\n",
            "Epoch 59/100\n",
            "1/1 [==============================] - 0s 6ms/step - loss: 0.2509 - mae: 0.2509\n",
            "Epoch 60/100\n",
            "1/1 [==============================] - 0s 6ms/step - loss: 0.8249 - mae: 0.8249\n",
            "Epoch 61/100\n",
            "1/1 [==============================] - 0s 7ms/step - loss: 1.0033 - mae: 1.0033\n",
            "Epoch 62/100\n",
            "1/1 [==============================] - 0s 4ms/step - loss: 0.6463 - mae: 0.6463\n",
            "Epoch 63/100\n",
            "1/1 [==============================] - 0s 5ms/step - loss: 0.1859 - mae: 0.1859\n",
            "Epoch 64/100\n",
            "1/1 [==============================] - 0s 6ms/step - loss: 0.4076 - mae: 0.4076\n",
            "Epoch 65/100\n",
            "1/1 [==============================] - 0s 7ms/step - loss: 0.1636 - mae: 0.1636\n",
            "Epoch 66/100\n",
            "1/1 [==============================] - 0s 4ms/step - loss: 0.4212 - mae: 0.4212\n",
            "Epoch 67/100\n",
            "1/1 [==============================] - 0s 6ms/step - loss: 0.3275 - mae: 0.3275\n",
            "Epoch 68/100\n",
            "1/1 [==============================] - 0s 6ms/step - loss: 0.2101 - mae: 0.2101\n",
            "Epoch 69/100\n",
            "1/1 [==============================] - 0s 5ms/step - loss: 0.2327 - mae: 0.2327\n",
            "Epoch 70/100\n",
            "1/1 [==============================] - 0s 5ms/step - loss: 0.2727 - mae: 0.2727\n",
            "Epoch 71/100\n",
            "1/1 [==============================] - 0s 6ms/step - loss: 0.1374 - mae: 0.1374\n",
            "Epoch 72/100\n",
            "1/1 [==============================] - 0s 6ms/step - loss: 0.4235 - mae: 0.4235\n",
            "Epoch 73/100\n",
            "1/1 [==============================] - 0s 11ms/step - loss: 0.4253 - mae: 0.4253\n",
            "Epoch 74/100\n",
            "1/1 [==============================] - 0s 5ms/step - loss: 0.2422 - mae: 0.2422\n",
            "Epoch 75/100\n",
            "1/1 [==============================] - 0s 4ms/step - loss: 0.2766 - mae: 0.2766\n",
            "Epoch 76/100\n",
            "1/1 [==============================] - 0s 6ms/step - loss: 0.0689 - mae: 0.0689\n",
            "Epoch 77/100\n",
            "1/1 [==============================] - 0s 6ms/step - loss: 0.2180 - mae: 0.2180\n",
            "Epoch 78/100\n",
            "1/1 [==============================] - 0s 8ms/step - loss: 0.2033 - mae: 0.2033\n",
            "Epoch 79/100\n",
            "1/1 [==============================] - 0s 9ms/step - loss: 0.2240 - mae: 0.2240\n",
            "Epoch 80/100\n",
            "1/1 [==============================] - 0s 9ms/step - loss: 0.1528 - mae: 0.1528\n",
            "Epoch 81/100\n",
            "1/1 [==============================] - 0s 7ms/step - loss: 0.0972 - mae: 0.0972\n",
            "Epoch 82/100\n",
            "1/1 [==============================] - 0s 7ms/step - loss: 0.2485 - mae: 0.2485\n",
            "Epoch 83/100\n",
            "1/1 [==============================] - 0s 9ms/step - loss: 0.1286 - mae: 0.1286\n",
            "Epoch 84/100\n",
            "1/1 [==============================] - 0s 8ms/step - loss: 0.1087 - mae: 0.1087\n",
            "Epoch 85/100\n",
            "1/1 [==============================] - 0s 12ms/step - loss: 0.2480 - mae: 0.2480\n",
            "Epoch 86/100\n",
            "1/1 [==============================] - 0s 6ms/step - loss: 0.2194 - mae: 0.2194\n",
            "Epoch 87/100\n",
            "1/1 [==============================] - 0s 6ms/step - loss: 0.4336 - mae: 0.4336\n",
            "Epoch 88/100\n",
            "1/1 [==============================] - 0s 10ms/step - loss: 0.3584 - mae: 0.3584\n",
            "Epoch 89/100\n",
            "1/1 [==============================] - 0s 10ms/step - loss: 0.1813 - mae: 0.1813\n",
            "Epoch 90/100\n",
            "1/1 [==============================] - 0s 7ms/step - loss: 0.1830 - mae: 0.1830\n",
            "Epoch 91/100\n",
            "1/1 [==============================] - 0s 8ms/step - loss: 0.2857 - mae: 0.2857\n",
            "Epoch 92/100\n",
            "1/1 [==============================] - 0s 11ms/step - loss: 0.2912 - mae: 0.2912\n",
            "Epoch 93/100\n",
            "1/1 [==============================] - 0s 8ms/step - loss: 0.1564 - mae: 0.1564\n",
            "Epoch 94/100\n",
            "1/1 [==============================] - 0s 7ms/step - loss: 0.1277 - mae: 0.1277\n",
            "Epoch 95/100\n",
            "1/1 [==============================] - 0s 7ms/step - loss: 0.3484 - mae: 0.3484\n",
            "Epoch 96/100\n",
            "1/1 [==============================] - 0s 4ms/step - loss: 0.2674 - mae: 0.2674\n",
            "Epoch 97/100\n",
            "1/1 [==============================] - 0s 4ms/step - loss: 0.2913 - mae: 0.2913\n",
            "Epoch 98/100\n",
            "1/1 [==============================] - 0s 7ms/step - loss: 0.3221 - mae: 0.3221\n",
            "Epoch 99/100\n",
            "1/1 [==============================] - 0s 4ms/step - loss: 0.2085 - mae: 0.2085\n",
            "Epoch 100/100\n",
            "1/1 [==============================] - 0s 15ms/step - loss: 0.1890 - mae: 0.1890\n"
          ]
        },
        {
          "output_type": "execute_result",
          "data": {
            "text/plain": [
              "<keras.callbacks.History at 0x7f3755bd3d10>"
            ]
          },
          "metadata": {},
          "execution_count": 26
        }
      ]
    },
    {
      "cell_type": "code",
      "metadata": {
        "colab": {
          "base_uri": "https://localhost:8080/"
        },
        "id": "auMzwVINSOvF",
        "outputId": "740e5a28-f19f-47de-d099-b56b9fcddc45"
      },
      "source": [
        "#let's make a prediction\n",
        "model.predict([17.0])"
      ],
      "execution_count": 27,
      "outputs": [
        {
          "output_type": "stream",
          "name": "stdout",
          "text": [
            "WARNING:tensorflow:6 out of the last 6 calls to <function Model.make_predict_function.<locals>.predict_function at 0x7f3755c46830> triggered tf.function retracing. Tracing is expensive and the excessive number of tracings could be due to (1) creating @tf.function repeatedly in a loop, (2) passing tensors with different shapes, (3) passing Python objects instead of tensors. For (1), please define your @tf.function outside of the loop. For (2), @tf.function has experimental_relax_shapes=True option that relaxes argument shapes that can avoid unnecessary retracing. For (3), please refer to https://www.tensorflow.org/guide/function#controlling_retracing and https://www.tensorflow.org/api_docs/python/tf/function for  more details.\n"
          ]
        },
        {
          "output_type": "execute_result",
          "data": {
            "text/plain": [
              "array([[27.590809]], dtype=float32)"
            ]
          },
          "metadata": {},
          "execution_count": 27
        }
      ]
    },
    {
      "cell_type": "code",
      "metadata": {
        "colab": {
          "base_uri": "https://localhost:8080/"
        },
        "id": "_cw4i7_aStzw",
        "outputId": "ca92f3aa-998d-41be-b03f-32e13648c7ab"
      },
      "source": [
        "#let's make an other prediction\n",
        "model.predict([19.0])"
      ],
      "execution_count": 28,
      "outputs": [
        {
          "output_type": "execute_result",
          "data": {
            "text/plain": [
              "array([[29.645197]], dtype=float32)"
            ]
          },
          "metadata": {},
          "execution_count": 28
        }
      ]
    },
    {
      "cell_type": "markdown",
      "metadata": {
        "id": "6w1ByAdNT1EN"
      },
      "source": [
        "### Evaluating a Model"
      ]
    },
    {
      "cell_type": "code",
      "metadata": {
        "colab": {
          "base_uri": "https://localhost:8080/"
        },
        "id": "rIETa0tqS0km",
        "outputId": "94855e00-7ff5-4428-8322-1fd2ae6b13d6"
      },
      "source": [
        "# Make a bigger dataset\n",
        "X = tf.range(-100, 100, 4)\n",
        "X"
      ],
      "execution_count": 29,
      "outputs": [
        {
          "output_type": "execute_result",
          "data": {
            "text/plain": [
              "<tf.Tensor: shape=(50,), dtype=int32, numpy=\n",
              "array([-100,  -96,  -92,  -88,  -84,  -80,  -76,  -72,  -68,  -64,  -60,\n",
              "        -56,  -52,  -48,  -44,  -40,  -36,  -32,  -28,  -24,  -20,  -16,\n",
              "        -12,   -8,   -4,    0,    4,    8,   12,   16,   20,   24,   28,\n",
              "         32,   36,   40,   44,   48,   52,   56,   60,   64,   68,   72,\n",
              "         76,   80,   84,   88,   92,   96], dtype=int32)>"
            ]
          },
          "metadata": {},
          "execution_count": 29
        }
      ]
    },
    {
      "cell_type": "code",
      "metadata": {
        "colab": {
          "base_uri": "https://localhost:8080/"
        },
        "id": "5n8J5crTW0Cz",
        "outputId": "2c62266f-c64c-47ee-ac8c-48238481cbc0"
      },
      "source": [
        "# Make labels for the dataset\n",
        "y = X + 10\n",
        "y"
      ],
      "execution_count": 30,
      "outputs": [
        {
          "output_type": "execute_result",
          "data": {
            "text/plain": [
              "<tf.Tensor: shape=(50,), dtype=int32, numpy=\n",
              "array([-90, -86, -82, -78, -74, -70, -66, -62, -58, -54, -50, -46, -42,\n",
              "       -38, -34, -30, -26, -22, -18, -14, -10,  -6,  -2,   2,   6,  10,\n",
              "        14,  18,  22,  26,  30,  34,  38,  42,  46,  50,  54,  58,  62,\n",
              "        66,  70,  74,  78,  82,  86,  90,  94,  98, 102, 106], dtype=int32)>"
            ]
          },
          "metadata": {},
          "execution_count": 30
        }
      ]
    },
    {
      "cell_type": "code",
      "metadata": {
        "colab": {
          "base_uri": "https://localhost:8080/",
          "height": 282
        },
        "id": "xrDbm0XfXUuD",
        "outputId": "eb662444-2a58-4d4f-d0ce-2ec62a625e88"
      },
      "source": [
        "# Visualize the data\n",
        "import matplotlib.pyplot as plt\n",
        "plt.scatter(X, y)"
      ],
      "execution_count": 31,
      "outputs": [
        {
          "output_type": "execute_result",
          "data": {
            "text/plain": [
              "<matplotlib.collections.PathCollection at 0x7f3755d272d0>"
            ]
          },
          "metadata": {},
          "execution_count": 31
        },
        {
          "output_type": "display_data",
          "data": {
            "image/png": "[encoded data removed]",
            "text/plain": [
              "<Figure size 432x288 with 1 Axes>"
            ]
          },
          "metadata": {
            "needs_background": "light"
          }
        }
      ]
    },
    {
      "cell_type": "markdown",
      "metadata": {
        "id": "QtimDriHUIXf"
      },
      "source": [
        "#### Creating the 3 sets(training, validation and Test sets)"
      ]
    },
    {
      "cell_type": "code",
      "metadata": {
        "colab": {
          "base_uri": "https://localhost:8080/"
        },
        "id": "-YaRdAChX4KN",
        "outputId": "f52ba2df-0317-4ad3-c4b1-458f672d08e2"
      },
      "source": [
        "# Split the data into train and test sets\n",
        "X_train = X[:40] # first 40 are training samples (80% of the data)\n",
        "y_train = y[:40]\n",
        "\n",
        "X_test = X[40:] # last 10 are testting samples (20% of the data)\n",
        "y_test = y[40:]\n",
        "\n",
        "len(X_train), len(X_test), len(y_train), len(y_test)"
      ],
      "execution_count": 32,
      "outputs": [
        {
          "output_type": "execute_result",
          "data": {
            "text/plain": [
              "(40, 10, 40, 10)"
            ]
          },
          "metadata": {},
          "execution_count": 32
        }
      ]
    },
    {
      "cell_type": "markdown",
      "metadata": {
        "id": "Mf17uZe3XD9e"
      },
      "source": [
        "### Visualizing the data"
      ]
    },
    {
      "cell_type": "code",
      "metadata": {
        "colab": {
          "base_uri": "https://localhost:8080/",
          "height": 428
        },
        "id": "tkhWqdiKVjbd",
        "outputId": "31b4fda3-3375-4837-8a0d-bfcf3129094e"
      },
      "source": [
        "plt.figure(figsize=(10, 7))\n",
        "# Plot training data in blue\n",
        "plt.scatter(X_train, y_train, c=\"b\", label=\"Training data\")\n",
        "# Plot test data in green\n",
        "plt.scatter(X_test, y_test, c=\"g\", label=\"Testing data\")\n",
        "# show a legend\n",
        "plt.legend();"
      ],
      "execution_count": 33,
      "outputs": [
        {
          "output_type": "display_data",
          "data": {
            "image/png": "[encoded data removed]",
            "text/plain": [
              "<Figure size 720x504 with 1 Axes>"
            ]
          },
          "metadata": {
            "needs_background": "light"
          }
        }
      ]
    },
    {
      "cell_type": "code",
      "metadata": {
        "id": "gNkeh95yYMFh"
      },
      "source": [
        ""
      ],
      "execution_count": null,
      "outputs": []
    }
  ]
}